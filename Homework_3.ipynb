{
  "nbformat": 4,
  "nbformat_minor": 0,
  "metadata": {
    "colab": {
      "provenance": [],
      "collapsed_sections": [
        "nKEnxYwa3O0T"
      ],
      "gpuType": "T4"
    },
    "kernelspec": {
      "name": "python3",
      "display_name": "Python 3"
    },
    "language_info": {
      "name": "python"
    },
    "accelerator": "GPU",
    "widgets": {
      "application/vnd.jupyter.widget-state+json": {
        "9a6ed966793f4396bd4ae16d0c507164": {
          "model_module": "@jupyter-widgets/controls",
          "model_name": "HBoxModel",
          "model_module_version": "1.5.0",
          "state": {
            "_dom_classes": [],
            "_model_module": "@jupyter-widgets/controls",
            "_model_module_version": "1.5.0",
            "_model_name": "HBoxModel",
            "_view_count": null,
            "_view_module": "@jupyter-widgets/controls",
            "_view_module_version": "1.5.0",
            "_view_name": "HBoxView",
            "box_style": "",
            "children": [
              "IPY_MODEL_872f930c5d7541ddbe89395ee0100beb",
              "IPY_MODEL_e25aef2906794170bf2369ae3b89bac1",
              "IPY_MODEL_7f59e9111411484ebb3610f9bcf26b9d"
            ],
            "layout": "IPY_MODEL_6325d8a3d28841cea4c40bfe114d8937"
          }
        },
        "872f930c5d7541ddbe89395ee0100beb": {
          "model_module": "@jupyter-widgets/controls",
          "model_name": "HTMLModel",
          "model_module_version": "1.5.0",
          "state": {
            "_dom_classes": [],
            "_model_module": "@jupyter-widgets/controls",
            "_model_module_version": "1.5.0",
            "_model_name": "HTMLModel",
            "_view_count": null,
            "_view_module": "@jupyter-widgets/controls",
            "_view_module_version": "1.5.0",
            "_view_name": "HTMLView",
            "description": "",
            "description_tooltip": null,
            "layout": "IPY_MODEL_280d797f52e148fe8305fb618062e4f6",
            "placeholder": "​",
            "style": "IPY_MODEL_5cf0ea67d5d8485ebc09b43b0b353567",
            "value": "pytorch_model.bin: 100%"
          }
        },
        "e25aef2906794170bf2369ae3b89bac1": {
          "model_module": "@jupyter-widgets/controls",
          "model_name": "FloatProgressModel",
          "model_module_version": "1.5.0",
          "state": {
            "_dom_classes": [],
            "_model_module": "@jupyter-widgets/controls",
            "_model_module_version": "1.5.0",
            "_model_name": "FloatProgressModel",
            "_view_count": null,
            "_view_module": "@jupyter-widgets/controls",
            "_view_module_version": "1.5.0",
            "_view_name": "ProgressView",
            "bar_style": "success",
            "description": "",
            "description_tooltip": null,
            "layout": "IPY_MODEL_7a846bab617041f0bc6385a766d57823",
            "max": 714355318,
            "min": 0,
            "orientation": "horizontal",
            "style": "IPY_MODEL_39b81a96236a477cbcba3a075e23c389",
            "value": 714355318
          }
        },
        "7f59e9111411484ebb3610f9bcf26b9d": {
          "model_module": "@jupyter-widgets/controls",
          "model_name": "HTMLModel",
          "model_module_version": "1.5.0",
          "state": {
            "_dom_classes": [],
            "_model_module": "@jupyter-widgets/controls",
            "_model_module_version": "1.5.0",
            "_model_name": "HTMLModel",
            "_view_count": null,
            "_view_module": "@jupyter-widgets/controls",
            "_view_module_version": "1.5.0",
            "_view_name": "HTMLView",
            "description": "",
            "description_tooltip": null,
            "layout": "IPY_MODEL_d60ce682ef8e4295ae34e575501497fe",
            "placeholder": "​",
            "style": "IPY_MODEL_85ca11a45fc54c749d2d5fe4b252c98c",
            "value": " 714M/714M [00:01&lt;00:00, 233MB/s]"
          }
        },
        "6325d8a3d28841cea4c40bfe114d8937": {
          "model_module": "@jupyter-widgets/base",
          "model_name": "LayoutModel",
          "model_module_version": "1.2.0",
          "state": {
            "_model_module": "@jupyter-widgets/base",
            "_model_module_version": "1.2.0",
            "_model_name": "LayoutModel",
            "_view_count": null,
            "_view_module": "@jupyter-widgets/base",
            "_view_module_version": "1.2.0",
            "_view_name": "LayoutView",
            "align_content": null,
            "align_items": null,
            "align_self": null,
            "border": null,
            "bottom": null,
            "display": null,
            "flex": null,
            "flex_flow": null,
            "grid_area": null,
            "grid_auto_columns": null,
            "grid_auto_flow": null,
            "grid_auto_rows": null,
            "grid_column": null,
            "grid_gap": null,
            "grid_row": null,
            "grid_template_areas": null,
            "grid_template_columns": null,
            "grid_template_rows": null,
            "height": null,
            "justify_content": null,
            "justify_items": null,
            "left": null,
            "margin": null,
            "max_height": null,
            "max_width": null,
            "min_height": null,
            "min_width": null,
            "object_fit": null,
            "object_position": null,
            "order": null,
            "overflow": null,
            "overflow_x": null,
            "overflow_y": null,
            "padding": null,
            "right": null,
            "top": null,
            "visibility": null,
            "width": null
          }
        },
        "280d797f52e148fe8305fb618062e4f6": {
          "model_module": "@jupyter-widgets/base",
          "model_name": "LayoutModel",
          "model_module_version": "1.2.0",
          "state": {
            "_model_module": "@jupyter-widgets/base",
            "_model_module_version": "1.2.0",
            "_model_name": "LayoutModel",
            "_view_count": null,
            "_view_module": "@jupyter-widgets/base",
            "_view_module_version": "1.2.0",
            "_view_name": "LayoutView",
            "align_content": null,
            "align_items": null,
            "align_self": null,
            "border": null,
            "bottom": null,
            "display": null,
            "flex": null,
            "flex_flow": null,
            "grid_area": null,
            "grid_auto_columns": null,
            "grid_auto_flow": null,
            "grid_auto_rows": null,
            "grid_column": null,
            "grid_gap": null,
            "grid_row": null,
            "grid_template_areas": null,
            "grid_template_columns": null,
            "grid_template_rows": null,
            "height": null,
            "justify_content": null,
            "justify_items": null,
            "left": null,
            "margin": null,
            "max_height": null,
            "max_width": null,
            "min_height": null,
            "min_width": null,
            "object_fit": null,
            "object_position": null,
            "order": null,
            "overflow": null,
            "overflow_x": null,
            "overflow_y": null,
            "padding": null,
            "right": null,
            "top": null,
            "visibility": null,
            "width": null
          }
        },
        "5cf0ea67d5d8485ebc09b43b0b353567": {
          "model_module": "@jupyter-widgets/controls",
          "model_name": "DescriptionStyleModel",
          "model_module_version": "1.5.0",
          "state": {
            "_model_module": "@jupyter-widgets/controls",
            "_model_module_version": "1.5.0",
            "_model_name": "DescriptionStyleModel",
            "_view_count": null,
            "_view_module": "@jupyter-widgets/base",
            "_view_module_version": "1.2.0",
            "_view_name": "StyleView",
            "description_width": ""
          }
        },
        "7a846bab617041f0bc6385a766d57823": {
          "model_module": "@jupyter-widgets/base",
          "model_name": "LayoutModel",
          "model_module_version": "1.2.0",
          "state": {
            "_model_module": "@jupyter-widgets/base",
            "_model_module_version": "1.2.0",
            "_model_name": "LayoutModel",
            "_view_count": null,
            "_view_module": "@jupyter-widgets/base",
            "_view_module_version": "1.2.0",
            "_view_name": "LayoutView",
            "align_content": null,
            "align_items": null,
            "align_self": null,
            "border": null,
            "bottom": null,
            "display": null,
            "flex": null,
            "flex_flow": null,
            "grid_area": null,
            "grid_auto_columns": null,
            "grid_auto_flow": null,
            "grid_auto_rows": null,
            "grid_column": null,
            "grid_gap": null,
            "grid_row": null,
            "grid_template_areas": null,
            "grid_template_columns": null,
            "grid_template_rows": null,
            "height": null,
            "justify_content": null,
            "justify_items": null,
            "left": null,
            "margin": null,
            "max_height": null,
            "max_width": null,
            "min_height": null,
            "min_width": null,
            "object_fit": null,
            "object_position": null,
            "order": null,
            "overflow": null,
            "overflow_x": null,
            "overflow_y": null,
            "padding": null,
            "right": null,
            "top": null,
            "visibility": null,
            "width": null
          }
        },
        "39b81a96236a477cbcba3a075e23c389": {
          "model_module": "@jupyter-widgets/controls",
          "model_name": "ProgressStyleModel",
          "model_module_version": "1.5.0",
          "state": {
            "_model_module": "@jupyter-widgets/controls",
            "_model_module_version": "1.5.0",
            "_model_name": "ProgressStyleModel",
            "_view_count": null,
            "_view_module": "@jupyter-widgets/base",
            "_view_module_version": "1.2.0",
            "_view_name": "StyleView",
            "bar_color": null,
            "description_width": ""
          }
        },
        "d60ce682ef8e4295ae34e575501497fe": {
          "model_module": "@jupyter-widgets/base",
          "model_name": "LayoutModel",
          "model_module_version": "1.2.0",
          "state": {
            "_model_module": "@jupyter-widgets/base",
            "_model_module_version": "1.2.0",
            "_model_name": "LayoutModel",
            "_view_count": null,
            "_view_module": "@jupyter-widgets/base",
            "_view_module_version": "1.2.0",
            "_view_name": "LayoutView",
            "align_content": null,
            "align_items": null,
            "align_self": null,
            "border": null,
            "bottom": null,
            "display": null,
            "flex": null,
            "flex_flow": null,
            "grid_area": null,
            "grid_auto_columns": null,
            "grid_auto_flow": null,
            "grid_auto_rows": null,
            "grid_column": null,
            "grid_gap": null,
            "grid_row": null,
            "grid_template_areas": null,
            "grid_template_columns": null,
            "grid_template_rows": null,
            "height": null,
            "justify_content": null,
            "justify_items": null,
            "left": null,
            "margin": null,
            "max_height": null,
            "max_width": null,
            "min_height": null,
            "min_width": null,
            "object_fit": null,
            "object_position": null,
            "order": null,
            "overflow": null,
            "overflow_x": null,
            "overflow_y": null,
            "padding": null,
            "right": null,
            "top": null,
            "visibility": null,
            "width": null
          }
        },
        "85ca11a45fc54c749d2d5fe4b252c98c": {
          "model_module": "@jupyter-widgets/controls",
          "model_name": "DescriptionStyleModel",
          "model_module_version": "1.5.0",
          "state": {
            "_model_module": "@jupyter-widgets/controls",
            "_model_module_version": "1.5.0",
            "_model_name": "DescriptionStyleModel",
            "_view_count": null,
            "_view_module": "@jupyter-widgets/base",
            "_view_module_version": "1.2.0",
            "_view_name": "StyleView",
            "description_width": ""
          }
        },
        "54b42e93c5784ba299edbfd3ad32cbb9": {
          "model_module": "@jupyter-widgets/controls",
          "model_name": "IntProgressModel",
          "model_module_version": "1.5.0",
          "state": {
            "_dom_classes": [],
            "_model_module": "@jupyter-widgets/controls",
            "_model_module_version": "1.5.0",
            "_model_name": "IntProgressModel",
            "_view_count": null,
            "_view_module": "@jupyter-widgets/controls",
            "_view_module_version": "1.5.0",
            "_view_name": "ProgressView",
            "bar_style": "success",
            "description": "Epochs:",
            "description_tooltip": null,
            "layout": "IPY_MODEL_452a2b228c9f499c9f331b4dc6b2f87f",
            "max": 100,
            "min": 0,
            "orientation": "horizontal",
            "style": "IPY_MODEL_fa4aaca0597e4c9f9a21058252e02359",
            "value": 52
          }
        },
        "452a2b228c9f499c9f331b4dc6b2f87f": {
          "model_module": "@jupyter-widgets/base",
          "model_name": "LayoutModel",
          "model_module_version": "1.2.0",
          "state": {
            "_model_module": "@jupyter-widgets/base",
            "_model_module_version": "1.2.0",
            "_model_name": "LayoutModel",
            "_view_count": null,
            "_view_module": "@jupyter-widgets/base",
            "_view_module_version": "1.2.0",
            "_view_name": "LayoutView",
            "align_content": null,
            "align_items": null,
            "align_self": null,
            "border": null,
            "bottom": null,
            "display": null,
            "flex": null,
            "flex_flow": null,
            "grid_area": null,
            "grid_auto_columns": null,
            "grid_auto_flow": null,
            "grid_auto_rows": null,
            "grid_column": null,
            "grid_gap": null,
            "grid_row": null,
            "grid_template_areas": null,
            "grid_template_columns": null,
            "grid_template_rows": null,
            "height": null,
            "justify_content": null,
            "justify_items": null,
            "left": null,
            "margin": null,
            "max_height": null,
            "max_width": null,
            "min_height": null,
            "min_width": null,
            "object_fit": null,
            "object_position": null,
            "order": null,
            "overflow": null,
            "overflow_x": null,
            "overflow_y": null,
            "padding": null,
            "right": null,
            "top": null,
            "visibility": null,
            "width": null
          }
        },
        "fa4aaca0597e4c9f9a21058252e02359": {
          "model_module": "@jupyter-widgets/controls",
          "model_name": "ProgressStyleModel",
          "model_module_version": "1.5.0",
          "state": {
            "_model_module": "@jupyter-widgets/controls",
            "_model_module_version": "1.5.0",
            "_model_name": "ProgressStyleModel",
            "_view_count": null,
            "_view_module": "@jupyter-widgets/base",
            "_view_module_version": "1.2.0",
            "_view_name": "StyleView",
            "bar_color": null,
            "description_width": ""
          }
        },
        "01075d27f4b8495bb029da2175844090": {
          "model_module": "@jupyter-widgets/controls",
          "model_name": "HBoxModel",
          "model_module_version": "1.5.0",
          "state": {
            "_dom_classes": [],
            "_model_module": "@jupyter-widgets/controls",
            "_model_module_version": "1.5.0",
            "_model_name": "HBoxModel",
            "_view_count": null,
            "_view_module": "@jupyter-widgets/controls",
            "_view_module_version": "1.5.0",
            "_view_name": "HBoxView",
            "box_style": "",
            "children": [
              "IPY_MODEL_02682eed7e1f498f941d0360c44a18a4",
              "IPY_MODEL_c63127dee3654a2cab519994467b63be",
              "IPY_MODEL_170fb5598ae44b08875bf7d96dd32d93"
            ],
            "layout": "IPY_MODEL_e663fb0c2471422e983d5f033f75cc3c"
          }
        },
        "02682eed7e1f498f941d0360c44a18a4": {
          "model_module": "@jupyter-widgets/controls",
          "model_name": "HTMLModel",
          "model_module_version": "1.5.0",
          "state": {
            "_dom_classes": [],
            "_model_module": "@jupyter-widgets/controls",
            "_model_module_version": "1.5.0",
            "_model_name": "HTMLModel",
            "_view_count": null,
            "_view_module": "@jupyter-widgets/controls",
            "_view_module_version": "1.5.0",
            "_view_name": "HTMLView",
            "description": "",
            "description_tooltip": null,
            "layout": "IPY_MODEL_8f0b60980da141d8bf1c480060990b99",
            "placeholder": "​",
            "style": "IPY_MODEL_e9c2f131c4ac45d6b64ec6338e212634",
            "value": "tokenizer_config.json: 100%"
          }
        },
        "c63127dee3654a2cab519994467b63be": {
          "model_module": "@jupyter-widgets/controls",
          "model_name": "FloatProgressModel",
          "model_module_version": "1.5.0",
          "state": {
            "_dom_classes": [],
            "_model_module": "@jupyter-widgets/controls",
            "_model_module_version": "1.5.0",
            "_model_name": "FloatProgressModel",
            "_view_count": null,
            "_view_module": "@jupyter-widgets/controls",
            "_view_module_version": "1.5.0",
            "_view_name": "ProgressView",
            "bar_style": "success",
            "description": "",
            "description_tooltip": null,
            "layout": "IPY_MODEL_6007c0ad98ee4cb49e8c3cd142ab531a",
            "max": 24,
            "min": 0,
            "orientation": "horizontal",
            "style": "IPY_MODEL_5a59e4fd57d541e28e7cbec39a1eabc6",
            "value": 24
          }
        },
        "170fb5598ae44b08875bf7d96dd32d93": {
          "model_module": "@jupyter-widgets/controls",
          "model_name": "HTMLModel",
          "model_module_version": "1.5.0",
          "state": {
            "_dom_classes": [],
            "_model_module": "@jupyter-widgets/controls",
            "_model_module_version": "1.5.0",
            "_model_name": "HTMLModel",
            "_view_count": null,
            "_view_module": "@jupyter-widgets/controls",
            "_view_module_version": "1.5.0",
            "_view_name": "HTMLView",
            "description": "",
            "description_tooltip": null,
            "layout": "IPY_MODEL_d4bf757a777341fe96a9336b73e0448e",
            "placeholder": "​",
            "style": "IPY_MODEL_b1b215ed8a64404e8fb6a8700eeeb545",
            "value": " 24.0/24.0 [00:00&lt;00:00, 538B/s]"
          }
        },
        "e663fb0c2471422e983d5f033f75cc3c": {
          "model_module": "@jupyter-widgets/base",
          "model_name": "LayoutModel",
          "model_module_version": "1.2.0",
          "state": {
            "_model_module": "@jupyter-widgets/base",
            "_model_module_version": "1.2.0",
            "_model_name": "LayoutModel",
            "_view_count": null,
            "_view_module": "@jupyter-widgets/base",
            "_view_module_version": "1.2.0",
            "_view_name": "LayoutView",
            "align_content": null,
            "align_items": null,
            "align_self": null,
            "border": null,
            "bottom": null,
            "display": null,
            "flex": null,
            "flex_flow": null,
            "grid_area": null,
            "grid_auto_columns": null,
            "grid_auto_flow": null,
            "grid_auto_rows": null,
            "grid_column": null,
            "grid_gap": null,
            "grid_row": null,
            "grid_template_areas": null,
            "grid_template_columns": null,
            "grid_template_rows": null,
            "height": null,
            "justify_content": null,
            "justify_items": null,
            "left": null,
            "margin": null,
            "max_height": null,
            "max_width": null,
            "min_height": null,
            "min_width": null,
            "object_fit": null,
            "object_position": null,
            "order": null,
            "overflow": null,
            "overflow_x": null,
            "overflow_y": null,
            "padding": null,
            "right": null,
            "top": null,
            "visibility": null,
            "width": null
          }
        },
        "8f0b60980da141d8bf1c480060990b99": {
          "model_module": "@jupyter-widgets/base",
          "model_name": "LayoutModel",
          "model_module_version": "1.2.0",
          "state": {
            "_model_module": "@jupyter-widgets/base",
            "_model_module_version": "1.2.0",
            "_model_name": "LayoutModel",
            "_view_count": null,
            "_view_module": "@jupyter-widgets/base",
            "_view_module_version": "1.2.0",
            "_view_name": "LayoutView",
            "align_content": null,
            "align_items": null,
            "align_self": null,
            "border": null,
            "bottom": null,
            "display": null,
            "flex": null,
            "flex_flow": null,
            "grid_area": null,
            "grid_auto_columns": null,
            "grid_auto_flow": null,
            "grid_auto_rows": null,
            "grid_column": null,
            "grid_gap": null,
            "grid_row": null,
            "grid_template_areas": null,
            "grid_template_columns": null,
            "grid_template_rows": null,
            "height": null,
            "justify_content": null,
            "justify_items": null,
            "left": null,
            "margin": null,
            "max_height": null,
            "max_width": null,
            "min_height": null,
            "min_width": null,
            "object_fit": null,
            "object_position": null,
            "order": null,
            "overflow": null,
            "overflow_x": null,
            "overflow_y": null,
            "padding": null,
            "right": null,
            "top": null,
            "visibility": null,
            "width": null
          }
        },
        "e9c2f131c4ac45d6b64ec6338e212634": {
          "model_module": "@jupyter-widgets/controls",
          "model_name": "DescriptionStyleModel",
          "model_module_version": "1.5.0",
          "state": {
            "_model_module": "@jupyter-widgets/controls",
            "_model_module_version": "1.5.0",
            "_model_name": "DescriptionStyleModel",
            "_view_count": null,
            "_view_module": "@jupyter-widgets/base",
            "_view_module_version": "1.2.0",
            "_view_name": "StyleView",
            "description_width": ""
          }
        },
        "6007c0ad98ee4cb49e8c3cd142ab531a": {
          "model_module": "@jupyter-widgets/base",
          "model_name": "LayoutModel",
          "model_module_version": "1.2.0",
          "state": {
            "_model_module": "@jupyter-widgets/base",
            "_model_module_version": "1.2.0",
            "_model_name": "LayoutModel",
            "_view_count": null,
            "_view_module": "@jupyter-widgets/base",
            "_view_module_version": "1.2.0",
            "_view_name": "LayoutView",
            "align_content": null,
            "align_items": null,
            "align_self": null,
            "border": null,
            "bottom": null,
            "display": null,
            "flex": null,
            "flex_flow": null,
            "grid_area": null,
            "grid_auto_columns": null,
            "grid_auto_flow": null,
            "grid_auto_rows": null,
            "grid_column": null,
            "grid_gap": null,
            "grid_row": null,
            "grid_template_areas": null,
            "grid_template_columns": null,
            "grid_template_rows": null,
            "height": null,
            "justify_content": null,
            "justify_items": null,
            "left": null,
            "margin": null,
            "max_height": null,
            "max_width": null,
            "min_height": null,
            "min_width": null,
            "object_fit": null,
            "object_position": null,
            "order": null,
            "overflow": null,
            "overflow_x": null,
            "overflow_y": null,
            "padding": null,
            "right": null,
            "top": null,
            "visibility": null,
            "width": null
          }
        },
        "5a59e4fd57d541e28e7cbec39a1eabc6": {
          "model_module": "@jupyter-widgets/controls",
          "model_name": "ProgressStyleModel",
          "model_module_version": "1.5.0",
          "state": {
            "_model_module": "@jupyter-widgets/controls",
            "_model_module_version": "1.5.0",
            "_model_name": "ProgressStyleModel",
            "_view_count": null,
            "_view_module": "@jupyter-widgets/base",
            "_view_module_version": "1.2.0",
            "_view_name": "StyleView",
            "bar_color": null,
            "description_width": ""
          }
        },
        "d4bf757a777341fe96a9336b73e0448e": {
          "model_module": "@jupyter-widgets/base",
          "model_name": "LayoutModel",
          "model_module_version": "1.2.0",
          "state": {
            "_model_module": "@jupyter-widgets/base",
            "_model_module_version": "1.2.0",
            "_model_name": "LayoutModel",
            "_view_count": null,
            "_view_module": "@jupyter-widgets/base",
            "_view_module_version": "1.2.0",
            "_view_name": "LayoutView",
            "align_content": null,
            "align_items": null,
            "align_self": null,
            "border": null,
            "bottom": null,
            "display": null,
            "flex": null,
            "flex_flow": null,
            "grid_area": null,
            "grid_auto_columns": null,
            "grid_auto_flow": null,
            "grid_auto_rows": null,
            "grid_column": null,
            "grid_gap": null,
            "grid_row": null,
            "grid_template_areas": null,
            "grid_template_columns": null,
            "grid_template_rows": null,
            "height": null,
            "justify_content": null,
            "justify_items": null,
            "left": null,
            "margin": null,
            "max_height": null,
            "max_width": null,
            "min_height": null,
            "min_width": null,
            "object_fit": null,
            "object_position": null,
            "order": null,
            "overflow": null,
            "overflow_x": null,
            "overflow_y": null,
            "padding": null,
            "right": null,
            "top": null,
            "visibility": null,
            "width": null
          }
        },
        "b1b215ed8a64404e8fb6a8700eeeb545": {
          "model_module": "@jupyter-widgets/controls",
          "model_name": "DescriptionStyleModel",
          "model_module_version": "1.5.0",
          "state": {
            "_model_module": "@jupyter-widgets/controls",
            "_model_module_version": "1.5.0",
            "_model_name": "DescriptionStyleModel",
            "_view_count": null,
            "_view_module": "@jupyter-widgets/base",
            "_view_module_version": "1.2.0",
            "_view_name": "StyleView",
            "description_width": ""
          }
        },
        "4ce4cf08dc244e199f14341925cdf9c7": {
          "model_module": "@jupyter-widgets/controls",
          "model_name": "HBoxModel",
          "model_module_version": "1.5.0",
          "state": {
            "_dom_classes": [],
            "_model_module": "@jupyter-widgets/controls",
            "_model_module_version": "1.5.0",
            "_model_name": "HBoxModel",
            "_view_count": null,
            "_view_module": "@jupyter-widgets/controls",
            "_view_module_version": "1.5.0",
            "_view_name": "HBoxView",
            "box_style": "",
            "children": [
              "IPY_MODEL_d674236019084f5ab2ac2eb7c4aa1ca1",
              "IPY_MODEL_91ff42a16c2b433f89997f8e890bec5d",
              "IPY_MODEL_3e82df4e8e974fe3bd9d3b80e30133c0"
            ],
            "layout": "IPY_MODEL_04bbfd0be7d64a1d8f5b4969c111de18"
          }
        },
        "d674236019084f5ab2ac2eb7c4aa1ca1": {
          "model_module": "@jupyter-widgets/controls",
          "model_name": "HTMLModel",
          "model_module_version": "1.5.0",
          "state": {
            "_dom_classes": [],
            "_model_module": "@jupyter-widgets/controls",
            "_model_module_version": "1.5.0",
            "_model_name": "HTMLModel",
            "_view_count": null,
            "_view_module": "@jupyter-widgets/controls",
            "_view_module_version": "1.5.0",
            "_view_name": "HTMLView",
            "description": "",
            "description_tooltip": null,
            "layout": "IPY_MODEL_f7a9d44719f1495481e502e478b0dc0e",
            "placeholder": "​",
            "style": "IPY_MODEL_ddbcfb0edf494895b63da09f93781795",
            "value": "vocab.txt: 100%"
          }
        },
        "91ff42a16c2b433f89997f8e890bec5d": {
          "model_module": "@jupyter-widgets/controls",
          "model_name": "FloatProgressModel",
          "model_module_version": "1.5.0",
          "state": {
            "_dom_classes": [],
            "_model_module": "@jupyter-widgets/controls",
            "_model_module_version": "1.5.0",
            "_model_name": "FloatProgressModel",
            "_view_count": null,
            "_view_module": "@jupyter-widgets/controls",
            "_view_module_version": "1.5.0",
            "_view_name": "ProgressView",
            "bar_style": "success",
            "description": "",
            "description_tooltip": null,
            "layout": "IPY_MODEL_aac733b3191745de8b34de2b189d15bb",
            "max": 1649718,
            "min": 0,
            "orientation": "horizontal",
            "style": "IPY_MODEL_12d844c65eae4be0a4ff5439a3a11dd0",
            "value": 1649718
          }
        },
        "3e82df4e8e974fe3bd9d3b80e30133c0": {
          "model_module": "@jupyter-widgets/controls",
          "model_name": "HTMLModel",
          "model_module_version": "1.5.0",
          "state": {
            "_dom_classes": [],
            "_model_module": "@jupyter-widgets/controls",
            "_model_module_version": "1.5.0",
            "_model_name": "HTMLModel",
            "_view_count": null,
            "_view_module": "@jupyter-widgets/controls",
            "_view_module_version": "1.5.0",
            "_view_name": "HTMLView",
            "description": "",
            "description_tooltip": null,
            "layout": "IPY_MODEL_86a5f0e8efb5423fa58d69594911b99c",
            "placeholder": "​",
            "style": "IPY_MODEL_229470b53e324ac9a922db99af46893c",
            "value": " 1.65M/1.65M [00:00&lt;00:00, 6.20MB/s]"
          }
        },
        "04bbfd0be7d64a1d8f5b4969c111de18": {
          "model_module": "@jupyter-widgets/base",
          "model_name": "LayoutModel",
          "model_module_version": "1.2.0",
          "state": {
            "_model_module": "@jupyter-widgets/base",
            "_model_module_version": "1.2.0",
            "_model_name": "LayoutModel",
            "_view_count": null,
            "_view_module": "@jupyter-widgets/base",
            "_view_module_version": "1.2.0",
            "_view_name": "LayoutView",
            "align_content": null,
            "align_items": null,
            "align_self": null,
            "border": null,
            "bottom": null,
            "display": null,
            "flex": null,
            "flex_flow": null,
            "grid_area": null,
            "grid_auto_columns": null,
            "grid_auto_flow": null,
            "grid_auto_rows": null,
            "grid_column": null,
            "grid_gap": null,
            "grid_row": null,
            "grid_template_areas": null,
            "grid_template_columns": null,
            "grid_template_rows": null,
            "height": null,
            "justify_content": null,
            "justify_items": null,
            "left": null,
            "margin": null,
            "max_height": null,
            "max_width": null,
            "min_height": null,
            "min_width": null,
            "object_fit": null,
            "object_position": null,
            "order": null,
            "overflow": null,
            "overflow_x": null,
            "overflow_y": null,
            "padding": null,
            "right": null,
            "top": null,
            "visibility": null,
            "width": null
          }
        },
        "f7a9d44719f1495481e502e478b0dc0e": {
          "model_module": "@jupyter-widgets/base",
          "model_name": "LayoutModel",
          "model_module_version": "1.2.0",
          "state": {
            "_model_module": "@jupyter-widgets/base",
            "_model_module_version": "1.2.0",
            "_model_name": "LayoutModel",
            "_view_count": null,
            "_view_module": "@jupyter-widgets/base",
            "_view_module_version": "1.2.0",
            "_view_name": "LayoutView",
            "align_content": null,
            "align_items": null,
            "align_self": null,
            "border": null,
            "bottom": null,
            "display": null,
            "flex": null,
            "flex_flow": null,
            "grid_area": null,
            "grid_auto_columns": null,
            "grid_auto_flow": null,
            "grid_auto_rows": null,
            "grid_column": null,
            "grid_gap": null,
            "grid_row": null,
            "grid_template_areas": null,
            "grid_template_columns": null,
            "grid_template_rows": null,
            "height": null,
            "justify_content": null,
            "justify_items": null,
            "left": null,
            "margin": null,
            "max_height": null,
            "max_width": null,
            "min_height": null,
            "min_width": null,
            "object_fit": null,
            "object_position": null,
            "order": null,
            "overflow": null,
            "overflow_x": null,
            "overflow_y": null,
            "padding": null,
            "right": null,
            "top": null,
            "visibility": null,
            "width": null
          }
        },
        "ddbcfb0edf494895b63da09f93781795": {
          "model_module": "@jupyter-widgets/controls",
          "model_name": "DescriptionStyleModel",
          "model_module_version": "1.5.0",
          "state": {
            "_model_module": "@jupyter-widgets/controls",
            "_model_module_version": "1.5.0",
            "_model_name": "DescriptionStyleModel",
            "_view_count": null,
            "_view_module": "@jupyter-widgets/base",
            "_view_module_version": "1.2.0",
            "_view_name": "StyleView",
            "description_width": ""
          }
        },
        "aac733b3191745de8b34de2b189d15bb": {
          "model_module": "@jupyter-widgets/base",
          "model_name": "LayoutModel",
          "model_module_version": "1.2.0",
          "state": {
            "_model_module": "@jupyter-widgets/base",
            "_model_module_version": "1.2.0",
            "_model_name": "LayoutModel",
            "_view_count": null,
            "_view_module": "@jupyter-widgets/base",
            "_view_module_version": "1.2.0",
            "_view_name": "LayoutView",
            "align_content": null,
            "align_items": null,
            "align_self": null,
            "border": null,
            "bottom": null,
            "display": null,
            "flex": null,
            "flex_flow": null,
            "grid_area": null,
            "grid_auto_columns": null,
            "grid_auto_flow": null,
            "grid_auto_rows": null,
            "grid_column": null,
            "grid_gap": null,
            "grid_row": null,
            "grid_template_areas": null,
            "grid_template_columns": null,
            "grid_template_rows": null,
            "height": null,
            "justify_content": null,
            "justify_items": null,
            "left": null,
            "margin": null,
            "max_height": null,
            "max_width": null,
            "min_height": null,
            "min_width": null,
            "object_fit": null,
            "object_position": null,
            "order": null,
            "overflow": null,
            "overflow_x": null,
            "overflow_y": null,
            "padding": null,
            "right": null,
            "top": null,
            "visibility": null,
            "width": null
          }
        },
        "12d844c65eae4be0a4ff5439a3a11dd0": {
          "model_module": "@jupyter-widgets/controls",
          "model_name": "ProgressStyleModel",
          "model_module_version": "1.5.0",
          "state": {
            "_model_module": "@jupyter-widgets/controls",
            "_model_module_version": "1.5.0",
            "_model_name": "ProgressStyleModel",
            "_view_count": null,
            "_view_module": "@jupyter-widgets/base",
            "_view_module_version": "1.2.0",
            "_view_name": "StyleView",
            "bar_color": null,
            "description_width": ""
          }
        },
        "86a5f0e8efb5423fa58d69594911b99c": {
          "model_module": "@jupyter-widgets/base",
          "model_name": "LayoutModel",
          "model_module_version": "1.2.0",
          "state": {
            "_model_module": "@jupyter-widgets/base",
            "_model_module_version": "1.2.0",
            "_model_name": "LayoutModel",
            "_view_count": null,
            "_view_module": "@jupyter-widgets/base",
            "_view_module_version": "1.2.0",
            "_view_name": "LayoutView",
            "align_content": null,
            "align_items": null,
            "align_self": null,
            "border": null,
            "bottom": null,
            "display": null,
            "flex": null,
            "flex_flow": null,
            "grid_area": null,
            "grid_auto_columns": null,
            "grid_auto_flow": null,
            "grid_auto_rows": null,
            "grid_column": null,
            "grid_gap": null,
            "grid_row": null,
            "grid_template_areas": null,
            "grid_template_columns": null,
            "grid_template_rows": null,
            "height": null,
            "justify_content": null,
            "justify_items": null,
            "left": null,
            "margin": null,
            "max_height": null,
            "max_width": null,
            "min_height": null,
            "min_width": null,
            "object_fit": null,
            "object_position": null,
            "order": null,
            "overflow": null,
            "overflow_x": null,
            "overflow_y": null,
            "padding": null,
            "right": null,
            "top": null,
            "visibility": null,
            "width": null
          }
        },
        "229470b53e324ac9a922db99af46893c": {
          "model_module": "@jupyter-widgets/controls",
          "model_name": "DescriptionStyleModel",
          "model_module_version": "1.5.0",
          "state": {
            "_model_module": "@jupyter-widgets/controls",
            "_model_module_version": "1.5.0",
            "_model_name": "DescriptionStyleModel",
            "_view_count": null,
            "_view_module": "@jupyter-widgets/base",
            "_view_module_version": "1.2.0",
            "_view_name": "StyleView",
            "description_width": ""
          }
        },
        "f23b69feb719458a925678a3d70a4b82": {
          "model_module": "@jupyter-widgets/controls",
          "model_name": "HBoxModel",
          "model_module_version": "1.5.0",
          "state": {
            "_dom_classes": [],
            "_model_module": "@jupyter-widgets/controls",
            "_model_module_version": "1.5.0",
            "_model_name": "HBoxModel",
            "_view_count": null,
            "_view_module": "@jupyter-widgets/controls",
            "_view_module_version": "1.5.0",
            "_view_name": "HBoxView",
            "box_style": "",
            "children": [
              "IPY_MODEL_dcdaa8bd218b4f29ae4471da5d8766f2",
              "IPY_MODEL_31457606ca474caa962bc3cca9a8d701",
              "IPY_MODEL_dd26ea59c1894174a3b05771658022a7"
            ],
            "layout": "IPY_MODEL_f1fd5a5718b64884bcecee99086a0217"
          }
        },
        "dcdaa8bd218b4f29ae4471da5d8766f2": {
          "model_module": "@jupyter-widgets/controls",
          "model_name": "HTMLModel",
          "model_module_version": "1.5.0",
          "state": {
            "_dom_classes": [],
            "_model_module": "@jupyter-widgets/controls",
            "_model_module_version": "1.5.0",
            "_model_name": "HTMLModel",
            "_view_count": null,
            "_view_module": "@jupyter-widgets/controls",
            "_view_module_version": "1.5.0",
            "_view_name": "HTMLView",
            "description": "",
            "description_tooltip": null,
            "layout": "IPY_MODEL_d1755b4f88a34b07b8f37ec4854fa692",
            "placeholder": "​",
            "style": "IPY_MODEL_68d914240bf545a2902d28d50e4065fb",
            "value": "special_tokens_map.json: 100%"
          }
        },
        "31457606ca474caa962bc3cca9a8d701": {
          "model_module": "@jupyter-widgets/controls",
          "model_name": "FloatProgressModel",
          "model_module_version": "1.5.0",
          "state": {
            "_dom_classes": [],
            "_model_module": "@jupyter-widgets/controls",
            "_model_module_version": "1.5.0",
            "_model_name": "FloatProgressModel",
            "_view_count": null,
            "_view_module": "@jupyter-widgets/controls",
            "_view_module_version": "1.5.0",
            "_view_name": "ProgressView",
            "bar_style": "success",
            "description": "",
            "description_tooltip": null,
            "layout": "IPY_MODEL_68790ac4af2c43f890b142a84ba5eaa5",
            "max": 112,
            "min": 0,
            "orientation": "horizontal",
            "style": "IPY_MODEL_9131bcf8bdea490e94c1a61762d2f55c",
            "value": 112
          }
        },
        "dd26ea59c1894174a3b05771658022a7": {
          "model_module": "@jupyter-widgets/controls",
          "model_name": "HTMLModel",
          "model_module_version": "1.5.0",
          "state": {
            "_dom_classes": [],
            "_model_module": "@jupyter-widgets/controls",
            "_model_module_version": "1.5.0",
            "_model_name": "HTMLModel",
            "_view_count": null,
            "_view_module": "@jupyter-widgets/controls",
            "_view_module_version": "1.5.0",
            "_view_name": "HTMLView",
            "description": "",
            "description_tooltip": null,
            "layout": "IPY_MODEL_b91ad90d68a4442dad541ee14edb5eee",
            "placeholder": "​",
            "style": "IPY_MODEL_95acc1bf82494a9394bf3341534a0f54",
            "value": " 112/112 [00:00&lt;00:00, 1.86kB/s]"
          }
        },
        "f1fd5a5718b64884bcecee99086a0217": {
          "model_module": "@jupyter-widgets/base",
          "model_name": "LayoutModel",
          "model_module_version": "1.2.0",
          "state": {
            "_model_module": "@jupyter-widgets/base",
            "_model_module_version": "1.2.0",
            "_model_name": "LayoutModel",
            "_view_count": null,
            "_view_module": "@jupyter-widgets/base",
            "_view_module_version": "1.2.0",
            "_view_name": "LayoutView",
            "align_content": null,
            "align_items": null,
            "align_self": null,
            "border": null,
            "bottom": null,
            "display": null,
            "flex": null,
            "flex_flow": null,
            "grid_area": null,
            "grid_auto_columns": null,
            "grid_auto_flow": null,
            "grid_auto_rows": null,
            "grid_column": null,
            "grid_gap": null,
            "grid_row": null,
            "grid_template_areas": null,
            "grid_template_columns": null,
            "grid_template_rows": null,
            "height": null,
            "justify_content": null,
            "justify_items": null,
            "left": null,
            "margin": null,
            "max_height": null,
            "max_width": null,
            "min_height": null,
            "min_width": null,
            "object_fit": null,
            "object_position": null,
            "order": null,
            "overflow": null,
            "overflow_x": null,
            "overflow_y": null,
            "padding": null,
            "right": null,
            "top": null,
            "visibility": null,
            "width": null
          }
        },
        "d1755b4f88a34b07b8f37ec4854fa692": {
          "model_module": "@jupyter-widgets/base",
          "model_name": "LayoutModel",
          "model_module_version": "1.2.0",
          "state": {
            "_model_module": "@jupyter-widgets/base",
            "_model_module_version": "1.2.0",
            "_model_name": "LayoutModel",
            "_view_count": null,
            "_view_module": "@jupyter-widgets/base",
            "_view_module_version": "1.2.0",
            "_view_name": "LayoutView",
            "align_content": null,
            "align_items": null,
            "align_self": null,
            "border": null,
            "bottom": null,
            "display": null,
            "flex": null,
            "flex_flow": null,
            "grid_area": null,
            "grid_auto_columns": null,
            "grid_auto_flow": null,
            "grid_auto_rows": null,
            "grid_column": null,
            "grid_gap": null,
            "grid_row": null,
            "grid_template_areas": null,
            "grid_template_columns": null,
            "grid_template_rows": null,
            "height": null,
            "justify_content": null,
            "justify_items": null,
            "left": null,
            "margin": null,
            "max_height": null,
            "max_width": null,
            "min_height": null,
            "min_width": null,
            "object_fit": null,
            "object_position": null,
            "order": null,
            "overflow": null,
            "overflow_x": null,
            "overflow_y": null,
            "padding": null,
            "right": null,
            "top": null,
            "visibility": null,
            "width": null
          }
        },
        "68d914240bf545a2902d28d50e4065fb": {
          "model_module": "@jupyter-widgets/controls",
          "model_name": "DescriptionStyleModel",
          "model_module_version": "1.5.0",
          "state": {
            "_model_module": "@jupyter-widgets/controls",
            "_model_module_version": "1.5.0",
            "_model_name": "DescriptionStyleModel",
            "_view_count": null,
            "_view_module": "@jupyter-widgets/base",
            "_view_module_version": "1.2.0",
            "_view_name": "StyleView",
            "description_width": ""
          }
        },
        "68790ac4af2c43f890b142a84ba5eaa5": {
          "model_module": "@jupyter-widgets/base",
          "model_name": "LayoutModel",
          "model_module_version": "1.2.0",
          "state": {
            "_model_module": "@jupyter-widgets/base",
            "_model_module_version": "1.2.0",
            "_model_name": "LayoutModel",
            "_view_count": null,
            "_view_module": "@jupyter-widgets/base",
            "_view_module_version": "1.2.0",
            "_view_name": "LayoutView",
            "align_content": null,
            "align_items": null,
            "align_self": null,
            "border": null,
            "bottom": null,
            "display": null,
            "flex": null,
            "flex_flow": null,
            "grid_area": null,
            "grid_auto_columns": null,
            "grid_auto_flow": null,
            "grid_auto_rows": null,
            "grid_column": null,
            "grid_gap": null,
            "grid_row": null,
            "grid_template_areas": null,
            "grid_template_columns": null,
            "grid_template_rows": null,
            "height": null,
            "justify_content": null,
            "justify_items": null,
            "left": null,
            "margin": null,
            "max_height": null,
            "max_width": null,
            "min_height": null,
            "min_width": null,
            "object_fit": null,
            "object_position": null,
            "order": null,
            "overflow": null,
            "overflow_x": null,
            "overflow_y": null,
            "padding": null,
            "right": null,
            "top": null,
            "visibility": null,
            "width": null
          }
        },
        "9131bcf8bdea490e94c1a61762d2f55c": {
          "model_module": "@jupyter-widgets/controls",
          "model_name": "ProgressStyleModel",
          "model_module_version": "1.5.0",
          "state": {
            "_model_module": "@jupyter-widgets/controls",
            "_model_module_version": "1.5.0",
            "_model_name": "ProgressStyleModel",
            "_view_count": null,
            "_view_module": "@jupyter-widgets/base",
            "_view_module_version": "1.2.0",
            "_view_name": "StyleView",
            "bar_color": null,
            "description_width": ""
          }
        },
        "b91ad90d68a4442dad541ee14edb5eee": {
          "model_module": "@jupyter-widgets/base",
          "model_name": "LayoutModel",
          "model_module_version": "1.2.0",
          "state": {
            "_model_module": "@jupyter-widgets/base",
            "_model_module_version": "1.2.0",
            "_model_name": "LayoutModel",
            "_view_count": null,
            "_view_module": "@jupyter-widgets/base",
            "_view_module_version": "1.2.0",
            "_view_name": "LayoutView",
            "align_content": null,
            "align_items": null,
            "align_self": null,
            "border": null,
            "bottom": null,
            "display": null,
            "flex": null,
            "flex_flow": null,
            "grid_area": null,
            "grid_auto_columns": null,
            "grid_auto_flow": null,
            "grid_auto_rows": null,
            "grid_column": null,
            "grid_gap": null,
            "grid_row": null,
            "grid_template_areas": null,
            "grid_template_columns": null,
            "grid_template_rows": null,
            "height": null,
            "justify_content": null,
            "justify_items": null,
            "left": null,
            "margin": null,
            "max_height": null,
            "max_width": null,
            "min_height": null,
            "min_width": null,
            "object_fit": null,
            "object_position": null,
            "order": null,
            "overflow": null,
            "overflow_x": null,
            "overflow_y": null,
            "padding": null,
            "right": null,
            "top": null,
            "visibility": null,
            "width": null
          }
        },
        "95acc1bf82494a9394bf3341534a0f54": {
          "model_module": "@jupyter-widgets/controls",
          "model_name": "DescriptionStyleModel",
          "model_module_version": "1.5.0",
          "state": {
            "_model_module": "@jupyter-widgets/controls",
            "_model_module_version": "1.5.0",
            "_model_name": "DescriptionStyleModel",
            "_view_count": null,
            "_view_module": "@jupyter-widgets/base",
            "_view_module_version": "1.2.0",
            "_view_name": "StyleView",
            "description_width": ""
          }
        },
        "1ddb5a2ca2d34f89b1cd2b5cee586bfe": {
          "model_module": "@jupyter-widgets/controls",
          "model_name": "HBoxModel",
          "model_module_version": "1.5.0",
          "state": {
            "_dom_classes": [],
            "_model_module": "@jupyter-widgets/controls",
            "_model_module_version": "1.5.0",
            "_model_name": "HBoxModel",
            "_view_count": null,
            "_view_module": "@jupyter-widgets/controls",
            "_view_module_version": "1.5.0",
            "_view_name": "HBoxView",
            "box_style": "",
            "children": [
              "IPY_MODEL_edb864b5ba6e40a1a9807d01caef39c0",
              "IPY_MODEL_1dc9493a590b49e38dd1477ffed0e769",
              "IPY_MODEL_35a357da625241019f70d532d5827514"
            ],
            "layout": "IPY_MODEL_f963c69f2c9f46198eebd14f8890c406"
          }
        },
        "edb864b5ba6e40a1a9807d01caef39c0": {
          "model_module": "@jupyter-widgets/controls",
          "model_name": "HTMLModel",
          "model_module_version": "1.5.0",
          "state": {
            "_dom_classes": [],
            "_model_module": "@jupyter-widgets/controls",
            "_model_module_version": "1.5.0",
            "_model_name": "HTMLModel",
            "_view_count": null,
            "_view_module": "@jupyter-widgets/controls",
            "_view_module_version": "1.5.0",
            "_view_name": "HTMLView",
            "description": "",
            "description_tooltip": null,
            "layout": "IPY_MODEL_c273b580e55e4a07ae2e478d1bbec52c",
            "placeholder": "​",
            "style": "IPY_MODEL_94a42528a60440849fb35d1108484c5d",
            "value": "config.json: 100%"
          }
        },
        "1dc9493a590b49e38dd1477ffed0e769": {
          "model_module": "@jupyter-widgets/controls",
          "model_name": "FloatProgressModel",
          "model_module_version": "1.5.0",
          "state": {
            "_dom_classes": [],
            "_model_module": "@jupyter-widgets/controls",
            "_model_module_version": "1.5.0",
            "_model_name": "FloatProgressModel",
            "_view_count": null,
            "_view_module": "@jupyter-widgets/controls",
            "_view_module_version": "1.5.0",
            "_view_name": "ProgressView",
            "bar_style": "success",
            "description": "",
            "description_tooltip": null,
            "layout": "IPY_MODEL_f3c72553385e40b48e1222d707ec7752",
            "max": 642,
            "min": 0,
            "orientation": "horizontal",
            "style": "IPY_MODEL_f863af7923344f8a85591716c40711e4",
            "value": 642
          }
        },
        "35a357da625241019f70d532d5827514": {
          "model_module": "@jupyter-widgets/controls",
          "model_name": "HTMLModel",
          "model_module_version": "1.5.0",
          "state": {
            "_dom_classes": [],
            "_model_module": "@jupyter-widgets/controls",
            "_model_module_version": "1.5.0",
            "_model_name": "HTMLModel",
            "_view_count": null,
            "_view_module": "@jupyter-widgets/controls",
            "_view_module_version": "1.5.0",
            "_view_name": "HTMLView",
            "description": "",
            "description_tooltip": null,
            "layout": "IPY_MODEL_d594cf8b05d84f8790dc42912ab3bd67",
            "placeholder": "​",
            "style": "IPY_MODEL_ec31448ab4704ff89ffcc9eef90056d1",
            "value": " 642/642 [00:00&lt;00:00, 14.2kB/s]"
          }
        },
        "f963c69f2c9f46198eebd14f8890c406": {
          "model_module": "@jupyter-widgets/base",
          "model_name": "LayoutModel",
          "model_module_version": "1.2.0",
          "state": {
            "_model_module": "@jupyter-widgets/base",
            "_model_module_version": "1.2.0",
            "_model_name": "LayoutModel",
            "_view_count": null,
            "_view_module": "@jupyter-widgets/base",
            "_view_module_version": "1.2.0",
            "_view_name": "LayoutView",
            "align_content": null,
            "align_items": null,
            "align_self": null,
            "border": null,
            "bottom": null,
            "display": null,
            "flex": null,
            "flex_flow": null,
            "grid_area": null,
            "grid_auto_columns": null,
            "grid_auto_flow": null,
            "grid_auto_rows": null,
            "grid_column": null,
            "grid_gap": null,
            "grid_row": null,
            "grid_template_areas": null,
            "grid_template_columns": null,
            "grid_template_rows": null,
            "height": null,
            "justify_content": null,
            "justify_items": null,
            "left": null,
            "margin": null,
            "max_height": null,
            "max_width": null,
            "min_height": null,
            "min_width": null,
            "object_fit": null,
            "object_position": null,
            "order": null,
            "overflow": null,
            "overflow_x": null,
            "overflow_y": null,
            "padding": null,
            "right": null,
            "top": null,
            "visibility": null,
            "width": null
          }
        },
        "c273b580e55e4a07ae2e478d1bbec52c": {
          "model_module": "@jupyter-widgets/base",
          "model_name": "LayoutModel",
          "model_module_version": "1.2.0",
          "state": {
            "_model_module": "@jupyter-widgets/base",
            "_model_module_version": "1.2.0",
            "_model_name": "LayoutModel",
            "_view_count": null,
            "_view_module": "@jupyter-widgets/base",
            "_view_module_version": "1.2.0",
            "_view_name": "LayoutView",
            "align_content": null,
            "align_items": null,
            "align_self": null,
            "border": null,
            "bottom": null,
            "display": null,
            "flex": null,
            "flex_flow": null,
            "grid_area": null,
            "grid_auto_columns": null,
            "grid_auto_flow": null,
            "grid_auto_rows": null,
            "grid_column": null,
            "grid_gap": null,
            "grid_row": null,
            "grid_template_areas": null,
            "grid_template_columns": null,
            "grid_template_rows": null,
            "height": null,
            "justify_content": null,
            "justify_items": null,
            "left": null,
            "margin": null,
            "max_height": null,
            "max_width": null,
            "min_height": null,
            "min_width": null,
            "object_fit": null,
            "object_position": null,
            "order": null,
            "overflow": null,
            "overflow_x": null,
            "overflow_y": null,
            "padding": null,
            "right": null,
            "top": null,
            "visibility": null,
            "width": null
          }
        },
        "94a42528a60440849fb35d1108484c5d": {
          "model_module": "@jupyter-widgets/controls",
          "model_name": "DescriptionStyleModel",
          "model_module_version": "1.5.0",
          "state": {
            "_model_module": "@jupyter-widgets/controls",
            "_model_module_version": "1.5.0",
            "_model_name": "DescriptionStyleModel",
            "_view_count": null,
            "_view_module": "@jupyter-widgets/base",
            "_view_module_version": "1.2.0",
            "_view_name": "StyleView",
            "description_width": ""
          }
        },
        "f3c72553385e40b48e1222d707ec7752": {
          "model_module": "@jupyter-widgets/base",
          "model_name": "LayoutModel",
          "model_module_version": "1.2.0",
          "state": {
            "_model_module": "@jupyter-widgets/base",
            "_model_module_version": "1.2.0",
            "_model_name": "LayoutModel",
            "_view_count": null,
            "_view_module": "@jupyter-widgets/base",
            "_view_module_version": "1.2.0",
            "_view_name": "LayoutView",
            "align_content": null,
            "align_items": null,
            "align_self": null,
            "border": null,
            "bottom": null,
            "display": null,
            "flex": null,
            "flex_flow": null,
            "grid_area": null,
            "grid_auto_columns": null,
            "grid_auto_flow": null,
            "grid_auto_rows": null,
            "grid_column": null,
            "grid_gap": null,
            "grid_row": null,
            "grid_template_areas": null,
            "grid_template_columns": null,
            "grid_template_rows": null,
            "height": null,
            "justify_content": null,
            "justify_items": null,
            "left": null,
            "margin": null,
            "max_height": null,
            "max_width": null,
            "min_height": null,
            "min_width": null,
            "object_fit": null,
            "object_position": null,
            "order": null,
            "overflow": null,
            "overflow_x": null,
            "overflow_y": null,
            "padding": null,
            "right": null,
            "top": null,
            "visibility": null,
            "width": null
          }
        },
        "f863af7923344f8a85591716c40711e4": {
          "model_module": "@jupyter-widgets/controls",
          "model_name": "ProgressStyleModel",
          "model_module_version": "1.5.0",
          "state": {
            "_model_module": "@jupyter-widgets/controls",
            "_model_module_version": "1.5.0",
            "_model_name": "ProgressStyleModel",
            "_view_count": null,
            "_view_module": "@jupyter-widgets/base",
            "_view_module_version": "1.2.0",
            "_view_name": "StyleView",
            "bar_color": null,
            "description_width": ""
          }
        },
        "d594cf8b05d84f8790dc42912ab3bd67": {
          "model_module": "@jupyter-widgets/base",
          "model_name": "LayoutModel",
          "model_module_version": "1.2.0",
          "state": {
            "_model_module": "@jupyter-widgets/base",
            "_model_module_version": "1.2.0",
            "_model_name": "LayoutModel",
            "_view_count": null,
            "_view_module": "@jupyter-widgets/base",
            "_view_module_version": "1.2.0",
            "_view_name": "LayoutView",
            "align_content": null,
            "align_items": null,
            "align_self": null,
            "border": null,
            "bottom": null,
            "display": null,
            "flex": null,
            "flex_flow": null,
            "grid_area": null,
            "grid_auto_columns": null,
            "grid_auto_flow": null,
            "grid_auto_rows": null,
            "grid_column": null,
            "grid_gap": null,
            "grid_row": null,
            "grid_template_areas": null,
            "grid_template_columns": null,
            "grid_template_rows": null,
            "height": null,
            "justify_content": null,
            "justify_items": null,
            "left": null,
            "margin": null,
            "max_height": null,
            "max_width": null,
            "min_height": null,
            "min_width": null,
            "object_fit": null,
            "object_position": null,
            "order": null,
            "overflow": null,
            "overflow_x": null,
            "overflow_y": null,
            "padding": null,
            "right": null,
            "top": null,
            "visibility": null,
            "width": null
          }
        },
        "ec31448ab4704ff89ffcc9eef90056d1": {
          "model_module": "@jupyter-widgets/controls",
          "model_name": "DescriptionStyleModel",
          "model_module_version": "1.5.0",
          "state": {
            "_model_module": "@jupyter-widgets/controls",
            "_model_module_version": "1.5.0",
            "_model_name": "DescriptionStyleModel",
            "_view_count": null,
            "_view_module": "@jupyter-widgets/base",
            "_view_module_version": "1.2.0",
            "_view_name": "StyleView",
            "description_width": ""
          }
        },
        "2a6099b2d19c4a37af00eff8cec91b73": {
          "model_module": "@jupyter-widgets/controls",
          "model_name": "IntProgressModel",
          "model_module_version": "1.5.0",
          "state": {
            "_dom_classes": [],
            "_model_module": "@jupyter-widgets/controls",
            "_model_module_version": "1.5.0",
            "_model_name": "IntProgressModel",
            "_view_count": null,
            "_view_module": "@jupyter-widgets/controls",
            "_view_module_version": "1.5.0",
            "_view_name": "ProgressView",
            "bar_style": "success",
            "description": "Epochs:",
            "description_tooltip": null,
            "layout": "IPY_MODEL_7dba38b39fea47da9df2feb2f4f87f3e",
            "max": 100,
            "min": 0,
            "orientation": "horizontal",
            "style": "IPY_MODEL_bfe90ee54ff44929a57e398cebca0051",
            "value": 93
          }
        },
        "7dba38b39fea47da9df2feb2f4f87f3e": {
          "model_module": "@jupyter-widgets/base",
          "model_name": "LayoutModel",
          "model_module_version": "1.2.0",
          "state": {
            "_model_module": "@jupyter-widgets/base",
            "_model_module_version": "1.2.0",
            "_model_name": "LayoutModel",
            "_view_count": null,
            "_view_module": "@jupyter-widgets/base",
            "_view_module_version": "1.2.0",
            "_view_name": "LayoutView",
            "align_content": null,
            "align_items": null,
            "align_self": null,
            "border": null,
            "bottom": null,
            "display": null,
            "flex": null,
            "flex_flow": null,
            "grid_area": null,
            "grid_auto_columns": null,
            "grid_auto_flow": null,
            "grid_auto_rows": null,
            "grid_column": null,
            "grid_gap": null,
            "grid_row": null,
            "grid_template_areas": null,
            "grid_template_columns": null,
            "grid_template_rows": null,
            "height": null,
            "justify_content": null,
            "justify_items": null,
            "left": null,
            "margin": null,
            "max_height": null,
            "max_width": null,
            "min_height": null,
            "min_width": null,
            "object_fit": null,
            "object_position": null,
            "order": null,
            "overflow": null,
            "overflow_x": null,
            "overflow_y": null,
            "padding": null,
            "right": null,
            "top": null,
            "visibility": null,
            "width": null
          }
        },
        "bfe90ee54ff44929a57e398cebca0051": {
          "model_module": "@jupyter-widgets/controls",
          "model_name": "ProgressStyleModel",
          "model_module_version": "1.5.0",
          "state": {
            "_model_module": "@jupyter-widgets/controls",
            "_model_module_version": "1.5.0",
            "_model_name": "ProgressStyleModel",
            "_view_count": null,
            "_view_module": "@jupyter-widgets/base",
            "_view_module_version": "1.2.0",
            "_view_name": "StyleView",
            "bar_color": null,
            "description_width": ""
          }
        },
        "093cbc3a1aea4edd8f657808e593c964": {
          "model_module": "@jupyter-widgets/controls",
          "model_name": "HBoxModel",
          "model_module_version": "1.5.0",
          "state": {
            "_dom_classes": [],
            "_model_module": "@jupyter-widgets/controls",
            "_model_module_version": "1.5.0",
            "_model_name": "HBoxModel",
            "_view_count": null,
            "_view_module": "@jupyter-widgets/controls",
            "_view_module_version": "1.5.0",
            "_view_name": "HBoxView",
            "box_style": "",
            "children": [
              "IPY_MODEL_a7b0dfcf71e04dfd990f059611be0d54",
              "IPY_MODEL_b9970e9cca7b4d42a1a4d4acad07abcc",
              "IPY_MODEL_de22c786eb504501b617a00f6da61e68"
            ],
            "layout": "IPY_MODEL_dfc560c816e945f5b720c9643e66ccc0"
          }
        },
        "a7b0dfcf71e04dfd990f059611be0d54": {
          "model_module": "@jupyter-widgets/controls",
          "model_name": "HTMLModel",
          "model_module_version": "1.5.0",
          "state": {
            "_dom_classes": [],
            "_model_module": "@jupyter-widgets/controls",
            "_model_module_version": "1.5.0",
            "_model_name": "HTMLModel",
            "_view_count": null,
            "_view_module": "@jupyter-widgets/controls",
            "_view_module_version": "1.5.0",
            "_view_name": "HTMLView",
            "description": "",
            "description_tooltip": null,
            "layout": "IPY_MODEL_c34916ece37d4794b9bee003b4b299cd",
            "placeholder": "​",
            "style": "IPY_MODEL_0fa0455a8341451e9c0cbdaf395a999a",
            "value": "tokenizer_config.json: 100%"
          }
        },
        "b9970e9cca7b4d42a1a4d4acad07abcc": {
          "model_module": "@jupyter-widgets/controls",
          "model_name": "FloatProgressModel",
          "model_module_version": "1.5.0",
          "state": {
            "_dom_classes": [],
            "_model_module": "@jupyter-widgets/controls",
            "_model_module_version": "1.5.0",
            "_model_name": "FloatProgressModel",
            "_view_count": null,
            "_view_module": "@jupyter-widgets/controls",
            "_view_module_version": "1.5.0",
            "_view_name": "ProgressView",
            "bar_style": "success",
            "description": "",
            "description_tooltip": null,
            "layout": "IPY_MODEL_68a651d1bf844a4dbf9d82b1301712fb",
            "max": 24,
            "min": 0,
            "orientation": "horizontal",
            "style": "IPY_MODEL_e330d2b6c0444f85a5d05f9dd62c6cb3",
            "value": 24
          }
        },
        "de22c786eb504501b617a00f6da61e68": {
          "model_module": "@jupyter-widgets/controls",
          "model_name": "HTMLModel",
          "model_module_version": "1.5.0",
          "state": {
            "_dom_classes": [],
            "_model_module": "@jupyter-widgets/controls",
            "_model_module_version": "1.5.0",
            "_model_name": "HTMLModel",
            "_view_count": null,
            "_view_module": "@jupyter-widgets/controls",
            "_view_module_version": "1.5.0",
            "_view_name": "HTMLView",
            "description": "",
            "description_tooltip": null,
            "layout": "IPY_MODEL_e580776f749a4566a4e966cd4b4976c8",
            "placeholder": "​",
            "style": "IPY_MODEL_743f2c6914764ef699c39132a6fd69a2",
            "value": " 24.0/24.0 [00:00&lt;00:00, 395B/s]"
          }
        },
        "dfc560c816e945f5b720c9643e66ccc0": {
          "model_module": "@jupyter-widgets/base",
          "model_name": "LayoutModel",
          "model_module_version": "1.2.0",
          "state": {
            "_model_module": "@jupyter-widgets/base",
            "_model_module_version": "1.2.0",
            "_model_name": "LayoutModel",
            "_view_count": null,
            "_view_module": "@jupyter-widgets/base",
            "_view_module_version": "1.2.0",
            "_view_name": "LayoutView",
            "align_content": null,
            "align_items": null,
            "align_self": null,
            "border": null,
            "bottom": null,
            "display": null,
            "flex": null,
            "flex_flow": null,
            "grid_area": null,
            "grid_auto_columns": null,
            "grid_auto_flow": null,
            "grid_auto_rows": null,
            "grid_column": null,
            "grid_gap": null,
            "grid_row": null,
            "grid_template_areas": null,
            "grid_template_columns": null,
            "grid_template_rows": null,
            "height": null,
            "justify_content": null,
            "justify_items": null,
            "left": null,
            "margin": null,
            "max_height": null,
            "max_width": null,
            "min_height": null,
            "min_width": null,
            "object_fit": null,
            "object_position": null,
            "order": null,
            "overflow": null,
            "overflow_x": null,
            "overflow_y": null,
            "padding": null,
            "right": null,
            "top": null,
            "visibility": null,
            "width": null
          }
        },
        "c34916ece37d4794b9bee003b4b299cd": {
          "model_module": "@jupyter-widgets/base",
          "model_name": "LayoutModel",
          "model_module_version": "1.2.0",
          "state": {
            "_model_module": "@jupyter-widgets/base",
            "_model_module_version": "1.2.0",
            "_model_name": "LayoutModel",
            "_view_count": null,
            "_view_module": "@jupyter-widgets/base",
            "_view_module_version": "1.2.0",
            "_view_name": "LayoutView",
            "align_content": null,
            "align_items": null,
            "align_self": null,
            "border": null,
            "bottom": null,
            "display": null,
            "flex": null,
            "flex_flow": null,
            "grid_area": null,
            "grid_auto_columns": null,
            "grid_auto_flow": null,
            "grid_auto_rows": null,
            "grid_column": null,
            "grid_gap": null,
            "grid_row": null,
            "grid_template_areas": null,
            "grid_template_columns": null,
            "grid_template_rows": null,
            "height": null,
            "justify_content": null,
            "justify_items": null,
            "left": null,
            "margin": null,
            "max_height": null,
            "max_width": null,
            "min_height": null,
            "min_width": null,
            "object_fit": null,
            "object_position": null,
            "order": null,
            "overflow": null,
            "overflow_x": null,
            "overflow_y": null,
            "padding": null,
            "right": null,
            "top": null,
            "visibility": null,
            "width": null
          }
        },
        "0fa0455a8341451e9c0cbdaf395a999a": {
          "model_module": "@jupyter-widgets/controls",
          "model_name": "DescriptionStyleModel",
          "model_module_version": "1.5.0",
          "state": {
            "_model_module": "@jupyter-widgets/controls",
            "_model_module_version": "1.5.0",
            "_model_name": "DescriptionStyleModel",
            "_view_count": null,
            "_view_module": "@jupyter-widgets/base",
            "_view_module_version": "1.2.0",
            "_view_name": "StyleView",
            "description_width": ""
          }
        },
        "68a651d1bf844a4dbf9d82b1301712fb": {
          "model_module": "@jupyter-widgets/base",
          "model_name": "LayoutModel",
          "model_module_version": "1.2.0",
          "state": {
            "_model_module": "@jupyter-widgets/base",
            "_model_module_version": "1.2.0",
            "_model_name": "LayoutModel",
            "_view_count": null,
            "_view_module": "@jupyter-widgets/base",
            "_view_module_version": "1.2.0",
            "_view_name": "LayoutView",
            "align_content": null,
            "align_items": null,
            "align_self": null,
            "border": null,
            "bottom": null,
            "display": null,
            "flex": null,
            "flex_flow": null,
            "grid_area": null,
            "grid_auto_columns": null,
            "grid_auto_flow": null,
            "grid_auto_rows": null,
            "grid_column": null,
            "grid_gap": null,
            "grid_row": null,
            "grid_template_areas": null,
            "grid_template_columns": null,
            "grid_template_rows": null,
            "height": null,
            "justify_content": null,
            "justify_items": null,
            "left": null,
            "margin": null,
            "max_height": null,
            "max_width": null,
            "min_height": null,
            "min_width": null,
            "object_fit": null,
            "object_position": null,
            "order": null,
            "overflow": null,
            "overflow_x": null,
            "overflow_y": null,
            "padding": null,
            "right": null,
            "top": null,
            "visibility": null,
            "width": null
          }
        },
        "e330d2b6c0444f85a5d05f9dd62c6cb3": {
          "model_module": "@jupyter-widgets/controls",
          "model_name": "ProgressStyleModel",
          "model_module_version": "1.5.0",
          "state": {
            "_model_module": "@jupyter-widgets/controls",
            "_model_module_version": "1.5.0",
            "_model_name": "ProgressStyleModel",
            "_view_count": null,
            "_view_module": "@jupyter-widgets/base",
            "_view_module_version": "1.2.0",
            "_view_name": "StyleView",
            "bar_color": null,
            "description_width": ""
          }
        },
        "e580776f749a4566a4e966cd4b4976c8": {
          "model_module": "@jupyter-widgets/base",
          "model_name": "LayoutModel",
          "model_module_version": "1.2.0",
          "state": {
            "_model_module": "@jupyter-widgets/base",
            "_model_module_version": "1.2.0",
            "_model_name": "LayoutModel",
            "_view_count": null,
            "_view_module": "@jupyter-widgets/base",
            "_view_module_version": "1.2.0",
            "_view_name": "LayoutView",
            "align_content": null,
            "align_items": null,
            "align_self": null,
            "border": null,
            "bottom": null,
            "display": null,
            "flex": null,
            "flex_flow": null,
            "grid_area": null,
            "grid_auto_columns": null,
            "grid_auto_flow": null,
            "grid_auto_rows": null,
            "grid_column": null,
            "grid_gap": null,
            "grid_row": null,
            "grid_template_areas": null,
            "grid_template_columns": null,
            "grid_template_rows": null,
            "height": null,
            "justify_content": null,
            "justify_items": null,
            "left": null,
            "margin": null,
            "max_height": null,
            "max_width": null,
            "min_height": null,
            "min_width": null,
            "object_fit": null,
            "object_position": null,
            "order": null,
            "overflow": null,
            "overflow_x": null,
            "overflow_y": null,
            "padding": null,
            "right": null,
            "top": null,
            "visibility": null,
            "width": null
          }
        },
        "743f2c6914764ef699c39132a6fd69a2": {
          "model_module": "@jupyter-widgets/controls",
          "model_name": "DescriptionStyleModel",
          "model_module_version": "1.5.0",
          "state": {
            "_model_module": "@jupyter-widgets/controls",
            "_model_module_version": "1.5.0",
            "_model_name": "DescriptionStyleModel",
            "_view_count": null,
            "_view_module": "@jupyter-widgets/base",
            "_view_module_version": "1.2.0",
            "_view_name": "StyleView",
            "description_width": ""
          }
        },
        "fdc97d5718594dc3832c4bb7322822c1": {
          "model_module": "@jupyter-widgets/controls",
          "model_name": "HBoxModel",
          "model_module_version": "1.5.0",
          "state": {
            "_dom_classes": [],
            "_model_module": "@jupyter-widgets/controls",
            "_model_module_version": "1.5.0",
            "_model_name": "HBoxModel",
            "_view_count": null,
            "_view_module": "@jupyter-widgets/controls",
            "_view_module_version": "1.5.0",
            "_view_name": "HBoxView",
            "box_style": "",
            "children": [
              "IPY_MODEL_d0cc297293874185bc1da36618f1a9ee",
              "IPY_MODEL_8920a82a360f475b86de5e52cd02498e",
              "IPY_MODEL_42f3d4f9bf5b4c80954b037028b9acb2"
            ],
            "layout": "IPY_MODEL_c047efee293e4d2593684f9ed142591c"
          }
        },
        "d0cc297293874185bc1da36618f1a9ee": {
          "model_module": "@jupyter-widgets/controls",
          "model_name": "HTMLModel",
          "model_module_version": "1.5.0",
          "state": {
            "_dom_classes": [],
            "_model_module": "@jupyter-widgets/controls",
            "_model_module_version": "1.5.0",
            "_model_name": "HTMLModel",
            "_view_count": null,
            "_view_module": "@jupyter-widgets/controls",
            "_view_module_version": "1.5.0",
            "_view_name": "HTMLView",
            "description": "",
            "description_tooltip": null,
            "layout": "IPY_MODEL_5fa91bdaa2cc45bca83e313a2a84504f",
            "placeholder": "​",
            "style": "IPY_MODEL_193c25ea3d814729ad1ad64e3df0af4d",
            "value": "vocab.txt: 100%"
          }
        },
        "8920a82a360f475b86de5e52cd02498e": {
          "model_module": "@jupyter-widgets/controls",
          "model_name": "FloatProgressModel",
          "model_module_version": "1.5.0",
          "state": {
            "_dom_classes": [],
            "_model_module": "@jupyter-widgets/controls",
            "_model_module_version": "1.5.0",
            "_model_name": "FloatProgressModel",
            "_view_count": null,
            "_view_module": "@jupyter-widgets/controls",
            "_view_module_version": "1.5.0",
            "_view_name": "ProgressView",
            "bar_style": "success",
            "description": "",
            "description_tooltip": null,
            "layout": "IPY_MODEL_041c5552a6e84bc284e23a4eac6bbfe7",
            "max": 1649718,
            "min": 0,
            "orientation": "horizontal",
            "style": "IPY_MODEL_9a53dff378814bb79d68c6682e7a703a",
            "value": 1649718
          }
        },
        "42f3d4f9bf5b4c80954b037028b9acb2": {
          "model_module": "@jupyter-widgets/controls",
          "model_name": "HTMLModel",
          "model_module_version": "1.5.0",
          "state": {
            "_dom_classes": [],
            "_model_module": "@jupyter-widgets/controls",
            "_model_module_version": "1.5.0",
            "_model_name": "HTMLModel",
            "_view_count": null,
            "_view_module": "@jupyter-widgets/controls",
            "_view_module_version": "1.5.0",
            "_view_name": "HTMLView",
            "description": "",
            "description_tooltip": null,
            "layout": "IPY_MODEL_b69144962cdb4e6db77f484cc718475c",
            "placeholder": "​",
            "style": "IPY_MODEL_4167f2a73b244fe491f03fe590d30bef",
            "value": " 1.65M/1.65M [00:00&lt;00:00, 12.2MB/s]"
          }
        },
        "c047efee293e4d2593684f9ed142591c": {
          "model_module": "@jupyter-widgets/base",
          "model_name": "LayoutModel",
          "model_module_version": "1.2.0",
          "state": {
            "_model_module": "@jupyter-widgets/base",
            "_model_module_version": "1.2.0",
            "_model_name": "LayoutModel",
            "_view_count": null,
            "_view_module": "@jupyter-widgets/base",
            "_view_module_version": "1.2.0",
            "_view_name": "LayoutView",
            "align_content": null,
            "align_items": null,
            "align_self": null,
            "border": null,
            "bottom": null,
            "display": null,
            "flex": null,
            "flex_flow": null,
            "grid_area": null,
            "grid_auto_columns": null,
            "grid_auto_flow": null,
            "grid_auto_rows": null,
            "grid_column": null,
            "grid_gap": null,
            "grid_row": null,
            "grid_template_areas": null,
            "grid_template_columns": null,
            "grid_template_rows": null,
            "height": null,
            "justify_content": null,
            "justify_items": null,
            "left": null,
            "margin": null,
            "max_height": null,
            "max_width": null,
            "min_height": null,
            "min_width": null,
            "object_fit": null,
            "object_position": null,
            "order": null,
            "overflow": null,
            "overflow_x": null,
            "overflow_y": null,
            "padding": null,
            "right": null,
            "top": null,
            "visibility": null,
            "width": null
          }
        },
        "5fa91bdaa2cc45bca83e313a2a84504f": {
          "model_module": "@jupyter-widgets/base",
          "model_name": "LayoutModel",
          "model_module_version": "1.2.0",
          "state": {
            "_model_module": "@jupyter-widgets/base",
            "_model_module_version": "1.2.0",
            "_model_name": "LayoutModel",
            "_view_count": null,
            "_view_module": "@jupyter-widgets/base",
            "_view_module_version": "1.2.0",
            "_view_name": "LayoutView",
            "align_content": null,
            "align_items": null,
            "align_self": null,
            "border": null,
            "bottom": null,
            "display": null,
            "flex": null,
            "flex_flow": null,
            "grid_area": null,
            "grid_auto_columns": null,
            "grid_auto_flow": null,
            "grid_auto_rows": null,
            "grid_column": null,
            "grid_gap": null,
            "grid_row": null,
            "grid_template_areas": null,
            "grid_template_columns": null,
            "grid_template_rows": null,
            "height": null,
            "justify_content": null,
            "justify_items": null,
            "left": null,
            "margin": null,
            "max_height": null,
            "max_width": null,
            "min_height": null,
            "min_width": null,
            "object_fit": null,
            "object_position": null,
            "order": null,
            "overflow": null,
            "overflow_x": null,
            "overflow_y": null,
            "padding": null,
            "right": null,
            "top": null,
            "visibility": null,
            "width": null
          }
        },
        "193c25ea3d814729ad1ad64e3df0af4d": {
          "model_module": "@jupyter-widgets/controls",
          "model_name": "DescriptionStyleModel",
          "model_module_version": "1.5.0",
          "state": {
            "_model_module": "@jupyter-widgets/controls",
            "_model_module_version": "1.5.0",
            "_model_name": "DescriptionStyleModel",
            "_view_count": null,
            "_view_module": "@jupyter-widgets/base",
            "_view_module_version": "1.2.0",
            "_view_name": "StyleView",
            "description_width": ""
          }
        },
        "041c5552a6e84bc284e23a4eac6bbfe7": {
          "model_module": "@jupyter-widgets/base",
          "model_name": "LayoutModel",
          "model_module_version": "1.2.0",
          "state": {
            "_model_module": "@jupyter-widgets/base",
            "_model_module_version": "1.2.0",
            "_model_name": "LayoutModel",
            "_view_count": null,
            "_view_module": "@jupyter-widgets/base",
            "_view_module_version": "1.2.0",
            "_view_name": "LayoutView",
            "align_content": null,
            "align_items": null,
            "align_self": null,
            "border": null,
            "bottom": null,
            "display": null,
            "flex": null,
            "flex_flow": null,
            "grid_area": null,
            "grid_auto_columns": null,
            "grid_auto_flow": null,
            "grid_auto_rows": null,
            "grid_column": null,
            "grid_gap": null,
            "grid_row": null,
            "grid_template_areas": null,
            "grid_template_columns": null,
            "grid_template_rows": null,
            "height": null,
            "justify_content": null,
            "justify_items": null,
            "left": null,
            "margin": null,
            "max_height": null,
            "max_width": null,
            "min_height": null,
            "min_width": null,
            "object_fit": null,
            "object_position": null,
            "order": null,
            "overflow": null,
            "overflow_x": null,
            "overflow_y": null,
            "padding": null,
            "right": null,
            "top": null,
            "visibility": null,
            "width": null
          }
        },
        "9a53dff378814bb79d68c6682e7a703a": {
          "model_module": "@jupyter-widgets/controls",
          "model_name": "ProgressStyleModel",
          "model_module_version": "1.5.0",
          "state": {
            "_model_module": "@jupyter-widgets/controls",
            "_model_module_version": "1.5.0",
            "_model_name": "ProgressStyleModel",
            "_view_count": null,
            "_view_module": "@jupyter-widgets/base",
            "_view_module_version": "1.2.0",
            "_view_name": "StyleView",
            "bar_color": null,
            "description_width": ""
          }
        },
        "b69144962cdb4e6db77f484cc718475c": {
          "model_module": "@jupyter-widgets/base",
          "model_name": "LayoutModel",
          "model_module_version": "1.2.0",
          "state": {
            "_model_module": "@jupyter-widgets/base",
            "_model_module_version": "1.2.0",
            "_model_name": "LayoutModel",
            "_view_count": null,
            "_view_module": "@jupyter-widgets/base",
            "_view_module_version": "1.2.0",
            "_view_name": "LayoutView",
            "align_content": null,
            "align_items": null,
            "align_self": null,
            "border": null,
            "bottom": null,
            "display": null,
            "flex": null,
            "flex_flow": null,
            "grid_area": null,
            "grid_auto_columns": null,
            "grid_auto_flow": null,
            "grid_auto_rows": null,
            "grid_column": null,
            "grid_gap": null,
            "grid_row": null,
            "grid_template_areas": null,
            "grid_template_columns": null,
            "grid_template_rows": null,
            "height": null,
            "justify_content": null,
            "justify_items": null,
            "left": null,
            "margin": null,
            "max_height": null,
            "max_width": null,
            "min_height": null,
            "min_width": null,
            "object_fit": null,
            "object_position": null,
            "order": null,
            "overflow": null,
            "overflow_x": null,
            "overflow_y": null,
            "padding": null,
            "right": null,
            "top": null,
            "visibility": null,
            "width": null
          }
        },
        "4167f2a73b244fe491f03fe590d30bef": {
          "model_module": "@jupyter-widgets/controls",
          "model_name": "DescriptionStyleModel",
          "model_module_version": "1.5.0",
          "state": {
            "_model_module": "@jupyter-widgets/controls",
            "_model_module_version": "1.5.0",
            "_model_name": "DescriptionStyleModel",
            "_view_count": null,
            "_view_module": "@jupyter-widgets/base",
            "_view_module_version": "1.2.0",
            "_view_name": "StyleView",
            "description_width": ""
          }
        },
        "98c4f4d3a6ba4846986a235985eae5b7": {
          "model_module": "@jupyter-widgets/controls",
          "model_name": "HBoxModel",
          "model_module_version": "1.5.0",
          "state": {
            "_dom_classes": [],
            "_model_module": "@jupyter-widgets/controls",
            "_model_module_version": "1.5.0",
            "_model_name": "HBoxModel",
            "_view_count": null,
            "_view_module": "@jupyter-widgets/controls",
            "_view_module_version": "1.5.0",
            "_view_name": "HBoxView",
            "box_style": "",
            "children": [
              "IPY_MODEL_12779419e1b64fb6b9ccffed4619f728",
              "IPY_MODEL_f8f92edb2e104d2980ea22f0cc37e4a8",
              "IPY_MODEL_234e81efb9b4415d873816b3f41d997d"
            ],
            "layout": "IPY_MODEL_6cba57baaced4fc2acfb8f32dc3edcb4"
          }
        },
        "12779419e1b64fb6b9ccffed4619f728": {
          "model_module": "@jupyter-widgets/controls",
          "model_name": "HTMLModel",
          "model_module_version": "1.5.0",
          "state": {
            "_dom_classes": [],
            "_model_module": "@jupyter-widgets/controls",
            "_model_module_version": "1.5.0",
            "_model_name": "HTMLModel",
            "_view_count": null,
            "_view_module": "@jupyter-widgets/controls",
            "_view_module_version": "1.5.0",
            "_view_name": "HTMLView",
            "description": "",
            "description_tooltip": null,
            "layout": "IPY_MODEL_55aa1297f22b4deea6bf2566de86fb8f",
            "placeholder": "​",
            "style": "IPY_MODEL_b18969099bb4446ab2e05b27f66c8840",
            "value": "special_tokens_map.json: 100%"
          }
        },
        "f8f92edb2e104d2980ea22f0cc37e4a8": {
          "model_module": "@jupyter-widgets/controls",
          "model_name": "FloatProgressModel",
          "model_module_version": "1.5.0",
          "state": {
            "_dom_classes": [],
            "_model_module": "@jupyter-widgets/controls",
            "_model_module_version": "1.5.0",
            "_model_name": "FloatProgressModel",
            "_view_count": null,
            "_view_module": "@jupyter-widgets/controls",
            "_view_module_version": "1.5.0",
            "_view_name": "ProgressView",
            "bar_style": "success",
            "description": "",
            "description_tooltip": null,
            "layout": "IPY_MODEL_e89858a1ad5c45ec85e2e419a83391a7",
            "max": 112,
            "min": 0,
            "orientation": "horizontal",
            "style": "IPY_MODEL_b2eb6b4817424798afb2f69b0b4a501c",
            "value": 112
          }
        },
        "234e81efb9b4415d873816b3f41d997d": {
          "model_module": "@jupyter-widgets/controls",
          "model_name": "HTMLModel",
          "model_module_version": "1.5.0",
          "state": {
            "_dom_classes": [],
            "_model_module": "@jupyter-widgets/controls",
            "_model_module_version": "1.5.0",
            "_model_name": "HTMLModel",
            "_view_count": null,
            "_view_module": "@jupyter-widgets/controls",
            "_view_module_version": "1.5.0",
            "_view_name": "HTMLView",
            "description": "",
            "description_tooltip": null,
            "layout": "IPY_MODEL_0bd6550db71a44b0905a076478f8a1b8",
            "placeholder": "​",
            "style": "IPY_MODEL_3aa10786b2404853b05cb40a0c4c51b9",
            "value": " 112/112 [00:00&lt;00:00, 1.93kB/s]"
          }
        },
        "6cba57baaced4fc2acfb8f32dc3edcb4": {
          "model_module": "@jupyter-widgets/base",
          "model_name": "LayoutModel",
          "model_module_version": "1.2.0",
          "state": {
            "_model_module": "@jupyter-widgets/base",
            "_model_module_version": "1.2.0",
            "_model_name": "LayoutModel",
            "_view_count": null,
            "_view_module": "@jupyter-widgets/base",
            "_view_module_version": "1.2.0",
            "_view_name": "LayoutView",
            "align_content": null,
            "align_items": null,
            "align_self": null,
            "border": null,
            "bottom": null,
            "display": null,
            "flex": null,
            "flex_flow": null,
            "grid_area": null,
            "grid_auto_columns": null,
            "grid_auto_flow": null,
            "grid_auto_rows": null,
            "grid_column": null,
            "grid_gap": null,
            "grid_row": null,
            "grid_template_areas": null,
            "grid_template_columns": null,
            "grid_template_rows": null,
            "height": null,
            "justify_content": null,
            "justify_items": null,
            "left": null,
            "margin": null,
            "max_height": null,
            "max_width": null,
            "min_height": null,
            "min_width": null,
            "object_fit": null,
            "object_position": null,
            "order": null,
            "overflow": null,
            "overflow_x": null,
            "overflow_y": null,
            "padding": null,
            "right": null,
            "top": null,
            "visibility": null,
            "width": null
          }
        },
        "55aa1297f22b4deea6bf2566de86fb8f": {
          "model_module": "@jupyter-widgets/base",
          "model_name": "LayoutModel",
          "model_module_version": "1.2.0",
          "state": {
            "_model_module": "@jupyter-widgets/base",
            "_model_module_version": "1.2.0",
            "_model_name": "LayoutModel",
            "_view_count": null,
            "_view_module": "@jupyter-widgets/base",
            "_view_module_version": "1.2.0",
            "_view_name": "LayoutView",
            "align_content": null,
            "align_items": null,
            "align_self": null,
            "border": null,
            "bottom": null,
            "display": null,
            "flex": null,
            "flex_flow": null,
            "grid_area": null,
            "grid_auto_columns": null,
            "grid_auto_flow": null,
            "grid_auto_rows": null,
            "grid_column": null,
            "grid_gap": null,
            "grid_row": null,
            "grid_template_areas": null,
            "grid_template_columns": null,
            "grid_template_rows": null,
            "height": null,
            "justify_content": null,
            "justify_items": null,
            "left": null,
            "margin": null,
            "max_height": null,
            "max_width": null,
            "min_height": null,
            "min_width": null,
            "object_fit": null,
            "object_position": null,
            "order": null,
            "overflow": null,
            "overflow_x": null,
            "overflow_y": null,
            "padding": null,
            "right": null,
            "top": null,
            "visibility": null,
            "width": null
          }
        },
        "b18969099bb4446ab2e05b27f66c8840": {
          "model_module": "@jupyter-widgets/controls",
          "model_name": "DescriptionStyleModel",
          "model_module_version": "1.5.0",
          "state": {
            "_model_module": "@jupyter-widgets/controls",
            "_model_module_version": "1.5.0",
            "_model_name": "DescriptionStyleModel",
            "_view_count": null,
            "_view_module": "@jupyter-widgets/base",
            "_view_module_version": "1.2.0",
            "_view_name": "StyleView",
            "description_width": ""
          }
        },
        "e89858a1ad5c45ec85e2e419a83391a7": {
          "model_module": "@jupyter-widgets/base",
          "model_name": "LayoutModel",
          "model_module_version": "1.2.0",
          "state": {
            "_model_module": "@jupyter-widgets/base",
            "_model_module_version": "1.2.0",
            "_model_name": "LayoutModel",
            "_view_count": null,
            "_view_module": "@jupyter-widgets/base",
            "_view_module_version": "1.2.0",
            "_view_name": "LayoutView",
            "align_content": null,
            "align_items": null,
            "align_self": null,
            "border": null,
            "bottom": null,
            "display": null,
            "flex": null,
            "flex_flow": null,
            "grid_area": null,
            "grid_auto_columns": null,
            "grid_auto_flow": null,
            "grid_auto_rows": null,
            "grid_column": null,
            "grid_gap": null,
            "grid_row": null,
            "grid_template_areas": null,
            "grid_template_columns": null,
            "grid_template_rows": null,
            "height": null,
            "justify_content": null,
            "justify_items": null,
            "left": null,
            "margin": null,
            "max_height": null,
            "max_width": null,
            "min_height": null,
            "min_width": null,
            "object_fit": null,
            "object_position": null,
            "order": null,
            "overflow": null,
            "overflow_x": null,
            "overflow_y": null,
            "padding": null,
            "right": null,
            "top": null,
            "visibility": null,
            "width": null
          }
        },
        "b2eb6b4817424798afb2f69b0b4a501c": {
          "model_module": "@jupyter-widgets/controls",
          "model_name": "ProgressStyleModel",
          "model_module_version": "1.5.0",
          "state": {
            "_model_module": "@jupyter-widgets/controls",
            "_model_module_version": "1.5.0",
            "_model_name": "ProgressStyleModel",
            "_view_count": null,
            "_view_module": "@jupyter-widgets/base",
            "_view_module_version": "1.2.0",
            "_view_name": "StyleView",
            "bar_color": null,
            "description_width": ""
          }
        },
        "0bd6550db71a44b0905a076478f8a1b8": {
          "model_module": "@jupyter-widgets/base",
          "model_name": "LayoutModel",
          "model_module_version": "1.2.0",
          "state": {
            "_model_module": "@jupyter-widgets/base",
            "_model_module_version": "1.2.0",
            "_model_name": "LayoutModel",
            "_view_count": null,
            "_view_module": "@jupyter-widgets/base",
            "_view_module_version": "1.2.0",
            "_view_name": "LayoutView",
            "align_content": null,
            "align_items": null,
            "align_self": null,
            "border": null,
            "bottom": null,
            "display": null,
            "flex": null,
            "flex_flow": null,
            "grid_area": null,
            "grid_auto_columns": null,
            "grid_auto_flow": null,
            "grid_auto_rows": null,
            "grid_column": null,
            "grid_gap": null,
            "grid_row": null,
            "grid_template_areas": null,
            "grid_template_columns": null,
            "grid_template_rows": null,
            "height": null,
            "justify_content": null,
            "justify_items": null,
            "left": null,
            "margin": null,
            "max_height": null,
            "max_width": null,
            "min_height": null,
            "min_width": null,
            "object_fit": null,
            "object_position": null,
            "order": null,
            "overflow": null,
            "overflow_x": null,
            "overflow_y": null,
            "padding": null,
            "right": null,
            "top": null,
            "visibility": null,
            "width": null
          }
        },
        "3aa10786b2404853b05cb40a0c4c51b9": {
          "model_module": "@jupyter-widgets/controls",
          "model_name": "DescriptionStyleModel",
          "model_module_version": "1.5.0",
          "state": {
            "_model_module": "@jupyter-widgets/controls",
            "_model_module_version": "1.5.0",
            "_model_name": "DescriptionStyleModel",
            "_view_count": null,
            "_view_module": "@jupyter-widgets/base",
            "_view_module_version": "1.2.0",
            "_view_name": "StyleView",
            "description_width": ""
          }
        },
        "fa39859199a24ca1a7ea501e1081110e": {
          "model_module": "@jupyter-widgets/controls",
          "model_name": "HBoxModel",
          "model_module_version": "1.5.0",
          "state": {
            "_dom_classes": [],
            "_model_module": "@jupyter-widgets/controls",
            "_model_module_version": "1.5.0",
            "_model_name": "HBoxModel",
            "_view_count": null,
            "_view_module": "@jupyter-widgets/controls",
            "_view_module_version": "1.5.0",
            "_view_name": "HBoxView",
            "box_style": "",
            "children": [
              "IPY_MODEL_272f147f093a4404ad1ffb46f6ec45f5",
              "IPY_MODEL_10c7cd28a1a54620aead9cec32e4ce61",
              "IPY_MODEL_2e86bb8abb19422f8a34dee82a3717bb"
            ],
            "layout": "IPY_MODEL_e28a22af06bd49e19320b74e47d42307"
          }
        },
        "272f147f093a4404ad1ffb46f6ec45f5": {
          "model_module": "@jupyter-widgets/controls",
          "model_name": "HTMLModel",
          "model_module_version": "1.5.0",
          "state": {
            "_dom_classes": [],
            "_model_module": "@jupyter-widgets/controls",
            "_model_module_version": "1.5.0",
            "_model_name": "HTMLModel",
            "_view_count": null,
            "_view_module": "@jupyter-widgets/controls",
            "_view_module_version": "1.5.0",
            "_view_name": "HTMLView",
            "description": "",
            "description_tooltip": null,
            "layout": "IPY_MODEL_f2e2628a07a94ba598b4026cbb41120b",
            "placeholder": "​",
            "style": "IPY_MODEL_5fb0fff09c21436891b584f6c1c3be2c",
            "value": "config.json: 100%"
          }
        },
        "10c7cd28a1a54620aead9cec32e4ce61": {
          "model_module": "@jupyter-widgets/controls",
          "model_name": "FloatProgressModel",
          "model_module_version": "1.5.0",
          "state": {
            "_dom_classes": [],
            "_model_module": "@jupyter-widgets/controls",
            "_model_module_version": "1.5.0",
            "_model_name": "FloatProgressModel",
            "_view_count": null,
            "_view_module": "@jupyter-widgets/controls",
            "_view_module_version": "1.5.0",
            "_view_name": "ProgressView",
            "bar_style": "success",
            "description": "",
            "description_tooltip": null,
            "layout": "IPY_MODEL_11309d11c3534208a26ec81ab90f413e",
            "max": 642,
            "min": 0,
            "orientation": "horizontal",
            "style": "IPY_MODEL_977eac212f82477e9252becb468229ed",
            "value": 642
          }
        },
        "2e86bb8abb19422f8a34dee82a3717bb": {
          "model_module": "@jupyter-widgets/controls",
          "model_name": "HTMLModel",
          "model_module_version": "1.5.0",
          "state": {
            "_dom_classes": [],
            "_model_module": "@jupyter-widgets/controls",
            "_model_module_version": "1.5.0",
            "_model_name": "HTMLModel",
            "_view_count": null,
            "_view_module": "@jupyter-widgets/controls",
            "_view_module_version": "1.5.0",
            "_view_name": "HTMLView",
            "description": "",
            "description_tooltip": null,
            "layout": "IPY_MODEL_b471663500804a7ba07c8ea419e79604",
            "placeholder": "​",
            "style": "IPY_MODEL_0e7f4777ffe243e690690e950798417c",
            "value": " 642/642 [00:00&lt;00:00, 14.0kB/s]"
          }
        },
        "e28a22af06bd49e19320b74e47d42307": {
          "model_module": "@jupyter-widgets/base",
          "model_name": "LayoutModel",
          "model_module_version": "1.2.0",
          "state": {
            "_model_module": "@jupyter-widgets/base",
            "_model_module_version": "1.2.0",
            "_model_name": "LayoutModel",
            "_view_count": null,
            "_view_module": "@jupyter-widgets/base",
            "_view_module_version": "1.2.0",
            "_view_name": "LayoutView",
            "align_content": null,
            "align_items": null,
            "align_self": null,
            "border": null,
            "bottom": null,
            "display": null,
            "flex": null,
            "flex_flow": null,
            "grid_area": null,
            "grid_auto_columns": null,
            "grid_auto_flow": null,
            "grid_auto_rows": null,
            "grid_column": null,
            "grid_gap": null,
            "grid_row": null,
            "grid_template_areas": null,
            "grid_template_columns": null,
            "grid_template_rows": null,
            "height": null,
            "justify_content": null,
            "justify_items": null,
            "left": null,
            "margin": null,
            "max_height": null,
            "max_width": null,
            "min_height": null,
            "min_width": null,
            "object_fit": null,
            "object_position": null,
            "order": null,
            "overflow": null,
            "overflow_x": null,
            "overflow_y": null,
            "padding": null,
            "right": null,
            "top": null,
            "visibility": null,
            "width": null
          }
        },
        "f2e2628a07a94ba598b4026cbb41120b": {
          "model_module": "@jupyter-widgets/base",
          "model_name": "LayoutModel",
          "model_module_version": "1.2.0",
          "state": {
            "_model_module": "@jupyter-widgets/base",
            "_model_module_version": "1.2.0",
            "_model_name": "LayoutModel",
            "_view_count": null,
            "_view_module": "@jupyter-widgets/base",
            "_view_module_version": "1.2.0",
            "_view_name": "LayoutView",
            "align_content": null,
            "align_items": null,
            "align_self": null,
            "border": null,
            "bottom": null,
            "display": null,
            "flex": null,
            "flex_flow": null,
            "grid_area": null,
            "grid_auto_columns": null,
            "grid_auto_flow": null,
            "grid_auto_rows": null,
            "grid_column": null,
            "grid_gap": null,
            "grid_row": null,
            "grid_template_areas": null,
            "grid_template_columns": null,
            "grid_template_rows": null,
            "height": null,
            "justify_content": null,
            "justify_items": null,
            "left": null,
            "margin": null,
            "max_height": null,
            "max_width": null,
            "min_height": null,
            "min_width": null,
            "object_fit": null,
            "object_position": null,
            "order": null,
            "overflow": null,
            "overflow_x": null,
            "overflow_y": null,
            "padding": null,
            "right": null,
            "top": null,
            "visibility": null,
            "width": null
          }
        },
        "5fb0fff09c21436891b584f6c1c3be2c": {
          "model_module": "@jupyter-widgets/controls",
          "model_name": "DescriptionStyleModel",
          "model_module_version": "1.5.0",
          "state": {
            "_model_module": "@jupyter-widgets/controls",
            "_model_module_version": "1.5.0",
            "_model_name": "DescriptionStyleModel",
            "_view_count": null,
            "_view_module": "@jupyter-widgets/base",
            "_view_module_version": "1.2.0",
            "_view_name": "StyleView",
            "description_width": ""
          }
        },
        "11309d11c3534208a26ec81ab90f413e": {
          "model_module": "@jupyter-widgets/base",
          "model_name": "LayoutModel",
          "model_module_version": "1.2.0",
          "state": {
            "_model_module": "@jupyter-widgets/base",
            "_model_module_version": "1.2.0",
            "_model_name": "LayoutModel",
            "_view_count": null,
            "_view_module": "@jupyter-widgets/base",
            "_view_module_version": "1.2.0",
            "_view_name": "LayoutView",
            "align_content": null,
            "align_items": null,
            "align_self": null,
            "border": null,
            "bottom": null,
            "display": null,
            "flex": null,
            "flex_flow": null,
            "grid_area": null,
            "grid_auto_columns": null,
            "grid_auto_flow": null,
            "grid_auto_rows": null,
            "grid_column": null,
            "grid_gap": null,
            "grid_row": null,
            "grid_template_areas": null,
            "grid_template_columns": null,
            "grid_template_rows": null,
            "height": null,
            "justify_content": null,
            "justify_items": null,
            "left": null,
            "margin": null,
            "max_height": null,
            "max_width": null,
            "min_height": null,
            "min_width": null,
            "object_fit": null,
            "object_position": null,
            "order": null,
            "overflow": null,
            "overflow_x": null,
            "overflow_y": null,
            "padding": null,
            "right": null,
            "top": null,
            "visibility": null,
            "width": null
          }
        },
        "977eac212f82477e9252becb468229ed": {
          "model_module": "@jupyter-widgets/controls",
          "model_name": "ProgressStyleModel",
          "model_module_version": "1.5.0",
          "state": {
            "_model_module": "@jupyter-widgets/controls",
            "_model_module_version": "1.5.0",
            "_model_name": "ProgressStyleModel",
            "_view_count": null,
            "_view_module": "@jupyter-widgets/base",
            "_view_module_version": "1.2.0",
            "_view_name": "StyleView",
            "bar_color": null,
            "description_width": ""
          }
        },
        "b471663500804a7ba07c8ea419e79604": {
          "model_module": "@jupyter-widgets/base",
          "model_name": "LayoutModel",
          "model_module_version": "1.2.0",
          "state": {
            "_model_module": "@jupyter-widgets/base",
            "_model_module_version": "1.2.0",
            "_model_name": "LayoutModel",
            "_view_count": null,
            "_view_module": "@jupyter-widgets/base",
            "_view_module_version": "1.2.0",
            "_view_name": "LayoutView",
            "align_content": null,
            "align_items": null,
            "align_self": null,
            "border": null,
            "bottom": null,
            "display": null,
            "flex": null,
            "flex_flow": null,
            "grid_area": null,
            "grid_auto_columns": null,
            "grid_auto_flow": null,
            "grid_auto_rows": null,
            "grid_column": null,
            "grid_gap": null,
            "grid_row": null,
            "grid_template_areas": null,
            "grid_template_columns": null,
            "grid_template_rows": null,
            "height": null,
            "justify_content": null,
            "justify_items": null,
            "left": null,
            "margin": null,
            "max_height": null,
            "max_width": null,
            "min_height": null,
            "min_width": null,
            "object_fit": null,
            "object_position": null,
            "order": null,
            "overflow": null,
            "overflow_x": null,
            "overflow_y": null,
            "padding": null,
            "right": null,
            "top": null,
            "visibility": null,
            "width": null
          }
        },
        "0e7f4777ffe243e690690e950798417c": {
          "model_module": "@jupyter-widgets/controls",
          "model_name": "DescriptionStyleModel",
          "model_module_version": "1.5.0",
          "state": {
            "_model_module": "@jupyter-widgets/controls",
            "_model_module_version": "1.5.0",
            "_model_name": "DescriptionStyleModel",
            "_view_count": null,
            "_view_module": "@jupyter-widgets/base",
            "_view_module_version": "1.2.0",
            "_view_name": "StyleView",
            "description_width": ""
          }
        },
        "558ca8fe798546fa91968526f521c5af": {
          "model_module": "@jupyter-widgets/controls",
          "model_name": "HBoxModel",
          "model_module_version": "1.5.0",
          "state": {
            "_dom_classes": [],
            "_model_module": "@jupyter-widgets/controls",
            "_model_module_version": "1.5.0",
            "_model_name": "HBoxModel",
            "_view_count": null,
            "_view_module": "@jupyter-widgets/controls",
            "_view_module_version": "1.5.0",
            "_view_name": "HBoxView",
            "box_style": "",
            "children": [
              "IPY_MODEL_a374f0fa5be8437093492fff1b27d8ca",
              "IPY_MODEL_cff1c8aad3c649fabe2559b20f2286e7",
              "IPY_MODEL_58bb5c42941f4679a115709e50212582"
            ],
            "layout": "IPY_MODEL_89515a7c226c499e9c1f0a49a6b18159"
          }
        },
        "a374f0fa5be8437093492fff1b27d8ca": {
          "model_module": "@jupyter-widgets/controls",
          "model_name": "HTMLModel",
          "model_module_version": "1.5.0",
          "state": {
            "_dom_classes": [],
            "_model_module": "@jupyter-widgets/controls",
            "_model_module_version": "1.5.0",
            "_model_name": "HTMLModel",
            "_view_count": null,
            "_view_module": "@jupyter-widgets/controls",
            "_view_module_version": "1.5.0",
            "_view_name": "HTMLView",
            "description": "",
            "description_tooltip": null,
            "layout": "IPY_MODEL_93b15584737b411598fc147fab5e958d",
            "placeholder": "​",
            "style": "IPY_MODEL_0e28b1e850f0493f8768dc382e65f473",
            "value": "pytorch_model.bin: 100%"
          }
        },
        "cff1c8aad3c649fabe2559b20f2286e7": {
          "model_module": "@jupyter-widgets/controls",
          "model_name": "FloatProgressModel",
          "model_module_version": "1.5.0",
          "state": {
            "_dom_classes": [],
            "_model_module": "@jupyter-widgets/controls",
            "_model_module_version": "1.5.0",
            "_model_name": "FloatProgressModel",
            "_view_count": null,
            "_view_module": "@jupyter-widgets/controls",
            "_view_module_version": "1.5.0",
            "_view_name": "ProgressView",
            "bar_style": "success",
            "description": "",
            "description_tooltip": null,
            "layout": "IPY_MODEL_1b9b620d3997491e8e20a16a61e03626",
            "max": 714355318,
            "min": 0,
            "orientation": "horizontal",
            "style": "IPY_MODEL_f214450462cd4b73a88822624ad09e12",
            "value": 714355318
          }
        },
        "58bb5c42941f4679a115709e50212582": {
          "model_module": "@jupyter-widgets/controls",
          "model_name": "HTMLModel",
          "model_module_version": "1.5.0",
          "state": {
            "_dom_classes": [],
            "_model_module": "@jupyter-widgets/controls",
            "_model_module_version": "1.5.0",
            "_model_name": "HTMLModel",
            "_view_count": null,
            "_view_module": "@jupyter-widgets/controls",
            "_view_module_version": "1.5.0",
            "_view_name": "HTMLView",
            "description": "",
            "description_tooltip": null,
            "layout": "IPY_MODEL_f7db32d4fa534184b426e884bde21154",
            "placeholder": "​",
            "style": "IPY_MODEL_90aba9dcd0e147aa806420fb0ae4fb67",
            "value": " 714M/714M [00:05&lt;00:00, 114MB/s]"
          }
        },
        "89515a7c226c499e9c1f0a49a6b18159": {
          "model_module": "@jupyter-widgets/base",
          "model_name": "LayoutModel",
          "model_module_version": "1.2.0",
          "state": {
            "_model_module": "@jupyter-widgets/base",
            "_model_module_version": "1.2.0",
            "_model_name": "LayoutModel",
            "_view_count": null,
            "_view_module": "@jupyter-widgets/base",
            "_view_module_version": "1.2.0",
            "_view_name": "LayoutView",
            "align_content": null,
            "align_items": null,
            "align_self": null,
            "border": null,
            "bottom": null,
            "display": null,
            "flex": null,
            "flex_flow": null,
            "grid_area": null,
            "grid_auto_columns": null,
            "grid_auto_flow": null,
            "grid_auto_rows": null,
            "grid_column": null,
            "grid_gap": null,
            "grid_row": null,
            "grid_template_areas": null,
            "grid_template_columns": null,
            "grid_template_rows": null,
            "height": null,
            "justify_content": null,
            "justify_items": null,
            "left": null,
            "margin": null,
            "max_height": null,
            "max_width": null,
            "min_height": null,
            "min_width": null,
            "object_fit": null,
            "object_position": null,
            "order": null,
            "overflow": null,
            "overflow_x": null,
            "overflow_y": null,
            "padding": null,
            "right": null,
            "top": null,
            "visibility": null,
            "width": null
          }
        },
        "93b15584737b411598fc147fab5e958d": {
          "model_module": "@jupyter-widgets/base",
          "model_name": "LayoutModel",
          "model_module_version": "1.2.0",
          "state": {
            "_model_module": "@jupyter-widgets/base",
            "_model_module_version": "1.2.0",
            "_model_name": "LayoutModel",
            "_view_count": null,
            "_view_module": "@jupyter-widgets/base",
            "_view_module_version": "1.2.0",
            "_view_name": "LayoutView",
            "align_content": null,
            "align_items": null,
            "align_self": null,
            "border": null,
            "bottom": null,
            "display": null,
            "flex": null,
            "flex_flow": null,
            "grid_area": null,
            "grid_auto_columns": null,
            "grid_auto_flow": null,
            "grid_auto_rows": null,
            "grid_column": null,
            "grid_gap": null,
            "grid_row": null,
            "grid_template_areas": null,
            "grid_template_columns": null,
            "grid_template_rows": null,
            "height": null,
            "justify_content": null,
            "justify_items": null,
            "left": null,
            "margin": null,
            "max_height": null,
            "max_width": null,
            "min_height": null,
            "min_width": null,
            "object_fit": null,
            "object_position": null,
            "order": null,
            "overflow": null,
            "overflow_x": null,
            "overflow_y": null,
            "padding": null,
            "right": null,
            "top": null,
            "visibility": null,
            "width": null
          }
        },
        "0e28b1e850f0493f8768dc382e65f473": {
          "model_module": "@jupyter-widgets/controls",
          "model_name": "DescriptionStyleModel",
          "model_module_version": "1.5.0",
          "state": {
            "_model_module": "@jupyter-widgets/controls",
            "_model_module_version": "1.5.0",
            "_model_name": "DescriptionStyleModel",
            "_view_count": null,
            "_view_module": "@jupyter-widgets/base",
            "_view_module_version": "1.2.0",
            "_view_name": "StyleView",
            "description_width": ""
          }
        },
        "1b9b620d3997491e8e20a16a61e03626": {
          "model_module": "@jupyter-widgets/base",
          "model_name": "LayoutModel",
          "model_module_version": "1.2.0",
          "state": {
            "_model_module": "@jupyter-widgets/base",
            "_model_module_version": "1.2.0",
            "_model_name": "LayoutModel",
            "_view_count": null,
            "_view_module": "@jupyter-widgets/base",
            "_view_module_version": "1.2.0",
            "_view_name": "LayoutView",
            "align_content": null,
            "align_items": null,
            "align_self": null,
            "border": null,
            "bottom": null,
            "display": null,
            "flex": null,
            "flex_flow": null,
            "grid_area": null,
            "grid_auto_columns": null,
            "grid_auto_flow": null,
            "grid_auto_rows": null,
            "grid_column": null,
            "grid_gap": null,
            "grid_row": null,
            "grid_template_areas": null,
            "grid_template_columns": null,
            "grid_template_rows": null,
            "height": null,
            "justify_content": null,
            "justify_items": null,
            "left": null,
            "margin": null,
            "max_height": null,
            "max_width": null,
            "min_height": null,
            "min_width": null,
            "object_fit": null,
            "object_position": null,
            "order": null,
            "overflow": null,
            "overflow_x": null,
            "overflow_y": null,
            "padding": null,
            "right": null,
            "top": null,
            "visibility": null,
            "width": null
          }
        },
        "f214450462cd4b73a88822624ad09e12": {
          "model_module": "@jupyter-widgets/controls",
          "model_name": "ProgressStyleModel",
          "model_module_version": "1.5.0",
          "state": {
            "_model_module": "@jupyter-widgets/controls",
            "_model_module_version": "1.5.0",
            "_model_name": "ProgressStyleModel",
            "_view_count": null,
            "_view_module": "@jupyter-widgets/base",
            "_view_module_version": "1.2.0",
            "_view_name": "StyleView",
            "bar_color": null,
            "description_width": ""
          }
        },
        "f7db32d4fa534184b426e884bde21154": {
          "model_module": "@jupyter-widgets/base",
          "model_name": "LayoutModel",
          "model_module_version": "1.2.0",
          "state": {
            "_model_module": "@jupyter-widgets/base",
            "_model_module_version": "1.2.0",
            "_model_name": "LayoutModel",
            "_view_count": null,
            "_view_module": "@jupyter-widgets/base",
            "_view_module_version": "1.2.0",
            "_view_name": "LayoutView",
            "align_content": null,
            "align_items": null,
            "align_self": null,
            "border": null,
            "bottom": null,
            "display": null,
            "flex": null,
            "flex_flow": null,
            "grid_area": null,
            "grid_auto_columns": null,
            "grid_auto_flow": null,
            "grid_auto_rows": null,
            "grid_column": null,
            "grid_gap": null,
            "grid_row": null,
            "grid_template_areas": null,
            "grid_template_columns": null,
            "grid_template_rows": null,
            "height": null,
            "justify_content": null,
            "justify_items": null,
            "left": null,
            "margin": null,
            "max_height": null,
            "max_width": null,
            "min_height": null,
            "min_width": null,
            "object_fit": null,
            "object_position": null,
            "order": null,
            "overflow": null,
            "overflow_x": null,
            "overflow_y": null,
            "padding": null,
            "right": null,
            "top": null,
            "visibility": null,
            "width": null
          }
        },
        "90aba9dcd0e147aa806420fb0ae4fb67": {
          "model_module": "@jupyter-widgets/controls",
          "model_name": "DescriptionStyleModel",
          "model_module_version": "1.5.0",
          "state": {
            "_model_module": "@jupyter-widgets/controls",
            "_model_module_version": "1.5.0",
            "_model_name": "DescriptionStyleModel",
            "_view_count": null,
            "_view_module": "@jupyter-widgets/base",
            "_view_module_version": "1.2.0",
            "_view_name": "StyleView",
            "description_width": ""
          }
        },
        "dad12d24fe454da7bfc1a82cf5583e7d": {
          "model_module": "@jupyter-widgets/controls",
          "model_name": "IntProgressModel",
          "model_module_version": "1.5.0",
          "state": {
            "_dom_classes": [],
            "_model_module": "@jupyter-widgets/controls",
            "_model_module_version": "1.5.0",
            "_model_name": "IntProgressModel",
            "_view_count": null,
            "_view_module": "@jupyter-widgets/controls",
            "_view_module_version": "1.5.0",
            "_view_name": "ProgressView",
            "bar_style": "success",
            "description": "Epochs:",
            "description_tooltip": null,
            "layout": "IPY_MODEL_617d6a973713408aa1bd6b0e1a11c083",
            "max": 55,
            "min": 0,
            "orientation": "horizontal",
            "style": "IPY_MODEL_705abb623c1347878d05c4810a096d4f",
            "value": 6
          }
        },
        "617d6a973713408aa1bd6b0e1a11c083": {
          "model_module": "@jupyter-widgets/base",
          "model_name": "LayoutModel",
          "model_module_version": "1.2.0",
          "state": {
            "_model_module": "@jupyter-widgets/base",
            "_model_module_version": "1.2.0",
            "_model_name": "LayoutModel",
            "_view_count": null,
            "_view_module": "@jupyter-widgets/base",
            "_view_module_version": "1.2.0",
            "_view_name": "LayoutView",
            "align_content": null,
            "align_items": null,
            "align_self": null,
            "border": null,
            "bottom": null,
            "display": null,
            "flex": null,
            "flex_flow": null,
            "grid_area": null,
            "grid_auto_columns": null,
            "grid_auto_flow": null,
            "grid_auto_rows": null,
            "grid_column": null,
            "grid_gap": null,
            "grid_row": null,
            "grid_template_areas": null,
            "grid_template_columns": null,
            "grid_template_rows": null,
            "height": null,
            "justify_content": null,
            "justify_items": null,
            "left": null,
            "margin": null,
            "max_height": null,
            "max_width": null,
            "min_height": null,
            "min_width": null,
            "object_fit": null,
            "object_position": null,
            "order": null,
            "overflow": null,
            "overflow_x": null,
            "overflow_y": null,
            "padding": null,
            "right": null,
            "top": null,
            "visibility": null,
            "width": null
          }
        },
        "705abb623c1347878d05c4810a096d4f": {
          "model_module": "@jupyter-widgets/controls",
          "model_name": "ProgressStyleModel",
          "model_module_version": "1.5.0",
          "state": {
            "_model_module": "@jupyter-widgets/controls",
            "_model_module_version": "1.5.0",
            "_model_name": "ProgressStyleModel",
            "_view_count": null,
            "_view_module": "@jupyter-widgets/base",
            "_view_module_version": "1.2.0",
            "_view_name": "StyleView",
            "bar_color": null,
            "description_width": ""
          }
        },
        "30a1ad7e3a00449c943d22d9cc219456": {
          "model_module": "@jupyter-widgets/controls",
          "model_name": "IntProgressModel",
          "model_module_version": "1.5.0",
          "state": {
            "_dom_classes": [],
            "_model_module": "@jupyter-widgets/controls",
            "_model_module_version": "1.5.0",
            "_model_name": "IntProgressModel",
            "_view_count": null,
            "_view_module": "@jupyter-widgets/controls",
            "_view_module_version": "1.5.0",
            "_view_name": "ProgressView",
            "bar_style": "success",
            "description": "Epochs:",
            "description_tooltip": null,
            "layout": "IPY_MODEL_c5df4fbadd7a473182420fac083e5183",
            "max": 100,
            "min": 0,
            "orientation": "horizontal",
            "style": "IPY_MODEL_a4af7dec8a5c42e796cac58c6c7dd9bb",
            "value": 9
          }
        },
        "c5df4fbadd7a473182420fac083e5183": {
          "model_module": "@jupyter-widgets/base",
          "model_name": "LayoutModel",
          "model_module_version": "1.2.0",
          "state": {
            "_model_module": "@jupyter-widgets/base",
            "_model_module_version": "1.2.0",
            "_model_name": "LayoutModel",
            "_view_count": null,
            "_view_module": "@jupyter-widgets/base",
            "_view_module_version": "1.2.0",
            "_view_name": "LayoutView",
            "align_content": null,
            "align_items": null,
            "align_self": null,
            "border": null,
            "bottom": null,
            "display": null,
            "flex": null,
            "flex_flow": null,
            "grid_area": null,
            "grid_auto_columns": null,
            "grid_auto_flow": null,
            "grid_auto_rows": null,
            "grid_column": null,
            "grid_gap": null,
            "grid_row": null,
            "grid_template_areas": null,
            "grid_template_columns": null,
            "grid_template_rows": null,
            "height": null,
            "justify_content": null,
            "justify_items": null,
            "left": null,
            "margin": null,
            "max_height": null,
            "max_width": null,
            "min_height": null,
            "min_width": null,
            "object_fit": null,
            "object_position": null,
            "order": null,
            "overflow": null,
            "overflow_x": null,
            "overflow_y": null,
            "padding": null,
            "right": null,
            "top": null,
            "visibility": null,
            "width": null
          }
        },
        "a4af7dec8a5c42e796cac58c6c7dd9bb": {
          "model_module": "@jupyter-widgets/controls",
          "model_name": "ProgressStyleModel",
          "model_module_version": "1.5.0",
          "state": {
            "_model_module": "@jupyter-widgets/controls",
            "_model_module_version": "1.5.0",
            "_model_name": "ProgressStyleModel",
            "_view_count": null,
            "_view_module": "@jupyter-widgets/base",
            "_view_module_version": "1.2.0",
            "_view_name": "StyleView",
            "bar_color": null,
            "description_width": ""
          }
        }
      }
    }
  },
  "cells": [
    {
      "cell_type": "markdown",
      "source": [
        "## <h1 id=\"aa\" style=\"color:white;background:#B00000;padding:8px;border-radius:8px;font-family:newtimeroman;\"> Author </h1>\n",
        "\n",
        "Билинский Норгей, гр. 932328\n",
        "\n",
        "### Задание 3. Обработка естественного языка\n",
        "Анализ текстовых данных средствами BERT и стека LSTM\n",
        "\n",
        "Цель работы – получить навыки обучения и использования архитектур BERT, стека LSTM и двунаправленной LSTM для задач классификации текстовых данных.\n",
        "\n",
        "Задачи – Обучить нейросетевые модели BERT, стека LSTM, двунаправленную LSTM, предсказывающие авторство текстов по фрагменту текстов.\n",
        "\n",
        "Выбрать 4-x поэтов из списка: Цветаева М.И., Некрасов Н.А., Лермонтов М.Ю., Тютчев Ф.И., Фет А.А., Бунин И.А., Есенин С.А., Маяковский В.В., Бродский И.А., Ахматова А.А., Блок А.А., Заболоцкий Н.А. (Можно взять любых других писателей). Для каждого выбранного поэта взять не менее 50 фрагментов из произведений, каждый фрагмент содержит не менее 100 символов.\n",
        "\n",
        "Получить токенизатор и обученную модель BERT c HuggingFace (выбирайте подходящий для русского языка).\n",
        "\n",
        "Выполнить загрузку и предварительную обработку данных из текстов. Разделить каждую выборку на обучающую, тестовую и валидационную.\n",
        "\n",
        "Добавить к архитектуре BERT полносвязный (или два полносвязных) слой(я) и обучить полученную модель в следующих вариантах:\n",
        "\n",
        "1) Заморозить веса в BERT и настроить добавленный(е) полносвязный(ые) слой(и). (Это – модель 1а)\n",
        "\n",
        "2) Выполнить Fine-tuning полученной архитектуры. (Это – модель 1b)\n",
        "\n",
        "Обучить вторую модель - стек LSTM (две последовательные ячейки LSTM, добавить Dropout) для классификации текстовых данных.\n",
        "\n",
        "Обучить третью модель – двунаправленную ячейку LSTM для классификации текстовых данных.\n",
        "\n",
        "Привести кривые изменения функции потерь (Loss) и верности (Accuracy) во время обучения на обучающем и валидационном наборах для всех .\n",
        "\n",
        "Привести результаты обучения моделей и сделать выводы."
      ],
      "metadata": {
        "id": "t0T3G_W--xE-"
      }
    },
    {
      "cell_type": "markdown",
      "source": [
        "## <h1 id=\"aa\" style=\"color:white;background:#B00000;padding:8px;border-radius:8px;font-family:newtimeroman;\"> Importing libraries </h1>\n"
      ],
      "metadata": {
        "id": "DLRke-SR3Id3"
      }
    },
    {
      "cell_type": "code",
      "source": [
        "!pip install ipywidgets\n",
        "!pip install opendatasets\n"
      ],
      "metadata": {
        "colab": {
          "base_uri": "https://localhost:8080/"
        },
        "id": "eSFf3B7v25nJ",
        "outputId": "917bbbb3-4ab5-4779-c487-fa22a892566b"
      },
      "execution_count": null,
      "outputs": [
        {
          "output_type": "stream",
          "name": "stdout",
          "text": [
            "Requirement already satisfied: ipywidgets in /usr/local/lib/python3.11/dist-packages (7.7.1)\n",
            "Requirement already satisfied: ipykernel>=4.5.1 in /usr/local/lib/python3.11/dist-packages (from ipywidgets) (5.5.6)\n",
            "Requirement already satisfied: ipython-genutils~=0.2.0 in /usr/local/lib/python3.11/dist-packages (from ipywidgets) (0.2.0)\n",
            "Requirement already satisfied: traitlets>=4.3.1 in /usr/local/lib/python3.11/dist-packages (from ipywidgets) (5.7.1)\n",
            "Requirement already satisfied: widgetsnbextension~=3.6.0 in /usr/local/lib/python3.11/dist-packages (from ipywidgets) (3.6.10)\n",
            "Requirement already satisfied: ipython>=4.0.0 in /usr/local/lib/python3.11/dist-packages (from ipywidgets) (7.34.0)\n",
            "Requirement already satisfied: jupyterlab-widgets>=1.0.0 in /usr/local/lib/python3.11/dist-packages (from ipywidgets) (3.0.13)\n",
            "Requirement already satisfied: jupyter-client in /usr/local/lib/python3.11/dist-packages (from ipykernel>=4.5.1->ipywidgets) (6.1.12)\n",
            "Requirement already satisfied: tornado>=4.2 in /usr/local/lib/python3.11/dist-packages (from ipykernel>=4.5.1->ipywidgets) (6.3.3)\n",
            "Requirement already satisfied: setuptools>=18.5 in /usr/local/lib/python3.11/dist-packages (from ipython>=4.0.0->ipywidgets) (75.1.0)\n",
            "Collecting jedi>=0.16 (from ipython>=4.0.0->ipywidgets)\n",
            "  Downloading jedi-0.19.2-py2.py3-none-any.whl.metadata (22 kB)\n",
            "Requirement already satisfied: decorator in /usr/local/lib/python3.11/dist-packages (from ipython>=4.0.0->ipywidgets) (4.4.2)\n",
            "Requirement already satisfied: pickleshare in /usr/local/lib/python3.11/dist-packages (from ipython>=4.0.0->ipywidgets) (0.7.5)\n",
            "Requirement already satisfied: prompt-toolkit!=3.0.0,!=3.0.1,<3.1.0,>=2.0.0 in /usr/local/lib/python3.11/dist-packages (from ipython>=4.0.0->ipywidgets) (3.0.50)\n",
            "Requirement already satisfied: pygments in /usr/local/lib/python3.11/dist-packages (from ipython>=4.0.0->ipywidgets) (2.18.0)\n",
            "Requirement already satisfied: backcall in /usr/local/lib/python3.11/dist-packages (from ipython>=4.0.0->ipywidgets) (0.2.0)\n",
            "Requirement already satisfied: matplotlib-inline in /usr/local/lib/python3.11/dist-packages (from ipython>=4.0.0->ipywidgets) (0.1.7)\n",
            "Requirement already satisfied: pexpect>4.3 in /usr/local/lib/python3.11/dist-packages (from ipython>=4.0.0->ipywidgets) (4.9.0)\n",
            "Requirement already satisfied: notebook>=4.4.1 in /usr/local/lib/python3.11/dist-packages (from widgetsnbextension~=3.6.0->ipywidgets) (6.5.5)\n",
            "Requirement already satisfied: parso<0.9.0,>=0.8.4 in /usr/local/lib/python3.11/dist-packages (from jedi>=0.16->ipython>=4.0.0->ipywidgets) (0.8.4)\n",
            "Requirement already satisfied: jinja2 in /usr/local/lib/python3.11/dist-packages (from notebook>=4.4.1->widgetsnbextension~=3.6.0->ipywidgets) (3.1.5)\n",
            "Requirement already satisfied: pyzmq<25,>=17 in /usr/local/lib/python3.11/dist-packages (from notebook>=4.4.1->widgetsnbextension~=3.6.0->ipywidgets) (24.0.1)\n",
            "Requirement already satisfied: argon2-cffi in /usr/local/lib/python3.11/dist-packages (from notebook>=4.4.1->widgetsnbextension~=3.6.0->ipywidgets) (23.1.0)\n",
            "Requirement already satisfied: jupyter-core>=4.6.1 in /usr/local/lib/python3.11/dist-packages (from notebook>=4.4.1->widgetsnbextension~=3.6.0->ipywidgets) (5.7.2)\n",
            "Requirement already satisfied: nbformat in /usr/local/lib/python3.11/dist-packages (from notebook>=4.4.1->widgetsnbextension~=3.6.0->ipywidgets) (5.10.4)\n",
            "Requirement already satisfied: nbconvert>=5 in /usr/local/lib/python3.11/dist-packages (from notebook>=4.4.1->widgetsnbextension~=3.6.0->ipywidgets) (7.16.5)\n",
            "Requirement already satisfied: nest-asyncio>=1.5 in /usr/local/lib/python3.11/dist-packages (from notebook>=4.4.1->widgetsnbextension~=3.6.0->ipywidgets) (1.6.0)\n",
            "Requirement already satisfied: Send2Trash>=1.8.0 in /usr/local/lib/python3.11/dist-packages (from notebook>=4.4.1->widgetsnbextension~=3.6.0->ipywidgets) (1.8.3)\n",
            "Requirement already satisfied: terminado>=0.8.3 in /usr/local/lib/python3.11/dist-packages (from notebook>=4.4.1->widgetsnbextension~=3.6.0->ipywidgets) (0.18.1)\n",
            "Requirement already satisfied: prometheus-client in /usr/local/lib/python3.11/dist-packages (from notebook>=4.4.1->widgetsnbextension~=3.6.0->ipywidgets) (0.21.1)\n",
            "Requirement already satisfied: nbclassic>=0.4.7 in /usr/local/lib/python3.11/dist-packages (from notebook>=4.4.1->widgetsnbextension~=3.6.0->ipywidgets) (1.2.0)\n",
            "Requirement already satisfied: python-dateutil>=2.1 in /usr/local/lib/python3.11/dist-packages (from jupyter-client->ipykernel>=4.5.1->ipywidgets) (2.8.2)\n",
            "Requirement already satisfied: ptyprocess>=0.5 in /usr/local/lib/python3.11/dist-packages (from pexpect>4.3->ipython>=4.0.0->ipywidgets) (0.7.0)\n",
            "Requirement already satisfied: wcwidth in /usr/local/lib/python3.11/dist-packages (from prompt-toolkit!=3.0.0,!=3.0.1,<3.1.0,>=2.0.0->ipython>=4.0.0->ipywidgets) (0.2.13)\n",
            "Requirement already satisfied: platformdirs>=2.5 in /usr/local/lib/python3.11/dist-packages (from jupyter-core>=4.6.1->notebook>=4.4.1->widgetsnbextension~=3.6.0->ipywidgets) (4.3.6)\n",
            "Requirement already satisfied: notebook-shim>=0.2.3 in /usr/local/lib/python3.11/dist-packages (from nbclassic>=0.4.7->notebook>=4.4.1->widgetsnbextension~=3.6.0->ipywidgets) (0.2.4)\n",
            "Requirement already satisfied: beautifulsoup4 in /usr/local/lib/python3.11/dist-packages (from nbconvert>=5->notebook>=4.4.1->widgetsnbextension~=3.6.0->ipywidgets) (4.12.3)\n",
            "Requirement already satisfied: bleach!=5.0.0 in /usr/local/lib/python3.11/dist-packages (from bleach[css]!=5.0.0->nbconvert>=5->notebook>=4.4.1->widgetsnbextension~=3.6.0->ipywidgets) (6.2.0)\n",
            "Requirement already satisfied: defusedxml in /usr/local/lib/python3.11/dist-packages (from nbconvert>=5->notebook>=4.4.1->widgetsnbextension~=3.6.0->ipywidgets) (0.7.1)\n",
            "Requirement already satisfied: jupyterlab-pygments in /usr/local/lib/python3.11/dist-packages (from nbconvert>=5->notebook>=4.4.1->widgetsnbextension~=3.6.0->ipywidgets) (0.3.0)\n",
            "Requirement already satisfied: markupsafe>=2.0 in /usr/local/lib/python3.11/dist-packages (from nbconvert>=5->notebook>=4.4.1->widgetsnbextension~=3.6.0->ipywidgets) (3.0.2)\n",
            "Requirement already satisfied: mistune<4,>=2.0.3 in /usr/local/lib/python3.11/dist-packages (from nbconvert>=5->notebook>=4.4.1->widgetsnbextension~=3.6.0->ipywidgets) (3.1.0)\n",
            "Requirement already satisfied: nbclient>=0.5.0 in /usr/local/lib/python3.11/dist-packages (from nbconvert>=5->notebook>=4.4.1->widgetsnbextension~=3.6.0->ipywidgets) (0.10.2)\n",
            "Requirement already satisfied: packaging in /usr/local/lib/python3.11/dist-packages (from nbconvert>=5->notebook>=4.4.1->widgetsnbextension~=3.6.0->ipywidgets) (24.2)\n",
            "Requirement already satisfied: pandocfilters>=1.4.1 in /usr/local/lib/python3.11/dist-packages (from nbconvert>=5->notebook>=4.4.1->widgetsnbextension~=3.6.0->ipywidgets) (1.5.1)\n",
            "Requirement already satisfied: fastjsonschema>=2.15 in /usr/local/lib/python3.11/dist-packages (from nbformat->notebook>=4.4.1->widgetsnbextension~=3.6.0->ipywidgets) (2.21.1)\n",
            "Requirement already satisfied: jsonschema>=2.6 in /usr/local/lib/python3.11/dist-packages (from nbformat->notebook>=4.4.1->widgetsnbextension~=3.6.0->ipywidgets) (4.23.0)\n",
            "Requirement already satisfied: six>=1.5 in /usr/local/lib/python3.11/dist-packages (from python-dateutil>=2.1->jupyter-client->ipykernel>=4.5.1->ipywidgets) (1.17.0)\n",
            "Requirement already satisfied: argon2-cffi-bindings in /usr/local/lib/python3.11/dist-packages (from argon2-cffi->notebook>=4.4.1->widgetsnbextension~=3.6.0->ipywidgets) (21.2.0)\n",
            "Requirement already satisfied: webencodings in /usr/local/lib/python3.11/dist-packages (from bleach!=5.0.0->bleach[css]!=5.0.0->nbconvert>=5->notebook>=4.4.1->widgetsnbextension~=3.6.0->ipywidgets) (0.5.1)\n",
            "Requirement already satisfied: tinycss2<1.5,>=1.1.0 in /usr/local/lib/python3.11/dist-packages (from bleach[css]!=5.0.0->nbconvert>=5->notebook>=4.4.1->widgetsnbextension~=3.6.0->ipywidgets) (1.4.0)\n",
            "Requirement already satisfied: attrs>=22.2.0 in /usr/local/lib/python3.11/dist-packages (from jsonschema>=2.6->nbformat->notebook>=4.4.1->widgetsnbextension~=3.6.0->ipywidgets) (24.3.0)\n",
            "Requirement already satisfied: jsonschema-specifications>=2023.03.6 in /usr/local/lib/python3.11/dist-packages (from jsonschema>=2.6->nbformat->notebook>=4.4.1->widgetsnbextension~=3.6.0->ipywidgets) (2024.10.1)\n",
            "Requirement already satisfied: referencing>=0.28.4 in /usr/local/lib/python3.11/dist-packages (from jsonschema>=2.6->nbformat->notebook>=4.4.1->widgetsnbextension~=3.6.0->ipywidgets) (0.36.1)\n",
            "Requirement already satisfied: rpds-py>=0.7.1 in /usr/local/lib/python3.11/dist-packages (from jsonschema>=2.6->nbformat->notebook>=4.4.1->widgetsnbextension~=3.6.0->ipywidgets) (0.22.3)\n",
            "Requirement already satisfied: jupyter-server<3,>=1.8 in /usr/local/lib/python3.11/dist-packages (from notebook-shim>=0.2.3->nbclassic>=0.4.7->notebook>=4.4.1->widgetsnbextension~=3.6.0->ipywidgets) (1.24.0)\n",
            "Requirement already satisfied: cffi>=1.0.1 in /usr/local/lib/python3.11/dist-packages (from argon2-cffi-bindings->argon2-cffi->notebook>=4.4.1->widgetsnbextension~=3.6.0->ipywidgets) (1.17.1)\n",
            "Requirement already satisfied: soupsieve>1.2 in /usr/local/lib/python3.11/dist-packages (from beautifulsoup4->nbconvert>=5->notebook>=4.4.1->widgetsnbextension~=3.6.0->ipywidgets) (2.6)\n",
            "Requirement already satisfied: pycparser in /usr/local/lib/python3.11/dist-packages (from cffi>=1.0.1->argon2-cffi-bindings->argon2-cffi->notebook>=4.4.1->widgetsnbextension~=3.6.0->ipywidgets) (2.22)\n",
            "Requirement already satisfied: anyio<4,>=3.1.0 in /usr/local/lib/python3.11/dist-packages (from jupyter-server<3,>=1.8->notebook-shim>=0.2.3->nbclassic>=0.4.7->notebook>=4.4.1->widgetsnbextension~=3.6.0->ipywidgets) (3.7.1)\n",
            "Requirement already satisfied: websocket-client in /usr/local/lib/python3.11/dist-packages (from jupyter-server<3,>=1.8->notebook-shim>=0.2.3->nbclassic>=0.4.7->notebook>=4.4.1->widgetsnbextension~=3.6.0->ipywidgets) (1.8.0)\n",
            "Requirement already satisfied: typing-extensions>=4.4.0 in /usr/local/lib/python3.11/dist-packages (from referencing>=0.28.4->jsonschema>=2.6->nbformat->notebook>=4.4.1->widgetsnbextension~=3.6.0->ipywidgets) (4.12.2)\n",
            "Requirement already satisfied: idna>=2.8 in /usr/local/lib/python3.11/dist-packages (from anyio<4,>=3.1.0->jupyter-server<3,>=1.8->notebook-shim>=0.2.3->nbclassic>=0.4.7->notebook>=4.4.1->widgetsnbextension~=3.6.0->ipywidgets) (3.10)\n",
            "Requirement already satisfied: sniffio>=1.1 in /usr/local/lib/python3.11/dist-packages (from anyio<4,>=3.1.0->jupyter-server<3,>=1.8->notebook-shim>=0.2.3->nbclassic>=0.4.7->notebook>=4.4.1->widgetsnbextension~=3.6.0->ipywidgets) (1.3.1)\n",
            "Downloading jedi-0.19.2-py2.py3-none-any.whl (1.6 MB)\n",
            "\u001b[2K   \u001b[90m━━━━━━━━━━━━━━━━━━━━━━━━━━━━━━━━━━━━━━━━\u001b[0m \u001b[32m1.6/1.6 MB\u001b[0m \u001b[31m24.9 MB/s\u001b[0m eta \u001b[36m0:00:00\u001b[0m\n",
            "\u001b[?25hInstalling collected packages: jedi\n",
            "Successfully installed jedi-0.19.2\n",
            "Collecting opendatasets\n",
            "  Downloading opendatasets-0.1.22-py3-none-any.whl.metadata (9.2 kB)\n",
            "Requirement already satisfied: tqdm in /usr/local/lib/python3.11/dist-packages (from opendatasets) (4.67.1)\n",
            "Requirement already satisfied: kaggle in /usr/local/lib/python3.11/dist-packages (from opendatasets) (1.6.17)\n",
            "Requirement already satisfied: click in /usr/local/lib/python3.11/dist-packages (from opendatasets) (8.1.8)\n",
            "Requirement already satisfied: six>=1.10 in /usr/local/lib/python3.11/dist-packages (from kaggle->opendatasets) (1.17.0)\n",
            "Requirement already satisfied: certifi>=2023.7.22 in /usr/local/lib/python3.11/dist-packages (from kaggle->opendatasets) (2024.12.14)\n",
            "Requirement already satisfied: python-dateutil in /usr/local/lib/python3.11/dist-packages (from kaggle->opendatasets) (2.8.2)\n",
            "Requirement already satisfied: requests in /usr/local/lib/python3.11/dist-packages (from kaggle->opendatasets) (2.32.3)\n",
            "Requirement already satisfied: python-slugify in /usr/local/lib/python3.11/dist-packages (from kaggle->opendatasets) (8.0.4)\n",
            "Requirement already satisfied: urllib3 in /usr/local/lib/python3.11/dist-packages (from kaggle->opendatasets) (2.3.0)\n",
            "Requirement already satisfied: bleach in /usr/local/lib/python3.11/dist-packages (from kaggle->opendatasets) (6.2.0)\n",
            "Requirement already satisfied: webencodings in /usr/local/lib/python3.11/dist-packages (from bleach->kaggle->opendatasets) (0.5.1)\n",
            "Requirement already satisfied: text-unidecode>=1.3 in /usr/local/lib/python3.11/dist-packages (from python-slugify->kaggle->opendatasets) (1.3)\n",
            "Requirement already satisfied: charset-normalizer<4,>=2 in /usr/local/lib/python3.11/dist-packages (from requests->kaggle->opendatasets) (3.4.1)\n",
            "Requirement already satisfied: idna<4,>=2.5 in /usr/local/lib/python3.11/dist-packages (from requests->kaggle->opendatasets) (3.10)\n",
            "Downloading opendatasets-0.1.22-py3-none-any.whl (15 kB)\n",
            "Installing collected packages: opendatasets\n",
            "Successfully installed opendatasets-0.1.22\n"
          ]
        }
      ]
    },
    {
      "cell_type": "code",
      "source": [
        "import re\n",
        "from pathlib import Path\n",
        "from typing import Optional, Tuple\n",
        "\n",
        "import ipywidgets as widgets\n",
        "import numpy as np\n",
        "import matplotlib.pyplot as plt\n",
        "import opendatasets as od\n",
        "import pandas as pd\n",
        "import seaborn as sns\n",
        "import torch\n",
        "from IPython.display import display\n",
        "from sklearn.model_selection import train_test_split\n",
        "from transformers import BertTokenizer, BertModel\n",
        "from transformers import BertForSequenceClassification\n",
        "from torch.utils.data import DataLoader, Dataset\n",
        "from torch import nn, optim\n",
        "from tqdm import tqdm\n"
      ],
      "metadata": {
        "id": "_Cdzag_425lB"
      },
      "execution_count": null,
      "outputs": []
    },
    {
      "cell_type": "markdown",
      "source": [
        "## <h1 id=\"aa\" style=\"color:white;background:#B00000;padding:8px;border-radius:8px;font-family:newtimeroman;\"> Checking the GPU environment </h1>"
      ],
      "metadata": {
        "id": "nKEnxYwa3O0T"
      }
    },
    {
      "cell_type": "code",
      "source": [
        "!nvidia-smi"
      ],
      "metadata": {
        "id": "iJIev9kR3QEB",
        "colab": {
          "base_uri": "https://localhost:8080/"
        },
        "outputId": "dd619e75-e847-4cbc-a3f8-6533bde6044b"
      },
      "execution_count": null,
      "outputs": [
        {
          "output_type": "stream",
          "name": "stdout",
          "text": [
            "Sat Jan 25 11:51:53 2025       \n",
            "+---------------------------------------------------------------------------------------+\n",
            "| NVIDIA-SMI 535.104.05             Driver Version: 535.104.05   CUDA Version: 12.2     |\n",
            "|-----------------------------------------+----------------------+----------------------+\n",
            "| GPU  Name                 Persistence-M | Bus-Id        Disp.A | Volatile Uncorr. ECC |\n",
            "| Fan  Temp   Perf          Pwr:Usage/Cap |         Memory-Usage | GPU-Util  Compute M. |\n",
            "|                                         |                      |               MIG M. |\n",
            "|=========================================+======================+======================|\n",
            "|   0  Tesla T4                       Off | 00000000:00:04.0 Off |                    0 |\n",
            "| N/A   65C    P8              11W /  70W |      0MiB / 15360MiB |      0%      Default |\n",
            "|                                         |                      |                  N/A |\n",
            "+-----------------------------------------+----------------------+----------------------+\n",
            "                                                                                         \n",
            "+---------------------------------------------------------------------------------------+\n",
            "| Processes:                                                                            |\n",
            "|  GPU   GI   CI        PID   Type   Process name                            GPU Memory |\n",
            "|        ID   ID                                                             Usage      |\n",
            "|=======================================================================================|\n",
            "|  No running processes found                                                           |\n",
            "+---------------------------------------------------------------------------------------+\n"
          ]
        }
      ]
    },
    {
      "cell_type": "code",
      "execution_count": null,
      "metadata": {
        "id": "50c-XYRt-Wb9",
        "colab": {
          "base_uri": "https://localhost:8080/"
        },
        "outputId": "37db421e-9d0e-42c5-a708-3c53c8fa1b4a"
      },
      "outputs": [
        {
          "output_type": "execute_result",
          "data": {
            "text/plain": [
              "True"
            ]
          },
          "metadata": {},
          "execution_count": 4
        }
      ],
      "source": [
        "torch.cuda.is_available()"
      ]
    },
    {
      "cell_type": "markdown",
      "source": [
        "## <h1 id=\"aa\" style=\"color:white;background:#B00000;padding:8px;border-radius:8px;font-family:newtimeroman;\"> Data download and EDA </h1>"
      ],
      "metadata": {
        "id": "D86KhrhC3R1W"
      }
    },
    {
      "cell_type": "code",
      "source": [
        "dataset_path = Path('19-000-russian-poems', 'poems.csv')\n",
        "if not dataset_path.is_file():\n",
        "    od.download('https://www.kaggle.com/datasets/grafstor/19-000-russian-poems')\n",
        "\n",
        "data = pd.read_csv(dataset_path)\n",
        "\n",
        "def clean_text(text):\n",
        "    if pd.isna(text) or not isinstance(text, str):\n",
        "          return ''\n",
        "    text = text.replace('\\n', ' ')\n",
        "    text = re.sub(r'[^\\w\\s]', '', text)\n",
        "    text = re.sub(r'\\s+', ' ', text)\n",
        "    text = text.replace('\\u2003', '')\n",
        "    text = text.replace('1', '').replace('i', '')\n",
        "    text = text.replace('ѣ', 'е')\n",
        "    text = text.lower()\n",
        "    return text\n",
        "data['text'] = data['text'].apply(clean_text)\n",
        "data = data[data['text'].str.strip() != '']\n",
        "data = data.dropna(subset=['text'])\n",
        "\n",
        "data\n"
      ],
      "metadata": {
        "colab": {
          "base_uri": "https://localhost:8080/",
          "height": 545
        },
        "id": "ni9d_7pz3Tuz",
        "outputId": "1c51011c-ce15-4fd1-b759-7f14b94b57d9"
      },
      "execution_count": null,
      "outputs": [
        {
          "output_type": "stream",
          "name": "stdout",
          "text": [
            "Please provide your Kaggle credentials to download this dataset. Learn more: http://bit.ly/kaggle-creds\n",
            "Your Kaggle username: norgey\n",
            "Your Kaggle Key: ··········\n",
            "Dataset URL: https://www.kaggle.com/datasets/grafstor/19-000-russian-poems\n",
            "Downloading 19-000-russian-poems.zip to ./19-000-russian-poems\n"
          ]
        },
        {
          "output_type": "stream",
          "name": "stderr",
          "text": [
            "100%|██████████| 13.3M/13.3M [00:00<00:00, 85.8MB/s]"
          ]
        },
        {
          "output_type": "stream",
          "name": "stdout",
          "text": [
            "\n"
          ]
        },
        {
          "output_type": "stream",
          "name": "stderr",
          "text": [
            "\n"
          ]
        },
        {
          "output_type": "execute_result",
          "data": {
            "text/plain": [
              "                                 writer  \\\n",
              "1              Лермонтов Михаил Юрьевич   \n",
              "2              Лермонтов Михаил Юрьевич   \n",
              "3              Лермонтов Михаил Юрьевич   \n",
              "4              Лермонтов Михаил Юрьевич   \n",
              "5              Лермонтов Михаил Юрьевич   \n",
              "...                                 ...   \n",
              "19311  Владислав Фелицианович Ходасевич   \n",
              "19312  Владислав Фелицианович Ходасевич   \n",
              "19313  Владислав Фелицианович Ходасевич   \n",
              "19314  Владислав Фелицианович Ходасевич   \n",
              "19315  Владислав Фелицианович Ходасевич   \n",
              "\n",
              "                                            poem  \\\n",
              "1                           На серебряные шпоры…   \n",
              "2                      Вид гор из степей Козлова   \n",
              "3         К  (О, не скрывай! Ты плакала об нем…)   \n",
              "4      Жалобы турка (письмо к другу, иностранцу)   \n",
              "5                                  К кн. Л. Г-ой   \n",
              "...                                          ...   \n",
              "19311                                   Прогулка   \n",
              "19312                                   Пробочка   \n",
              "19313         Друзья, друзья! Быть может, скоро…   \n",
              "19314               Увы, дитя! Душе неутоленной…   \n",
              "19315                       Изломала, одолевает…   \n",
              "\n",
              "                                                    text  \n",
              "1      на серебряные шпоры я в раздумии гляжу за тебя...  \n",
              "2      пилигрим аллах ли там среди пустыни застывших ...  \n",
              "3      о не скрывай ты плакала об нем и я его люблю о...  \n",
              "4      ты знал ли дикий край под знойными лучами где ...  \n",
              "5      когда ты холодно внимаешь рассказам горести чу...  \n",
              "...                                                  ...  \n",
              "19311  хорошо что в этом мире есть магические ночи ме...  \n",
              "19312  пробочка над крепким иодом как ты скоро перетл...  \n",
              "19313  друзья друзья быть может скоро и не во сне а н...  \n",
              "19314  увы дитя душе неутоленной не снишься ль ты нев...  \n",
              "19315  изломала одолевает нестерпимая скука с утра чь...  \n",
              "\n",
              "[19302 rows x 3 columns]"
            ],
            "text/html": [
              "\n",
              "  <div id=\"df-dac8ea68-c712-45f1-a8b6-77a80c46f1db\" class=\"colab-df-container\">\n",
              "    <div>\n",
              "<style scoped>\n",
              "    .dataframe tbody tr th:only-of-type {\n",
              "        vertical-align: middle;\n",
              "    }\n",
              "\n",
              "    .dataframe tbody tr th {\n",
              "        vertical-align: top;\n",
              "    }\n",
              "\n",
              "    .dataframe thead th {\n",
              "        text-align: right;\n",
              "    }\n",
              "</style>\n",
              "<table border=\"1\" class=\"dataframe\">\n",
              "  <thead>\n",
              "    <tr style=\"text-align: right;\">\n",
              "      <th></th>\n",
              "      <th>writer</th>\n",
              "      <th>poem</th>\n",
              "      <th>text</th>\n",
              "    </tr>\n",
              "  </thead>\n",
              "  <tbody>\n",
              "    <tr>\n",
              "      <th>1</th>\n",
              "      <td>Лермонтов Михаил Юрьевич</td>\n",
              "      <td>На серебряные шпоры…</td>\n",
              "      <td>на серебряные шпоры я в раздумии гляжу за тебя...</td>\n",
              "    </tr>\n",
              "    <tr>\n",
              "      <th>2</th>\n",
              "      <td>Лермонтов Михаил Юрьевич</td>\n",
              "      <td>Вид гор из степей Козлова</td>\n",
              "      <td>пилигрим аллах ли там среди пустыни застывших ...</td>\n",
              "    </tr>\n",
              "    <tr>\n",
              "      <th>3</th>\n",
              "      <td>Лермонтов Михаил Юрьевич</td>\n",
              "      <td>К  (О, не скрывай! Ты плакала об нем…)</td>\n",
              "      <td>о не скрывай ты плакала об нем и я его люблю о...</td>\n",
              "    </tr>\n",
              "    <tr>\n",
              "      <th>4</th>\n",
              "      <td>Лермонтов Михаил Юрьевич</td>\n",
              "      <td>Жалобы турка (письмо к другу, иностранцу)</td>\n",
              "      <td>ты знал ли дикий край под знойными лучами где ...</td>\n",
              "    </tr>\n",
              "    <tr>\n",
              "      <th>5</th>\n",
              "      <td>Лермонтов Михаил Юрьевич</td>\n",
              "      <td>К кн. Л. Г-ой</td>\n",
              "      <td>когда ты холодно внимаешь рассказам горести чу...</td>\n",
              "    </tr>\n",
              "    <tr>\n",
              "      <th>...</th>\n",
              "      <td>...</td>\n",
              "      <td>...</td>\n",
              "      <td>...</td>\n",
              "    </tr>\n",
              "    <tr>\n",
              "      <th>19311</th>\n",
              "      <td>Владислав Фелицианович Ходасевич</td>\n",
              "      <td>Прогулка</td>\n",
              "      <td>хорошо что в этом мире есть магические ночи ме...</td>\n",
              "    </tr>\n",
              "    <tr>\n",
              "      <th>19312</th>\n",
              "      <td>Владислав Фелицианович Ходасевич</td>\n",
              "      <td>Пробочка</td>\n",
              "      <td>пробочка над крепким иодом как ты скоро перетл...</td>\n",
              "    </tr>\n",
              "    <tr>\n",
              "      <th>19313</th>\n",
              "      <td>Владислав Фелицианович Ходасевич</td>\n",
              "      <td>Друзья, друзья! Быть может, скоро…</td>\n",
              "      <td>друзья друзья быть может скоро и не во сне а н...</td>\n",
              "    </tr>\n",
              "    <tr>\n",
              "      <th>19314</th>\n",
              "      <td>Владислав Фелицианович Ходасевич</td>\n",
              "      <td>Увы, дитя! Душе неутоленной…</td>\n",
              "      <td>увы дитя душе неутоленной не снишься ль ты нев...</td>\n",
              "    </tr>\n",
              "    <tr>\n",
              "      <th>19315</th>\n",
              "      <td>Владислав Фелицианович Ходасевич</td>\n",
              "      <td>Изломала, одолевает…</td>\n",
              "      <td>изломала одолевает нестерпимая скука с утра чь...</td>\n",
              "    </tr>\n",
              "  </tbody>\n",
              "</table>\n",
              "<p>19302 rows × 3 columns</p>\n",
              "</div>\n",
              "    <div class=\"colab-df-buttons\">\n",
              "\n",
              "  <div class=\"colab-df-container\">\n",
              "    <button class=\"colab-df-convert\" onclick=\"convertToInteractive('df-dac8ea68-c712-45f1-a8b6-77a80c46f1db')\"\n",
              "            title=\"Convert this dataframe to an interactive table.\"\n",
              "            style=\"display:none;\">\n",
              "\n",
              "  <svg xmlns=\"http://www.w3.org/2000/svg\" height=\"24px\" viewBox=\"0 -960 960 960\">\n",
              "    <path d=\"M120-120v-720h720v720H120Zm60-500h600v-160H180v160Zm220 220h160v-160H400v160Zm0 220h160v-160H400v160ZM180-400h160v-160H180v160Zm440 0h160v-160H620v160ZM180-180h160v-160H180v160Zm440 0h160v-160H620v160Z\"/>\n",
              "  </svg>\n",
              "    </button>\n",
              "\n",
              "  <style>\n",
              "    .colab-df-container {\n",
              "      display:flex;\n",
              "      gap: 12px;\n",
              "    }\n",
              "\n",
              "    .colab-df-convert {\n",
              "      background-color: #E8F0FE;\n",
              "      border: none;\n",
              "      border-radius: 50%;\n",
              "      cursor: pointer;\n",
              "      display: none;\n",
              "      fill: #1967D2;\n",
              "      height: 32px;\n",
              "      padding: 0 0 0 0;\n",
              "      width: 32px;\n",
              "    }\n",
              "\n",
              "    .colab-df-convert:hover {\n",
              "      background-color: #E2EBFA;\n",
              "      box-shadow: 0px 1px 2px rgba(60, 64, 67, 0.3), 0px 1px 3px 1px rgba(60, 64, 67, 0.15);\n",
              "      fill: #174EA6;\n",
              "    }\n",
              "\n",
              "    .colab-df-buttons div {\n",
              "      margin-bottom: 4px;\n",
              "    }\n",
              "\n",
              "    [theme=dark] .colab-df-convert {\n",
              "      background-color: #3B4455;\n",
              "      fill: #D2E3FC;\n",
              "    }\n",
              "\n",
              "    [theme=dark] .colab-df-convert:hover {\n",
              "      background-color: #434B5C;\n",
              "      box-shadow: 0px 1px 3px 1px rgba(0, 0, 0, 0.15);\n",
              "      filter: drop-shadow(0px 1px 2px rgba(0, 0, 0, 0.3));\n",
              "      fill: #FFFFFF;\n",
              "    }\n",
              "  </style>\n",
              "\n",
              "    <script>\n",
              "      const buttonEl =\n",
              "        document.querySelector('#df-dac8ea68-c712-45f1-a8b6-77a80c46f1db button.colab-df-convert');\n",
              "      buttonEl.style.display =\n",
              "        google.colab.kernel.accessAllowed ? 'block' : 'none';\n",
              "\n",
              "      async function convertToInteractive(key) {\n",
              "        const element = document.querySelector('#df-dac8ea68-c712-45f1-a8b6-77a80c46f1db');\n",
              "        const dataTable =\n",
              "          await google.colab.kernel.invokeFunction('convertToInteractive',\n",
              "                                                    [key], {});\n",
              "        if (!dataTable) return;\n",
              "\n",
              "        const docLinkHtml = 'Like what you see? Visit the ' +\n",
              "          '<a target=\"_blank\" href=https://colab.research.google.com/notebooks/data_table.ipynb>data table notebook</a>'\n",
              "          + ' to learn more about interactive tables.';\n",
              "        element.innerHTML = '';\n",
              "        dataTable['output_type'] = 'display_data';\n",
              "        await google.colab.output.renderOutput(dataTable, element);\n",
              "        const docLink = document.createElement('div');\n",
              "        docLink.innerHTML = docLinkHtml;\n",
              "        element.appendChild(docLink);\n",
              "      }\n",
              "    </script>\n",
              "  </div>\n",
              "\n",
              "\n",
              "<div id=\"df-4e86b5f0-4673-4394-b46a-803a2e8e2ea9\">\n",
              "  <button class=\"colab-df-quickchart\" onclick=\"quickchart('df-4e86b5f0-4673-4394-b46a-803a2e8e2ea9')\"\n",
              "            title=\"Suggest charts\"\n",
              "            style=\"display:none;\">\n",
              "\n",
              "<svg xmlns=\"http://www.w3.org/2000/svg\" height=\"24px\"viewBox=\"0 0 24 24\"\n",
              "     width=\"24px\">\n",
              "    <g>\n",
              "        <path d=\"M19 3H5c-1.1 0-2 .9-2 2v14c0 1.1.9 2 2 2h14c1.1 0 2-.9 2-2V5c0-1.1-.9-2-2-2zM9 17H7v-7h2v7zm4 0h-2V7h2v10zm4 0h-2v-4h2v4z\"/>\n",
              "    </g>\n",
              "</svg>\n",
              "  </button>\n",
              "\n",
              "<style>\n",
              "  .colab-df-quickchart {\n",
              "      --bg-color: #E8F0FE;\n",
              "      --fill-color: #1967D2;\n",
              "      --hover-bg-color: #E2EBFA;\n",
              "      --hover-fill-color: #174EA6;\n",
              "      --disabled-fill-color: #AAA;\n",
              "      --disabled-bg-color: #DDD;\n",
              "  }\n",
              "\n",
              "  [theme=dark] .colab-df-quickchart {\n",
              "      --bg-color: #3B4455;\n",
              "      --fill-color: #D2E3FC;\n",
              "      --hover-bg-color: #434B5C;\n",
              "      --hover-fill-color: #FFFFFF;\n",
              "      --disabled-bg-color: #3B4455;\n",
              "      --disabled-fill-color: #666;\n",
              "  }\n",
              "\n",
              "  .colab-df-quickchart {\n",
              "    background-color: var(--bg-color);\n",
              "    border: none;\n",
              "    border-radius: 50%;\n",
              "    cursor: pointer;\n",
              "    display: none;\n",
              "    fill: var(--fill-color);\n",
              "    height: 32px;\n",
              "    padding: 0;\n",
              "    width: 32px;\n",
              "  }\n",
              "\n",
              "  .colab-df-quickchart:hover {\n",
              "    background-color: var(--hover-bg-color);\n",
              "    box-shadow: 0 1px 2px rgba(60, 64, 67, 0.3), 0 1px 3px 1px rgba(60, 64, 67, 0.15);\n",
              "    fill: var(--button-hover-fill-color);\n",
              "  }\n",
              "\n",
              "  .colab-df-quickchart-complete:disabled,\n",
              "  .colab-df-quickchart-complete:disabled:hover {\n",
              "    background-color: var(--disabled-bg-color);\n",
              "    fill: var(--disabled-fill-color);\n",
              "    box-shadow: none;\n",
              "  }\n",
              "\n",
              "  .colab-df-spinner {\n",
              "    border: 2px solid var(--fill-color);\n",
              "    border-color: transparent;\n",
              "    border-bottom-color: var(--fill-color);\n",
              "    animation:\n",
              "      spin 1s steps(1) infinite;\n",
              "  }\n",
              "\n",
              "  @keyframes spin {\n",
              "    0% {\n",
              "      border-color: transparent;\n",
              "      border-bottom-color: var(--fill-color);\n",
              "      border-left-color: var(--fill-color);\n",
              "    }\n",
              "    20% {\n",
              "      border-color: transparent;\n",
              "      border-left-color: var(--fill-color);\n",
              "      border-top-color: var(--fill-color);\n",
              "    }\n",
              "    30% {\n",
              "      border-color: transparent;\n",
              "      border-left-color: var(--fill-color);\n",
              "      border-top-color: var(--fill-color);\n",
              "      border-right-color: var(--fill-color);\n",
              "    }\n",
              "    40% {\n",
              "      border-color: transparent;\n",
              "      border-right-color: var(--fill-color);\n",
              "      border-top-color: var(--fill-color);\n",
              "    }\n",
              "    60% {\n",
              "      border-color: transparent;\n",
              "      border-right-color: var(--fill-color);\n",
              "    }\n",
              "    80% {\n",
              "      border-color: transparent;\n",
              "      border-right-color: var(--fill-color);\n",
              "      border-bottom-color: var(--fill-color);\n",
              "    }\n",
              "    90% {\n",
              "      border-color: transparent;\n",
              "      border-bottom-color: var(--fill-color);\n",
              "    }\n",
              "  }\n",
              "</style>\n",
              "\n",
              "  <script>\n",
              "    async function quickchart(key) {\n",
              "      const quickchartButtonEl =\n",
              "        document.querySelector('#' + key + ' button');\n",
              "      quickchartButtonEl.disabled = true;  // To prevent multiple clicks.\n",
              "      quickchartButtonEl.classList.add('colab-df-spinner');\n",
              "      try {\n",
              "        const charts = await google.colab.kernel.invokeFunction(\n",
              "            'suggestCharts', [key], {});\n",
              "      } catch (error) {\n",
              "        console.error('Error during call to suggestCharts:', error);\n",
              "      }\n",
              "      quickchartButtonEl.classList.remove('colab-df-spinner');\n",
              "      quickchartButtonEl.classList.add('colab-df-quickchart-complete');\n",
              "    }\n",
              "    (() => {\n",
              "      let quickchartButtonEl =\n",
              "        document.querySelector('#df-4e86b5f0-4673-4394-b46a-803a2e8e2ea9 button');\n",
              "      quickchartButtonEl.style.display =\n",
              "        google.colab.kernel.accessAllowed ? 'block' : 'none';\n",
              "    })();\n",
              "  </script>\n",
              "</div>\n",
              "\n",
              "  <div id=\"id_2c0ee89a-5c0d-4dca-80ed-caf507418938\">\n",
              "    <style>\n",
              "      .colab-df-generate {\n",
              "        background-color: #E8F0FE;\n",
              "        border: none;\n",
              "        border-radius: 50%;\n",
              "        cursor: pointer;\n",
              "        display: none;\n",
              "        fill: #1967D2;\n",
              "        height: 32px;\n",
              "        padding: 0 0 0 0;\n",
              "        width: 32px;\n",
              "      }\n",
              "\n",
              "      .colab-df-generate:hover {\n",
              "        background-color: #E2EBFA;\n",
              "        box-shadow: 0px 1px 2px rgba(60, 64, 67, 0.3), 0px 1px 3px 1px rgba(60, 64, 67, 0.15);\n",
              "        fill: #174EA6;\n",
              "      }\n",
              "\n",
              "      [theme=dark] .colab-df-generate {\n",
              "        background-color: #3B4455;\n",
              "        fill: #D2E3FC;\n",
              "      }\n",
              "\n",
              "      [theme=dark] .colab-df-generate:hover {\n",
              "        background-color: #434B5C;\n",
              "        box-shadow: 0px 1px 3px 1px rgba(0, 0, 0, 0.15);\n",
              "        filter: drop-shadow(0px 1px 2px rgba(0, 0, 0, 0.3));\n",
              "        fill: #FFFFFF;\n",
              "      }\n",
              "    </style>\n",
              "    <button class=\"colab-df-generate\" onclick=\"generateWithVariable('data')\"\n",
              "            title=\"Generate code using this dataframe.\"\n",
              "            style=\"display:none;\">\n",
              "\n",
              "  <svg xmlns=\"http://www.w3.org/2000/svg\" height=\"24px\"viewBox=\"0 0 24 24\"\n",
              "       width=\"24px\">\n",
              "    <path d=\"M7,19H8.4L18.45,9,17,7.55,7,17.6ZM5,21V16.75L18.45,3.32a2,2,0,0,1,2.83,0l1.4,1.43a1.91,1.91,0,0,1,.58,1.4,1.91,1.91,0,0,1-.58,1.4L9.25,21ZM18.45,9,17,7.55Zm-12,3A5.31,5.31,0,0,0,4.9,8.1,5.31,5.31,0,0,0,1,6.5,5.31,5.31,0,0,0,4.9,4.9,5.31,5.31,0,0,0,6.5,1,5.31,5.31,0,0,0,8.1,4.9,5.31,5.31,0,0,0,12,6.5,5.46,5.46,0,0,0,6.5,12Z\"/>\n",
              "  </svg>\n",
              "    </button>\n",
              "    <script>\n",
              "      (() => {\n",
              "      const buttonEl =\n",
              "        document.querySelector('#id_2c0ee89a-5c0d-4dca-80ed-caf507418938 button.colab-df-generate');\n",
              "      buttonEl.style.display =\n",
              "        google.colab.kernel.accessAllowed ? 'block' : 'none';\n",
              "\n",
              "      buttonEl.onclick = () => {\n",
              "        google.colab.notebook.generateWithVariable('data');\n",
              "      }\n",
              "      })();\n",
              "    </script>\n",
              "  </div>\n",
              "\n",
              "    </div>\n",
              "  </div>\n"
            ],
            "application/vnd.google.colaboratory.intrinsic+json": {
              "type": "dataframe",
              "variable_name": "data",
              "summary": "{\n  \"name\": \"data\",\n  \"rows\": 19302,\n  \"fields\": [\n    {\n      \"column\": \"writer\",\n      \"properties\": {\n        \"dtype\": \"category\",\n        \"num_unique_values\": 48,\n        \"samples\": [\n          \"\\u041f\\u0430\\u0432\\u0435\\u043b \\u0410\\u043b\\u0435\\u043a\\u0441\\u0430\\u043d\\u0434\\u0440\\u043e\\u0432\\u0438\\u0447 \\u041a\\u0430\\u0442\\u0435\\u043d\\u0438\\u043d\",\n          \"\\u0422\\u043e\\u043b\\u0441\\u0442\\u043e\\u0439 \\u0410\\u043b\\u0435\\u043a\\u0441\\u0435\\u0439 \\u041a\\u043e\\u043d\\u0441\\u0442\\u0430\\u043d\\u0442\\u0438\\u043d\\u043e\\u0432\\u0438\\u0447\",\n          \"\\u0413\\u0430\\u043b\\u0438\\u043d\\u0430 \\u0413\\u0430\\u043b\\u0438\\u043d\\u0430\"\n        ],\n        \"semantic_type\": \"\",\n        \"description\": \"\"\n      }\n    },\n    {\n      \"column\": \"poem\",\n      \"properties\": {\n        \"dtype\": \"string\",\n        \"num_unique_values\": 18303,\n        \"samples\": [\n          \"\\u042f \\u043b\\u044e\\u0431\\u043b\\u044e \\u0432\\u0435\\u0441\\u043d\\u043e\\u0439 \\u0444\\u0438\\u0430\\u043b\\u043a\\u0438\\u2026\",\n          \"\\u041f\\u043e\\u0442\\u0435\\u0445\\u0430! \\u0420\\u043e\\u043a\\u043e\\u0447\\u0435\\u0442 \\u0442\\u0440\\u0443\\u0431\\u0430\\u2026\",\n          \"\\u041d\\u043e\\u0447\\u044c. \\u0423\\u0441\\u043f\\u0435\\u043b\\u0438 \\u043c\\u044b \\u0432\\u0441\\u0435\\u043c \\u043d\\u0430\\u0441\\u043b\\u0430\\u0434\\u0438\\u0442\\u044c\\u0441\\u044f\\u2026\"\n        ],\n        \"semantic_type\": \"\",\n        \"description\": \"\"\n      }\n    },\n    {\n      \"column\": \"text\",\n      \"properties\": {\n        \"dtype\": \"string\",\n        \"num_unique_values\": 18760,\n        \"samples\": [\n          \"\\u0437\\u0432\\u0443\\u0447\\u043d\\u044b\\u0439 \\u043c\\u0435\\u0440\\u043d\\u044b\\u0439 \\u0441\\u0442\\u0443\\u043a \\u043a\\u043e\\u043f\\u044b\\u0442 \\u043a\\u043e\\u043d\\u0438 \\u0431\\u044c\\u044e\\u0442 \\u043e \\u043a\\u0430\\u043c\\u0435\\u043d\\u044c \\u043f\\u043b\\u0438\\u0442 \\u043c\\u0447\\u0430\\u0441\\u044c \\u0432\\u043f\\u0435\\u0440\\u0435\\u0434 \\u0432 \\u0443\\u0441\\u0435\\u0440\\u0434\\u044c\\u0438 \\u043f\\u044b\\u043b\\u043a\\u043e\\u043c \\u043c\\u0438\\u043c\\u043e \\u0441 \\u0433\\u0438\\u043a\\u043e\\u043c \\u0432 \\u0434\\u0432\\u0435 \\u0433\\u0443\\u0440\\u044c\\u0431\\u044b \\u043f\\u043b\\u0435\\u0442\\u0438 \\u0432\\u0437\\u0432\\u0438\\u0432 \\u0431\\u0435\\u0433\\u0443\\u0442 \\u0440\\u0430\\u0431\\u044b \\u043f\\u0443\\u0442\\u044c \\u0432 \\u0442\\u043e\\u043b\\u043f\\u0435 \\u0434\\u0435\\u043b\\u044f \\u043d\\u043e\\u0441\\u0438\\u043b\\u043a\\u0430\\u043c \\u0440\\u043e\\u043f\\u043e\\u0442 \\u0433\\u043e\\u0432\\u043e\\u0440 \\u0448\\u0443\\u043c \\u0448\\u0430\\u0433\\u043e\\u0432 \\u043f\\u0435\\u0441\\u0442\\u0440\\u044b\\u0445 \\u0441\\u0442\\u043e\\u043b\\u043b \\u0438 \\u0431\\u0435\\u043b\\u044b\\u0445 \\u0442\\u043e\\u0433 \\u0441\\u043c\\u0435\\u0441\\u044c \\u0438 \\u0431\\u043b\\u0435\\u0441\\u043a \\u0441\\u043f\\u043b\\u0435\\u0442\\u0435\\u043d\\u044c\\u0435 \\u043b\\u0438\\u043d\\u0438\\u0439 \\u0441\\u043c\\u0435\\u043d\\u0430 \\u0432\\u0438\\u0434\\u043e\\u0432 \\u0441\\u043d\\u043e\\u043c \\u0437\\u0430\\u0441\\u0442\\u044b\\u043b \\u0447\\u0435\\u0440\\u0435\\u0437 \\u0431\\u0435\\u043b\\u044b\\u0439 \\u0441\\u0442\\u0440\\u043e\\u0439 \\u043c\\u043e\\u0433\\u0438\\u043b \\u0442\\u0435\\u043c\\u043d\\u044b\\u0439 \\u0441\\u0432\\u043e\\u0434 \\u0440\\u043e\\u0441\\u043a\\u043e\\u0448\\u043d\\u044b\\u0445 \\u043f\\u0438\\u043d\\u0438\\u0439 \\u043a\\u0442\\u043e\\u0442\\u043e \\u043a\\u0440\\u0438\\u043a\\u043d\\u0443\\u043b\",\n          \"\\u0434\\u0440\\u0435\\u0431\\u0435\\u0437\\u0436\\u0438\\u0442 \\u0433\\u0438\\u0442\\u0430\\u0440\\u0430 \\u0441\\u043e\\u043d\\u043d\\u043e \\u0433\\u0434\\u0435\\u0442\\u043e \\u0431\\u0443\\u043b\\u044c\\u043a\\u0430\\u0435\\u0442 \\u043c\\u0430\\u0434\\u0435\\u0440\\u0430 \\u043d\\u043e\\u0447\\u044c \\u043b\\u0443\\u043d\\u0430 \\u0432 \\u043e\\u043a\\u043e\\u0448\\u043a\\u0435 \\u0434\\u043e\\u043d\\u043d\\u0430 \\u043f\\u043e\\u0434 \\u043e\\u043a\\u043e\\u0448\\u043a\\u043e\\u043c \\u043a\\u0430\\u0431\\u0430\\u043b\\u043b\\u0435\\u0440\\u043e \\u043d\\u0443\\u0441 \\u0438\\u0442\\u0430\\u043a \\u0432 \\u0438\\u0441\\u043f\\u0430\\u043d\\u0441\\u043a\\u043e\\u043c \\u0441\\u0442\\u0438\\u043b\\u0435 \\u043d\\u0430\\u0447\\u0438\\u043d\\u0430\\u044e \\u0440\\u0438\\u0442\\u0443\\u0440\\u043d\\u0435\\u043b\\u044c \\u044f \\u043c\\u0435\\u0441\\u0442\\u043e \\u0434\\u0435\\u0439\\u0441\\u0442\\u0432\\u0438\\u044f \\u0432 \\u0441\\u0435\\u0432\\u0438\\u043b\\u044c\\u0435 \\u0432\\u0440\\u0435\\u043c\\u044f \\u0434\\u0435\\u0439\\u0441\\u0442\\u0432\\u0438\\u044f \\u0432 \\u0430\\u043f\\u0440\\u0435\\u043b\\u0435 \\u0441\\u043a\\u043e\\u0440\\u043e \\u0431\\u0443\\u0434\\u0435\\u0442 \\u0434\\u0432\\u0435 \\u043d\\u0435\\u0434\\u0435\\u043b\\u0438 \\u043a\\u0430\\u043a \\u0436\\u0435\\u043d\\u0435 \\u0441\\u0432\\u043e\\u0435\\u0439 \\u043d\\u0430 \\u0433\\u043e\\u0440\\u0435 \\u0434\\u043e\\u043d\\u0441\\u0443\\u043f\\u0440\\u0443\\u0433 \\u043d\\u0430 \\u043a\\u0430\\u0440\\u0430\\u0432\\u0435\\u043b\\u043b\\u0435 \\u0433\\u0434\\u0435\\u0442\\u043e \\u043f\\u0443\\u0442\\u0430\\u0435\\u0442\\u0441\\u044f \\u0432 \\u043c\\u043e\\u0440\\u0435 \\u0443\\u0441\\u043b\\u044b\\u0445\\u0430\\u0432 \\u043e \\u0442\\u043e\\u043c \\u043e\\u0442\\u043a\\u0440\\u044b\\u0442\\u043e \\u0434\\u043e\\u043d\\u0441\\u043e\\u0441\\u0435\\u0434 \\u043e\\u0442 \\u0441\\u0442\\u0440\\u0430\\u0441\\u0442\\u0438 \\u044f\\u0440\\u043e\\u0439 \\u0432\\u043c\\u0438\\u0433 \\u043b\\u0438\\u0448\\u0438\\u0432\\u0448\\u0438\\u0441\\u044c \\u0430\\u043f\\u043f\\u0435\\u0442\\u0438\\u0442\\u0430 \\u043f\\u043e\\u0434 \\u043e\\u043a\\u043d\\u043e \\u043f\\u0440\\u0438\\u0448\\u0435\\u043b \\u0441 \\u0433\\u0438\\u0442\\u0430\\u0440\\u043e\\u0439 \\u0432\\u0441\\u0451 \\u0447\\u0442\\u043e \\u0437\\u043d\\u0430\\u043b \\u043f\\u0440\\u043e\\u043f\\u0435\\u043b \\u043e\\u043d \\u0434\\u043e\\u043d\\u043d\\u0435 \\u0438 \\u0443\\u0441\\u0442\\u0430\\u0432\\u0448\\u0438 \\u043d\\u0430\\u043f\\u043e\\u0441\\u043b\\u0435\\u0434\\u043e\\u043a \\u043e\\u043d \\u0437\\u0430\\u043f\\u0435\\u043b \\u0432 \\u043c\\u0430\\u0436\\u043e\\u0440\\u043d\\u043e\\u043c \\u0442\\u043e\\u043d\\u0435 \\u043f\\u0440\\u0438\\u0431\\u043b\\u0438\\u0437\\u0438\\u0442\\u0435\\u043b\\u044c\\u043d\\u043e \\u0432\\u043e\\u0442 \\u044d\\u0434\\u0430\\u043a \\u0434\\u043e\\u043d\\u043d\\u0430 \\u0434\\u043e\\u043d\\u043d\\u0430 \\u0432 \\u0432\\u0430\\u0448\\u0435\\u0439 \\u0432\\u043b\\u0430\\u0441\\u0442\\u0438 \\u0441\\u0435\\u0440\\u0434\\u0446\\u0435 \\u0432\\u0430\\u0448\\u0435\\u0433\\u043e \\u0441\\u043e\\u0441\\u0435\\u0434\\u0430 \\u0430\\u0445 \\u043e\\u0442 \\u0441\\u0442\\u0440\\u0430\\u0441\\u0442\\u0438 \\u044f \\u043d\\u0430 \\u0447\\u0430\\u0441\\u0442\\u0438 \\u0440\\u0430\\u0437\\u0440\\u044b\\u0432\\u0430\\u044e\\u0441\\u044c \\u043a\\u0430\\u043a \\u0442\\u043e\\u0440\\u043f\\u0435\\u0434\\u0430 \\u043d\\u0435\\u0442 \\u043d\\u0435 \\u0436\\u0434\\u0438\\u0442\\u0435 \\u043f\\u043e\\u0446\\u0435\\u043b\\u0443\\u044f \\u043e\\u0442\\u0432\\u0435\\u0447\\u0430\\u043b\\u0430 \\u0434\\u043e\\u043d\\u043d\\u0430 \\u0442\\u043e\\u043c\\u043d\\u043e \\u043d\\u0435\\u0442 \\u043d\\u0435\\u0442 \\u043d\\u0435\\u0442 \\u043d\\u0435 \\u0438\\u0437\\u043c\\u0435\\u043d\\u044e \\u044f \\u0441\\u0432\\u043e\\u0435\\u043c\\u0443 \\u0441\\u0443\\u043f\\u0440\\u0443\\u0433\\u0443 \\u0434\\u043e\\u043d\\u0443 \\u0438 \\u0434\\u043e\\u0431\\u0430\\u0432\\u0438\\u043b\\u0430 \\u0432\\u0437\\u0434\\u044b\\u0445\\u0430\\u044f \\u043d\\u0435 \\u0431\\u0435\\u0437 \\u043d\\u0435\\u043a\\u043e\\u0442\\u043e\\u0440\\u043e\\u0439 \\u0434\\u0440\\u043e\\u0436\\u0438 \\u043a \\u0432\\u0430\\u043c \\u043d\\u0435 \\u0432\\u044b\\u0439\\u0434\\u0443 \\u043d\\u0438\\u043a\\u043e\\u0433\\u0434\\u0430 \\u044f \\u043d\\u0430 \\u0434\\u0440\\u0443\\u0433\\u0438\\u0445 \\u044f \\u043d\\u0435 \\u043f\\u043e\\u0445\\u043e\\u0436\\u0430 \\u0432\\u044b \\u043d\\u0435 \\u0432\\u0435\\u0440\\u0438\\u0442\\u0435 \\u044f \\u0442\\u043e\\u0436\\u0435\",\n          \"\\u0441\\u0442\\u0430\\u0440\\u0438\\u043d\\u043d\\u044b\\u0439 \\u0434\\u0440\\u0443\\u0433 \\u0442\\u0435\\u0431\\u044f \\u044f \\u0432\\u0438\\u0436\\u0443 \\u0432\\u043d\\u043e\\u0432\\u044c \\u0447\\u0440\\u0435\\u0437 \\u0434\\u043e\\u043b\\u0433\\u0443\\u044e \\u0438 \\u0445\\u043b\\u0430\\u0434\\u043d\\u0443\\u044e \\u0440\\u0430\\u0437\\u043b\\u0443\\u043a\\u0443 \\u0441\\u0436\\u0438\\u043c\\u0430\\u044e \\u044f \\u043c\\u043d\\u0435 \\u0434\\u043e\\u0440\\u043e\\u0433\\u0443\\u044e \\u0440\\u0443\\u043a\\u0443 \\u0438 \\u0433\\u043e\\u0432\\u043e\\u0440\\u044e \\u043a\\u0430\\u043a \\u043f\\u0440\\u0435\\u0436\\u0434\\u0435 \\u043f\\u0440\\u043e \\u043b\\u044e\\u0431\\u043e\\u0432\\u044c \\u043c\\u043d\\u0435 \\u043b\\u044e\\u0431\\u043e \\u043d\\u0430 \\u0442\\u0435\\u0431\\u044f \\u0441\\u043c\\u043e\\u0442\\u0440\\u0435\\u0442\\u044c \\u0432\\u0437\\u0433\\u0440\\u0443\\u0441\\u0442\\u043d\\u0438 \\u0438 \\u043f\\u0440\\u0438\\u043b\\u0430\\u0441\\u043a\\u0430\\u0439 \\u043d\\u0435\\u043c\\u043d\\u043e\\u0433\\u043e \\u0443\\u0436\\u0435 \\u044f \\u043d\\u0435 \\u0442\\u0430\\u043a\\u043e\\u0439 \\u043a\\u0430\\u043a \\u0432\\u043f\\u0440\\u0435\\u0434\\u044c \\u0431\\u0443\\u0448\\u0443\\u0439\\u043d\\u044b\\u0439 \\u0433\\u043e\\u0440\\u0434\\u044b\\u0439 \\u043d\\u0435\\u0434\\u043e\\u0442\\u0440\\u043e\\u0433\\u0430 \\u043f\\u0435\\u0440\\u0435\\u0431\\u0435\\u0441\\u0438\\u043b\\u0438\\u0441\\u044c \\u043c\\u044b \\u0447\\u0435\\u0433\\u043e \\u0441\\u043a\\u0440\\u044b\\u0432\\u0430\\u0442\\u044c \\u0443\\u0436 \\u044f \\u043d\\u0435 \\u044f \\u0430 \\u0442\\u044b \\u043b\\u0438 \\u044d\\u0442\\u043e \\u0442\\u044b \\u043b\\u0438 \\u043f\\u043e \\u0431\\u0435\\u0440\\u0435\\u0433\\u0430\\u043c \\u043c\\u043e\\u0440\\u0441\\u043a\\u0430\\u044f \\u0433\\u043b\\u0430\\u0434\\u044c \\u043a\\u0430\\u043a \\u043b\\u043e\\u0448\\u0430\\u0434\\u044c \\u0437\\u0430\\u0433\\u043d\\u0430\\u043d\\u043d\\u0430\\u044f \\u0432 \\u043c\\u044b\\u043b\\u0435 \\u0442\\u0435\\u043f\\u0435\\u0440\\u044c \\u0432\\u043b\\u044e\\u0431\\u043b\\u0435\\u043d \\u0432 \\u043a\\u043e\\u0433\\u043e\\u0442\\u043e \\u044f \\u043b\\u044e\\u0431\\u043b\\u044e \\u0438 \\u0442\\u0449\\u0435\\u0442\\u043d\\u043e \\u043f\\u0440\\u0438\\u0437\\u044b\\u0432\\u0430\\u044e \\u043d\\u043e \\u0432\\u0441\\u0435 \\u0436\\u0435 \\u0442\\u043e\\u0447\\u043a\\u043e\\u0439 \\u043a\\u043e\\u0440\\u0430\\u0431\\u043b\\u044f \\u043a \\u0437\\u0435\\u043c\\u043b\\u0435 \\u043b\\u044e\\u0431\\u0438\\u043c\\u043e\\u0439 \\u043f\\u0440\\u0438\\u043f\\u043b\\u044b\\u0432\\u0430\\u044e\"\n        ],\n        \"semantic_type\": \"\",\n        \"description\": \"\"\n      }\n    }\n  ]\n}"
            }
          },
          "metadata": {},
          "execution_count": 3
        }
      ]
    },
    {
      "cell_type": "code",
      "source": [
        "data['writer'].unique()"
      ],
      "metadata": {
        "colab": {
          "base_uri": "https://localhost:8080/"
        },
        "id": "L_P5N74E-J8N",
        "outputId": "d48d44a8-8f99-4e2c-8026-6195d74facd0"
      },
      "execution_count": null,
      "outputs": [
        {
          "output_type": "execute_result",
          "data": {
            "text/plain": [
              "array(['Лермонтов Михаил Юрьевич', 'Максимилиан Александрович Волошин',\n",
              "       'Пушкин Александр Сергеевич', 'Николай Михайлович Карамзин',\n",
              "       'Саша Чёрный', 'Анненский Иннокентий Федорович',\n",
              "       'Владимир Сергеевич Соловьев', 'Маяковский Владимир Владимирович',\n",
              "       'Дмитрий Владимирович Веневитинов',\n",
              "       'Аполлон Александрович Григорьев', 'Фёдор Кузьмич Сологуб',\n",
              "       'Брюсов Валерий Яковлевич', 'Алексей Николаевич Апухтин',\n",
              "       'Аделаида Казимировна Герцык', 'Алексей Васильевич Кольцов',\n",
              "       'Александр Николаевич Радищев', 'Некрасов Николай Алексеевич',\n",
              "       'Андрей Белый', 'Александр Петрович Сумароков',\n",
              "       'Агнивцев Николай Яковлевич', 'Кондратий Фёдорович Рылеев',\n",
              "       'Фет Афанасий Афанасьевич', 'Михаил Васильевич Ломоносов',\n",
              "       'Пётр Андреевич Вяземский', 'Ахматова Анна Андреевна',\n",
              "       'Тютчев Федор Иванович', 'Галина Галина',\n",
              "       'Павел Александрович Катенин', 'Цветаева Марина Ивановна',\n",
              "       'Блок Александр Александрович', 'Иван Саввич Никитин',\n",
              "       'Бальмонт Константин Дмитриевич', 'Антон Антонович Дельвиг',\n",
              "       'Иван Захарович Суриков', 'Гавриил Романович Державин',\n",
              "       'Иван Андреевич Крылов', 'Денис Васильевич Давыдов',\n",
              "       'Николай Михайлович Языков', 'Дмитрий Сергеевич Мережковский',\n",
              "       'Есенин Сергей Александрович', 'Толстой Алексей Константинович',\n",
              "       'Константин Михайлович Фофанов', 'Александр Иванович Одоевский',\n",
              "       'Виктор Владимирович Хлебников', 'Дмитрий Петрович Ознобишин',\n",
              "       'Грибоедов Александр Сергеевич', 'Игорь Северянин',\n",
              "       'Владислав Фелицианович Ходасевич'], dtype=object)"
            ]
          },
          "metadata": {},
          "execution_count": 4
        }
      ]
    },
    {
      "cell_type": "code",
      "source": [
        "poem_counts = data.groupby('writer')['poem'].count().reset_index()\n",
        "poem_counts.columns = ['writer', 'poem_count']\n",
        "poem_counts_sorted = poem_counts.sort_values(by='poem_count', ascending=False)\n",
        "poem_counts_sorted = poem_counts_sorted.reset_index(drop=True)\n",
        "poem_counts_sorted[:10]\n"
      ],
      "metadata": {
        "colab": {
          "base_uri": "https://localhost:8080/",
          "height": 363
        },
        "id": "A4W7EHtbXIPf",
        "outputId": "59dcad78-520b-4659-b50c-39a264ff88a4"
      },
      "execution_count": null,
      "outputs": [
        {
          "output_type": "execute_result",
          "data": {
            "text/plain": [
              "                             writer  poem_count\n",
              "0          Брюсов Валерий Яковлевич        1607\n",
              "1                   Игорь Северянин        1597\n",
              "2      Александр Петрович Сумароков        1520\n",
              "3      Блок Александр Александрович        1282\n",
              "4  Маяковский Владимир Владимирович        1279\n",
              "5             Фёдор Кузьмич Сологуб        1163\n",
              "6    Бальмонт Константин Дмитриевич         990\n",
              "7          Фет Афанасий Афанасьевич         888\n",
              "8        Пушкин Александр Сергеевич         750\n",
              "9          Цветаева Марина Ивановна         535"
            ],
            "text/html": [
              "\n",
              "  <div id=\"df-24a6ed26-9b56-4f05-8321-b0aa6b74093c\" class=\"colab-df-container\">\n",
              "    <div>\n",
              "<style scoped>\n",
              "    .dataframe tbody tr th:only-of-type {\n",
              "        vertical-align: middle;\n",
              "    }\n",
              "\n",
              "    .dataframe tbody tr th {\n",
              "        vertical-align: top;\n",
              "    }\n",
              "\n",
              "    .dataframe thead th {\n",
              "        text-align: right;\n",
              "    }\n",
              "</style>\n",
              "<table border=\"1\" class=\"dataframe\">\n",
              "  <thead>\n",
              "    <tr style=\"text-align: right;\">\n",
              "      <th></th>\n",
              "      <th>writer</th>\n",
              "      <th>poem_count</th>\n",
              "    </tr>\n",
              "  </thead>\n",
              "  <tbody>\n",
              "    <tr>\n",
              "      <th>0</th>\n",
              "      <td>Брюсов Валерий Яковлевич</td>\n",
              "      <td>1607</td>\n",
              "    </tr>\n",
              "    <tr>\n",
              "      <th>1</th>\n",
              "      <td>Игорь Северянин</td>\n",
              "      <td>1597</td>\n",
              "    </tr>\n",
              "    <tr>\n",
              "      <th>2</th>\n",
              "      <td>Александр Петрович Сумароков</td>\n",
              "      <td>1520</td>\n",
              "    </tr>\n",
              "    <tr>\n",
              "      <th>3</th>\n",
              "      <td>Блок Александр Александрович</td>\n",
              "      <td>1282</td>\n",
              "    </tr>\n",
              "    <tr>\n",
              "      <th>4</th>\n",
              "      <td>Маяковский Владимир Владимирович</td>\n",
              "      <td>1279</td>\n",
              "    </tr>\n",
              "    <tr>\n",
              "      <th>5</th>\n",
              "      <td>Фёдор Кузьмич Сологуб</td>\n",
              "      <td>1163</td>\n",
              "    </tr>\n",
              "    <tr>\n",
              "      <th>6</th>\n",
              "      <td>Бальмонт Константин Дмитриевич</td>\n",
              "      <td>990</td>\n",
              "    </tr>\n",
              "    <tr>\n",
              "      <th>7</th>\n",
              "      <td>Фет Афанасий Афанасьевич</td>\n",
              "      <td>888</td>\n",
              "    </tr>\n",
              "    <tr>\n",
              "      <th>8</th>\n",
              "      <td>Пушкин Александр Сергеевич</td>\n",
              "      <td>750</td>\n",
              "    </tr>\n",
              "    <tr>\n",
              "      <th>9</th>\n",
              "      <td>Цветаева Марина Ивановна</td>\n",
              "      <td>535</td>\n",
              "    </tr>\n",
              "  </tbody>\n",
              "</table>\n",
              "</div>\n",
              "    <div class=\"colab-df-buttons\">\n",
              "\n",
              "  <div class=\"colab-df-container\">\n",
              "    <button class=\"colab-df-convert\" onclick=\"convertToInteractive('df-24a6ed26-9b56-4f05-8321-b0aa6b74093c')\"\n",
              "            title=\"Convert this dataframe to an interactive table.\"\n",
              "            style=\"display:none;\">\n",
              "\n",
              "  <svg xmlns=\"http://www.w3.org/2000/svg\" height=\"24px\" viewBox=\"0 -960 960 960\">\n",
              "    <path d=\"M120-120v-720h720v720H120Zm60-500h600v-160H180v160Zm220 220h160v-160H400v160Zm0 220h160v-160H400v160ZM180-400h160v-160H180v160Zm440 0h160v-160H620v160ZM180-180h160v-160H180v160Zm440 0h160v-160H620v160Z\"/>\n",
              "  </svg>\n",
              "    </button>\n",
              "\n",
              "  <style>\n",
              "    .colab-df-container {\n",
              "      display:flex;\n",
              "      gap: 12px;\n",
              "    }\n",
              "\n",
              "    .colab-df-convert {\n",
              "      background-color: #E8F0FE;\n",
              "      border: none;\n",
              "      border-radius: 50%;\n",
              "      cursor: pointer;\n",
              "      display: none;\n",
              "      fill: #1967D2;\n",
              "      height: 32px;\n",
              "      padding: 0 0 0 0;\n",
              "      width: 32px;\n",
              "    }\n",
              "\n",
              "    .colab-df-convert:hover {\n",
              "      background-color: #E2EBFA;\n",
              "      box-shadow: 0px 1px 2px rgba(60, 64, 67, 0.3), 0px 1px 3px 1px rgba(60, 64, 67, 0.15);\n",
              "      fill: #174EA6;\n",
              "    }\n",
              "\n",
              "    .colab-df-buttons div {\n",
              "      margin-bottom: 4px;\n",
              "    }\n",
              "\n",
              "    [theme=dark] .colab-df-convert {\n",
              "      background-color: #3B4455;\n",
              "      fill: #D2E3FC;\n",
              "    }\n",
              "\n",
              "    [theme=dark] .colab-df-convert:hover {\n",
              "      background-color: #434B5C;\n",
              "      box-shadow: 0px 1px 3px 1px rgba(0, 0, 0, 0.15);\n",
              "      filter: drop-shadow(0px 1px 2px rgba(0, 0, 0, 0.3));\n",
              "      fill: #FFFFFF;\n",
              "    }\n",
              "  </style>\n",
              "\n",
              "    <script>\n",
              "      const buttonEl =\n",
              "        document.querySelector('#df-24a6ed26-9b56-4f05-8321-b0aa6b74093c button.colab-df-convert');\n",
              "      buttonEl.style.display =\n",
              "        google.colab.kernel.accessAllowed ? 'block' : 'none';\n",
              "\n",
              "      async function convertToInteractive(key) {\n",
              "        const element = document.querySelector('#df-24a6ed26-9b56-4f05-8321-b0aa6b74093c');\n",
              "        const dataTable =\n",
              "          await google.colab.kernel.invokeFunction('convertToInteractive',\n",
              "                                                    [key], {});\n",
              "        if (!dataTable) return;\n",
              "\n",
              "        const docLinkHtml = 'Like what you see? Visit the ' +\n",
              "          '<a target=\"_blank\" href=https://colab.research.google.com/notebooks/data_table.ipynb>data table notebook</a>'\n",
              "          + ' to learn more about interactive tables.';\n",
              "        element.innerHTML = '';\n",
              "        dataTable['output_type'] = 'display_data';\n",
              "        await google.colab.output.renderOutput(dataTable, element);\n",
              "        const docLink = document.createElement('div');\n",
              "        docLink.innerHTML = docLinkHtml;\n",
              "        element.appendChild(docLink);\n",
              "      }\n",
              "    </script>\n",
              "  </div>\n",
              "\n",
              "\n",
              "<div id=\"df-53dbcf0b-da31-428a-a900-4fb4cae988df\">\n",
              "  <button class=\"colab-df-quickchart\" onclick=\"quickchart('df-53dbcf0b-da31-428a-a900-4fb4cae988df')\"\n",
              "            title=\"Suggest charts\"\n",
              "            style=\"display:none;\">\n",
              "\n",
              "<svg xmlns=\"http://www.w3.org/2000/svg\" height=\"24px\"viewBox=\"0 0 24 24\"\n",
              "     width=\"24px\">\n",
              "    <g>\n",
              "        <path d=\"M19 3H5c-1.1 0-2 .9-2 2v14c0 1.1.9 2 2 2h14c1.1 0 2-.9 2-2V5c0-1.1-.9-2-2-2zM9 17H7v-7h2v7zm4 0h-2V7h2v10zm4 0h-2v-4h2v4z\"/>\n",
              "    </g>\n",
              "</svg>\n",
              "  </button>\n",
              "\n",
              "<style>\n",
              "  .colab-df-quickchart {\n",
              "      --bg-color: #E8F0FE;\n",
              "      --fill-color: #1967D2;\n",
              "      --hover-bg-color: #E2EBFA;\n",
              "      --hover-fill-color: #174EA6;\n",
              "      --disabled-fill-color: #AAA;\n",
              "      --disabled-bg-color: #DDD;\n",
              "  }\n",
              "\n",
              "  [theme=dark] .colab-df-quickchart {\n",
              "      --bg-color: #3B4455;\n",
              "      --fill-color: #D2E3FC;\n",
              "      --hover-bg-color: #434B5C;\n",
              "      --hover-fill-color: #FFFFFF;\n",
              "      --disabled-bg-color: #3B4455;\n",
              "      --disabled-fill-color: #666;\n",
              "  }\n",
              "\n",
              "  .colab-df-quickchart {\n",
              "    background-color: var(--bg-color);\n",
              "    border: none;\n",
              "    border-radius: 50%;\n",
              "    cursor: pointer;\n",
              "    display: none;\n",
              "    fill: var(--fill-color);\n",
              "    height: 32px;\n",
              "    padding: 0;\n",
              "    width: 32px;\n",
              "  }\n",
              "\n",
              "  .colab-df-quickchart:hover {\n",
              "    background-color: var(--hover-bg-color);\n",
              "    box-shadow: 0 1px 2px rgba(60, 64, 67, 0.3), 0 1px 3px 1px rgba(60, 64, 67, 0.15);\n",
              "    fill: var(--button-hover-fill-color);\n",
              "  }\n",
              "\n",
              "  .colab-df-quickchart-complete:disabled,\n",
              "  .colab-df-quickchart-complete:disabled:hover {\n",
              "    background-color: var(--disabled-bg-color);\n",
              "    fill: var(--disabled-fill-color);\n",
              "    box-shadow: none;\n",
              "  }\n",
              "\n",
              "  .colab-df-spinner {\n",
              "    border: 2px solid var(--fill-color);\n",
              "    border-color: transparent;\n",
              "    border-bottom-color: var(--fill-color);\n",
              "    animation:\n",
              "      spin 1s steps(1) infinite;\n",
              "  }\n",
              "\n",
              "  @keyframes spin {\n",
              "    0% {\n",
              "      border-color: transparent;\n",
              "      border-bottom-color: var(--fill-color);\n",
              "      border-left-color: var(--fill-color);\n",
              "    }\n",
              "    20% {\n",
              "      border-color: transparent;\n",
              "      border-left-color: var(--fill-color);\n",
              "      border-top-color: var(--fill-color);\n",
              "    }\n",
              "    30% {\n",
              "      border-color: transparent;\n",
              "      border-left-color: var(--fill-color);\n",
              "      border-top-color: var(--fill-color);\n",
              "      border-right-color: var(--fill-color);\n",
              "    }\n",
              "    40% {\n",
              "      border-color: transparent;\n",
              "      border-right-color: var(--fill-color);\n",
              "      border-top-color: var(--fill-color);\n",
              "    }\n",
              "    60% {\n",
              "      border-color: transparent;\n",
              "      border-right-color: var(--fill-color);\n",
              "    }\n",
              "    80% {\n",
              "      border-color: transparent;\n",
              "      border-right-color: var(--fill-color);\n",
              "      border-bottom-color: var(--fill-color);\n",
              "    }\n",
              "    90% {\n",
              "      border-color: transparent;\n",
              "      border-bottom-color: var(--fill-color);\n",
              "    }\n",
              "  }\n",
              "</style>\n",
              "\n",
              "  <script>\n",
              "    async function quickchart(key) {\n",
              "      const quickchartButtonEl =\n",
              "        document.querySelector('#' + key + ' button');\n",
              "      quickchartButtonEl.disabled = true;  // To prevent multiple clicks.\n",
              "      quickchartButtonEl.classList.add('colab-df-spinner');\n",
              "      try {\n",
              "        const charts = await google.colab.kernel.invokeFunction(\n",
              "            'suggestCharts', [key], {});\n",
              "      } catch (error) {\n",
              "        console.error('Error during call to suggestCharts:', error);\n",
              "      }\n",
              "      quickchartButtonEl.classList.remove('colab-df-spinner');\n",
              "      quickchartButtonEl.classList.add('colab-df-quickchart-complete');\n",
              "    }\n",
              "    (() => {\n",
              "      let quickchartButtonEl =\n",
              "        document.querySelector('#df-53dbcf0b-da31-428a-a900-4fb4cae988df button');\n",
              "      quickchartButtonEl.style.display =\n",
              "        google.colab.kernel.accessAllowed ? 'block' : 'none';\n",
              "    })();\n",
              "  </script>\n",
              "</div>\n",
              "\n",
              "    </div>\n",
              "  </div>\n"
            ],
            "application/vnd.google.colaboratory.intrinsic+json": {
              "type": "dataframe",
              "summary": "{\n  \"name\": \"poem_counts_sorted[:10]\",\n  \"rows\": 10,\n  \"fields\": [\n    {\n      \"column\": \"writer\",\n      \"properties\": {\n        \"dtype\": \"string\",\n        \"num_unique_values\": 10,\n        \"samples\": [\n          \"\\u041f\\u0443\\u0448\\u043a\\u0438\\u043d \\u0410\\u043b\\u0435\\u043a\\u0441\\u0430\\u043d\\u0434\\u0440 \\u0421\\u0435\\u0440\\u0433\\u0435\\u0435\\u0432\\u0438\\u0447\",\n          \"\\u0418\\u0433\\u043e\\u0440\\u044c \\u0421\\u0435\\u0432\\u0435\\u0440\\u044f\\u043d\\u0438\\u043d\",\n          \"\\u0424\\u0451\\u0434\\u043e\\u0440 \\u041a\\u0443\\u0437\\u044c\\u043c\\u0438\\u0447 \\u0421\\u043e\\u043b\\u043e\\u0433\\u0443\\u0431\"\n        ],\n        \"semantic_type\": \"\",\n        \"description\": \"\"\n      }\n    },\n    {\n      \"column\": \"poem_count\",\n      \"properties\": {\n        \"dtype\": \"number\",\n        \"std\": 366,\n        \"min\": 535,\n        \"max\": 1607,\n        \"num_unique_values\": 10,\n        \"samples\": [\n          750,\n          1597,\n          1163\n        ],\n        \"semantic_type\": \"\",\n        \"description\": \"\"\n      }\n    }\n  ]\n}"
            }
          },
          "metadata": {},
          "execution_count": 5
        }
      ]
    },
    {
      "cell_type": "code",
      "source": [
        "authors_to_keep = [\n",
        "    'Александр Петрович Сумароков',\n",
        "    'Блок Александр Александрович',\n",
        "    'Маяковский Владимир Владимирович',\n",
        "    'Бальмонт Константин Дмитриевич'\n",
        "]\n",
        "df = data.loc[data['writer'].isin(authors_to_keep)]\n",
        "df\n"
      ],
      "metadata": {
        "id": "CB6eTyZ6-e9x",
        "outputId": "8b93c480-130b-4d3d-dcab-4c6081cbbaa8",
        "colab": {
          "base_uri": "https://localhost:8080/",
          "height": 424
        }
      },
      "execution_count": null,
      "outputs": [
        {
          "output_type": "execute_result",
          "data": {
            "text/plain": [
              "                                 writer  \\\n",
              "2030   Маяковский Владимир Владимирович   \n",
              "2031   Маяковский Владимир Владимирович   \n",
              "2032   Маяковский Владимир Владимирович   \n",
              "2033   Маяковский Владимир Владимирович   \n",
              "2034   Маяковский Владимир Владимирович   \n",
              "...                                 ...   \n",
              "15046    Бальмонт Константин Дмитриевич   \n",
              "15047    Бальмонт Константин Дмитриевич   \n",
              "15048    Бальмонт Константин Дмитриевич   \n",
              "15049    Бальмонт Константин Дмитриевич   \n",
              "15050    Бальмонт Константин Дмитриевич   \n",
              "\n",
              "                                                    poem  \\\n",
              "2030                                           Воровский   \n",
              "2031    Раньше офицера только рубить учили… (РОСТА №632)   \n",
              "2032   Рабочим Курска, добывшим первую руду,временный...   \n",
              "2033    Вот по 11-е ноября отчет (Главполитпросвет №407)   \n",
              "2034                                           Халтурщик   \n",
              "...                                                  ...   \n",
              "15046                                      Кому я молюсь   \n",
              "15047                                     С морского дна   \n",
              "15048                                      Черные вороны   \n",
              "15049                                    Безглагольность   \n",
              "15050                                           Венчание   \n",
              "\n",
              "                                                    text  \n",
              "2030   сегодня пролетариат гром голосов раскуй забудь...  \n",
              "2031    раньше офицера только рубить учили только стр...  \n",
              "2032   было социализм восторженное слово с флагом с п...  \n",
              "2033    денег по москве поступило всего 0 84 878 58 р...  \n",
              "2034   пролетарий туп жестоко дуб дремучий в блузной ...  \n",
              "...                                                  ...  \n",
              "15046  кому я молюсь холодному ветру кому я молюсь ра...  \n",
              "15047   на темном влажном дне морском где царство бле...  \n",
              "15048  черные вороны воры играли над нами каркали ден...  \n",
              "15049  есть в русской природе усталая нежность безмол...  \n",
              "15050  над невестой молодою я держал венец любовался ...  \n",
              "\n",
              "[5071 rows x 3 columns]"
            ],
            "text/html": [
              "\n",
              "  <div id=\"df-8bae0a1e-7505-4d56-9c17-d8e20c2cad44\" class=\"colab-df-container\">\n",
              "    <div>\n",
              "<style scoped>\n",
              "    .dataframe tbody tr th:only-of-type {\n",
              "        vertical-align: middle;\n",
              "    }\n",
              "\n",
              "    .dataframe tbody tr th {\n",
              "        vertical-align: top;\n",
              "    }\n",
              "\n",
              "    .dataframe thead th {\n",
              "        text-align: right;\n",
              "    }\n",
              "</style>\n",
              "<table border=\"1\" class=\"dataframe\">\n",
              "  <thead>\n",
              "    <tr style=\"text-align: right;\">\n",
              "      <th></th>\n",
              "      <th>writer</th>\n",
              "      <th>poem</th>\n",
              "      <th>text</th>\n",
              "    </tr>\n",
              "  </thead>\n",
              "  <tbody>\n",
              "    <tr>\n",
              "      <th>2030</th>\n",
              "      <td>Маяковский Владимир Владимирович</td>\n",
              "      <td>Воровский</td>\n",
              "      <td>сегодня пролетариат гром голосов раскуй забудь...</td>\n",
              "    </tr>\n",
              "    <tr>\n",
              "      <th>2031</th>\n",
              "      <td>Маяковский Владимир Владимирович</td>\n",
              "      <td>Раньше офицера только рубить учили… (РОСТА №632)</td>\n",
              "      <td>раньше офицера только рубить учили только стр...</td>\n",
              "    </tr>\n",
              "    <tr>\n",
              "      <th>2032</th>\n",
              "      <td>Маяковский Владимир Владимирович</td>\n",
              "      <td>Рабочим Курска, добывшим первую руду,временный...</td>\n",
              "      <td>было социализм восторженное слово с флагом с п...</td>\n",
              "    </tr>\n",
              "    <tr>\n",
              "      <th>2033</th>\n",
              "      <td>Маяковский Владимир Владимирович</td>\n",
              "      <td>Вот по 11-е ноября отчет (Главполитпросвет №407)</td>\n",
              "      <td>денег по москве поступило всего 0 84 878 58 р...</td>\n",
              "    </tr>\n",
              "    <tr>\n",
              "      <th>2034</th>\n",
              "      <td>Маяковский Владимир Владимирович</td>\n",
              "      <td>Халтурщик</td>\n",
              "      <td>пролетарий туп жестоко дуб дремучий в блузной ...</td>\n",
              "    </tr>\n",
              "    <tr>\n",
              "      <th>...</th>\n",
              "      <td>...</td>\n",
              "      <td>...</td>\n",
              "      <td>...</td>\n",
              "    </tr>\n",
              "    <tr>\n",
              "      <th>15046</th>\n",
              "      <td>Бальмонт Константин Дмитриевич</td>\n",
              "      <td>Кому я молюсь</td>\n",
              "      <td>кому я молюсь холодному ветру кому я молюсь ра...</td>\n",
              "    </tr>\n",
              "    <tr>\n",
              "      <th>15047</th>\n",
              "      <td>Бальмонт Константин Дмитриевич</td>\n",
              "      <td>С морского дна</td>\n",
              "      <td>на темном влажном дне морском где царство бле...</td>\n",
              "    </tr>\n",
              "    <tr>\n",
              "      <th>15048</th>\n",
              "      <td>Бальмонт Константин Дмитриевич</td>\n",
              "      <td>Черные вороны</td>\n",
              "      <td>черные вороны воры играли над нами каркали ден...</td>\n",
              "    </tr>\n",
              "    <tr>\n",
              "      <th>15049</th>\n",
              "      <td>Бальмонт Константин Дмитриевич</td>\n",
              "      <td>Безглагольность</td>\n",
              "      <td>есть в русской природе усталая нежность безмол...</td>\n",
              "    </tr>\n",
              "    <tr>\n",
              "      <th>15050</th>\n",
              "      <td>Бальмонт Константин Дмитриевич</td>\n",
              "      <td>Венчание</td>\n",
              "      <td>над невестой молодою я держал венец любовался ...</td>\n",
              "    </tr>\n",
              "  </tbody>\n",
              "</table>\n",
              "<p>5071 rows × 3 columns</p>\n",
              "</div>\n",
              "    <div class=\"colab-df-buttons\">\n",
              "\n",
              "  <div class=\"colab-df-container\">\n",
              "    <button class=\"colab-df-convert\" onclick=\"convertToInteractive('df-8bae0a1e-7505-4d56-9c17-d8e20c2cad44')\"\n",
              "            title=\"Convert this dataframe to an interactive table.\"\n",
              "            style=\"display:none;\">\n",
              "\n",
              "  <svg xmlns=\"http://www.w3.org/2000/svg\" height=\"24px\" viewBox=\"0 -960 960 960\">\n",
              "    <path d=\"M120-120v-720h720v720H120Zm60-500h600v-160H180v160Zm220 220h160v-160H400v160Zm0 220h160v-160H400v160ZM180-400h160v-160H180v160Zm440 0h160v-160H620v160ZM180-180h160v-160H180v160Zm440 0h160v-160H620v160Z\"/>\n",
              "  </svg>\n",
              "    </button>\n",
              "\n",
              "  <style>\n",
              "    .colab-df-container {\n",
              "      display:flex;\n",
              "      gap: 12px;\n",
              "    }\n",
              "\n",
              "    .colab-df-convert {\n",
              "      background-color: #E8F0FE;\n",
              "      border: none;\n",
              "      border-radius: 50%;\n",
              "      cursor: pointer;\n",
              "      display: none;\n",
              "      fill: #1967D2;\n",
              "      height: 32px;\n",
              "      padding: 0 0 0 0;\n",
              "      width: 32px;\n",
              "    }\n",
              "\n",
              "    .colab-df-convert:hover {\n",
              "      background-color: #E2EBFA;\n",
              "      box-shadow: 0px 1px 2px rgba(60, 64, 67, 0.3), 0px 1px 3px 1px rgba(60, 64, 67, 0.15);\n",
              "      fill: #174EA6;\n",
              "    }\n",
              "\n",
              "    .colab-df-buttons div {\n",
              "      margin-bottom: 4px;\n",
              "    }\n",
              "\n",
              "    [theme=dark] .colab-df-convert {\n",
              "      background-color: #3B4455;\n",
              "      fill: #D2E3FC;\n",
              "    }\n",
              "\n",
              "    [theme=dark] .colab-df-convert:hover {\n",
              "      background-color: #434B5C;\n",
              "      box-shadow: 0px 1px 3px 1px rgba(0, 0, 0, 0.15);\n",
              "      filter: drop-shadow(0px 1px 2px rgba(0, 0, 0, 0.3));\n",
              "      fill: #FFFFFF;\n",
              "    }\n",
              "  </style>\n",
              "\n",
              "    <script>\n",
              "      const buttonEl =\n",
              "        document.querySelector('#df-8bae0a1e-7505-4d56-9c17-d8e20c2cad44 button.colab-df-convert');\n",
              "      buttonEl.style.display =\n",
              "        google.colab.kernel.accessAllowed ? 'block' : 'none';\n",
              "\n",
              "      async function convertToInteractive(key) {\n",
              "        const element = document.querySelector('#df-8bae0a1e-7505-4d56-9c17-d8e20c2cad44');\n",
              "        const dataTable =\n",
              "          await google.colab.kernel.invokeFunction('convertToInteractive',\n",
              "                                                    [key], {});\n",
              "        if (!dataTable) return;\n",
              "\n",
              "        const docLinkHtml = 'Like what you see? Visit the ' +\n",
              "          '<a target=\"_blank\" href=https://colab.research.google.com/notebooks/data_table.ipynb>data table notebook</a>'\n",
              "          + ' to learn more about interactive tables.';\n",
              "        element.innerHTML = '';\n",
              "        dataTable['output_type'] = 'display_data';\n",
              "        await google.colab.output.renderOutput(dataTable, element);\n",
              "        const docLink = document.createElement('div');\n",
              "        docLink.innerHTML = docLinkHtml;\n",
              "        element.appendChild(docLink);\n",
              "      }\n",
              "    </script>\n",
              "  </div>\n",
              "\n",
              "\n",
              "<div id=\"df-f6a912c3-0ecf-4b82-9a59-d542f9a61b26\">\n",
              "  <button class=\"colab-df-quickchart\" onclick=\"quickchart('df-f6a912c3-0ecf-4b82-9a59-d542f9a61b26')\"\n",
              "            title=\"Suggest charts\"\n",
              "            style=\"display:none;\">\n",
              "\n",
              "<svg xmlns=\"http://www.w3.org/2000/svg\" height=\"24px\"viewBox=\"0 0 24 24\"\n",
              "     width=\"24px\">\n",
              "    <g>\n",
              "        <path d=\"M19 3H5c-1.1 0-2 .9-2 2v14c0 1.1.9 2 2 2h14c1.1 0 2-.9 2-2V5c0-1.1-.9-2-2-2zM9 17H7v-7h2v7zm4 0h-2V7h2v10zm4 0h-2v-4h2v4z\"/>\n",
              "    </g>\n",
              "</svg>\n",
              "  </button>\n",
              "\n",
              "<style>\n",
              "  .colab-df-quickchart {\n",
              "      --bg-color: #E8F0FE;\n",
              "      --fill-color: #1967D2;\n",
              "      --hover-bg-color: #E2EBFA;\n",
              "      --hover-fill-color: #174EA6;\n",
              "      --disabled-fill-color: #AAA;\n",
              "      --disabled-bg-color: #DDD;\n",
              "  }\n",
              "\n",
              "  [theme=dark] .colab-df-quickchart {\n",
              "      --bg-color: #3B4455;\n",
              "      --fill-color: #D2E3FC;\n",
              "      --hover-bg-color: #434B5C;\n",
              "      --hover-fill-color: #FFFFFF;\n",
              "      --disabled-bg-color: #3B4455;\n",
              "      --disabled-fill-color: #666;\n",
              "  }\n",
              "\n",
              "  .colab-df-quickchart {\n",
              "    background-color: var(--bg-color);\n",
              "    border: none;\n",
              "    border-radius: 50%;\n",
              "    cursor: pointer;\n",
              "    display: none;\n",
              "    fill: var(--fill-color);\n",
              "    height: 32px;\n",
              "    padding: 0;\n",
              "    width: 32px;\n",
              "  }\n",
              "\n",
              "  .colab-df-quickchart:hover {\n",
              "    background-color: var(--hover-bg-color);\n",
              "    box-shadow: 0 1px 2px rgba(60, 64, 67, 0.3), 0 1px 3px 1px rgba(60, 64, 67, 0.15);\n",
              "    fill: var(--button-hover-fill-color);\n",
              "  }\n",
              "\n",
              "  .colab-df-quickchart-complete:disabled,\n",
              "  .colab-df-quickchart-complete:disabled:hover {\n",
              "    background-color: var(--disabled-bg-color);\n",
              "    fill: var(--disabled-fill-color);\n",
              "    box-shadow: none;\n",
              "  }\n",
              "\n",
              "  .colab-df-spinner {\n",
              "    border: 2px solid var(--fill-color);\n",
              "    border-color: transparent;\n",
              "    border-bottom-color: var(--fill-color);\n",
              "    animation:\n",
              "      spin 1s steps(1) infinite;\n",
              "  }\n",
              "\n",
              "  @keyframes spin {\n",
              "    0% {\n",
              "      border-color: transparent;\n",
              "      border-bottom-color: var(--fill-color);\n",
              "      border-left-color: var(--fill-color);\n",
              "    }\n",
              "    20% {\n",
              "      border-color: transparent;\n",
              "      border-left-color: var(--fill-color);\n",
              "      border-top-color: var(--fill-color);\n",
              "    }\n",
              "    30% {\n",
              "      border-color: transparent;\n",
              "      border-left-color: var(--fill-color);\n",
              "      border-top-color: var(--fill-color);\n",
              "      border-right-color: var(--fill-color);\n",
              "    }\n",
              "    40% {\n",
              "      border-color: transparent;\n",
              "      border-right-color: var(--fill-color);\n",
              "      border-top-color: var(--fill-color);\n",
              "    }\n",
              "    60% {\n",
              "      border-color: transparent;\n",
              "      border-right-color: var(--fill-color);\n",
              "    }\n",
              "    80% {\n",
              "      border-color: transparent;\n",
              "      border-right-color: var(--fill-color);\n",
              "      border-bottom-color: var(--fill-color);\n",
              "    }\n",
              "    90% {\n",
              "      border-color: transparent;\n",
              "      border-bottom-color: var(--fill-color);\n",
              "    }\n",
              "  }\n",
              "</style>\n",
              "\n",
              "  <script>\n",
              "    async function quickchart(key) {\n",
              "      const quickchartButtonEl =\n",
              "        document.querySelector('#' + key + ' button');\n",
              "      quickchartButtonEl.disabled = true;  // To prevent multiple clicks.\n",
              "      quickchartButtonEl.classList.add('colab-df-spinner');\n",
              "      try {\n",
              "        const charts = await google.colab.kernel.invokeFunction(\n",
              "            'suggestCharts', [key], {});\n",
              "      } catch (error) {\n",
              "        console.error('Error during call to suggestCharts:', error);\n",
              "      }\n",
              "      quickchartButtonEl.classList.remove('colab-df-spinner');\n",
              "      quickchartButtonEl.classList.add('colab-df-quickchart-complete');\n",
              "    }\n",
              "    (() => {\n",
              "      let quickchartButtonEl =\n",
              "        document.querySelector('#df-f6a912c3-0ecf-4b82-9a59-d542f9a61b26 button');\n",
              "      quickchartButtonEl.style.display =\n",
              "        google.colab.kernel.accessAllowed ? 'block' : 'none';\n",
              "    })();\n",
              "  </script>\n",
              "</div>\n",
              "\n",
              "  <div id=\"id_e4dee50b-6285-4a54-9df2-09be485add4a\">\n",
              "    <style>\n",
              "      .colab-df-generate {\n",
              "        background-color: #E8F0FE;\n",
              "        border: none;\n",
              "        border-radius: 50%;\n",
              "        cursor: pointer;\n",
              "        display: none;\n",
              "        fill: #1967D2;\n",
              "        height: 32px;\n",
              "        padding: 0 0 0 0;\n",
              "        width: 32px;\n",
              "      }\n",
              "\n",
              "      .colab-df-generate:hover {\n",
              "        background-color: #E2EBFA;\n",
              "        box-shadow: 0px 1px 2px rgba(60, 64, 67, 0.3), 0px 1px 3px 1px rgba(60, 64, 67, 0.15);\n",
              "        fill: #174EA6;\n",
              "      }\n",
              "\n",
              "      [theme=dark] .colab-df-generate {\n",
              "        background-color: #3B4455;\n",
              "        fill: #D2E3FC;\n",
              "      }\n",
              "\n",
              "      [theme=dark] .colab-df-generate:hover {\n",
              "        background-color: #434B5C;\n",
              "        box-shadow: 0px 1px 3px 1px rgba(0, 0, 0, 0.15);\n",
              "        filter: drop-shadow(0px 1px 2px rgba(0, 0, 0, 0.3));\n",
              "        fill: #FFFFFF;\n",
              "      }\n",
              "    </style>\n",
              "    <button class=\"colab-df-generate\" onclick=\"generateWithVariable('df')\"\n",
              "            title=\"Generate code using this dataframe.\"\n",
              "            style=\"display:none;\">\n",
              "\n",
              "  <svg xmlns=\"http://www.w3.org/2000/svg\" height=\"24px\"viewBox=\"0 0 24 24\"\n",
              "       width=\"24px\">\n",
              "    <path d=\"M7,19H8.4L18.45,9,17,7.55,7,17.6ZM5,21V16.75L18.45,3.32a2,2,0,0,1,2.83,0l1.4,1.43a1.91,1.91,0,0,1,.58,1.4,1.91,1.91,0,0,1-.58,1.4L9.25,21ZM18.45,9,17,7.55Zm-12,3A5.31,5.31,0,0,0,4.9,8.1,5.31,5.31,0,0,0,1,6.5,5.31,5.31,0,0,0,4.9,4.9,5.31,5.31,0,0,0,6.5,1,5.31,5.31,0,0,0,8.1,4.9,5.31,5.31,0,0,0,12,6.5,5.46,5.46,0,0,0,6.5,12Z\"/>\n",
              "  </svg>\n",
              "    </button>\n",
              "    <script>\n",
              "      (() => {\n",
              "      const buttonEl =\n",
              "        document.querySelector('#id_e4dee50b-6285-4a54-9df2-09be485add4a button.colab-df-generate');\n",
              "      buttonEl.style.display =\n",
              "        google.colab.kernel.accessAllowed ? 'block' : 'none';\n",
              "\n",
              "      buttonEl.onclick = () => {\n",
              "        google.colab.notebook.generateWithVariable('df');\n",
              "      }\n",
              "      })();\n",
              "    </script>\n",
              "  </div>\n",
              "\n",
              "    </div>\n",
              "  </div>\n"
            ],
            "application/vnd.google.colaboratory.intrinsic+json": {
              "type": "dataframe",
              "variable_name": "df",
              "summary": "{\n  \"name\": \"df\",\n  \"rows\": 5071,\n  \"fields\": [\n    {\n      \"column\": \"writer\",\n      \"properties\": {\n        \"dtype\": \"category\",\n        \"num_unique_values\": 4,\n        \"samples\": [\n          \"\\u0410\\u043b\\u0435\\u043a\\u0441\\u0430\\u043d\\u0434\\u0440 \\u041f\\u0435\\u0442\\u0440\\u043e\\u0432\\u0438\\u0447 \\u0421\\u0443\\u043c\\u0430\\u0440\\u043e\\u043a\\u043e\\u0432\",\n          \"\\u0411\\u0430\\u043b\\u044c\\u043c\\u043e\\u043d\\u0442 \\u041a\\u043e\\u043d\\u0441\\u0442\\u0430\\u043d\\u0442\\u0438\\u043d \\u0414\\u043c\\u0438\\u0442\\u0440\\u0438\\u0435\\u0432\\u0438\\u0447\",\n          \"\\u041c\\u0430\\u044f\\u043a\\u043e\\u0432\\u0441\\u043a\\u0438\\u0439 \\u0412\\u043b\\u0430\\u0434\\u0438\\u043c\\u0438\\u0440 \\u0412\\u043b\\u0430\\u0434\\u0438\\u043c\\u0438\\u0440\\u043e\\u0432\\u0438\\u0447\"\n        ],\n        \"semantic_type\": \"\",\n        \"description\": \"\"\n      }\n    },\n    {\n      \"column\": \"poem\",\n      \"properties\": {\n        \"dtype\": \"string\",\n        \"num_unique_values\": 5046,\n        \"samples\": [\n          \"\\u0421\\u0442\\u0440\\u0430\\u043d\\u0430 \\u0418\\u0441\\u0441\\u0435\\u0434\\u043e\\u043d\\u043e\\u0432\",\n          \"\\u041c\\u0440\\u0430\\u043a. \\u041e\\u0434\\u0438\\u043d \\u044f. \\u0422\\u0440\\u0435\\u0432\\u043e\\u0436\\u0438\\u0442 \\u043c\\u043e\\u0439 \\u0441\\u043b\\u0443\\u0445 \\u0442\\u0438\\u0448\\u0438\\u043d\\u0430\\u2026\",\n          \"\\u0410\\u043c\\u0435\\u0440\\u0438\\u043a\\u0430 \\u0438 \\u042f\\u043f\\u043e\\u043d\\u0438\\u044f \\u043b\\u0438\\u0445\\u043e\\u0440\\u0430\\u0434\\u043e\\u0447\\u043d\\u043e \\u0433\\u043e\\u0442\\u043e\\u0432\\u044f\\u0442\\u0441\\u044f \\u043a \\u0432\\u043e\\u0439\\u043d\\u0435 (\\u0420\\u041e\\u0421\\u0422\\u0410 \\u2116870)\"\n        ],\n        \"semantic_type\": \"\",\n        \"description\": \"\"\n      }\n    },\n    {\n      \"column\": \"text\",\n      \"properties\": {\n        \"dtype\": \"string\",\n        \"num_unique_values\": 4727,\n        \"samples\": [\n          \"\\u043f\\u0442\\u0438\\u0446\\u0430 \\u043b\\u0435\\u0442\\u0438\\u0442 \\u0437\\u0430 \\u043c\\u043e\\u0440\\u044f \\u0437\\u0432\\u0435\\u0440\\u044c \\u0437\\u0430 \\u043b\\u0435\\u0441\\u0430 \\u0443\\u0431\\u0435\\u0433\\u0430\\u0435\\u0442 \\u0434\\u0435\\u0440\\u0435\\u0432\\u043e \\u0432 \\u0434\\u0435\\u0440\\u0435\\u0432\\u043e \\u0438\\u0441\\u043a\\u0440\\u0430 \\u0432 \\u043e\\u0433\\u043e\\u043d\\u044c \\u0443\\u0441\\u043a\\u043e\\u043b\\u044c\\u0437\\u0430\\u0435\\u0442 \\u0433\\u043e\\u0440\\u044f \\u0436\\u0435\\u043b\\u0435\\u0437\\u043e \\u0432 \\u0440\\u0443\\u0434\\u0443 \\u0441\\u0432\\u043e\\u044e \\u043c\\u0430\\u0442\\u044c \\u0437\\u0435\\u043c\\u043b\\u044f \\u0432 \\u043c\\u0430\\u0442\\u044c\\u0437\\u0435\\u043c\\u043b\\u044e \\u0432\\u043d\\u0438\\u043a\\u0430\\u0435\\u0442 \\u0442\\u0430\\u043a \\u0447\\u0435\\u0440\\u043d\\u0430\\u044f \\u043d\\u0435\\u043c\\u043e\\u0447\\u044c \\u043d\\u0435 \\u043c\\u0443\\u0447\\u0430\\u0439 \\u0434\\u0443\\u0448\\u0438 \\u043d\\u0435 \\u043c\\u0443\\u0447\\u044c \\u0438 \\u0443\\u0441\\u0442\\u0430\\u043b\\u043e\\u0433\\u043e \\u0442\\u0435\\u043b\\u0430 \\u0432 \\u0447\\u0435\\u0440\\u043d\\u0443\\u044e \\u0442\\u044c\\u043c\\u0443 \\u0432 \\u043d\\u0435\\u043f\\u0440\\u043e\\u0433\\u043b\\u044f\\u0434\\u043d\\u0443\\u044e \\u043d\\u043e\\u0447\\u044c \\u043f\\u043e\\u0441\\u043f\\u0435\\u0448\\u0438 \\u0432 \\u043f\\u0440\\u043e\\u043f\\u0430\\u0441\\u0442\\u044c \\u0433\\u0434\\u0435 \\u043d\\u043e\\u0447\\u044c \\u0431\\u0435\\u0437 \\u043f\\u0440\\u0435\\u0434\\u0435\\u043b\\u0430 \\u043e\\u0441\\u0442\\u0430\\u0432\\u044c \\u0447\\u0435\\u043b\\u043e\\u0432\\u0435\\u043a\\u0430 \\u043d\\u0435\\u0434\\u0443\\u0433 \\u0443\\u0439\\u0434\\u0438\\u0442\\u0435 \\u0431\\u043e\\u043b\\u0435\\u0441\\u0442\\u0438 \\u0445\\u0432\\u043e\\u0440\\u043e\\u0431\\u044b \\u0443\\u043d\\u044b\\u043d\\u0438\\u0435 \\u043f\\u0440\\u0438\\u0441\\u0442\\u0443\\u043f\\u044b \\u0437\\u043b\\u043e\\u0431\\u044b \\u0432\\u0441\\u0435 \\u043a\\u043e\\u0440\\u0447\\u0438 \\u043a\\u043e\\u0442\\u043e\\u0440\\u044b\\u0435 \\u0443\\u0437\\u044f\\u0442 \\u043a\\u0440\\u0438\\u0432\\u044f\\u0442 \\u043c\\u0438\\u0440\\u043e\\u0437\\u0434\\u0430\\u043d\\u0438\\u044f \\u043a\\u0440\\u0443\\u0433 \\u0434\\u0430 \\u043d\\u0435 \\u0431\\u0443\\u0434\\u0443\\u0442 \\u0443\\u043c\\u044b \\u043a\\u0430\\u043a \\u0443\\u0433\\u0440\\u044e\\u043c\\u044b\\u0435 \\u0433\\u0440\\u043e\\u0431\\u044b \\u0441\\u0432\\u0435\\u0442 \\u0434\\u0430 \\u0432\\u043e\\u0439\\u0434\\u0435\\u0442 \\u0432 \\u0431\\u044b\\u0442\\u0438\\u0435 \\u0441\\u043b\\u043e\\u0432\\u043e \\u0432\\u0435\\u043b\\u0438\\u043a\\u043e \\u043c\\u043e\\u0435 \\u0432 \\u0441\\u043b\\u043e\\u0432\\u0435 \\u043c\\u043e\\u0435\\u043c \\u0447\\u0435\\u043b\\u043e\\u0432\\u0435\\u043a \\u0432\\u043e\\u043f\\u043b\\u043e\\u0449\\u0430\\u0435\\u0442 \\u0436\\u0435\\u043b\\u0430\\u043d\\u044c\\u0435 \\u0441\\u0432\\u043e\\u0435\",\n          \"\\u0431\\u0435\\u0437\\u0440\\u0430\\u0434\\u043e\\u0441\\u0442\\u043d\\u044b\\u0435 \\u0432\\u0441\\u0445\\u043e\\u0434\\u044f\\u0442 \\u0441\\u0435\\u043c\\u0435\\u043d\\u0430 \\u0445\\u043e\\u043b\\u043e\\u0434\\u043d\\u044b\\u0439 \\u0432\\u0435\\u0442\\u0435\\u0440 \\u0431\\u044c\\u0435\\u0442\\u0441\\u044f \\u0432 \\u0433\\u043e\\u043b\\u044b\\u0445 \\u043f\\u0440\\u0443\\u0442\\u044c\\u044f\\u0445 \\u0432 \\u043c\\u043e\\u0435\\u0439 \\u0434\\u0443\\u0448\\u0435 \\u043e\\u0442\\u043a\\u0440\\u044b\\u043b\\u0438\\u0441\\u044c \\u043f\\u0438\\u0441\\u044c\\u043c\\u0435\\u043d\\u0430 \\u044f \\u0438\\u0445 \\u0442\\u0430\\u044e \\u0432 \\u0441\\u0435\\u043b\\u0435\\u043d\\u044c\\u044f\\u0445 \\u043d\\u0430 \\u0440\\u0430\\u0441\\u043f\\u0443\\u0442\\u044c\\u044f\\u0445 \\u0438 \\u043a\\u0440\\u0430\\u0434\\u0443\\u0441\\u044c \\u044f \\u043a\\u0430\\u043a \\u0442\\u0435\\u043d\\u044c \\u0443 \\u043b\\u0443\\u043d\\u043d\\u044b\\u0445 \\u0441\\u0442\\u0435\\u043d \\u043c\\u0435\\u043d\\u044f\\u044e\\u0442\\u0441\\u044f \\u0442\\u0435\\u043c\\u043d\\u0435\\u044e\\u0442 \\u0433\\u043b\\u043e\\u0445\\u043d\\u0443\\u0442 \\u0441\\u0442\\u0435\\u043d\\u044b \\u043c\\u043d\\u0435 \\u0441\\u043b\\u0430\\u0434\\u043e\\u0441\\u0442\\u043d\\u043e \\u043e\\u0442 \\u0432\\u0441\\u044f\\u043a\\u0438\\u0445 \\u043f\\u0435\\u0440\\u0435\\u043c\\u0435\\u043d \\u043c\\u043d\\u0435 \\u043a\\u0430\\u0436\\u0434\\u044b\\u0439 \\u0434\\u0435\\u043d\\u044c \\u0440\\u043e\\u0436\\u0434\\u0430\\u0435\\u0442 \\u043f\\u0435\\u0440\\u0435\\u043c\\u0435\\u043d\\u044b \\u043e \\u043a\\u0430\\u043a \\u044f \\u0436\\u0438\\u0432 \\u043a\\u0430\\u043a \\u0431\\u044c\\u0435\\u0442 \\u043a\\u043b\\u044e\\u0447\\u0430\\u043c\\u0438 \\u043a\\u0440\\u043e\\u0432\\u044c \\u044f \\u0437\\u0434\\u0435\\u0441\\u044c \\u0440\\u043e\\u0434\\u043d\\u043e\\u0439 \\u0441 \\u043f\\u043e\\u0434\\u0437\\u0435\\u043c\\u043d\\u044b\\u043c\\u0438 \\u043a\\u043b\\u044e\\u0447\\u0430\\u043c\\u0438 \\u043c\\u0433\\u043d\\u043e\\u0432\\u0435\\u043d\\u044c\\u044f \\u0442\\u0430\\u0439\\u043d \\u0442\\u044b \\u0432\\u0435\\u0447\\u043d\\u0430\\u044f \\u043b\\u044e\\u0431\\u043e\\u0432\\u044c \\u044f \\u043f\\u043e\\u043d\\u044f\\u043b \\u0432\\u0430\\u0441 \\u044f \\u0441 \\u0432\\u0430\\u043c\\u0438 \\u044f \\u0437\\u0430 \\u0432\\u0430\\u043c\\u0438 \\u0440\\u0430\\u0441\\u0442\\u0435\\u0442 \\u0440\\u0430\\u0441\\u0442\\u0435\\u0442 \\u0432\\u0435\\u043b\\u0438\\u043a\\u0430\\u044f \\u0441\\u0442\\u0435\\u043d\\u0430 \\u0445\\u043e\\u043b\\u043e\\u0434\\u043d\\u044b\\u0439 \\u0432\\u0435\\u0442\\u0435\\u0440 \\u0431\\u044c\\u0435\\u0442\\u0441\\u044f \\u0432 \\u0433\\u043e\\u043b\\u044b\\u0445 \\u043f\\u0440\\u0443\\u0442\\u044c\\u044f\\u0445 \\u044f \\u0432\\u0430\\u0441 \\u043e\\u0442\\u043a\\u0440\\u044b\\u043b \\u0441\\u0432\\u044f\\u0442\\u044b\\u0435 \\u043f\\u0438\\u0441\\u044c\\u043c\\u0435\\u043d\\u0430 \\u044f \\u0432\\u0430\\u0441 \\u0445\\u0440\\u0430\\u043d\\u044e \\u0441 \\u0443\\u043b\\u044b\\u0431\\u043a\\u043e\\u0439 \\u043d\\u0430 \\u0440\\u0430\\u0441\\u043f\\u0443\\u0442\\u044c\\u044f\\u0445\",\n          \"\\u0432\\u044a \\u043a\\u043e\\u0440\\u0435\\u0442\\u0435 \\u0435\\u0445\\u0430\\u043b\\u0430 \\u043d\\u0435 \\u0437\\u043d\\u0430\\u044e \\u043a\\u0442\\u043e \\u0442\\u0430\\u043a\\u0430\\u044f \\u043a\\u0442\\u043e \\u0442\\u0430\\u043a\\u043e\\u0432\\u0430 \\u043e\\u043d\\u0430 \\u0447\\u0442\\u043e \\u043d\\u0443\\u0436\\u0434\\u044b \\u0434\\u043e \\u0442\\u043e\\u0432\\u043e \\u043f\\u0443\\u0441\\u043a\\u0430\\u0439 \\u043d\\u0435 \\u0435\\u0445\\u0430\\u043b\\u043e \\u0432\\u044a \\u043a\\u043e\\u0440\\u0435\\u0442\\u0435 \\u043d\\u0438 \\u043a\\u043e\\u0432\\u043e \\u0438\\u043b\\u044c \\u043f\\u0443\\u0441\\u0442\\u044c \\u0441\\u0438\\u0434\\u0435\\u043b\\u0430 \\u0432\\u044a \\u043d\\u0435\\u0439 \\u043a\\u0440\\u0430\\u0441\\u0430\\u0432\\u0438\\u0446\\u0430 \\u043a\\u0430\\u043a\\u0430\\u044f \\u0442\\u043e \\u043b\\u0443\\u0442\\u0447\\u0435 \\u0438 \\u0432\\u0441\\u0435\\u0432\\u043e \\u043e\\u0434\\u043d\\u0430\\u043b\\u044c \\u043e\\u043d\\u0430 \\u0441\\u0438\\u0434\\u0435\\u043b\\u0430 \\u0438\\u043b\\u044c \\u043f\\u0440\\u0438 \\u0441\\u0435\\u0431\\u0435 \\u043b\\u044e\\u0431\\u043e\\u0432\\u043d\\u0438\\u043a\\u0430 \\u0438\\u043c\\u0435\\u043b\\u0430 \\u0437\\u0434\\u0435\\u0441\\u044c \\u0434\\u0435\\u043b\\u043e \\u043d\\u0435 \\u043e \\u0442\\u043e\\u043c\\u044a \\u0430 \\u0435\\u0445\\u0430\\u043b\\u0430 \\u043e\\u043d\\u0430 \\u0432\\u043d\\u0435 \\u0436\\u0438\\u043b\\u0430 \\u0437\\u043d\\u0430\\u0442\\u044c \\u0447\\u0442\\u043e \\u043f\\u043e\\u043b\\u044f \\u043b\\u044e\\u0431\\u0438\\u043b\\u0430 \\u0434\\u0435\\u043d\\u044c \\u043e\\u0447\\u0435\\u043d\\u044c \\u0436\\u0430\\u0440\\u043e\\u043a\\u044a \\u0431\\u044b\\u043b\\u044a \\u0438 \\u043f\\u044b\\u043b\\u044c \\u0432\\u0438\\u043b\\u0430\\u0441\\u044c \\u0441\\u0442\\u043e\\u043b\\u0438\\u043e\\u043c\\u044a \\u043a\\u043e\\u0440\\u0435\\u0442\\u0430 \\u0441\\u0440\\u0435\\u0434\\u044c \\u043b\\u0435\\u0442\\u0430 \\u043f\\u044b\\u043b\\u0438\\u0442\\u044a \\u0432\\u0441\\u0435\\u0433\\u0434\\u0430 \\u0442\\u043e \\u0440\\u0430\\u0437\\u0443\\u043c\\u0435\\u0435\\u0442\\u0441\\u044f \\u043a\\u0430\\u043a\\u044a \\u0432\\u044b\\u0435\\u0434\\u0435\\u0442\\u044a \\u0442\\u043e\\u0433\\u0434\\u0430 \\u043f\\u0440\\u0438\\u043b\\u0438\\u043f\\u043b\\u0430 \\u043c\\u0443\\u0445\\u0430 \\u043a\\u044a \\u043d\\u0435\\u0439 \\u0438 \\u043f\\u044b\\u043b\\u044c \\u0442\\u0430\\u043a\\u0443\\u044e \\u0432\\u0438\\u0434\\u044f \\u0432\\u0437\\u0433\\u043e\\u0440\\u0434\\u0438\\u043b\\u0430\\u0441\\u044f \\u0438 \\u0433\\u043e\\u0432\\u043e\\u0440\\u0438\\u043b\\u0430 \\u0441\\u0438\\u0434\\u044f \\u0445\\u043e\\u0442\\u044c \\u043d\\u0435 \\u043e\\u043d\\u0430 \\u0442\\u043e\\u043c\\u0443 \\u043f\\u0440\\u0438\\u0447\\u0438\\u043d\\u043e\\u044e \\u0431\\u044b\\u043b\\u0430 \\u043a\\u0443\\u0434\\u0430 \\u043a\\u0430\\u043a\\u044a \\u0441\\u043a\\u043e\\u043b\\u044c\\u043a\\u043e \\u0437\\u0434\\u0435\\u0441\\u044c \\u044f \\u043f\\u044b\\u043b\\u0438 \\u043f\\u043e\\u0434\\u043d\\u044f\\u043b\\u0430\"\n        ],\n        \"semantic_type\": \"\",\n        \"description\": \"\"\n      }\n    }\n  ]\n}"
            }
          },
          "metadata": {},
          "execution_count": 6
        }
      ]
    },
    {
      "cell_type": "code",
      "source": [
        "poem_counts = df.groupby('writer')['poem'].count().reset_index()\n",
        "poem_counts.columns = ['writer', 'poem_count']\n",
        "\n",
        "plt.figure(figsize=(10, 6))\n",
        "sns.barplot(\n",
        "    x='writer',\n",
        "    y='poem_count',\n",
        "    hue='writer',\n",
        "    data=poem_counts,\n",
        "    palette='viridis',\n",
        "    legend=False\n",
        "    )\n",
        "plt.title('Количество поэм у каждого автора')\n",
        "plt.xlabel('Автор')\n",
        "plt.ylabel('Количество поэм')\n",
        "plt.xticks(rotation=45)\n",
        "plt.tight_layout()\n",
        "plt.show()\n"
      ],
      "metadata": {
        "colab": {
          "base_uri": "https://localhost:8080/",
          "height": 607
        },
        "id": "CL5jrr6VVYn2",
        "outputId": "83f3ac71-b07b-4558-9ee5-1145c8437a84"
      },
      "execution_count": null,
      "outputs": [
        {
          "output_type": "display_data",
          "data": {
            "text/plain": [
              "<Figure size 1000x600 with 1 Axes>"
            ],
            "image/png": "[encoded data removed]"
          },
          "metadata": {}
        }
      ]
    },
    {
      "cell_type": "code",
      "source": [
        "min_poem_count = poem_counts['poem_count'].min()\n",
        "\n",
        "def limit_poems(group, limit):\n",
        "    return group.head(limit)\n",
        "\n",
        "df = df.groupby('writer', group_keys=False).apply(\n",
        "    lambda x: limit_poems(x, min_poem_count)\n",
        "    )\n",
        "\n",
        "poem_counts_updated = df.groupby('writer')['poem'].count().reset_index()\n",
        "poem_counts_updated.columns = ['writer', 'poem_count']\n",
        "\n",
        "plt.figure(figsize=(10, 6))\n",
        "sns.barplot(\n",
        "    x='writer',\n",
        "    y='poem_count',\n",
        "    hue='writer',\n",
        "    data=poem_counts_updated,\n",
        "    palette='viridis',\n",
        "    legend=False\n",
        ")\n",
        "plt.title('Количество поэм у каждого автора (ограничено минимальным)')\n",
        "plt.xlabel('Автор')\n",
        "plt.ylabel('Количество поэм')\n",
        "plt.xticks(rotation=45)\n",
        "plt.tight_layout()\n",
        "plt.show()\n"
      ],
      "metadata": {
        "colab": {
          "base_uri": "https://localhost:8080/",
          "height": 662
        },
        "id": "CR30Mp0EYjN5",
        "outputId": "ed7ba33d-fb0e-4710-d656-fb57005c6adf"
      },
      "execution_count": null,
      "outputs": [
        {
          "output_type": "stream",
          "name": "stderr",
          "text": [
            "<ipython-input-8-0d0987b33611>:6: DeprecationWarning: DataFrameGroupBy.apply operated on the grouping columns. This behavior is deprecated, and in a future version of pandas the grouping columns will be excluded from the operation. Either pass `include_groups=False` to exclude the groupings or explicitly select the grouping columns after groupby to silence this warning.\n",
            "  df = df.groupby('writer', group_keys=False).apply(\n"
          ]
        },
        {
          "output_type": "display_data",
          "data": {
            "text/plain": [
              "<Figure size 1000x600 with 1 Axes>"
            ],
            "image/png": "[encoded data removed]"
          },
          "metadata": {}
        }
      ]
    },
    {
      "cell_type": "code",
      "source": [
        "df_shuffled = df.groupby('writer', group_keys=False).apply(\n",
        "    lambda x: x.sample(frac=1, random_state=42)\n",
        "    )\n",
        "df_shuffled = df_shuffled.drop(columns=['poem'])\n",
        "\n",
        "author_to_code = {author: idx for idx, author in enumerate(authors_to_keep)}\n",
        "df_shuffled['writer'] = df_shuffled['writer'].map(author_to_code)\n",
        "\n",
        "def split_group(group):\n",
        "    n = len(group)\n",
        "    train_size = int(n * 0.8)\n",
        "    val_size = int(n * 0.1)\n",
        "    test_size = n - train_size - val_size\n",
        "\n",
        "    train = group.iloc[:train_size]\n",
        "    val = group.iloc[train_size:train_size + val_size]\n",
        "    test = group.iloc[train_size + val_size:]\n",
        "\n",
        "    return train, val, test\n",
        "\n",
        "train_parts, val_parts, test_parts = [], [], []\n",
        "\n",
        "for writer, group in df_shuffled.groupby('writer'):\n",
        "    train, val, test = split_group(group)\n",
        "    train_parts.append(train)\n",
        "    val_parts.append(val)\n",
        "    test_parts.append(test)\n",
        "\n",
        "train_df = pd.concat(train_parts).reset_index(drop=True)\n",
        "val_df = pd.concat(val_parts).reset_index(drop=True)\n",
        "test_df = pd.concat(test_parts).reset_index(drop=True)\n",
        "\n",
        "print(\"Обучающий набор:\")\n",
        "print(train_df.shape)\n",
        "print(\"\\nВалидационный набор:\")\n",
        "print(val_df.shape)\n",
        "print(\"\\nТестовый набор:\")\n",
        "print(test_df.shape)\n",
        "\n",
        "train_df\n"
      ],
      "metadata": {
        "colab": {
          "base_uri": "https://localhost:8080/",
          "height": 617
        },
        "id": "aWON6tEXZts6",
        "outputId": "3818d21b-617e-47e1-8a0d-dc982c17d2e3"
      },
      "execution_count": null,
      "outputs": [
        {
          "output_type": "stream",
          "name": "stdout",
          "text": [
            "Обучающий набор:\n",
            "(3168, 2)\n",
            "\n",
            "Валидационный набор:\n",
            "(396, 2)\n",
            "\n",
            "Тестовый набор:\n",
            "(396, 2)\n"
          ]
        },
        {
          "output_type": "stream",
          "name": "stderr",
          "text": [
            "<ipython-input-9-6fd2841c569c>:1: DeprecationWarning: DataFrameGroupBy.apply operated on the grouping columns. This behavior is deprecated, and in a future version of pandas the grouping columns will be excluded from the operation. Either pass `include_groups=False` to exclude the groupings or explicitly select the grouping columns after groupby to silence this warning.\n",
            "  df_shuffled = df.groupby('writer', group_keys=False).apply(\n"
          ]
        },
        {
          "output_type": "execute_result",
          "data": {
            "text/plain": [
              "      writer                                               text\n",
              "0          0  поверь мой светъ люблю тебя лишь только то ска...\n",
              "1          0  по мрачной нощи приятно воспевалъ на древе сол...\n",
              "2          0  трепещетъ понтъ въ водахъ огонь и флотъ горитъ...\n",
              "3          0  хромова волкъ коня увиделъ вотъ мой светъ себе...\n",
              "4          0  на пастве двумъ сердцамъ любовь во сне не зрел...\n",
              "...      ...                                                ...\n",
              "3163       3  чайка серая чайка с печальными криками носится...\n",
              "3164       3  зачем мы торопимся к яркости чувства в которой...\n",
              "3165       3  в чисто поле я пойду речь с ветрами поведу вет...\n",
              "3166       3  когда я к другому в упор подхожу я знаю нам об...\n",
              "3167       3  царевич горошек с глазами лукавыми подпоясанны...\n",
              "\n",
              "[3168 rows x 2 columns]"
            ],
            "text/html": [
              "\n",
              "  <div id=\"df-e28ee6c2-1fa8-4842-bb2b-8f44b93658ab\" class=\"colab-df-container\">\n",
              "    <div>\n",
              "<style scoped>\n",
              "    .dataframe tbody tr th:only-of-type {\n",
              "        vertical-align: middle;\n",
              "    }\n",
              "\n",
              "    .dataframe tbody tr th {\n",
              "        vertical-align: top;\n",
              "    }\n",
              "\n",
              "    .dataframe thead th {\n",
              "        text-align: right;\n",
              "    }\n",
              "</style>\n",
              "<table border=\"1\" class=\"dataframe\">\n",
              "  <thead>\n",
              "    <tr style=\"text-align: right;\">\n",
              "      <th></th>\n",
              "      <th>writer</th>\n",
              "      <th>text</th>\n",
              "    </tr>\n",
              "  </thead>\n",
              "  <tbody>\n",
              "    <tr>\n",
              "      <th>0</th>\n",
              "      <td>0</td>\n",
              "      <td>поверь мой светъ люблю тебя лишь только то ска...</td>\n",
              "    </tr>\n",
              "    <tr>\n",
              "      <th>1</th>\n",
              "      <td>0</td>\n",
              "      <td>по мрачной нощи приятно воспевалъ на древе сол...</td>\n",
              "    </tr>\n",
              "    <tr>\n",
              "      <th>2</th>\n",
              "      <td>0</td>\n",
              "      <td>трепещетъ понтъ въ водахъ огонь и флотъ горитъ...</td>\n",
              "    </tr>\n",
              "    <tr>\n",
              "      <th>3</th>\n",
              "      <td>0</td>\n",
              "      <td>хромова волкъ коня увиделъ вотъ мой светъ себе...</td>\n",
              "    </tr>\n",
              "    <tr>\n",
              "      <th>4</th>\n",
              "      <td>0</td>\n",
              "      <td>на пастве двумъ сердцамъ любовь во сне не зрел...</td>\n",
              "    </tr>\n",
              "    <tr>\n",
              "      <th>...</th>\n",
              "      <td>...</td>\n",
              "      <td>...</td>\n",
              "    </tr>\n",
              "    <tr>\n",
              "      <th>3163</th>\n",
              "      <td>3</td>\n",
              "      <td>чайка серая чайка с печальными криками носится...</td>\n",
              "    </tr>\n",
              "    <tr>\n",
              "      <th>3164</th>\n",
              "      <td>3</td>\n",
              "      <td>зачем мы торопимся к яркости чувства в которой...</td>\n",
              "    </tr>\n",
              "    <tr>\n",
              "      <th>3165</th>\n",
              "      <td>3</td>\n",
              "      <td>в чисто поле я пойду речь с ветрами поведу вет...</td>\n",
              "    </tr>\n",
              "    <tr>\n",
              "      <th>3166</th>\n",
              "      <td>3</td>\n",
              "      <td>когда я к другому в упор подхожу я знаю нам об...</td>\n",
              "    </tr>\n",
              "    <tr>\n",
              "      <th>3167</th>\n",
              "      <td>3</td>\n",
              "      <td>царевич горошек с глазами лукавыми подпоясанны...</td>\n",
              "    </tr>\n",
              "  </tbody>\n",
              "</table>\n",
              "<p>3168 rows × 2 columns</p>\n",
              "</div>\n",
              "    <div class=\"colab-df-buttons\">\n",
              "\n",
              "  <div class=\"colab-df-container\">\n",
              "    <button class=\"colab-df-convert\" onclick=\"convertToInteractive('df-e28ee6c2-1fa8-4842-bb2b-8f44b93658ab')\"\n",
              "            title=\"Convert this dataframe to an interactive table.\"\n",
              "            style=\"display:none;\">\n",
              "\n",
              "  <svg xmlns=\"http://www.w3.org/2000/svg\" height=\"24px\" viewBox=\"0 -960 960 960\">\n",
              "    <path d=\"M120-120v-720h720v720H120Zm60-500h600v-160H180v160Zm220 220h160v-160H400v160Zm0 220h160v-160H400v160ZM180-400h160v-160H180v160Zm440 0h160v-160H620v160ZM180-180h160v-160H180v160Zm440 0h160v-160H620v160Z\"/>\n",
              "  </svg>\n",
              "    </button>\n",
              "\n",
              "  <style>\n",
              "    .colab-df-container {\n",
              "      display:flex;\n",
              "      gap: 12px;\n",
              "    }\n",
              "\n",
              "    .colab-df-convert {\n",
              "      background-color: #E8F0FE;\n",
              "      border: none;\n",
              "      border-radius: 50%;\n",
              "      cursor: pointer;\n",
              "      display: none;\n",
              "      fill: #1967D2;\n",
              "      height: 32px;\n",
              "      padding: 0 0 0 0;\n",
              "      width: 32px;\n",
              "    }\n",
              "\n",
              "    .colab-df-convert:hover {\n",
              "      background-color: #E2EBFA;\n",
              "      box-shadow: 0px 1px 2px rgba(60, 64, 67, 0.3), 0px 1px 3px 1px rgba(60, 64, 67, 0.15);\n",
              "      fill: #174EA6;\n",
              "    }\n",
              "\n",
              "    .colab-df-buttons div {\n",
              "      margin-bottom: 4px;\n",
              "    }\n",
              "\n",
              "    [theme=dark] .colab-df-convert {\n",
              "      background-color: #3B4455;\n",
              "      fill: #D2E3FC;\n",
              "    }\n",
              "\n",
              "    [theme=dark] .colab-df-convert:hover {\n",
              "      background-color: #434B5C;\n",
              "      box-shadow: 0px 1px 3px 1px rgba(0, 0, 0, 0.15);\n",
              "      filter: drop-shadow(0px 1px 2px rgba(0, 0, 0, 0.3));\n",
              "      fill: #FFFFFF;\n",
              "    }\n",
              "  </style>\n",
              "\n",
              "    <script>\n",
              "      const buttonEl =\n",
              "        document.querySelector('#df-e28ee6c2-1fa8-4842-bb2b-8f44b93658ab button.colab-df-convert');\n",
              "      buttonEl.style.display =\n",
              "        google.colab.kernel.accessAllowed ? 'block' : 'none';\n",
              "\n",
              "      async function convertToInteractive(key) {\n",
              "        const element = document.querySelector('#df-e28ee6c2-1fa8-4842-bb2b-8f44b93658ab');\n",
              "        const dataTable =\n",
              "          await google.colab.kernel.invokeFunction('convertToInteractive',\n",
              "                                                    [key], {});\n",
              "        if (!dataTable) return;\n",
              "\n",
              "        const docLinkHtml = 'Like what you see? Visit the ' +\n",
              "          '<a target=\"_blank\" href=https://colab.research.google.com/notebooks/data_table.ipynb>data table notebook</a>'\n",
              "          + ' to learn more about interactive tables.';\n",
              "        element.innerHTML = '';\n",
              "        dataTable['output_type'] = 'display_data';\n",
              "        await google.colab.output.renderOutput(dataTable, element);\n",
              "        const docLink = document.createElement('div');\n",
              "        docLink.innerHTML = docLinkHtml;\n",
              "        element.appendChild(docLink);\n",
              "      }\n",
              "    </script>\n",
              "  </div>\n",
              "\n",
              "\n",
              "<div id=\"df-bc077831-3e7f-431f-803b-9a2499ac9ae2\">\n",
              "  <button class=\"colab-df-quickchart\" onclick=\"quickchart('df-bc077831-3e7f-431f-803b-9a2499ac9ae2')\"\n",
              "            title=\"Suggest charts\"\n",
              "            style=\"display:none;\">\n",
              "\n",
              "<svg xmlns=\"http://www.w3.org/2000/svg\" height=\"24px\"viewBox=\"0 0 24 24\"\n",
              "     width=\"24px\">\n",
              "    <g>\n",
              "        <path d=\"M19 3H5c-1.1 0-2 .9-2 2v14c0 1.1.9 2 2 2h14c1.1 0 2-.9 2-2V5c0-1.1-.9-2-2-2zM9 17H7v-7h2v7zm4 0h-2V7h2v10zm4 0h-2v-4h2v4z\"/>\n",
              "    </g>\n",
              "</svg>\n",
              "  </button>\n",
              "\n",
              "<style>\n",
              "  .colab-df-quickchart {\n",
              "      --bg-color: #E8F0FE;\n",
              "      --fill-color: #1967D2;\n",
              "      --hover-bg-color: #E2EBFA;\n",
              "      --hover-fill-color: #174EA6;\n",
              "      --disabled-fill-color: #AAA;\n",
              "      --disabled-bg-color: #DDD;\n",
              "  }\n",
              "\n",
              "  [theme=dark] .colab-df-quickchart {\n",
              "      --bg-color: #3B4455;\n",
              "      --fill-color: #D2E3FC;\n",
              "      --hover-bg-color: #434B5C;\n",
              "      --hover-fill-color: #FFFFFF;\n",
              "      --disabled-bg-color: #3B4455;\n",
              "      --disabled-fill-color: #666;\n",
              "  }\n",
              "\n",
              "  .colab-df-quickchart {\n",
              "    background-color: var(--bg-color);\n",
              "    border: none;\n",
              "    border-radius: 50%;\n",
              "    cursor: pointer;\n",
              "    display: none;\n",
              "    fill: var(--fill-color);\n",
              "    height: 32px;\n",
              "    padding: 0;\n",
              "    width: 32px;\n",
              "  }\n",
              "\n",
              "  .colab-df-quickchart:hover {\n",
              "    background-color: var(--hover-bg-color);\n",
              "    box-shadow: 0 1px 2px rgba(60, 64, 67, 0.3), 0 1px 3px 1px rgba(60, 64, 67, 0.15);\n",
              "    fill: var(--button-hover-fill-color);\n",
              "  }\n",
              "\n",
              "  .colab-df-quickchart-complete:disabled,\n",
              "  .colab-df-quickchart-complete:disabled:hover {\n",
              "    background-color: var(--disabled-bg-color);\n",
              "    fill: var(--disabled-fill-color);\n",
              "    box-shadow: none;\n",
              "  }\n",
              "\n",
              "  .colab-df-spinner {\n",
              "    border: 2px solid var(--fill-color);\n",
              "    border-color: transparent;\n",
              "    border-bottom-color: var(--fill-color);\n",
              "    animation:\n",
              "      spin 1s steps(1) infinite;\n",
              "  }\n",
              "\n",
              "  @keyframes spin {\n",
              "    0% {\n",
              "      border-color: transparent;\n",
              "      border-bottom-color: var(--fill-color);\n",
              "      border-left-color: var(--fill-color);\n",
              "    }\n",
              "    20% {\n",
              "      border-color: transparent;\n",
              "      border-left-color: var(--fill-color);\n",
              "      border-top-color: var(--fill-color);\n",
              "    }\n",
              "    30% {\n",
              "      border-color: transparent;\n",
              "      border-left-color: var(--fill-color);\n",
              "      border-top-color: var(--fill-color);\n",
              "      border-right-color: var(--fill-color);\n",
              "    }\n",
              "    40% {\n",
              "      border-color: transparent;\n",
              "      border-right-color: var(--fill-color);\n",
              "      border-top-color: var(--fill-color);\n",
              "    }\n",
              "    60% {\n",
              "      border-color: transparent;\n",
              "      border-right-color: var(--fill-color);\n",
              "    }\n",
              "    80% {\n",
              "      border-color: transparent;\n",
              "      border-right-color: var(--fill-color);\n",
              "      border-bottom-color: var(--fill-color);\n",
              "    }\n",
              "    90% {\n",
              "      border-color: transparent;\n",
              "      border-bottom-color: var(--fill-color);\n",
              "    }\n",
              "  }\n",
              "</style>\n",
              "\n",
              "  <script>\n",
              "    async function quickchart(key) {\n",
              "      const quickchartButtonEl =\n",
              "        document.querySelector('#' + key + ' button');\n",
              "      quickchartButtonEl.disabled = true;  // To prevent multiple clicks.\n",
              "      quickchartButtonEl.classList.add('colab-df-spinner');\n",
              "      try {\n",
              "        const charts = await google.colab.kernel.invokeFunction(\n",
              "            'suggestCharts', [key], {});\n",
              "      } catch (error) {\n",
              "        console.error('Error during call to suggestCharts:', error);\n",
              "      }\n",
              "      quickchartButtonEl.classList.remove('colab-df-spinner');\n",
              "      quickchartButtonEl.classList.add('colab-df-quickchart-complete');\n",
              "    }\n",
              "    (() => {\n",
              "      let quickchartButtonEl =\n",
              "        document.querySelector('#df-bc077831-3e7f-431f-803b-9a2499ac9ae2 button');\n",
              "      quickchartButtonEl.style.display =\n",
              "        google.colab.kernel.accessAllowed ? 'block' : 'none';\n",
              "    })();\n",
              "  </script>\n",
              "</div>\n",
              "\n",
              "  <div id=\"id_53d3942d-118b-41d5-a009-ee92568d9a18\">\n",
              "    <style>\n",
              "      .colab-df-generate {\n",
              "        background-color: #E8F0FE;\n",
              "        border: none;\n",
              "        border-radius: 50%;\n",
              "        cursor: pointer;\n",
              "        display: none;\n",
              "        fill: #1967D2;\n",
              "        height: 32px;\n",
              "        padding: 0 0 0 0;\n",
              "        width: 32px;\n",
              "      }\n",
              "\n",
              "      .colab-df-generate:hover {\n",
              "        background-color: #E2EBFA;\n",
              "        box-shadow: 0px 1px 2px rgba(60, 64, 67, 0.3), 0px 1px 3px 1px rgba(60, 64, 67, 0.15);\n",
              "        fill: #174EA6;\n",
              "      }\n",
              "\n",
              "      [theme=dark] .colab-df-generate {\n",
              "        background-color: #3B4455;\n",
              "        fill: #D2E3FC;\n",
              "      }\n",
              "\n",
              "      [theme=dark] .colab-df-generate:hover {\n",
              "        background-color: #434B5C;\n",
              "        box-shadow: 0px 1px 3px 1px rgba(0, 0, 0, 0.15);\n",
              "        filter: drop-shadow(0px 1px 2px rgba(0, 0, 0, 0.3));\n",
              "        fill: #FFFFFF;\n",
              "      }\n",
              "    </style>\n",
              "    <button class=\"colab-df-generate\" onclick=\"generateWithVariable('train_df')\"\n",
              "            title=\"Generate code using this dataframe.\"\n",
              "            style=\"display:none;\">\n",
              "\n",
              "  <svg xmlns=\"http://www.w3.org/2000/svg\" height=\"24px\"viewBox=\"0 0 24 24\"\n",
              "       width=\"24px\">\n",
              "    <path d=\"M7,19H8.4L18.45,9,17,7.55,7,17.6ZM5,21V16.75L18.45,3.32a2,2,0,0,1,2.83,0l1.4,1.43a1.91,1.91,0,0,1,.58,1.4,1.91,1.91,0,0,1-.58,1.4L9.25,21ZM18.45,9,17,7.55Zm-12,3A5.31,5.31,0,0,0,4.9,8.1,5.31,5.31,0,0,0,1,6.5,5.31,5.31,0,0,0,4.9,4.9,5.31,5.31,0,0,0,6.5,1,5.31,5.31,0,0,0,8.1,4.9,5.31,5.31,0,0,0,12,6.5,5.46,5.46,0,0,0,6.5,12Z\"/>\n",
              "  </svg>\n",
              "    </button>\n",
              "    <script>\n",
              "      (() => {\n",
              "      const buttonEl =\n",
              "        document.querySelector('#id_53d3942d-118b-41d5-a009-ee92568d9a18 button.colab-df-generate');\n",
              "      buttonEl.style.display =\n",
              "        google.colab.kernel.accessAllowed ? 'block' : 'none';\n",
              "\n",
              "      buttonEl.onclick = () => {\n",
              "        google.colab.notebook.generateWithVariable('train_df');\n",
              "      }\n",
              "      })();\n",
              "    </script>\n",
              "  </div>\n",
              "\n",
              "    </div>\n",
              "  </div>\n"
            ],
            "application/vnd.google.colaboratory.intrinsic+json": {
              "type": "dataframe",
              "variable_name": "train_df",
              "summary": "{\n  \"name\": \"train_df\",\n  \"rows\": 3168,\n  \"fields\": [\n    {\n      \"column\": \"writer\",\n      \"properties\": {\n        \"dtype\": \"number\",\n        \"std\": 1,\n        \"min\": 0,\n        \"max\": 3,\n        \"num_unique_values\": 4,\n        \"samples\": [\n          1,\n          3,\n          0\n        ],\n        \"semantic_type\": \"\",\n        \"description\": \"\"\n      }\n    },\n    {\n      \"column\": \"text\",\n      \"properties\": {\n        \"dtype\": \"string\",\n        \"num_unique_values\": 3078,\n        \"samples\": [\n          \"\\u0432\\u043d\\u0443\\u0448\\u0438 \\u0437\\u0435\\u043c\\u043b\\u044f \\u0440\\u0435\\u043a\\u044a \\u0431\\u043e\\u0433\\u044a \\u0432\\u043d\\u0435\\u043c\\u043b\\u0438\\u0442\\u0435 \\u043d\\u0435\\u0431\\u0435\\u0441\\u0430 \\u0438 \\u0433\\u043e\\u0440\\u044b \\u0438 \\u0434\\u043e\\u043b\\u044b \\u0438 \\u043c\\u043e\\u0440\\u0435 \\u0438 \\u043b\\u0435\\u0441\\u0430 \\u043e\\u0442\\u0442\\u043e\\u0440\\u0433\\u043b\\u0438\\u0441\\u044c \\u043e\\u0442\\u044a \\u043c\\u0435\\u043d\\u044f \\u0441\\u0432\\u043e\\u0435\\u044e \\u0437\\u043b\\u043e\\u0439 \\u0432\\u0438\\u043d\\u043e\\u044e \\u0432\\u043e\\u0441\\u043f\\u0438\\u0442\\u0430\\u043d\\u043d\\u044b\\u044f \\u043c\\u043d\\u043e\\u044e \\u043f\\u0435\\u0440\\u0435\\u043b\\u044a \\u043f\\u0430\\u0441\\u0443\\u0449\\u0438\\u043c\\u0438 \\u0441\\u043a\\u043e\\u0442\\u0438\\u043d\\u0430 \\u0438\\u0445\\u044a \\u0442\\u0438\\u0445\\u0430 \\u0438 \\u0430\\u0433\\u043d\\u0446\\u044b \\u0438 \\u0432\\u043e\\u043b\\u044b \\u0432\\u0441\\u0435 \\u0437\\u043d\\u0430\\u044e\\u0442\\u044a \\u043f\\u0430\\u0441\\u0442\\u0443\\u0445\\u0430 \\u043c\\u0435\\u043d\\u044f \\u0438\\u0437\\u0440\\u0430\\u0438\\u043b\\u044c\\u0441\\u043a\\u0456\\u0439 \\u043d\\u0430\\u0440\\u043e\\u0434\\u044a \\u043d\\u0435 \\u043f\\u043e\\u0437\\u043d\\u0430\\u0432\\u0430\\u0435\\u0442\\u044a \\u043d\\u0435 \\u0447\\u0442\\u0438\\u0442\\u044a \\u0438 \\u0437\\u0430\\u0431\\u044b\\u0432\\u0430\\u0435\\u0442\\u044a \\u043e \\u0431\\u0435\\u0437\\u0437\\u0430\\u043a\\u043e\\u043d\\u043d\\u0438\\u043a\\u0438 \\u043b\\u0443\\u043a\\u0430\\u0432\\u0441\\u0442\\u0432\\u0430 \\u0441\\u0435\\u043c\\u0435\\u043d\\u0430 \\u043f\\u0440\\u043e\\u0442\\u0438\\u0432\\u043d\\u044b \\u0432\\u0430\\u0448\\u0438 \\u043c\\u043d\\u0435 \\u0438 \\u0436\\u0430\\u043b\\u043a\\u0438 \\u043f\\u043b\\u0435\\u043c\\u0435\\u043d\\u0430 \\u0437\\u0430\\u0431\\u044b\\u043b\\u0438 \\u0432\\u044b \\u0447\\u0442\\u043e \\u044f \\u043c\\u043e\\u0433\\u0443\\u0449\\u044a \\u0438 \\u0432\\u0430\\u043c\\u044a \\u0441\\u043e\\u0434\\u0435\\u0442\\u0435\\u043b\\u044c \\u043e\\u0442\\u0435\\u0446\\u044a \\u0438 \\u0431\\u043b\\u0430\\u0433\\u043e\\u0434\\u0435\\u0442\\u0435\\u043b\\u044c \\u0443\\u0433\\u0430\\u0441\\u043b\\u0430 \\u0432\\u044a \\u0432\\u0430\\u0441\\u044a \\u043b\\u044e\\u0431\\u043e\\u0432\\u044c \\u0438\\u0441\\u0447\\u0435\\u0437\\u043b\\u0430 \\u0432\\u044a \\u0432\\u0430\\u0441\\u044a \\u0431\\u043e\\u044f\\u0437\\u043d\\u044c \\u043d\\u043e \\u043a\\u043e\\u044e \\u0443\\u0447\\u0438\\u043d\\u044e \\u0435\\u0449\\u0435 \\u0432\\u0430\\u043c\\u044a \\u043b\\u044e\\u0442\\u0443 \\u043a\\u0430\\u0437\\u043d\\u044c \\u0438 \\u043d\\u0435 \\u0434\\u043e\\u0432\\u043e\\u043b\\u044c\\u043d\\u043e \\u043b\\u0438 \\u0432\\u044b \\u043d\\u044b\\u043d\\u0435 \\u0441\\u043e\\u043a\\u0440\\u0443\\u0448\\u0435\\u043d\\u043d\\u044b \\u0432\\u0441\\u0435\\u0433\\u043e \\u0432\\u0441\\u0435\\u0433\\u043e \\u043b\\u0438\\u0448\\u0435\\u043d\\u043d\\u044b \\u0441\\u0442\\u0440\\u0430\\u043d\\u0443 \\u0440\\u043e\\u0434\\u0438\\u0442\\u0435\\u043b\\u044c\\u0441\\u043a\\u0443 \\u043f\\u0443\\u0441\\u0442\\u044b\\u043d\\u0435\\u0439 \\u043e\\u0447\\u0438 \\u0437\\u0440\\u044f\\u0442\\u044a \\u043f\\u044b\\u043b\\u0430\\u0435\\u0442\\u044a \\u0432\\u044a \\u043e\\u0431\\u043b\\u0430\\u043a\\u0430\\u0445\\u044a \\u043e\\u0433\\u043d\\u044c \\u0433\\u0440\\u0430\\u0434\\u044b \\u0432\\u0441\\u0435 \\u0433\\u043e\\u0440\\u044f\\u0442\\u044a \\u0432\\u0430\\u043b\\u044f\\u0442\\u0441\\u044f \\u0441\\u0442\\u0435\\u043d\\u044b \\u0438\\u0445\\u044a \\u0431\\u044b\\u0432\\u044a \\u043f\\u0440\\u0435\\u0436\\u0434\\u0435 \\u0433\\u043e\\u0440\\u0434\\u0435\\u043b\\u0438\\u0432\\u044b \\u043f\\u0440\\u0438\\u0448\\u0435\\u043b\\u044c\\u0446\\u044b \\u0433\\u0440\\u0430\\u0431\\u044f\\u0442\\u044a \\u043d\\u0438\\u0432\\u044b \\u0432\\u043e \\u043a\\u0440\\u0430\\u0439\\u043d\\u043e\\u0439 \\u0431\\u0435\\u0434\\u043d\\u043e\\u0441\\u0442\\u0438 \\u0442\\u0430\\u043a\\u0443\\u044e \\u0437\\u0440\\u044f \\u0441\\u0443\\u0434\\u044c\\u0431\\u0443 \\u0435\\u0434\\u0432\\u0430 \\u0432\\u044b \\u043c\\u043e\\u0436\\u0435\\u0442\\u0435 \\u0443\\u0442\\u043e\\u043b\\u0435\\u0432\\u0430\\u0442\\u044c \\u0430\\u043b\\u0447\\u0431\\u0443 \\u0438\\u043c\\u0435\\u043d\\u044c\\u0435 \\u0432\\u0430\\u0448\\u0435 \\u0432\\u0441\\u0435 \\u0432\\u044a \\u0447\\u0443\\u0436\\u0456\\u044f \\u0440\\u0443\\u043a\\u0438 \\u043f\\u0430\\u043b\\u043e \\u0441\\u043e\\u043a\\u0440\\u043e\\u0432\\u0438\\u0449\\u0435 \\u043f\\u0440\\u043e\\u043f\\u0430\\u043b\\u043e \\u043a\\u043e\\u0433\\u0434\\u0430 \\u0431\\u044b \\u043d\\u0435 \\u0438\\u043c\\u0435\\u043b\\u044a \\u043e\\u0441\\u0442\\u0430\\u0442\\u043a\\u043e\\u0432\\u044a \\u0441\\u0438\\u0445\\u044a \\u0441\\u0456\\u043e\\u043d\\u044a \\u043a\\u043e \\u043f\\u0440\\u043e\\u043f\\u0438\\u0442\\u0430\\u043d\\u0456\\u044e \\u043a\\u0443\\u0434\\u0430 \\u0431\\u044b \\u0434\\u0435\\u043b\\u0441\\u044f \\u043e\\u043d\\u044a \\u0441\\u043e\\u0434\\u043e\\u043c\\u0443 \\u0431\\u044b \\u0442\\u043e\\u0433\\u0434\\u0430 \\u0433\\u043e\\u043c\\u043e\\u0440\\u0440\\u0435 \\u0431\\u044b\\u043b\\u044a \\u043f\\u043e\\u0434\\u043e\\u0431\\u0435\\u043d\\u044a \\u043f\\u043e\\u0434\\u044a\\u044f\\u0442\\u044c\\u0441\\u044f \\u043d\\u0435 \\u0441\\u043f\\u043e\\u0441\\u043e\\u0431\\u0435\\u043d\\u044a \\u043d\\u0430 \\u0447\\u0442\\u043e \\u0432\\u044b \\u043c\\u043d\\u043e\\u0436\\u0435\\u0441\\u0442\\u0432\\u043e \\u043f\\u0440\\u0438\\u043d\\u043e\\u0441\\u0438\\u0442\\u0435 \\u043c\\u043d\\u0435 \\u0436\\u0435\\u0440\\u0442\\u0432\\u044a \\u0438 \\u0430\\u0433\\u043d\\u0435\\u0446\\u044a \\u043f\\u0440\\u0435\\u0434\\u043e \\u043c\\u043d\\u043e\\u0439 \\u043b\\u0435\\u0436\\u0438\\u0442\\u044a \\u0443\\u0431\\u0438\\u0442\\u044b\\u0439 \\u043c\\u0435\\u0440\\u0442\\u0432\\u044a \\u0432\\u043e \\u0432\\u0441\\u0435\\u0441\\u043e\\u0436\\u0436\\u0435\\u043d\\u0456\\u0438 \\u043a\\u044a \\u0447\\u0435\\u043c\\u0443 \\u0432\\u0430\\u0448\\u044a \\u043e\\u0433\\u043d\\u044c \\u043f\\u044b\\u043b\\u0430\\u0435\\u0442\\u044a \\u0442\\u043e\\u0433\\u043e \\u043b\\u0438 \\u0431\\u043e\\u0433\\u044a \\u0436\\u0435\\u043b\\u0430\\u0435\\u0442\\u044a \\u043d\\u0435 \\u043e\\u0431\\u0440\\u0430\\u0449\\u0443 \\u043e\\u0447\\u0435\\u0439 \\u043a\\u044a \\u0437\\u0430\\u043a\\u043b\\u0430\\u043d\\u043d\\u044b\\u043c\\u044a \\u044f \\u0441\\u043a\\u043e\\u0442\\u0430\\u043c\\u044a \\u043a\\u0430\\u0434\\u0438\\u043b\\u0430 \\u0432\\u0430\\u0448\\u0435\\u0433\\u043e \\u043c\\u043d\\u0435 \\u043c\\u0435\\u0440\\u0437\\u043e\\u043a\\u044a \\u0473\\u0438\\u043c\\u0456\\u044f\\u043c\\u044a \\u0442\\u043e\\u0440\\u0436\\u0435\\u0441\\u0442\\u0432\\u043e\\u0432\\u0430\\u043d\\u0456\\u044f \\u043a\\u043e\\u043b\\u044c \\u0432\\u044b \\u0442\\u043e\\u043b\\u0438\\u043a\\u043e \\u0437\\u043b\\u043e\\u0441\\u043d\\u044b \\u0438 \\u043f\\u0440\\u0430\\u0437\\u0434\\u043d\\u0438\\u043a\\u0438 \\u043d\\u0435 \\u0441\\u043d\\u043e\\u0441\\u043d\\u044b \\u043a\\u044a \\u0432\\u0430\\u043c\\u044a \\u0431\\u043e\\u043b\\u044c\\u0448\\u0435 \\u043d\\u0438 \\u043d\\u0430 \\u0447\\u0442\\u043e \\u043e\\u0447\\u0435\\u0439 \\u043d\\u0435 \\u043e\\u0431\\u0440\\u0430\\u0449\\u0443 \\u0438 \\u0432\\u043e\\u0437\\u0434\\u0430\\u044f\\u043d\\u044c\\u044f \\u0440\\u0443\\u043a\\u044a \\u044f \\u0432\\u0438\\u0434\\u0435\\u0442\\u044c \\u043d\\u0435 \\u0445\\u043e\\u0449\\u0443 \\u0443\\u0441\\u0435\\u0440\\u0434\\u044c\\u044f \\u043d\\u0435\\u0442\\u044a \\u043a\\u043e \\u043c\\u043d\\u0435 \\u043d\\u0438 \\u043a\\u044a \\u0431\\u043b\\u0438\\u0436\\u043d\\u0435\\u043c\\u0443 \\u043b\\u044e\\u0431\\u043e\\u0432\\u0438 \\u0438 \\u0440\\u0443\\u043a\\u0438 \\u043f\\u043e\\u043b\\u043d\\u044b \\u043a\\u0440\\u043e\\u0432\\u0438 \\u043e\\u043c\\u043e\\u0439\\u0442\\u0435 \\u0441\\u043e\\u0432\\u0435\\u0441\\u0442\\u044c \\u0432\\u044b \\u043e\\u0447\\u0438\\u0441\\u0442\\u0438\\u0442\\u0435 \\u0441\\u0432\\u043e\\u0439 \\u0434\\u0443\\u0445\\u044a \\u0438 \\u043e\\u0442\\u0432\\u0440\\u0430\\u0442\\u0438\\u0432\\u044a \\u043e\\u0442\\u044a \\u0437\\u043b\\u0430 \\u0438 \\u0437\\u0440\\u0435\\u043d\\u0456\\u0435 \\u0438 \\u0441\\u043b\\u0443\\u0445\\u044a \\u043f\\u0440\\u0435\\u0441\\u0442\\u0430\\u043d\\u044c\\u0442\\u0435 \\u043b\\u043e\\u0436\\u043d\\u044b\\u044f \\u0432\\u044b \\u0440\\u0435\\u0447\\u0438 \\u0433\\u043e\\u0432\\u043e\\u0440\\u0438\\u0442\\u044c \\u0438 \\u0437\\u043b\\u044b \\u0434\\u0435\\u043b\\u0430 \\u0442\\u0432\\u043e\\u0440\\u0438\\u0442\\u044c \\u0438 \\u043e\\u0442\\u0432\\u0435\\u0440\\u0433\\u0430\\u044e \\u0432\\u0441\\u0435 \\u044f \\u0432\\u0430\\u0448\\u0438 \\u0436\\u0435\\u0440\\u0442\\u0432\\u044b \\u043f\\u0440\\u043e\\u0447\\u044c \\u043a\\u043e\\u0433\\u0434\\u0430 \\u043d\\u0435 \\u0445\\u043e\\u0449\\u0435\\u0442\\u0435 \\u0432\\u044b \\u0431\\u0435\\u0434\\u043d\\u043e\\u043c\\u0443 \\u043f\\u043e\\u043c\\u043e\\u0447\\u044c \\u0441\\u043f\\u0430\\u0441\\u0438\\u0442\\u0435 \\u0441\\u0438\\u0440\\u043e\\u0442\\u0443 \\u0432\\u0434\\u043e\\u0432\\u0438\\u0446\\u0443 \\u0441\\u043e\\u0431\\u0440\\u0435\\u0433\\u0438\\u0442\\u0435 \\u0433\\u043e\\u043d\\u0438\\u043c\\u0443 \\u043f\\u043e\\u043c\\u043e\\u0433\\u0438\\u0442\\u0435 \\u043a\\u043e\\u0433\\u0434\\u0430 \\u0441\\u043c\\u044f\\u0433\\u0447\\u0438\\u0442\\u0435\\u0441\\u044c \\u0432\\u044b \\u0441\\u043c\\u044f\\u0433\\u0447\\u0443\\u0441\\u044c \\u0442\\u043e\\u0433\\u0434\\u0430 \\u0438 \\u044f \\u0438 \\u0431\\u0443\\u0434\\u0443 \\u0432\\u0430\\u043c\\u044a \\u043e\\u0442\\u0435\\u0446\\u044a \\u0430 \\u043d\\u044b\\u0447\\u0435 \\u0441\\u0443\\u0434\\u0456\\u044f \\u0442\\u043e\\u0433\\u0434\\u0430 \\u043c\\u043e\\u0439 \\u043f\\u0440\\u0430\\u0432\\u0435\\u0434\\u043d\\u044b\\u0439 \\u043d\\u0430 \\u0432\\u0430\\u0441\\u044a \\u044f \\u0433\\u043d\\u0435\\u0432\\u044a \\u043e\\u0441\\u0442\\u0430\\u0432\\u043b\\u044e \\u0438 \\u0432\\u0430\\u0441\\u044a \\u043e\\u0442\\u044a \\u0431\\u0435\\u0434\\u044a \\u0438\\u0437\\u0431\\u0430\\u0432\\u043b\\u044e\",\n          \"\\u0443\\u0437\\u043a\\u0430\\u044f \\u043f\\u043e\\u043b\\u043e\\u0441\\u043a\\u0430 \\u0441\\u0438\\u043d\\u0435\\u0433\\u043e \\u043b\\u0438\\u043c\\u0430\\u043d\\u0430 \\u0436\\u0435\\u043b\\u0442\\u0430\\u044f \\u043f\\u0443\\u0441\\u0442\\u044b\\u043d\\u044f \\u0432\\u044b\\u0436\\u0436\\u0435\\u043d\\u043d\\u044b\\u0445 \\u043f\\u0435\\u0441\\u043a\\u043e\\u0432 \\u0433\\u043e\\u0440\\u043e\\u0434 \\u0438\\u0437\\u043c\\u0435\\u043d\\u0435\\u043d\\u043d\\u044b\\u0439 \\u0434\\u044b\\u043c\\u043a\\u043e\\u044e \\u0442\\u0443\\u043c\\u0430\\u043d\\u0430 \\u043c\\u0435\\u0434\\u043b\\u0435\\u043d\\u043d\\u044b\\u0435 \\u0442\\u0435\\u043d\\u0438 \\u0431\\u0435\\u043b\\u044b\\u0445 \\u043e\\u0431\\u043b\\u0430\\u043a\\u043e\\u0432 \\u0447\\u0430\\u0445\\u043b\\u0430\\u044f \\u0442\\u0440\\u0430\\u0432\\u0430 \\u0438\\u0437\\u043c\\u0443\\u0447\\u0435\\u043d\\u043d\\u0430\\u044f \\u0437\\u043d\\u043e\\u0435\\u043c \\u0432\\u0434\\u043e\\u043b\\u044c \\u043f\\u0440\\u044f\\u043c\\u043e\\u0439 \\u0434\\u043e\\u0440\\u043e\\u0433\\u0438 \\u0441\\u0435\\u0440\\u044b\\u0435 \\u0441\\u0442\\u043e\\u043b\\u0431\\u044b \\u0432\\u0441\\u0435 \\u0437\\u0434\\u0435\\u0441\\u044c \\u0434\\u044b\\u0448\\u0438\\u0442 \\u0441\\u043a\\u0443\\u0447\\u043d\\u044b\\u043c \\u0442\\u044f\\u0433\\u043e\\u0441\\u0442\\u043d\\u044b\\u043c \\u043f\\u043e\\u043a\\u043e\\u0435\\u043c \\u0432\\u0441\\u044e\\u0434\\u0443 \\u0437\\u0434\\u0435\\u0441\\u044c \\u043d\\u0435\\u0434\\u0432\\u0438\\u0436\\u043d\\u043e\\u0441\\u0442\\u044c \\u043f\\u0430\\u0441\\u043c\\u0443\\u0440\\u043d\\u043e\\u0439 \\u0441\\u0443\\u0434\\u044c\\u0431\\u044b \\u0442\\u043e\\u043b\\u044c\\u043a\\u043e \\u0432\\u0435\\u0447\\u043d\\u044b\\u0439 \\u0432\\u0435\\u0442\\u0435\\u0440 \\u043d\\u043e\\u0441\\u0438\\u0442\\u0441\\u044f \\u0431\\u0435\\u0441\\u0446\\u0435\\u043b\\u044c\\u043d\\u043e \\u0434\\u0443\\u0448\\u043d\\u044b\\u043c \\u0434\\u0443\\u043d\\u043e\\u0432\\u0435\\u043d\\u044c\\u0435\\u043c \\u0434\\u0443\\u0445\\u043e\\u043c \\u043c\\u0435\\u0440\\u0442\\u0432\\u0435\\u0446\\u0430 \\u0442\\u043e\\u043b\\u044c\\u043a\\u043e \\u043e\\u0431\\u043b\\u0430\\u043a\\u0430 \\u043f\\u0440\\u043e\\u0445\\u043e\\u0434\\u044f\\u0442 \\u0431\\u0435\\u0441\\u043f\\u0440\\u0435\\u0434\\u0435\\u043b\\u044c\\u043d\\u043e \\u0441\\u043a\\u0443\\u0447\\u043d\\u043e\\u044e \\u0442\\u043e\\u043b\\u043f\\u043e\\u0439 \\u043f\\u0440\\u043e\\u0445\\u043e\\u0434\\u044f\\u0442 \\u0431\\u0435\\u0437 \\u043a\\u043e\\u043d\\u0446\\u0430\",\n          \"\\u0431\\u044b\\u0432\\u0430\\u044e\\u0442 \\u0441\\u043e\\u0431\\u044b\\u0442\\u0438\\u044f \\u0441\\u043b\\u0443\\u0447\\u0430\\u0442\\u0441\\u044f \\u0440\\u0430\\u0437 \\u0438\\u0437 \\u0441\\u0435\\u0440\\u0434\\u0446\\u0430 \\u0432\\u044b\\u0441\\u0435\\u043a\\u0443\\u0442 \\u0444\\u0440\\u0430\\u0437\\u0443 \\u0438 \\u0433\\u043e\\u0434\\u044b \\u043d\\u0435 \\u0432\\u044b\\u0434\\u0443\\u043c\\u0430\\u0442\\u044c \\u043b\\u0443\\u0447\\u0448\\u0438\\u0445 \\u0444\\u0440\\u0430\\u0437 \\u0447\\u0435\\u043c \\u0441\\u043a\\u0430\\u0437\\u0430\\u043d\\u043d\\u0430\\u044f \\u0441\\u0440\\u0430\\u0437\\u0443 \\u0442\\u0430\\u043a\\u043e\\u0432 \\u0438 \\u0432 \\u043f\\u0438\\u0442\\u0435\\u0440 \\u043b\\u0435\\u043d\\u0438\\u043d\\u0441\\u043a\\u0438\\u0439 \\u0432\\u044a\\u0435\\u0437\\u0434 \\u043d\\u0430 \\u0431\\u0430\\u0448\\u043d\\u0435 \\u0431\\u0440\\u043e\\u043d\\u0435\\u0432\\u0438\\u043a\\u0430 \\u0441 \\u0442\\u0435\\u0445 \\u043f\\u043e\\u0440 \\u0441\\u043b\\u043e\\u0432\\u0430 \\u0438 \\u0432\\u043e\\u0441\\u0442\\u043e\\u0440\\u0433 \\u043c\\u043e\\u0439 \\u043d\\u0435 \\u0435\\u0441\\u0442 \\u043d\\u0438 \\u0434\\u0435\\u043d\\u044c \\u043d\\u0438 \\u0433\\u043e\\u0434 \\u043d\\u0438 \\u0432\\u0435\\u043a\\u0430 \\u0432\\u0441\\u0435 \\u0442\\u0430\\u043a \\u0436\\u0435 \\u0432\\u0441\\u043a\\u0438\\u043f\\u0430\\u044e\\u0442 \\u043e\\u0442 \\u044d\\u0442\\u043e\\u0439 \\u0434\\u0430\\u0442\\u044b \\u0434\\u0443\\u0448\\u0438 \\u0444\\u0430\\u0431\\u0440\\u0438\\u043a \\u0438 \\u0445\\u0430\\u0442 \\u0438 \\u044f \\u043f\\u0440\\u0438\\u0432\\u043e\\u0436\\u0443 \\u0432\\u0430\\u043c \\u043f\\u0440\\u043e\\u0441\\u0442\\u043e \\u0446\\u0438\\u0442\\u0430\\u0442\\u044b \\u0438\\u0437 \\u0441\\u0435\\u0440\\u0434\\u0446\\u0430 \\u0438 \\u0438\\u0437 \\u0441\\u0442\\u0438\\u0445\\u0430 \\u0444\\u0435\\u0432\\u0440\\u0430\\u043b\\u044c\\u0441\\u043a\\u043e\\u0435 \\u043f\\u043b\\u0430\\u043c\\u044f \\u043f\\u043e\\u043c\\u0435\\u0440\\u043a\\u043b\\u043e \\u0431\\u044b\\u0441\\u0442\\u0440\\u043e \\u0432 \\u0440\\u0435\\u0447\\u0430\\u0445 \\u0443\\u0442\\u043e\\u043f\\u0438\\u043b\\u0438 \\u0440\\u0430\\u0434\\u043e\\u0441\\u0442\\u044c \\u0444\\u0435\\u0432\\u0440\\u0430\\u043b\\u044c\\u0441\\u043a\\u0443\\u044e \\u0434\\u0435\\u0441\\u044f\\u0442\\u044c \\u043c\\u0438\\u043d\\u0438\\u0441\\u0442\\u0440\\u043e\\u0432 \\u043a\\u0430\\u043f\\u0438\\u0442\\u0430\\u043b\\u0438\\u0441\\u0442\\u043e\\u0432 \\u0443\\u0436\\u0435 \\u043d\\u0430 \\u0431\\u0443\\u0440\\u0436\\u0443\\u0435\\u0432 \\u0441\\u043c\\u043e\\u0442\\u0440\\u044f\\u0442 \\u0441 \\u043b\\u0430\\u0441\\u043a\\u043e\\u044e \\u043a\\u0443\\u043f\\u0430\\u043b\\u0441\\u044f \\u043a\\u0435\\u0440\\u0435\\u043d\\u0441\\u043a\\u0438\\u0439 \\u0432 \\u0441\\u0432\\u043e\\u0435\\u0439 \\u043f\\u043e\\u0431\\u0435\\u0434\\u0435 \\u0437\\u0430\\u0434\\u0430\\u0432 \\u0440\\u0435\\u0432\\u043e\\u043b\\u044e\\u0446\\u0438\\u0438 \\u0430\\u0434\\u0432\\u043e\\u043a\\u0430\\u0442\\u0441\\u043a\\u0438\\u0439 \\u0442\\u043e\\u043d \\u043d\\u043e \\u0432\\u043e\\u0442 \\u043f\\u043e\\u0448\\u043b\\u043e \\u043f\\u043e \\u0437\\u0430\\u0432\\u043e\\u0434\\u0443 \\u0435\\u0434\\u0435\\u0442 \\u0435\\u0434\\u0435\\u0442 \\u043a\\u0442\\u043e \\u0435\\u0434\\u0435\\u0442 \\u043e\\u043d \\u0438 \\u0432 \\u0433\\u043e\\u0440\\u043e\\u0434 \\u0443\\u0436\\u0435 \\u0437\\u0430\\u043f\\u043b\\u044b\\u0432\\u0430\\u044e\\u0449\\u0438\\u0439 \\u0441\\u0430\\u043b\\u043e\\u043c \\u0432\\u0434\\u0440\\u0443\\u0433 \\u043e\\u0442\\u0442\\u0443\\u0434\\u0430 \\u0438\\u0437\\u0437\\u0430 \\u043d\\u0435\\u0432\\u044b \\u0441 \\u0444\\u0438\\u043d\\u043b\\u044f\\u043d\\u0434\\u0441\\u043a\\u043e\\u0433\\u043e \\u0432\\u043e\\u043a\\u0437\\u0430\\u043b\\u0430 \\u043f\\u043e \\u0432\\u044b\\u0431\\u043e\\u0440\\u0433\\u0441\\u043a\\u043e\\u0439 \\u0437\\u0430\\u0433\\u0440\\u043e\\u0445\\u043e\\u0442\\u0430\\u043b \\u0431\\u0440\\u043e\\u043d\\u0435\\u0432\\u0438\\u043a \\u0431\\u044b\\u043b\\u0430 \\u043f\\u0440\\u043e\\u0441\\u0442\\u0430\\u044f \\u043c\\u0430\\u0448\\u0438\\u043d\\u0430 \\u044d\\u0442\\u0430 \\u043a\\u0430\\u043a \\u043c\\u043d\\u043e\\u0433\\u0438\\u0435 \\u0448\\u043b\\u0430 \\u043d\\u0430\\u0434 \\u043d\\u0435\\u0432\\u043e\\u044e \\u043f\\u0440\\u043e\\u0448\\u043b\\u0430 \\u0430 \\u043d\\u044b\\u043d\\u0447\\u0435 \\u043f\\u043e \\u0446\\u0435\\u043b\\u043e\\u043c\\u0443 \\u0441\\u0432\\u0435\\u0442\\u0443 \\u0434\\u044b\\u0445\\u0430\\u043d\\u044c\\u0435 \\u0435\\u0435 \\u0431\\u0440\\u043e\\u043d\\u0435\\u0432\\u043e\\u0435 \\u0438 \\u0441\\u043d\\u043e\\u0432\\u0430 \\u0432\\u0435\\u0442\\u0435\\u0440 \\u0441\\u0432\\u0435\\u0436\\u0438\\u0439 \\u0438 \\u043a\\u0440\\u0435\\u043f\\u043a\\u0438\\u0439 \\u0432\\u0430\\u043b\\u044b \\u0440\\u0435\\u0432\\u043e\\u043b\\u044e\\u0446\\u0438\\u0438 \\u043f\\u043e\\u0434\\u043d\\u044f\\u043b \\u0432 \\u043f\\u0435\\u043d\\u0435 \\u043b\\u0438\\u0442\\u0435\\u0439\\u043d\\u044b\\u0439 \\u0437\\u0430\\u043b\\u0438\\u043b\\u0438 \\u0431\\u043b\\u0443\\u0437\\u044b \\u0438 \\u043a\\u0435\\u043f\\u043a\\u0438 \\u043b\\u0435\\u043d\\u0438\\u043d \\u0441 \\u043d\\u0430\\u043c\\u0438 \\u0434\\u0430 \\u0437\\u0434\\u0440\\u0430\\u0432\\u0441\\u0442\\u0432\\u0443\\u0435\\u0442 \\u043b\\u0435\\u043d\\u0438\\u043d \\u0438 \\u0441 \\u044d\\u0442\\u0438\\u0445 \\u0434\\u043d\\u0435\\u0439 \\u0432\\u0435\\u0437\\u0434\\u0435 \\u0438 \\u0432\\u043e \\u0432\\u0441\\u0435\\u043c \\u0438\\u043c\\u044f \\u043b\\u0435\\u043d\\u0438\\u043d\\u0430 \\u0441 \\u043d\\u0430\\u043c\\u0438 \\u043c\\u044b \\u0431\\u0443\\u0434\\u0435\\u043c \\u043d\\u0435\\u0441\\u0442\\u0438 \\u043d\\u0435\\u0441\\u043b\\u0438 \\u0438 \\u043d\\u0435\\u0441\\u0435\\u043c \\u0435\\u0433\\u043e \\u0438\\u043b\\u044c\\u0438\\u0447\\u0435\\u0432\\u043e \\u0437\\u043d\\u0430\\u043c\\u044f \\u0442\\u043e\\u0432\\u0430\\u0440\\u0438\\u0449\\u0438 \\u0438 \\u043d\\u0430\\u0434 \\u0433\\u043e\\u043b\\u043e\\u0432\\u043e\\u044e \\u043f\\u0435\\u0440\\u0432\\u044b\\u0445 \\u0441\\u043e\\u0442\\u0435\\u043d \\u0432\\u043f\\u0435\\u0440\\u0435\\u0434 \\u0432\\u0435\\u0434\\u0443\\u0449\\u0443\\u044e \\u0440\\u0443\\u043a\\u0443 \\u0432\\u044b\\u0441\\u0442\\u0430\\u0432\\u0438\\u043b \\u0441\\u0431\\u0440\\u043e\\u0441\\u0438\\u043c \\u044d\\u0441\\u0434\\u0435\\u0447\\u0435\\u0441\\u0442\\u0432\\u0430 \\u043e\\u0431\\u0432\\u0435\\u0442\\u0448\\u0430\\u0432\\u0448\\u0438\\u0435 \\u043b\\u043e\\u0445\\u043c\\u043e\\u0442\\u044c\\u044f \\u0434\\u043e\\u043b\\u043e\\u0439 \\u0432\\u043b\\u0430\\u0441\\u0442\\u044c \\u0441\\u043e\\u0433\\u043b\\u0430\\u0448\\u0430\\u0442\\u0435\\u043b\\u0435\\u0439 \\u0438 \\u043a\\u0430\\u043f\\u0438\\u0442\\u0430\\u043b\\u0438\\u0441\\u0442\\u043e\\u0432 \\u0442\\u043e\\u0433\\u0434\\u0430 \\u0440\\u0430\\u0431\\u043e\\u0447\\u0438\\u0439 \\u0432\\u043f\\u0435\\u0440\\u0432\\u044b\\u0435 \\u0441\\u043f\\u0440\\u043e\\u0448\\u0435\\u043d\\u043d\\u044b\\u0439 \\u0435\\u0449\\u0435 \\u043d\\u0435\\u0441\\u0442\\u0440\\u043e\\u0439\\u043d\\u043e \\u043e\\u0442\\u0432\\u0435\\u0447\\u0430\\u043b \\u0433\\u043e\\u0442\\u043e\\u0432 \\u0430 \\u0441\\u0435\\u0433\\u043e\\u0434\\u043d\\u044f \\u0431\\u0443\\u0440\\u0436\\u0443\\u0439 \\u0440\\u0430\\u0441\\u043f\\u043b\\u0430\\u0441\\u0442\\u0430\\u043d \\u0441\\u0431\\u0440\\u043e\\u0448\\u0435\\u043d\\u043d\\u044b\\u0439 \\u0438 \\u043d\\u0430\\u0448\\u0435\\u0439 \\u0432\\u043b\\u0430\\u0441\\u0442\\u0438 \\u0434\\u0435\\u0441\\u044f\\u0442\\u044c \\u0433\\u043e\\u0434\\u043e\\u0432 \\u043c\\u044b \\u0433\\u043e\\u043b\\u043e\\u0441 \\u0432\\u043e\\u043b\\u0438 \\u043d\\u0438\\u0437\\u0430 \\u0440\\u0430\\u0431\\u043e\\u0447\\u0435\\u0433\\u043e \\u043d\\u0438\\u0437\\u0430 \\u0432\\u0441\\u0435\\u0433\\u043e \\u0441\\u0432\\u0435\\u0442\\u0430 \\u0434\\u0430 \\u0437\\u0434\\u0440\\u0430\\u0432\\u0441\\u0442\\u0432\\u0443\\u0435\\u0442 \\u043f\\u0430\\u0440\\u0442\\u0438\\u044f \\u0441\\u0442\\u0440\\u043e\\u044f\\u0449\\u0430\\u044f \\u043a\\u043e\\u043c\\u043c\\u0443\\u043d\\u0438\\u0437\\u043c \\u0434\\u0430 \\u0437\\u0434\\u0440\\u0430\\u0432\\u0441\\u0442\\u0432\\u0443\\u0435\\u0442 \\u0432\\u043e\\u0441\\u0441\\u0442\\u0430\\u043d\\u0438\\u0435 \\u0437\\u0430 \\u0432\\u043b\\u0430\\u0441\\u0442\\u044c \\u0441\\u043e\\u0432\\u0435\\u0442\\u043e\\u0432 \\u0441\\u043b\\u043e\\u0432\\u0430 \\u044d\\u0442\\u0438 \\u0441\\u043b\\u0443\\u0448\\u0430\\u043b\\u0438 \\u043f\\u0443\\u0448\\u043a\\u0438 \\u043c\\u043e\\u0440\\u0434\\u0430\\u0441\\u0442\\u044b\\u0435 \\u0438 \\u0449\\u0435\\u0440\\u0438\\u043b\\u0441\\u044f \\u0431\\u0435\\u043b\\u044b\\u0439 \\u0448\\u0442\\u044b\\u043a\\u0430\\u043c\\u0438 \\u0431\\u043b\\u0435\\u0441\\u0442\\u044f \\u0430 \\u043d\\u044b\\u043d\\u0447\\u0435 \\u0441\\u043e\\u0432\\u0435\\u0442\\u044b \\u0438 \\u043f\\u0430\\u0440\\u0442\\u0438\\u044f \\u0437\\u0434\\u0440\\u0430\\u0432\\u0441\\u0442\\u0432\\u0443\\u044e\\u0442 \\u0432 \\u0441\\u043e\\u044e\\u0437\\u0435 \\u0441 \\u0441\\u043e\\u0442\\u043d\\u0435\\u0439 \\u043c\\u0438\\u043b\\u043b\\u0438\\u043e\\u043d\\u043e\\u0432 \\u043a\\u0440\\u0435\\u0441\\u0442\\u044c\\u044f\\u043d \\u0432\\u043f\\u0435\\u0440\\u0432\\u044b\\u0435 \\u043f\\u0435\\u0440\\u0435\\u0434 \\u0442\\u043e\\u043b\\u043f\\u043e\\u0439 \\u043e\\u0431\\u0430\\u043b\\u0434\\u0435\\u043b\\u043e\\u0439 \\u0437\\u0434\\u0435\\u0441\\u044c \\u0436\\u0435 \\u043f\\u0435\\u0440\\u0435\\u0434 \\u0442\\u043e\\u0431\\u043e\\u044e \\u0431\\u043b\\u0438\\u0437 \\u0432\\u0441\\u0442\\u0430\\u043b\\u043e \\u043a\\u0430\\u043a \\u043f\\u0440\\u043e\\u0441\\u0442\\u043e\\u0435 \\u0434\\u0435\\u043b\\u0430\\u0435\\u043c\\u043e\\u0435 \\u0434\\u0435\\u043b\\u043e \\u043d\\u0435\\u0434\\u043e\\u0441\\u044f\\u0433\\u0430\\u0435\\u043c\\u043e\\u0435 \\u0441\\u043b\\u043e\\u0432\\u043e \\u0441\\u043e\\u0446\\u0438\\u0430\\u043b\\u0438\\u0437\\u043c \\u0430 \\u043d\\u044b\\u043d\\u0447\\u0435 \\u0432 \\u0443\\u043f\\u0440\\u044f\\u0436\\u043a\\u0443 \\u0432\\u0437\\u044f\\u0442\\u044b \\u0447\\u0430\\u0441\\u0442\\u043d\\u0438\\u043a\\u0438 \\u043a\\u043e\\u043e\\u043f\\u043e\\u0432 \\u0441\\u0442\\u043e\\u0441\\u043e\\u0440\\u0442\\u043d\\u044b\\u0445 \\u0441\\u0435\\u0442\\u0438 \\u0432\\u044c\\u0435\\u043c \\u043f\\u043e\\u043a\\u0430\\u0437\\u044b\\u0432\\u0430\\u0435\\u043c \\u0435\\u0436\\u0435\\u0434\\u043d\\u0435\\u0432\\u043d\\u043e \\u0432 \\u043d\\u043e\\u0432\\u043e\\u043c \\u0443\\u0447\\u0430\\u0441\\u0442\\u043a\\u0435 \\u0441\\u043e\\u0446\\u0438\\u0430\\u043b\\u0438\\u0437\\u043c \\u0436\\u0438\\u0432\\u044c\\u0435\\u043c \\u0437\\u0434\\u0435\\u0441\\u044c \\u0436\\u0435 \\u0438\\u0437\\u0437\\u0430 \\u0437\\u0430\\u0432\\u043e\\u0434\\u043e\\u0432 \\u0433\\u0443\\u0434\\u044f\\u0449\\u0438\\u0445 \\u0441\\u0438\\u044f\\u044f \\u0433\\u043e\\u0440\\u0438\\u0437\\u043e\\u043d\\u0442\\u043e\\u043c \\u0432\\u043e \\u0432\\u0435\\u0441\\u044c \\u0441\\u0432\\u043e\\u0434 \\u0432\\u0441\\u0442\\u0430\\u043b\\u0430 \\u0437\\u0430\\u0432\\u0442\\u0440\\u0430\\u0448\\u043d\\u044f\\u044f \\u043a\\u043e\\u043c\\u043c\\u0443\\u043d\\u0430 \\u0442\\u0440\\u0443\\u0434\\u044f\\u0449\\u0438\\u0445\\u0441\\u044f \\u0431\\u0435\\u0437 \\u0431\\u0443\\u0440\\u0436\\u0443\\u0435\\u0432 \\u0431\\u0435\\u0437 \\u043f\\u0440\\u043e\\u043b\\u0435\\u0442\\u0430\\u0440\\u0438\\u0435\\u0432 \\u0431\\u0435\\u0437 \\u0440\\u0430\\u0431\\u043e\\u0432 \\u0438 \\u0433\\u043e\\u0441\\u043f\\u043e\\u0434 \\u043a\\u043e\\u043c\\u043c\\u0443\\u043d\\u0430 \\u0435\\u0449\\u0435 \\u043d\\u0435 \\u0434\\u0435\\u043b\\u043e \\u0434\\u043d\\u0435\\u0439 \\u0438 \\u043c\\u044b \\u0435\\u0449\\u0435 \\u0432 \\u043e\\u043a\\u0440\\u0443\\u0436\\u0435\\u043d\\u0438\\u0438 \\u0432\\u0440\\u0430\\u0433\\u043e\\u0432 \\u043d\\u043e \\u043c\\u044b \\u043f\\u0440\\u043e\\u0448\\u043b\\u0438 \\u043f\\u043e \\u0434\\u043e\\u0440\\u043e\\u0433\\u0435 \\u043a \\u043d\\u0435\\u0439 \\u0434\\u0435\\u0441\\u044f\\u0442\\u044c \\u0441\\u0430\\u043c\\u044b\\u0445 \\u0442\\u0440\\u0443\\u0434\\u043d\\u044b\\u0445 \\u0448\\u0430\\u0433\\u043e\\u0432\"\n        ],\n        \"semantic_type\": \"\",\n        \"description\": \"\"\n      }\n    }\n  ]\n}"
            }
          },
          "metadata": {},
          "execution_count": 9
        }
      ]
    },
    {
      "cell_type": "markdown",
      "source": [
        "## <h1 id=\"aa\" style=\"color:white;background:#B00000;padding:8px;border-radius:8px;font-family:newtimeroman;\">  Additional training Bert </h1>"
      ],
      "metadata": {
        "id": "uCgQ8HVee60Q"
      }
    },
    {
      "cell_type": "code",
      "source": [
        "# Класс для создания датасета, совместимого с PyTorch\n",
        "class TextDataset(Dataset):\n",
        "    def __init__(self, dataframe, tokenizer, max_len):\n",
        "        \"\"\"\n",
        "        Инициализация датасета.\n",
        "\n",
        "        :param dataframe: DataFrame, содержащий тексты и метки.\n",
        "        :param tokenizer: Токенизатор для преобразования текста в токены.\n",
        "        :param max_len: Максимальная длина последовательности токенов.\n",
        "        \"\"\"\n",
        "        self.data = dataframe\n",
        "        self.tokenizer = tokenizer\n",
        "        self.max_len = max_len\n",
        "\n",
        "    def __len__(self):\n",
        "        return len(self.data)\n",
        "\n",
        "    def __getitem__(self, index):\n",
        "        \"\"\"\n",
        "        Возвращает элемент датасета по индексу.\n",
        "\n",
        "        :param index: Индекс элемента.\n",
        "        :return: Словарь, содержащий input_ids, attention_mask и метку.\n",
        "        \"\"\"\n",
        "        text = self.data.iloc[index]['text']\n",
        "        label = self.data.iloc[index]['writer']\n",
        "\n",
        "        # Токенизация текста\n",
        "        encoding = self.tokenizer(\n",
        "            text,\n",
        "            max_length=self.max_len,  # Ограничение длины последовательности\n",
        "            padding='max_length',     # Дополнение до максимальной длины\n",
        "            truncation=True,          # Обрезка текста, если он превышает max_len\n",
        "            return_tensors=\"pt\"       # Возврат тензоров PyTorch\n",
        "        )\n",
        "\n",
        "        return {\n",
        "            'input_ids': encoding['input_ids'].squeeze(0),  # Убираем лишнюю размерность\n",
        "            'attention_mask': encoding['attention_mask'].squeeze(0),  # Убираем лишнюю размерность\n",
        "            'label': torch.tensor(label, dtype=torch.long)  # Преобразуем метку в тензор\n",
        "        }\n",
        "\n",
        "\n",
        "# Класс для создания модели на основе BERT\n",
        "class CustomBERTModel(nn.Module):\n",
        "    def __init__(self, bert, num_classes, freeze_bert):\n",
        "        \"\"\"\n",
        "        Инициализация модели.\n",
        "\n",
        "        :param bert: Предобученная модель BERT.\n",
        "        :param num_classes: Количество классов для классификации.\n",
        "        :param freeze_bert: Флаг, указывающий, нужно ли замораживать параметры BERT.\n",
        "        \"\"\"\n",
        "        super(CustomBERTModel, self).__init__()\n",
        "        self.bert = bert\n",
        "\n",
        "        # Замораживаем параметры BERT, если freeze_bert=True\n",
        "        if freeze_bert:\n",
        "            for param in self.bert.parameters():\n",
        "                param.requires_grad = False\n",
        "\n",
        "        # Добавляем полносвязные слои для классификации\n",
        "        self.fc = nn.Sequential(\n",
        "            nn.Linear(bert.config.hidden_size, 512),  # Линейный слой (768 -> 512)\n",
        "            nn.ReLU(),                                # Функция активации\n",
        "            nn.Dropout(0.3),                          # Dropout для регуляризации\n",
        "\n",
        "            nn.Linear(512, 256),                      # Линейный слой (512 -> 256)\n",
        "            nn.ReLU(),                                # Функция активации\n",
        "            nn.Dropout(0.3),                          # Dropout для регуляризации\n",
        "\n",
        "            nn.Linear(256, num_classes)               # Выходной слой (256 -> num_classes)\n",
        "        )\n",
        "\n",
        "    def forward(self, input_ids, attention_mask):\n",
        "        \"\"\"\n",
        "        Прямой проход модели.\n",
        "\n",
        "        :param input_ids: Тензор с индексами токенов.\n",
        "        :param attention_mask: Тензор с маской внимания.\n",
        "        :return: Выход модели (логиты для классификации).\n",
        "        \"\"\"\n",
        "        # Получаем выходы BERT\n",
        "        outputs = self.bert(input_ids=input_ids, attention_mask=attention_mask)\n",
        "\n",
        "        # Используем pooler_output (вектор [CLS]) как общее представление текста\n",
        "        pooled_output = outputs.pooler_output\n",
        "\n",
        "        # Пропускаем pooled_output через полносвязные слои\n",
        "        return self.fc(pooled_output)\n",
        "\n",
        "\n",
        "class Trainer:\n",
        "    \"\"\"\n",
        "    Класс для обучения и оценки модели.\n",
        "\n",
        "    Атрибуты:\n",
        "        model: Модель, которую нужно обучать и оценивать.\n",
        "        device: Устройство (CPU или GPU), на котором выполняется обучение.\n",
        "    \"\"\"\n",
        "\n",
        "    def __init__(self, model, device):\n",
        "        \"\"\"\n",
        "        Инициализация Trainer.\n",
        "\n",
        "        :param model: Модель для обучения и оценки.\n",
        "        :param device: Устройство (например, 'cuda' или 'cpu').\n",
        "        \"\"\"\n",
        "        self.model = model\n",
        "        self.device = device\n",
        "\n",
        "    def train_model(self, dataloader, optimizer, criterion):\n",
        "        \"\"\"\n",
        "        Обучает модель на данных из dataloader.\n",
        "\n",
        "        :param dataloader: DataLoader, предоставляющий обучающие данные.\n",
        "        :param optimizer: Оптимизатор для обновления параметров модели.\n",
        "        :param criterion: Функция потерь для вычисления ошибки.\n",
        "        :return: Среднее значение потерь за эпоху.\n",
        "        \"\"\"\n",
        "        self.model.train()  # Переводим модель в режим обучения\n",
        "        total_loss = 0\n",
        "\n",
        "        # Итерация по батчам данных\n",
        "        for batch in tqdm(dataloader, desc=\"Training\"):\n",
        "            # Переносим данные на устройство\n",
        "            input_ids = batch['input_ids'].to(self.device)\n",
        "            attention_mask = batch['attention_mask'].to(self.device)\n",
        "            labels = batch['label'].to(self.device)\n",
        "\n",
        "            # Обнуляем градиенты\n",
        "            optimizer.zero_grad()\n",
        "\n",
        "            # Прямой проход: вычисляем выходы модели\n",
        "            outputs = self.model(input_ids, attention_mask)\n",
        "\n",
        "            # Вычисляем потери\n",
        "            loss = criterion(outputs, labels)\n",
        "\n",
        "            # Обратный проход: вычисляем градиенты\n",
        "            loss.backward()\n",
        "\n",
        "            # Обновляем параметры модели\n",
        "            optimizer.step()\n",
        "\n",
        "            # Суммируем потери\n",
        "            total_loss += loss.item()\n",
        "\n",
        "        # Возвращаем среднее значение потерь за эпоху\n",
        "        return total_loss / len(dataloader)\n",
        "\n",
        "    def evaluate_model(self, dataloader, criterion):\n",
        "        \"\"\"\n",
        "        Оценивает модель на данных из dataloader.\n",
        "\n",
        "        :param dataloader: DataLoader, предоставляющий данные для оценки.\n",
        "        :param criterion: Функция потерь для вычисления ошибки.\n",
        "        :return: Среднее значение потерь и точность на данных.\n",
        "        \"\"\"\n",
        "        self.model.eval()  # Переводим модель в режим оценки\n",
        "        total_loss = 0\n",
        "        correct = 0\n",
        "\n",
        "        # Отключаем вычисление градиентов для ускорения и экономии памяти\n",
        "        with torch.no_grad():\n",
        "            # Итерация по батчам данных\n",
        "            for batch in dataloader:\n",
        "                # Переносим данные на устройство (GPU или CPU)\n",
        "                input_ids = batch['input_ids'].to(self.device)\n",
        "                attention_mask = batch['attention_mask'].to(self.device)\n",
        "                labels = batch['label'].to(self.device)\n",
        "\n",
        "                # Прямой проход: вычисляем выходы модели\n",
        "                outputs = self.model(input_ids, attention_mask)\n",
        "\n",
        "                # Вычисляем потери\n",
        "                loss = criterion(outputs, labels)\n",
        "                total_loss += loss.item()\n",
        "\n",
        "                # Вычисляем предсказания (индекс класса с максимальной вероятностью)\n",
        "                preds = torch.argmax(outputs, dim=1)\n",
        "\n",
        "                # Считаем количество правильных предсказаний\n",
        "                correct += (preds == labels).sum().item()\n",
        "\n",
        "        # Возвращаем среднее значение потерь и точность\n",
        "        return total_loss / len(dataloader), correct / len(dataloader.dataset)\n"
      ],
      "metadata": {
        "id": "IvqwJeJo_GdW"
      },
      "execution_count": null,
      "outputs": []
    },
    {
      "cell_type": "markdown",
      "source": [
        "### <h1 id=\"aa\" style=\"color:white;background:#42aaff;padding:8px;border-radius:8px;font-family:newtimeroman;\"> 1a frozen weights</h1>\n"
      ],
      "metadata": {
        "id": "XA63oGe2vW0H"
      }
    },
    {
      "cell_type": "code",
      "source": [
        "MAX_LEN = 512\n",
        "BATCH_SIZE = 64\n",
        "NUM_EPOCH = 100\n",
        "\n",
        "PRETRAINED_MODEL_NAME = \"DeepPavlov/rubert-base-cased\"\n",
        "tokenizer = BertTokenizer.from_pretrained(PRETRAINED_MODEL_NAME)\n",
        "bert_model_1 = BertModel.from_pretrained(PRETRAINED_MODEL_NAME)\n",
        "\n",
        "device = torch.device('cuda' if torch.cuda.is_available() else 'cpu')\n",
        "\n",
        "train_dataset = TextDataset(train_df, tokenizer, MAX_LEN)\n",
        "val_dataset = TextDataset(val_df, tokenizer, MAX_LEN)\n",
        "test_dataset = TextDataset(test_df, tokenizer, MAX_LEN)\n",
        "\n",
        "train_dataloader = DataLoader(train_dataset, batch_size=BATCH_SIZE, shuffle=True)\n",
        "val_dataloader = DataLoader(val_dataset, batch_size=BATCH_SIZE)\n",
        "test_dataloader = DataLoader(test_dataset, batch_size=BATCH_SIZE)\n",
        "\n",
        "model_1a = CustomBERTModel(\n",
        "    bert_model_1,\n",
        "    num_classes=train_df['writer'].nunique(),\n",
        "    freeze_bert=True\n",
        "    ).to(device)\n",
        "optimizer = optim.AdamW(model_1a.parameters(), lr=2e-5)\n",
        "criterion = nn.CrossEntropyLoss()\n",
        "trainer = Trainer(model_1a, device)\n",
        "\n",
        "train_losses = []\n",
        "train_accuracies = []\n",
        "val_losses = []\n",
        "val_accuracies = []\n",
        "\n",
        "# Параметры для ранней остановки\n",
        "patience = 3  # Количество эпох, в течение которых потери не должны уменьшаться\n",
        "min_delta = 0.005  # Минимальное значимое уменьшение потерь\n",
        "best_val_loss = np.inf  # Лучшее значение потерь на валидации (np.inf положительная бесконечность)\n",
        "epochs_without_improvement = 0  # Счётчик эпох без улучшения\n",
        "\n",
        "epoch_progress = widgets.IntProgress(\n",
        "    value=0,\n",
        "    min=0,\n",
        "    max=NUM_EPOCH,\n",
        "    description='Epochs:',\n",
        "    bar_style='info',\n",
        "    orientation='horizontal'\n",
        ")\n",
        "display(epoch_progress)\n",
        "\n",
        "for epoch in range(NUM_EPOCH):\n",
        "    epoch_progress.value = epoch\n",
        "\n",
        "    train_loss = trainer.train_model(train_dataloader, optimizer, criterion)\n",
        "    train_losses.append(train_loss)  # Сохраняем значение потерь на обучении\n",
        "\n",
        "    train_accuracy = trainer.evaluate_model(train_dataloader, criterion)[1]\n",
        "    train_accuracies.append(train_accuracy)  # Сохраняем точность на обучении\n",
        "\n",
        "    val_loss, val_accuracy = trainer.evaluate_model(val_dataloader, criterion)\n",
        "    val_losses.append(val_loss)  # Сохраняем значение потерь на валидации\n",
        "    val_accuracies.append(val_accuracy)  # Сохраняем точность на валидации\n",
        "\n",
        "    print(f\"Epoch {epoch + 1}, \"\n",
        "          f\"Train Loss: {train_loss:.4f}, Train Accuracy: {train_accuracy:.4f}, \"\n",
        "          f\"Val Loss: {val_loss:.4f}, Val Accuracy: {val_accuracy:.4f}\")\n",
        "\n",
        "    if val_loss < best_val_loss - min_delta:\n",
        "        best_val_loss = val_loss\n",
        "        epochs_without_improvement = 0\n",
        "    else:\n",
        "        epochs_without_improvement += 1\n",
        "\n",
        "    if epochs_without_improvement >= patience:\n",
        "        print(f\"Early stopping at epoch {epoch}!\")\n",
        "        break\n",
        "\n",
        "print('---' * 30)\n",
        "test_loss, test_accuracy = trainer.evaluate_model(test_dataloader, criterion)\n",
        "print(f\"Test Loss: {test_loss:.4f}, Test Accuracy: {test_accuracy:.4f}\")\n",
        "\n",
        "epoch_progress.bar_style = 'success'\n"
      ],
      "metadata": {
        "id": "7z_82BgPgHXJ",
        "colab": {
          "base_uri": "https://localhost:8080/",
          "height": 1000,
          "referenced_widgets": [
            "9a6ed966793f4396bd4ae16d0c507164",
            "872f930c5d7541ddbe89395ee0100beb",
            "e25aef2906794170bf2369ae3b89bac1",
            "7f59e9111411484ebb3610f9bcf26b9d",
            "6325d8a3d28841cea4c40bfe114d8937",
            "280d797f52e148fe8305fb618062e4f6",
            "5cf0ea67d5d8485ebc09b43b0b353567",
            "7a846bab617041f0bc6385a766d57823",
            "39b81a96236a477cbcba3a075e23c389",
            "d60ce682ef8e4295ae34e575501497fe",
            "85ca11a45fc54c749d2d5fe4b252c98c",
            "54b42e93c5784ba299edbfd3ad32cbb9",
            "452a2b228c9f499c9f331b4dc6b2f87f",
            "fa4aaca0597e4c9f9a21058252e02359"
          ]
        },
        "outputId": "7a70c254-83ad-4fb0-89ee-08bf66a1f2dc"
      },
      "execution_count": null,
      "outputs": [
        {
          "data": {
            "application/vnd.jupyter.widget-view+json": {
              "model_id": "9a6ed966793f4396bd4ae16d0c507164",
              "version_major": 2,
              "version_minor": 0
            },
            "text/plain": [
              "pytorch_model.bin:  48%|####8     | 346M/714M [00:00<?, ?B/s]"
            ]
          },
          "metadata": {},
          "output_type": "display_data"
        },
        {
          "metadata": {
            "tags": null
          },
          "name": "stderr",
          "output_type": "stream",
          "text": [
            "Some weights of the model checkpoint at DeepPavlov/rubert-base-cased were not used when initializing BertModel: ['cls.predictions.bias', 'cls.predictions.decoder.bias', 'cls.predictions.decoder.weight', 'cls.predictions.transform.LayerNorm.bias', 'cls.predictions.transform.LayerNorm.weight', 'cls.predictions.transform.dense.bias', 'cls.predictions.transform.dense.weight', 'cls.seq_relationship.bias', 'cls.seq_relationship.weight']\n",
            "- This IS expected if you are initializing BertModel from the checkpoint of a model trained on another task or with another architecture (e.g. initializing a BertForSequenceClassification model from a BertForPreTraining model).\n",
            "- This IS NOT expected if you are initializing BertModel from the checkpoint of a model that you expect to be exactly identical (initializing a BertForSequenceClassification model from a BertForSequenceClassification model).\n"
          ]
        },
        {
          "data": {
            "application/vnd.jupyter.widget-view+json": {
              "model_id": "54b42e93c5784ba299edbfd3ad32cbb9",
              "version_major": 2,
              "version_minor": 0
            },
            "text/plain": [
              "IntProgress(value=0, bar_style='info', description='Epochs:')"
            ]
          },
          "metadata": {},
          "output_type": "display_data"
        },
        {
          "metadata": {
            "tags": null
          },
          "name": "stderr",
          "output_type": "stream",
          "text": [
            "Training: 100%|██████████| 50/50 [01:38<00:00,  1.97s/it]\n"
          ]
        },
        {
          "metadata": {
            "tags": null
          },
          "name": "stdout",
          "output_type": "stream",
          "text": [
            "Epoch 1, Train Loss: 1.3811, Train Accuracy: 0.4403, Val Loss: 1.3733, Val Accuracy: 0.4646\n"
          ]
        },
        {
          "metadata": {
            "tags": null
          },
          "name": "stderr",
          "output_type": "stream",
          "text": [
            "Training: 100%|██████████| 50/50 [01:33<00:00,  1.87s/it]\n"
          ]
        },
        {
          "metadata": {
            "tags": null
          },
          "name": "stdout",
          "output_type": "stream",
          "text": [
            "Epoch 2, Train Loss: 1.3647, Train Accuracy: 0.4381, Val Loss: 1.3602, Val Accuracy: 0.4242\n"
          ]
        },
        {
          "metadata": {
            "tags": null
          },
          "name": "stderr",
          "output_type": "stream",
          "text": [
            "Training: 100%|██████████| 50/50 [01:35<00:00,  1.92s/it]\n"
          ]
        },
        {
          "metadata": {
            "tags": null
          },
          "name": "stdout",
          "output_type": "stream",
          "text": [
            "Epoch 3, Train Loss: 1.3485, Train Accuracy: 0.4580, Val Loss: 1.3423, Val Accuracy: 0.4268\n"
          ]
        },
        {
          "metadata": {
            "tags": null
          },
          "name": "stderr",
          "output_type": "stream",
          "text": [
            "Training: 100%|██████████| 50/50 [01:33<00:00,  1.87s/it]\n"
          ]
        },
        {
          "metadata": {
            "tags": null
          },
          "name": "stdout",
          "output_type": "stream",
          "text": [
            "Epoch 4, Train Loss: 1.3265, Train Accuracy: 0.4877, Val Loss: 1.3203, Val Accuracy: 0.4621\n"
          ]
        },
        {
          "metadata": {
            "tags": null
          },
          "name": "stderr",
          "output_type": "stream",
          "text": [
            "Training: 100%|██████████| 50/50 [01:33<00:00,  1.87s/it]\n"
          ]
        },
        {
          "metadata": {
            "tags": null
          },
          "name": "stdout",
          "output_type": "stream",
          "text": [
            "Epoch 5, Train Loss: 1.2998, Train Accuracy: 0.5502, Val Loss: 1.2925, Val Accuracy: 0.5480\n"
          ]
        },
        {
          "metadata": {
            "tags": null
          },
          "name": "stderr",
          "output_type": "stream",
          "text": [
            "Training: 100%|██████████| 50/50 [01:34<00:00,  1.88s/it]\n"
          ]
        },
        {
          "metadata": {
            "tags": null
          },
          "name": "stdout",
          "output_type": "stream",
          "text": [
            "Epoch 6, Train Loss: 1.2612, Train Accuracy: 0.5840, Val Loss: 1.2538, Val Accuracy: 0.5556\n"
          ]
        },
        {
          "metadata": {
            "tags": null
          },
          "name": "stderr",
          "output_type": "stream",
          "text": [
            "Training: 100%|██████████| 50/50 [01:33<00:00,  1.87s/it]\n"
          ]
        },
        {
          "metadata": {
            "tags": null
          },
          "name": "stdout",
          "output_type": "stream",
          "text": [
            "Epoch 7, Train Loss: 1.2169, Train Accuracy: 0.6373, Val Loss: 1.2092, Val Accuracy: 0.6237\n"
          ]
        },
        {
          "metadata": {
            "tags": null
          },
          "name": "stderr",
          "output_type": "stream",
          "text": [
            "Training: 100%|██████████| 50/50 [01:33<00:00,  1.86s/it]\n"
          ]
        },
        {
          "metadata": {
            "tags": null
          },
          "name": "stdout",
          "output_type": "stream",
          "text": [
            "Epoch 8, Train Loss: 1.1600, Train Accuracy: 0.6572, Val Loss: 1.1537, Val Accuracy: 0.6465\n"
          ]
        },
        {
          "metadata": {
            "tags": null
          },
          "name": "stderr",
          "output_type": "stream",
          "text": [
            "Training: 100%|██████████| 50/50 [01:32<00:00,  1.86s/it]\n"
          ]
        },
        {
          "metadata": {
            "tags": null
          },
          "name": "stdout",
          "output_type": "stream",
          "text": [
            "Epoch 9, Train Loss: 1.1074, Train Accuracy: 0.6736, Val Loss: 1.0914, Val Accuracy: 0.6616\n"
          ]
        },
        {
          "metadata": {
            "tags": null
          },
          "name": "stderr",
          "output_type": "stream",
          "text": [
            "Training: 100%|██████████| 50/50 [01:33<00:00,  1.87s/it]\n"
          ]
        },
        {
          "metadata": {
            "tags": null
          },
          "name": "stdout",
          "output_type": "stream",
          "text": [
            "Epoch 10, Train Loss: 1.0488, Train Accuracy: 0.7131, Val Loss: 1.0304, Val Accuracy: 0.6843\n"
          ]
        },
        {
          "metadata": {
            "tags": null
          },
          "name": "stderr",
          "output_type": "stream",
          "text": [
            "Training: 100%|██████████| 50/50 [01:33<00:00,  1.87s/it]\n"
          ]
        },
        {
          "metadata": {
            "tags": null
          },
          "name": "stdout",
          "output_type": "stream",
          "text": [
            "Epoch 11, Train Loss: 0.9805, Train Accuracy: 0.7399, Val Loss: 0.9704, Val Accuracy: 0.7121\n"
          ]
        },
        {
          "metadata": {
            "tags": null
          },
          "name": "stderr",
          "output_type": "stream",
          "text": [
            "Training: 100%|██████████| 50/50 [01:33<00:00,  1.86s/it]\n"
          ]
        },
        {
          "metadata": {
            "tags": null
          },
          "name": "stdout",
          "output_type": "stream",
          "text": [
            "Epoch 12, Train Loss: 0.9207, Train Accuracy: 0.7412, Val Loss: 0.9186, Val Accuracy: 0.7172\n"
          ]
        },
        {
          "metadata": {
            "tags": null
          },
          "name": "stderr",
          "output_type": "stream",
          "text": [
            "Training: 100%|██████████| 50/50 [01:33<00:00,  1.87s/it]\n"
          ]
        },
        {
          "metadata": {
            "tags": null
          },
          "name": "stdout",
          "output_type": "stream",
          "text": [
            "Epoch 13, Train Loss: 0.8723, Train Accuracy: 0.7244, Val Loss: 0.8794, Val Accuracy: 0.6944\n"
          ]
        },
        {
          "metadata": {
            "tags": null
          },
          "name": "stderr",
          "output_type": "stream",
          "text": [
            "Training: 100%|██████████| 50/50 [01:32<00:00,  1.86s/it]\n"
          ]
        },
        {
          "metadata": {
            "tags": null
          },
          "name": "stdout",
          "output_type": "stream",
          "text": [
            "Epoch 14, Train Loss: 0.8215, Train Accuracy: 0.7475, Val Loss: 0.8337, Val Accuracy: 0.7172\n"
          ]
        },
        {
          "metadata": {
            "tags": null
          },
          "name": "stderr",
          "output_type": "stream",
          "text": [
            "Training: 100%|██████████| 50/50 [01:33<00:00,  1.87s/it]\n"
          ]
        },
        {
          "metadata": {
            "tags": null
          },
          "name": "stdout",
          "output_type": "stream",
          "text": [
            "Epoch 15, Train Loss: 0.7862, Train Accuracy: 0.7579, Val Loss: 0.7993, Val Accuracy: 0.7374\n"
          ]
        },
        {
          "metadata": {
            "tags": null
          },
          "name": "stderr",
          "output_type": "stream",
          "text": [
            "Training: 100%|██████████| 50/50 [01:33<00:00,  1.86s/it]\n"
          ]
        },
        {
          "metadata": {
            "tags": null
          },
          "name": "stdout",
          "output_type": "stream",
          "text": [
            "Epoch 16, Train Loss: 0.7602, Train Accuracy: 0.7541, Val Loss: 0.7679, Val Accuracy: 0.7323\n"
          ]
        },
        {
          "metadata": {
            "tags": null
          },
          "name": "stderr",
          "output_type": "stream",
          "text": [
            "Training: 100%|██████████| 50/50 [01:32<00:00,  1.86s/it]\n"
          ]
        },
        {
          "metadata": {
            "tags": null
          },
          "name": "stdout",
          "output_type": "stream",
          "text": [
            "Epoch 17, Train Loss: 0.7318, Train Accuracy: 0.7648, Val Loss: 0.7411, Val Accuracy: 0.7500\n"
          ]
        },
        {
          "metadata": {
            "tags": null
          },
          "name": "stderr",
          "output_type": "stream",
          "text": [
            "Training: 100%|██████████| 50/50 [01:34<00:00,  1.88s/it]\n"
          ]
        },
        {
          "metadata": {
            "tags": null
          },
          "name": "stdout",
          "output_type": "stream",
          "text": [
            "Epoch 18, Train Loss: 0.7139, Train Accuracy: 0.7951, Val Loss: 0.7122, Val Accuracy: 0.7576\n"
          ]
        },
        {
          "metadata": {
            "tags": null
          },
          "name": "stderr",
          "output_type": "stream",
          "text": [
            "Training: 100%|██████████| 50/50 [01:33<00:00,  1.88s/it]\n"
          ]
        },
        {
          "metadata": {
            "tags": null
          },
          "name": "stdout",
          "output_type": "stream",
          "text": [
            "Epoch 19, Train Loss: 0.6862, Train Accuracy: 0.7623, Val Loss: 0.7057, Val Accuracy: 0.7449\n"
          ]
        },
        {
          "metadata": {
            "tags": null
          },
          "name": "stderr",
          "output_type": "stream",
          "text": [
            "Training: 100%|██████████| 50/50 [01:33<00:00,  1.87s/it]\n"
          ]
        },
        {
          "metadata": {
            "tags": null
          },
          "name": "stdout",
          "output_type": "stream",
          "text": [
            "Epoch 20, Train Loss: 0.6731, Train Accuracy: 0.7715, Val Loss: 0.6911, Val Accuracy: 0.7525\n"
          ]
        },
        {
          "metadata": {
            "tags": null
          },
          "name": "stderr",
          "output_type": "stream",
          "text": [
            "Training: 100%|██████████| 50/50 [01:33<00:00,  1.87s/it]\n"
          ]
        },
        {
          "metadata": {
            "tags": null
          },
          "name": "stdout",
          "output_type": "stream",
          "text": [
            "Epoch 21, Train Loss: 0.6559, Train Accuracy: 0.7838, Val Loss: 0.6711, Val Accuracy: 0.7702\n"
          ]
        },
        {
          "metadata": {
            "tags": null
          },
          "name": "stderr",
          "output_type": "stream",
          "text": [
            "Training: 100%|██████████| 50/50 [01:32<00:00,  1.86s/it]\n"
          ]
        },
        {
          "metadata": {
            "tags": null
          },
          "name": "stdout",
          "output_type": "stream",
          "text": [
            "Epoch 22, Train Loss: 0.6462, Train Accuracy: 0.7835, Val Loss: 0.6635, Val Accuracy: 0.7677\n"
          ]
        },
        {
          "metadata": {
            "tags": null
          },
          "name": "stderr",
          "output_type": "stream",
          "text": [
            "Training: 100%|██████████| 50/50 [01:33<00:00,  1.87s/it]\n"
          ]
        },
        {
          "metadata": {
            "tags": null
          },
          "name": "stdout",
          "output_type": "stream",
          "text": [
            "Epoch 23, Train Loss: 0.6253, Train Accuracy: 0.7914, Val Loss: 0.6437, Val Accuracy: 0.7778\n"
          ]
        },
        {
          "metadata": {
            "tags": null
          },
          "name": "stderr",
          "output_type": "stream",
          "text": [
            "Training: 100%|██████████| 50/50 [01:33<00:00,  1.87s/it]\n"
          ]
        },
        {
          "metadata": {
            "tags": null
          },
          "name": "stdout",
          "output_type": "stream",
          "text": [
            "Epoch 24, Train Loss: 0.6264, Train Accuracy: 0.7932, Val Loss: 0.6354, Val Accuracy: 0.7803\n"
          ]
        },
        {
          "metadata": {
            "tags": null
          },
          "name": "stderr",
          "output_type": "stream",
          "text": [
            "Training: 100%|██████████| 50/50 [01:32<00:00,  1.86s/it]\n"
          ]
        },
        {
          "metadata": {
            "tags": null
          },
          "name": "stdout",
          "output_type": "stream",
          "text": [
            "Epoch 25, Train Loss: 0.6112, Train Accuracy: 0.8011, Val Loss: 0.6230, Val Accuracy: 0.7828\n"
          ]
        },
        {
          "metadata": {
            "tags": null
          },
          "name": "stderr",
          "output_type": "stream",
          "text": [
            "Training: 100%|██████████| 50/50 [01:33<00:00,  1.87s/it]\n"
          ]
        },
        {
          "metadata": {
            "tags": null
          },
          "name": "stdout",
          "output_type": "stream",
          "text": [
            "Epoch 26, Train Loss: 0.5963, Train Accuracy: 0.8015, Val Loss: 0.6133, Val Accuracy: 0.7803\n"
          ]
        },
        {
          "metadata": {
            "tags": null
          },
          "name": "stderr",
          "output_type": "stream",
          "text": [
            "Training: 100%|██████████| 50/50 [01:33<00:00,  1.86s/it]\n"
          ]
        },
        {
          "metadata": {
            "tags": null
          },
          "name": "stdout",
          "output_type": "stream",
          "text": [
            "Epoch 27, Train Loss: 0.5949, Train Accuracy: 0.8037, Val Loss: 0.6109, Val Accuracy: 0.7955\n"
          ]
        },
        {
          "metadata": {
            "tags": null
          },
          "name": "stderr",
          "output_type": "stream",
          "text": [
            "Training: 100%|██████████| 50/50 [01:33<00:00,  1.87s/it]\n"
          ]
        },
        {
          "metadata": {
            "tags": null
          },
          "name": "stdout",
          "output_type": "stream",
          "text": [
            "Epoch 28, Train Loss: 0.5858, Train Accuracy: 0.8081, Val Loss: 0.5967, Val Accuracy: 0.7803\n"
          ]
        },
        {
          "metadata": {
            "tags": null
          },
          "name": "stderr",
          "output_type": "stream",
          "text": [
            "Training: 100%|██████████| 50/50 [01:33<00:00,  1.88s/it]\n"
          ]
        },
        {
          "metadata": {
            "tags": null
          },
          "name": "stdout",
          "output_type": "stream",
          "text": [
            "Epoch 29, Train Loss: 0.5718, Train Accuracy: 0.8081, Val Loss: 0.5933, Val Accuracy: 0.7980\n"
          ]
        },
        {
          "metadata": {
            "tags": null
          },
          "name": "stderr",
          "output_type": "stream",
          "text": [
            "Training: 100%|██████████| 50/50 [01:33<00:00,  1.87s/it]\n"
          ]
        },
        {
          "metadata": {
            "tags": null
          },
          "name": "stdout",
          "output_type": "stream",
          "text": [
            "Epoch 30, Train Loss: 0.5772, Train Accuracy: 0.8125, Val Loss: 0.5826, Val Accuracy: 0.7904\n"
          ]
        },
        {
          "metadata": {
            "tags": null
          },
          "name": "stderr",
          "output_type": "stream",
          "text": [
            "Training: 100%|██████████| 50/50 [01:33<00:00,  1.87s/it]\n"
          ]
        },
        {
          "metadata": {
            "tags": null
          },
          "name": "stdout",
          "output_type": "stream",
          "text": [
            "Epoch 31, Train Loss: 0.5633, Train Accuracy: 0.8144, Val Loss: 0.5782, Val Accuracy: 0.7929\n"
          ]
        },
        {
          "metadata": {
            "tags": null
          },
          "name": "stderr",
          "output_type": "stream",
          "text": [
            "Training: 100%|██████████| 50/50 [01:33<00:00,  1.88s/it]\n"
          ]
        },
        {
          "metadata": {
            "tags": null
          },
          "name": "stdout",
          "output_type": "stream",
          "text": [
            "Epoch 32, Train Loss: 0.5612, Train Accuracy: 0.8122, Val Loss: 0.5727, Val Accuracy: 0.8030\n"
          ]
        },
        {
          "metadata": {
            "tags": null
          },
          "name": "stderr",
          "output_type": "stream",
          "text": [
            "Training: 100%|██████████| 50/50 [01:33<00:00,  1.87s/it]\n"
          ]
        },
        {
          "metadata": {
            "tags": null
          },
          "name": "stdout",
          "output_type": "stream",
          "text": [
            "Epoch 33, Train Loss: 0.5455, Train Accuracy: 0.8147, Val Loss: 0.5666, Val Accuracy: 0.7854\n"
          ]
        },
        {
          "metadata": {
            "tags": null
          },
          "name": "stderr",
          "output_type": "stream",
          "text": [
            "Training: 100%|██████████| 50/50 [01:36<00:00,  1.92s/it]\n"
          ]
        },
        {
          "metadata": {
            "tags": null
          },
          "name": "stdout",
          "output_type": "stream",
          "text": [
            "Epoch 34, Train Loss: 0.5571, Train Accuracy: 0.8213, Val Loss: 0.5592, Val Accuracy: 0.7980\n"
          ]
        },
        {
          "metadata": {
            "tags": null
          },
          "name": "stderr",
          "output_type": "stream",
          "text": [
            "Training: 100%|██████████| 50/50 [01:33<00:00,  1.88s/it]\n"
          ]
        },
        {
          "metadata": {
            "tags": null
          },
          "name": "stdout",
          "output_type": "stream",
          "text": [
            "Epoch 35, Train Loss: 0.5439, Train Accuracy: 0.8147, Val Loss: 0.5584, Val Accuracy: 0.7879\n"
          ]
        },
        {
          "metadata": {
            "tags": null
          },
          "name": "stderr",
          "output_type": "stream",
          "text": [
            "Training: 100%|██████████| 50/50 [01:33<00:00,  1.87s/it]\n"
          ]
        },
        {
          "output_type": "stream",
          "name": "stdout",
          "text": [
            "Epoch 36, Train Loss: 0.5367, Train Accuracy: 0.8182, Val Loss: 0.5525, Val Accuracy: 0.7980\n"
          ]
        },
        {
          "output_type": "stream",
          "name": "stderr",
          "text": [
            "Training: 100%|██████████| 50/50 [01:34<00:00,  1.88s/it]\n"
          ]
        },
        {
          "output_type": "stream",
          "name": "stdout",
          "text": [
            "Epoch 37, Train Loss: 0.5248, Train Accuracy: 0.8210, Val Loss: 0.5423, Val Accuracy: 0.7879\n"
          ]
        },
        {
          "output_type": "stream",
          "name": "stderr",
          "text": [
            "Training: 100%|██████████| 50/50 [01:33<00:00,  1.87s/it]\n"
          ]
        },
        {
          "output_type": "stream",
          "name": "stdout",
          "text": [
            "Epoch 38, Train Loss: 0.5230, Train Accuracy: 0.8207, Val Loss: 0.5362, Val Accuracy: 0.8005\n"
          ]
        },
        {
          "output_type": "stream",
          "name": "stderr",
          "text": [
            "Training: 100%|██████████| 50/50 [01:33<00:00,  1.86s/it]\n"
          ]
        },
        {
          "output_type": "stream",
          "name": "stdout",
          "text": [
            "Epoch 39, Train Loss: 0.5343, Train Accuracy: 0.8210, Val Loss: 0.5351, Val Accuracy: 0.8005\n"
          ]
        },
        {
          "output_type": "stream",
          "name": "stderr",
          "text": [
            "Training: 100%|██████████| 50/50 [01:33<00:00,  1.87s/it]\n"
          ]
        },
        {
          "output_type": "stream",
          "name": "stdout",
          "text": [
            "Epoch 40, Train Loss: 0.5213, Train Accuracy: 0.8229, Val Loss: 0.5296, Val Accuracy: 0.8131\n"
          ]
        },
        {
          "output_type": "stream",
          "name": "stderr",
          "text": [
            "Training: 100%|██████████| 50/50 [01:33<00:00,  1.86s/it]\n"
          ]
        },
        {
          "output_type": "stream",
          "name": "stdout",
          "text": [
            "Epoch 41, Train Loss: 0.5157, Train Accuracy: 0.8217, Val Loss: 0.5296, Val Accuracy: 0.8030\n"
          ]
        },
        {
          "output_type": "stream",
          "name": "stderr",
          "text": [
            "Training: 100%|██████████| 50/50 [01:33<00:00,  1.87s/it]\n"
          ]
        },
        {
          "output_type": "stream",
          "name": "stdout",
          "text": [
            "Epoch 42, Train Loss: 0.5151, Train Accuracy: 0.8232, Val Loss: 0.5218, Val Accuracy: 0.8081\n"
          ]
        },
        {
          "output_type": "stream",
          "name": "stderr",
          "text": [
            "Training: 100%|██████████| 50/50 [01:32<00:00,  1.86s/it]\n"
          ]
        },
        {
          "output_type": "stream",
          "name": "stdout",
          "text": [
            "Epoch 43, Train Loss: 0.5273, Train Accuracy: 0.8280, Val Loss: 0.5149, Val Accuracy: 0.8106\n"
          ]
        },
        {
          "output_type": "stream",
          "name": "stderr",
          "text": [
            "Training: 100%|██████████| 50/50 [01:33<00:00,  1.87s/it]\n"
          ]
        },
        {
          "output_type": "stream",
          "name": "stdout",
          "text": [
            "Epoch 44, Train Loss: 0.5114, Train Accuracy: 0.8305, Val Loss: 0.5067, Val Accuracy: 0.8081\n"
          ]
        },
        {
          "output_type": "stream",
          "name": "stderr",
          "text": [
            "Training: 100%|██████████| 50/50 [01:33<00:00,  1.87s/it]\n"
          ]
        },
        {
          "output_type": "stream",
          "name": "stdout",
          "text": [
            "Epoch 45, Train Loss: 0.5067, Train Accuracy: 0.8286, Val Loss: 0.5019, Val Accuracy: 0.8056\n"
          ]
        },
        {
          "output_type": "stream",
          "name": "stderr",
          "text": [
            "Training: 100%|██████████| 50/50 [01:33<00:00,  1.88s/it]\n"
          ]
        },
        {
          "output_type": "stream",
          "name": "stdout",
          "text": [
            "Epoch 46, Train Loss: 0.4972, Train Accuracy: 0.8292, Val Loss: 0.5008, Val Accuracy: 0.8030\n"
          ]
        },
        {
          "output_type": "stream",
          "name": "stderr",
          "text": [
            "Training: 100%|██████████| 50/50 [01:33<00:00,  1.86s/it]\n"
          ]
        },
        {
          "output_type": "stream",
          "name": "stdout",
          "text": [
            "Epoch 47, Train Loss: 0.5248, Train Accuracy: 0.8346, Val Loss: 0.4955, Val Accuracy: 0.8157\n"
          ]
        },
        {
          "output_type": "stream",
          "name": "stderr",
          "text": [
            "Training: 100%|██████████| 50/50 [01:33<00:00,  1.86s/it]\n"
          ]
        },
        {
          "output_type": "stream",
          "name": "stdout",
          "text": [
            "Epoch 48, Train Loss: 0.5030, Train Accuracy: 0.8336, Val Loss: 0.4920, Val Accuracy: 0.8081\n"
          ]
        },
        {
          "output_type": "stream",
          "name": "stderr",
          "text": [
            "Training: 100%|██████████| 50/50 [01:33<00:00,  1.87s/it]\n"
          ]
        },
        {
          "output_type": "stream",
          "name": "stdout",
          "text": [
            "Epoch 49, Train Loss: 0.5050, Train Accuracy: 0.8336, Val Loss: 0.4964, Val Accuracy: 0.8182\n"
          ]
        },
        {
          "output_type": "stream",
          "name": "stderr",
          "text": [
            "Training: 100%|██████████| 50/50 [01:33<00:00,  1.88s/it]\n"
          ]
        },
        {
          "output_type": "stream",
          "name": "stdout",
          "text": [
            "Epoch 50, Train Loss: 0.4894, Train Accuracy: 0.8362, Val Loss: 0.4842, Val Accuracy: 0.8207\n"
          ]
        },
        {
          "output_type": "stream",
          "name": "stderr",
          "text": [
            "Training: 100%|██████████| 50/50 [01:33<00:00,  1.87s/it]\n"
          ]
        },
        {
          "output_type": "stream",
          "name": "stdout",
          "text": [
            "Epoch 51, Train Loss: 0.4823, Train Accuracy: 0.8336, Val Loss: 0.4869, Val Accuracy: 0.8258\n"
          ]
        },
        {
          "output_type": "stream",
          "name": "stderr",
          "text": [
            "Training: 100%|██████████| 50/50 [01:33<00:00,  1.88s/it]\n"
          ]
        },
        {
          "output_type": "stream",
          "name": "stdout",
          "text": [
            "Epoch 52, Train Loss: 0.4892, Train Accuracy: 0.8365, Val Loss: 0.4797, Val Accuracy: 0.8207\n"
          ]
        },
        {
          "output_type": "stream",
          "name": "stderr",
          "text": [
            "Training: 100%|██████████| 50/50 [01:34<00:00,  1.89s/it]\n"
          ]
        },
        {
          "output_type": "stream",
          "name": "stdout",
          "text": [
            "Epoch 53, Train Loss: 0.4901, Train Accuracy: 0.8381, Val Loss: 0.4809, Val Accuracy: 0.8232\n",
            "Early stopping at epoch 52!\n",
            "------------------------------------------------------------------------------------------\n",
            "Test Loss: 0.4459, Test Accuracy: 0.8258\n"
          ]
        }
      ]
    },
    {
      "cell_type": "code",
      "source": [
        "plt.figure(figsize=(12, 5))\n",
        "plt.subplot(1, 2, 1)\n",
        "plt.plot(train_losses, label='Train Loss')\n",
        "plt.plot(val_losses, label='Validation Loss')\n",
        "plt.xlabel('Epoch')\n",
        "plt.ylabel('Loss')\n",
        "plt.title('Training and Validation Loss')\n",
        "plt.legend()\n",
        "\n",
        "plt.subplot(1, 2, 2)\n",
        "plt.plot(train_accuracies, label='Train Accuracy', color='green')\n",
        "plt.plot(val_accuracies, label='Validation Accuracy', color='orange')\n",
        "plt.xlabel('Epoch')\n",
        "plt.ylabel('Accuracy')\n",
        "plt.title('Training and Validation Accuracy')\n",
        "plt.legend()\n",
        "\n",
        "plt.tight_layout()\n",
        "plt.show()\n"
      ],
      "metadata": {
        "colab": {
          "base_uri": "https://localhost:8080/",
          "height": 456
        },
        "id": "l4yH439qgIZ0",
        "outputId": "8e4325b7-fb2e-41ff-8363-934a86e8655b"
      },
      "execution_count": null,
      "outputs": [
        {
          "output_type": "display_data",
          "data": {
            "text/plain": [
              "<Figure size 1200x500 with 2 Axes>"
            ],
            "image/png": "[encoded data removed]"
          },
          "metadata": {}
        }
      ]
    },
    {
      "cell_type": "markdown",
      "source": [
        "### <h1 id=\"aa\" style=\"color:white;background:#42aaff;padding:8px;border-radius:8px;font-family:newtimeroman;\"> 1b fine-tuning</h1>\n"
      ],
      "metadata": {
        "id": "7ztU8JnFvql5"
      }
    },
    {
      "cell_type": "code",
      "source": [
        "MAX_LEN = 512\n",
        "BATCH_SIZE = 32\n",
        "NUM_EPOCH = 55\n",
        "\n",
        "PRETRAINED_MODEL_NAME = \"DeepPavlov/rubert-base-cased\"\n",
        "tokenizer = BertTokenizer.from_pretrained(PRETRAINED_MODEL_NAME)\n",
        "bert_model_2 = BertModel.from_pretrained(PRETRAINED_MODEL_NAME)\n",
        "\n",
        "device = torch.device('cuda' if torch.cuda.is_available() else 'cpu')\n",
        "\n",
        "train_dataset = TextDataset(train_df, tokenizer, MAX_LEN)\n",
        "val_dataset = TextDataset(val_df, tokenizer, MAX_LEN)\n",
        "test_dataset = TextDataset(test_df, tokenizer, MAX_LEN)\n",
        "\n",
        "train_dataloader = DataLoader(train_dataset, batch_size=BATCH_SIZE, shuffle=True)\n",
        "val_dataloader = DataLoader(val_dataset, batch_size=BATCH_SIZE)\n",
        "test_dataloader = DataLoader(test_dataset, batch_size=BATCH_SIZE)\n",
        "\n",
        "model_1b = CustomBERTModel(\n",
        "    bert_model_2,\n",
        "    num_classes=train_df['writer'].nunique(),\n",
        "    freeze_bert=False\n",
        "    ).to(device)\n",
        "optimizer = optim.AdamW(model_1b.parameters(), lr=2e-5)\n",
        "criterion = nn.CrossEntropyLoss()\n",
        "trainer = Trainer(model_1b, device)\n",
        "\n",
        "train_losses = []\n",
        "train_accuracies = []\n",
        "val_losses = []\n",
        "val_accuracies = []\n",
        "\n",
        "# Параметры для ранней остановки\n",
        "patience = 2  # Количество эпох, в течение которых потери не должны уменьшаться\n",
        "min_delta = 0.001  # Минимальное значимое уменьшение потерь\n",
        "best_val_loss = np.inf  # Лучшее значение потерь на валидации (np.inf положительная бесконечность)\n",
        "epochs_without_improvement = 0  # Счётчик эпох без улучшения\n",
        "\n",
        "epoch_progress = widgets.IntProgress(\n",
        "    value=0,\n",
        "    min=0,\n",
        "    max=NUM_EPOCH,\n",
        "    description='Epochs:',\n",
        "    bar_style='info',\n",
        "    orientation='horizontal'\n",
        ")\n",
        "display(epoch_progress)\n",
        "\n",
        "for epoch in range(NUM_EPOCH):\n",
        "    epoch_progress.value = epoch\n",
        "\n",
        "    train_loss = trainer.train_model(train_dataloader, optimizer, criterion)\n",
        "    train_losses.append(train_loss)  # Сохраняем значение потерь на обучении\n",
        "\n",
        "    train_accuracy = trainer.evaluate_model(train_dataloader, criterion)[1]\n",
        "    train_accuracies.append(train_accuracy)  # Сохраняем точность на обучении\n",
        "\n",
        "    val_loss, val_accuracy = trainer.evaluate_model(val_dataloader, criterion)\n",
        "    val_losses.append(val_loss)  # Сохраняем значение потерь на валидации\n",
        "    val_accuracies.append(val_accuracy)  # Сохраняем точность на валидации\n",
        "\n",
        "    print(f\"Epoch {epoch + 1}, \"\n",
        "          f\"Train Loss: {train_loss:.4f}, Train Accuracy: {train_accuracy:.4f}, \"\n",
        "          f\"Val Loss: {val_loss:.4f}, Val Accuracy: {val_accuracy:.4f}\")\n",
        "\n",
        "    if val_loss < best_val_loss - min_delta:\n",
        "        best_val_loss = val_loss\n",
        "        epochs_without_improvement = 0\n",
        "    else:\n",
        "        epochs_without_improvement += 1\n",
        "\n",
        "    if epochs_without_improvement >= patience:\n",
        "        print(f\"Early stopping at epoch {epoch}!\")\n",
        "        break\n",
        "\n",
        "print('---' * 30)\n",
        "test_loss, test_accuracy = trainer.evaluate_model(test_dataloader, criterion)\n",
        "print(f\"Test Loss: {test_loss:.4f}, Test Accuracy: {test_accuracy:.4f}\")\n",
        "\n",
        "epoch_progress.bar_style = 'success'\n"
      ],
      "metadata": {
        "colab": {
          "base_uri": "https://localhost:8080/",
          "height": 680,
          "referenced_widgets": [
            "093cbc3a1aea4edd8f657808e593c964",
            "a7b0dfcf71e04dfd990f059611be0d54",
            "b9970e9cca7b4d42a1a4d4acad07abcc",
            "de22c786eb504501b617a00f6da61e68",
            "dfc560c816e945f5b720c9643e66ccc0",
            "c34916ece37d4794b9bee003b4b299cd",
            "0fa0455a8341451e9c0cbdaf395a999a",
            "68a651d1bf844a4dbf9d82b1301712fb",
            "e330d2b6c0444f85a5d05f9dd62c6cb3",
            "e580776f749a4566a4e966cd4b4976c8",
            "743f2c6914764ef699c39132a6fd69a2",
            "fdc97d5718594dc3832c4bb7322822c1",
            "d0cc297293874185bc1da36618f1a9ee",
            "8920a82a360f475b86de5e52cd02498e",
            "42f3d4f9bf5b4c80954b037028b9acb2",
            "c047efee293e4d2593684f9ed142591c",
            "5fa91bdaa2cc45bca83e313a2a84504f",
            "193c25ea3d814729ad1ad64e3df0af4d",
            "041c5552a6e84bc284e23a4eac6bbfe7",
            "9a53dff378814bb79d68c6682e7a703a",
            "b69144962cdb4e6db77f484cc718475c",
            "4167f2a73b244fe491f03fe590d30bef",
            "98c4f4d3a6ba4846986a235985eae5b7",
            "12779419e1b64fb6b9ccffed4619f728",
            "f8f92edb2e104d2980ea22f0cc37e4a8",
            "234e81efb9b4415d873816b3f41d997d",
            "6cba57baaced4fc2acfb8f32dc3edcb4",
            "55aa1297f22b4deea6bf2566de86fb8f",
            "b18969099bb4446ab2e05b27f66c8840",
            "e89858a1ad5c45ec85e2e419a83391a7",
            "b2eb6b4817424798afb2f69b0b4a501c",
            "0bd6550db71a44b0905a076478f8a1b8",
            "3aa10786b2404853b05cb40a0c4c51b9",
            "fa39859199a24ca1a7ea501e1081110e",
            "272f147f093a4404ad1ffb46f6ec45f5",
            "10c7cd28a1a54620aead9cec32e4ce61",
            "2e86bb8abb19422f8a34dee82a3717bb",
            "e28a22af06bd49e19320b74e47d42307",
            "f2e2628a07a94ba598b4026cbb41120b",
            "5fb0fff09c21436891b584f6c1c3be2c",
            "11309d11c3534208a26ec81ab90f413e",
            "977eac212f82477e9252becb468229ed",
            "b471663500804a7ba07c8ea419e79604",
            "0e7f4777ffe243e690690e950798417c",
            "558ca8fe798546fa91968526f521c5af",
            "a374f0fa5be8437093492fff1b27d8ca",
            "cff1c8aad3c649fabe2559b20f2286e7",
            "58bb5c42941f4679a115709e50212582",
            "89515a7c226c499e9c1f0a49a6b18159",
            "93b15584737b411598fc147fab5e958d",
            "0e28b1e850f0493f8768dc382e65f473",
            "1b9b620d3997491e8e20a16a61e03626",
            "f214450462cd4b73a88822624ad09e12",
            "f7db32d4fa534184b426e884bde21154",
            "90aba9dcd0e147aa806420fb0ae4fb67",
            "dad12d24fe454da7bfc1a82cf5583e7d",
            "617d6a973713408aa1bd6b0e1a11c083",
            "705abb623c1347878d05c4810a096d4f"
          ]
        },
        "id": "26fD6uUIFHle",
        "outputId": "4dd6ea96-5946-40dc-d727-777af3839624"
      },
      "execution_count": null,
      "outputs": [
        {
          "output_type": "stream",
          "name": "stderr",
          "text": [
            "/usr/local/lib/python3.11/dist-packages/huggingface_hub/utils/_auth.py:94: UserWarning: \n",
            "The secret `HF_TOKEN` does not exist in your Colab secrets.\n",
            "To authenticate with the Hugging Face Hub, create a token in your settings tab (https://huggingface.co/settings/tokens), set it as secret in your Google Colab and restart your session.\n",
            "You will be able to reuse this secret in all of your notebooks.\n",
            "Please note that authentication is recommended but still optional to access public models or datasets.\n",
            "  warnings.warn(\n"
          ]
        },
        {
          "output_type": "display_data",
          "data": {
            "text/plain": [
              "tokenizer_config.json:   0%|          | 0.00/24.0 [00:00<?, ?B/s]"
            ],
            "application/vnd.jupyter.widget-view+json": {
              "version_major": 2,
              "version_minor": 0,
              "model_id": "093cbc3a1aea4edd8f657808e593c964"
            }
          },
          "metadata": {}
        },
        {
          "output_type": "display_data",
          "data": {
            "text/plain": [
              "vocab.txt:   0%|          | 0.00/1.65M [00:00<?, ?B/s]"
            ],
            "application/vnd.jupyter.widget-view+json": {
              "version_major": 2,
              "version_minor": 0,
              "model_id": "fdc97d5718594dc3832c4bb7322822c1"
            }
          },
          "metadata": {}
        },
        {
          "output_type": "display_data",
          "data": {
            "text/plain": [
              "special_tokens_map.json:   0%|          | 0.00/112 [00:00<?, ?B/s]"
            ],
            "application/vnd.jupyter.widget-view+json": {
              "version_major": 2,
              "version_minor": 0,
              "model_id": "98c4f4d3a6ba4846986a235985eae5b7"
            }
          },
          "metadata": {}
        },
        {
          "output_type": "display_data",
          "data": {
            "text/plain": [
              "config.json:   0%|          | 0.00/642 [00:00<?, ?B/s]"
            ],
            "application/vnd.jupyter.widget-view+json": {
              "version_major": 2,
              "version_minor": 0,
              "model_id": "fa39859199a24ca1a7ea501e1081110e"
            }
          },
          "metadata": {}
        },
        {
          "output_type": "display_data",
          "data": {
            "text/plain": [
              "pytorch_model.bin:   0%|          | 0.00/714M [00:00<?, ?B/s]"
            ],
            "application/vnd.jupyter.widget-view+json": {
              "version_major": 2,
              "version_minor": 0,
              "model_id": "558ca8fe798546fa91968526f521c5af"
            }
          },
          "metadata": {}
        },
        {
          "output_type": "stream",
          "name": "stderr",
          "text": [
            "Some weights of the model checkpoint at DeepPavlov/rubert-base-cased were not used when initializing BertModel: ['cls.predictions.bias', 'cls.predictions.decoder.bias', 'cls.predictions.decoder.weight', 'cls.predictions.transform.LayerNorm.bias', 'cls.predictions.transform.LayerNorm.weight', 'cls.predictions.transform.dense.bias', 'cls.predictions.transform.dense.weight', 'cls.seq_relationship.bias', 'cls.seq_relationship.weight']\n",
            "- This IS expected if you are initializing BertModel from the checkpoint of a model trained on another task or with another architecture (e.g. initializing a BertForSequenceClassification model from a BertForPreTraining model).\n",
            "- This IS NOT expected if you are initializing BertModel from the checkpoint of a model that you expect to be exactly identical (initializing a BertForSequenceClassification model from a BertForSequenceClassification model).\n"
          ]
        },
        {
          "output_type": "display_data",
          "data": {
            "text/plain": [
              "IntProgress(value=0, bar_style='info', description='Epochs:', max=55)"
            ],
            "application/vnd.jupyter.widget-view+json": {
              "version_major": 2,
              "version_minor": 0,
              "model_id": "dad12d24fe454da7bfc1a82cf5583e7d"
            }
          },
          "metadata": {}
        },
        {
          "output_type": "stream",
          "name": "stderr",
          "text": [
            "Training: 100%|██████████| 99/99 [04:47<00:00,  2.90s/it]\n"
          ]
        },
        {
          "output_type": "stream",
          "name": "stdout",
          "text": [
            "Epoch 1, Train Loss: 0.9589, Train Accuracy: 0.8280, Val Loss: 0.6232, Val Accuracy: 0.8333\n"
          ]
        },
        {
          "output_type": "stream",
          "name": "stderr",
          "text": [
            "Training: 100%|██████████| 99/99 [04:56<00:00,  2.99s/it]\n"
          ]
        },
        {
          "output_type": "stream",
          "name": "stdout",
          "text": [
            "Epoch 2, Train Loss: 0.5250, Train Accuracy: 0.7639, Val Loss: 0.4393, Val Accuracy: 0.7525\n"
          ]
        },
        {
          "output_type": "stream",
          "name": "stderr",
          "text": [
            "Training: 100%|██████████| 99/99 [04:56<00:00,  2.99s/it]\n"
          ]
        },
        {
          "output_type": "stream",
          "name": "stdout",
          "text": [
            "Epoch 3, Train Loss: 0.3500, Train Accuracy: 0.9438, Val Loss: 0.2832, Val Accuracy: 0.8965\n"
          ]
        },
        {
          "output_type": "stream",
          "name": "stderr",
          "text": [
            "Training: 100%|██████████| 99/99 [04:56<00:00,  3.00s/it]\n"
          ]
        },
        {
          "output_type": "stream",
          "name": "stdout",
          "text": [
            "Epoch 4, Train Loss: 0.2242, Train Accuracy: 0.9801, Val Loss: 0.2729, Val Accuracy: 0.9192\n"
          ]
        },
        {
          "output_type": "stream",
          "name": "stderr",
          "text": [
            "Training: 100%|██████████| 99/99 [04:56<00:00,  3.00s/it]\n"
          ]
        },
        {
          "output_type": "stream",
          "name": "stdout",
          "text": [
            "Epoch 5, Train Loss: 0.1257, Train Accuracy: 0.9934, Val Loss: 0.2288, Val Accuracy: 0.9242\n"
          ]
        },
        {
          "output_type": "stream",
          "name": "stderr",
          "text": [
            "Training: 100%|██████████| 99/99 [04:56<00:00,  3.00s/it]\n"
          ]
        },
        {
          "output_type": "stream",
          "name": "stdout",
          "text": [
            "Epoch 6, Train Loss: 0.0887, Train Accuracy: 0.9934, Val Loss: 0.2844, Val Accuracy: 0.9293\n"
          ]
        },
        {
          "output_type": "stream",
          "name": "stderr",
          "text": [
            "Training: 100%|██████████| 99/99 [04:56<00:00,  3.00s/it]\n"
          ]
        },
        {
          "output_type": "stream",
          "name": "stdout",
          "text": [
            "Epoch 7, Train Loss: 0.0432, Train Accuracy: 0.9918, Val Loss: 0.3341, Val Accuracy: 0.9091\n",
            "Early stopping at epoch 6!\n",
            "------------------------------------------------------------------------------------------\n",
            "Test Loss: 0.3497, Test Accuracy: 0.9141\n"
          ]
        }
      ]
    },
    {
      "cell_type": "code",
      "source": [
        "plt.figure(figsize=(12, 5))\n",
        "plt.subplot(1, 2, 1)\n",
        "plt.plot(train_losses, label='Train Loss')\n",
        "plt.plot(val_losses, label='Validation Loss')\n",
        "plt.xlabel('Epoch')\n",
        "plt.ylabel('Loss')\n",
        "plt.title('Training and Validation Loss')\n",
        "plt.legend()\n",
        "\n",
        "plt.subplot(1, 2, 2)\n",
        "plt.plot(train_accuracies, label='Train Accuracy', color='green')\n",
        "plt.plot(val_accuracies, label='Validation Accuracy', color='orange')\n",
        "plt.xlabel('Epoch')\n",
        "plt.ylabel('Accuracy')\n",
        "plt.title('Training and Validation Accuracy')\n",
        "plt.legend()\n",
        "\n",
        "plt.tight_layout()\n",
        "plt.show()\n"
      ],
      "metadata": {
        "id": "zAXVHeE5NbCE",
        "colab": {
          "base_uri": "https://localhost:8080/",
          "height": 416
        },
        "outputId": "a3031621-fd47-44f8-c5b4-2f3e5648663a"
      },
      "execution_count": null,
      "outputs": [
        {
          "output_type": "display_data",
          "data": {
            "text/plain": [
              "<Figure size 1200x500 with 2 Axes>"
            ],
            "image/png": "[encoded data removed]"
          },
          "metadata": {}
        }
      ]
    },
    {
      "cell_type": "markdown",
      "source": [
        " ## <h1 id=\"aa\" style=\"color:white;background:#B00000;padding:8px;border-radius:8px;font-family:newtimeroman;\"> LSTM </h1>\n"
      ],
      "metadata": {
        "id": "hI_WAlZkO1D8"
      }
    },
    {
      "cell_type": "markdown",
      "source": [
        "__Обычная (однонаправленная) LSTM:__\n",
        "\n",
        "* Обрабатывает последовательность входных данных (например, слова в предложении) в одном направлении, то есть, от начала к концу.\n",
        "\n",
        "* Состояние скрытой ячейки (hidden state) на каждом шаге зависит только от предыдущих шагов.\n",
        "\n",
        "* Подходит, когда контекст важен только в одном направлении (например, для генерации текста слева направо).\n",
        "\n",
        "__Двунаправленная LSTM (bidirectional=True):__\n",
        "\n",
        "*Обрабатывает входную последовательность в двух направлениях: от начала к концу и от конца к началу.\n",
        "\n",
        "*Состоит из двух LSTM: одной, которая обрабатывает последовательность в прямом направлении (forward LSTM) и другой, которая обрабатывает ее в обратном направлении (backward LSTM).\n",
        "\n",
        "*На каждом шаге скрытое состояние является конкатенацией скрытых состояний forward и backward LSTM.\n",
        "\n",
        "*Позволяет модели учитывать контекст как слева, так и справа от текущего элемента последовательности.\n",
        "\n",
        "Подходит для задач, где контекст важен в обоих направлениях, например:\n",
        "\n",
        "* Классификация текста: нужно понять смысл слова, учитывая слова до и после него.\n",
        "\n",
        "* NER (Named Entity Recognition): нужно определить, является ли слово именем, местом и т.д.\n",
        "\n",
        "* Машинный перевод: нужно учитывать контекст всего предложения."
      ],
      "metadata": {
        "id": "k1jnNGY5kNIs"
      }
    },
    {
      "cell_type": "code",
      "source": [
        "# Класс для создания датасета, совместимого с PyTorch\n",
        "class TextDataset(Dataset):\n",
        "    def __init__(self, dataframe, tokenizer, max_len):\n",
        "        \"\"\"\n",
        "        Инициализация датасета.\n",
        "\n",
        "        :param dataframe: DataFrame, содержащий тексты и метки.\n",
        "        :param tokenizer: Токенизатор для преобразования текста в токены.\n",
        "        :param max_len: Максимальная длина последовательности токенов.\n",
        "        \"\"\"\n",
        "        self.data = dataframe\n",
        "        self.tokenizer = tokenizer\n",
        "        self.max_len = max_len\n",
        "\n",
        "    def __len__(self):\n",
        "        return len(self.data)\n",
        "\n",
        "    def __getitem__(self, index):\n",
        "        \"\"\"\n",
        "        Возвращает элемент датасета по индексу.\n",
        "\n",
        "        :param index: Индекс элемента.\n",
        "        :return: Словарь, содержащий input_ids, attention_mask и метку.\n",
        "        \"\"\"\n",
        "        text = self.data.iloc[index]['text']\n",
        "        label = self.data.iloc[index]['writer']\n",
        "\n",
        "        # Токенизация текста\n",
        "        encoding = self.tokenizer(\n",
        "            text,\n",
        "            max_length=self.max_len,  # Ограничение длины последовательности\n",
        "            padding='max_length',     # Дополнение до максимальной длины\n",
        "            truncation=True,          # Обрезка текста, если он превышает max_len\n",
        "            return_tensors=\"pt\"       # Возврат тензоров PyTorch\n",
        "        )\n",
        "\n",
        "        return {\n",
        "            'input_ids': encoding['input_ids'].squeeze(0),  # Убираем лишнюю размерность\n",
        "            'attention_mask': encoding['attention_mask'].squeeze(0),  # Убираем лишнюю размерность\n",
        "            'label': torch.tensor(label, dtype=torch.long)  # Преобразуем метку в тензор\n",
        "        }\n",
        "\n",
        "\n",
        "class Trainer:\n",
        "    \"\"\"\n",
        "    Класс для обучения и оценки модели.\n",
        "\n",
        "    Атрибуты:\n",
        "        model: Модель, которую нужно обучать и оценивать.\n",
        "        device: Устройство (CPU или GPU), на котором выполняется обучение.\n",
        "    \"\"\"\n",
        "\n",
        "    def __init__(self, model, device):\n",
        "        \"\"\"\n",
        "        Инициализация Trainer.\n",
        "\n",
        "        :param model: Модель для обучения и оценки.\n",
        "        :param device: Устройство (например, 'cuda' или 'cpu').\n",
        "        \"\"\"\n",
        "        self.model = model\n",
        "        self.device = device\n",
        "\n",
        "    def train_model(self, dataloader, optimizer, criterion):\n",
        "        \"\"\"\n",
        "        Обучает модель на данных из dataloader.\n",
        "\n",
        "        :param dataloader: DataLoader, предоставляющий обучающие данные.\n",
        "        :param optimizer: Оптимизатор для обновления параметров модели.\n",
        "        :param criterion: Функция потерь для вычисления ошибки.\n",
        "        :return: Среднее значение потерь за эпоху.\n",
        "        \"\"\"\n",
        "        self.model.train()  # Переводим модель в режим обучения\n",
        "        total_loss = 0\n",
        "\n",
        "        # Итерация по батчам данных\n",
        "        for batch in tqdm(dataloader, desc=\"Training\"):\n",
        "            # Переносим данные на устройство\n",
        "            input_ids = batch['input_ids'].to(self.device)\n",
        "            attention_mask = batch['attention_mask'].to(self.device)\n",
        "            labels = batch['label'].to(self.device)\n",
        "\n",
        "            # Обнуляем градиенты\n",
        "            optimizer.zero_grad()\n",
        "\n",
        "            # Прямой проход: вычисляем выходы модели\n",
        "            outputs = self.model(input_ids, attention_mask)\n",
        "\n",
        "            # Вычисляем потери\n",
        "            loss = criterion(outputs, labels)\n",
        "\n",
        "            # Обратный проход: вычисляем градиенты\n",
        "            loss.backward()\n",
        "\n",
        "            # Обновляем параметры модели\n",
        "            optimizer.step()\n",
        "\n",
        "            # Суммируем потери\n",
        "            total_loss += loss.item()\n",
        "\n",
        "        # Возвращаем среднее значение потерь за эпоху\n",
        "        return total_loss / len(dataloader)\n",
        "\n",
        "    def evaluate_model(self, dataloader, criterion):\n",
        "        \"\"\"\n",
        "        Оценивает модель на данных из dataloader.\n",
        "\n",
        "        :param dataloader: DataLoader, предоставляющий данные для оценки.\n",
        "        :param criterion: Функция потерь для вычисления ошибки.\n",
        "        :return: Среднее значение потерь и точность на данных.\n",
        "        \"\"\"\n",
        "        self.model.eval()  # Переводим модель в режим оценки\n",
        "        total_loss = 0\n",
        "        correct = 0\n",
        "\n",
        "        # Отключаем вычисление градиентов для ускорения и экономии памяти\n",
        "        with torch.no_grad():\n",
        "            # Итерация по батчам данных\n",
        "            for batch in dataloader:\n",
        "                # Переносим данные на устройство (GPU или CPU)\n",
        "                input_ids = batch['input_ids'].to(self.device)\n",
        "                attention_mask = batch['attention_mask'].to(self.device)\n",
        "                labels = batch['label'].to(self.device)\n",
        "\n",
        "                # Прямой проход: вычисляем выходы модели\n",
        "                outputs = self.model(input_ids, attention_mask)\n",
        "\n",
        "                # Вычисляем потери\n",
        "                loss = criterion(outputs, labels)\n",
        "                total_loss += loss.item()\n",
        "\n",
        "                # Вычисляем предсказания (индекс класса с максимальной вероятностью)\n",
        "                preds = torch.argmax(outputs, dim=1)\n",
        "\n",
        "                # Считаем количество правильных предсказаний\n",
        "                correct += (preds == labels).sum().item()\n",
        "\n",
        "        # Возвращаем среднее значение потерь и точность\n",
        "        return total_loss / len(dataloader), correct / len(dataloader.dataset)\n",
        "\n"
      ],
      "metadata": {
        "id": "f7d1ZZd6iV8v"
      },
      "execution_count": null,
      "outputs": []
    },
    {
      "cell_type": "markdown",
      "source": [
        "### <h1 id=\"aa\" style=\"color:white;background:#42aaff;padding:8px;border-radius:8px;font-family:newtimeroman;\"> LSTM stack</h1>\n"
      ],
      "metadata": {
        "id": "CtF3RzjSiIu9"
      }
    },
    {
      "cell_type": "code",
      "source": [
        "class LSTMModel(nn.Module):\n",
        "    \"\"\"\n",
        "    Модель LSTM с механизмом внимания.\n",
        "\n",
        "    Эта модель использует LSTM для обработки последовательностей текста,\n",
        "    применяет механизм внимания для взвешивания важности различных позиций в последовательности,\n",
        "    и затем проецирует результат на выходной слой для классификации.\n",
        "    \"\"\"\n",
        "    def __init__(self, vocab_size: int, embedding_dim: int, hidden_dim: int, output_dim: int, n_layers: int, dropout: float):\n",
        "        \"\"\"\n",
        "        Инициализирует слои модели.\n",
        "\n",
        "        Параметры:\n",
        "            vocab_size (int): Размер словаря (количество уникальных слов).\n",
        "            embedding_dim (int): Размерность векторного представления слова.\n",
        "            hidden_dim (int): Размерность скрытого состояния LSTM.\n",
        "            output_dim (int): Размерность выходного слоя (количество классов).\n",
        "            n_layers (int): Количество слоев LSTM.\n",
        "            dropout (float): Вероятность dropout.\n",
        "        \"\"\"\n",
        "        super(LSTMModel, self).__init__()\n",
        "\n",
        "        # Слой эмбеддингов для преобразования индексов слов в векторы\n",
        "        self.embedding = nn.Embedding(vocab_size, embedding_dim)\n",
        "        # Слой батч-нормализации\n",
        "        self.bn = nn.BatchNorm1d(embedding_dim)\n",
        "        # Слой LSTM\n",
        "        self.lstm = nn.LSTM(\n",
        "            embedding_dim,\n",
        "            hidden_dim,\n",
        "            num_layers=n_layers,\n",
        "            dropout=dropout,\n",
        "            batch_first=True,\n",
        "            bidirectional=False\n",
        "            )\n",
        "        # Слой dropout\n",
        "        self.dropout = nn.Dropout(dropout)\n",
        "        # Полносвязный слой для классификации\n",
        "        self.fc = nn.Linear(hidden_dim * 2, output_dim)\n",
        "        # Полносвязный слой для механизма внимания\n",
        "        self.attention = nn.Linear(hidden_dim * 2, 1)\n",
        "\n",
        "        # Инициализация весов LSTM\n",
        "        for name, param in self.lstm.named_parameters():\n",
        "            if 'weight' in name:\n",
        "                nn.init.xavier_uniform_(param)\n",
        "\n",
        "    def forward(self, text: torch.Tensor, attention_mask: Optional[torch.Tensor] = None) -> torch.Tensor:\n",
        "        \"\"\"\n",
        "        Прямой проход модели.\n",
        "\n",
        "        Параметры:\n",
        "            text (torch.Tensor): Входные данные (последовательность индексов слов).\n",
        "                                Форма: (batch_size, seq_len)\n",
        "            attention_mask (torch.Tensor, optional): Маска внимания. По умолчанию None.\n",
        "                                                     Форма: (batch_size, seq_len)\n",
        "        Возвращает:\n",
        "            torch.Tensor: Выход модели (логиты для классификации).\n",
        "                          Форма: (batch_size, output_dim)\n",
        "        \"\"\"\n",
        "        # Преобразуем индексы слов в эмбеддинги\n",
        "        embedded = self.embedding(text)\n",
        "\n",
        "        # Применяем маску, если она предоставлена\n",
        "        if attention_mask is not None:\n",
        "            embedded = embedded * attention_mask.unsqueeze(-1)\n",
        "\n",
        "        # Применяем батч-нормализацию к эмбеддингам\n",
        "        embedded = self.bn(embedded.transpose(1, 2)).transpose(1, 2)\n",
        "\n",
        "        # Пропускаем эмбеддинги через LSTM\n",
        "        lstm_out, _ = self.lstm(embedded)\n",
        "        # Применяем dropout к выходу LSTM\n",
        "        lstm_out = self.dropout(lstm_out)\n",
        "\n",
        "        # Вычисляем веса внимания\n",
        "        attention_weights = torch.softmax(self.attention(lstm_out), dim=1)\n",
        "        # Взвешиваем выходы LSTM с помощью механизма внимания\n",
        "        attention_output = torch.sum(attention_weights * lstm_out, dim=1)\n",
        "\n",
        "        # Пропускаем результат через полносвязный слой для классификации\n",
        "        output = self.fc(attention_output)\n",
        "        return output\n"
      ],
      "metadata": {
        "id": "9FBqaywdj_w_"
      },
      "execution_count": null,
      "outputs": []
    },
    {
      "cell_type": "code",
      "source": [
        "PRETRAINED_MODEL_NAME = \"DeepPavlov/rubert-base-cased\"\n",
        "tokenizer = BertTokenizer.from_pretrained(PRETRAINED_MODEL_NAME)\n",
        "device = torch.device('cuda' if torch.cuda.is_available() else 'cpu')\n",
        "\n",
        "VOCAB_SIZE = tokenizer.vocab_size\n",
        "EMBEDDING_DIM = 128\n",
        "HIDDEN_DIM = 256\n",
        "OUTPUT_DIM = len(train_df['writer'].unique())\n",
        "N_LAYERS = 4\n",
        "DROPOUT = 0.3\n",
        "MAX_LEN = 512\n",
        "BATCH_SIZE = 128\n",
        "NUM_EPOCH = 100\n",
        "\n",
        "train_dataset = TextDataset(train_df, tokenizer, MAX_LEN)\n",
        "val_dataset = TextDataset(val_df, tokenizer, MAX_LEN)\n",
        "test_dataset = TextDataset(test_df, tokenizer, MAX_LEN)\n",
        "\n",
        "train_dataloader = DataLoader(train_dataset, batch_size=BATCH_SIZE, shuffle=True)\n",
        "val_dataloader = DataLoader(val_dataset, batch_size=BATCH_SIZE)\n",
        "test_dataloader = DataLoader(test_dataset, batch_size=BATCH_SIZE)\n",
        "\n",
        "model_lstm = LSTMModel(\n",
        "    vocab_size=VOCAB_SIZE,\n",
        "    embedding_dim=EMBEDDING_DIM,\n",
        "    hidden_dim=HIDDEN_DIM,\n",
        "    output_dim=OUTPUT_DIM,\n",
        "    n_layers=N_LAYERS,\n",
        "    dropout=DROPOUT\n",
        ").to(device)\n",
        "optimizer = optim.AdamW(model_lstm.parameters(), lr=2e-5)\n",
        "criterion = nn.CrossEntropyLoss()\n",
        "trainer = Trainer(model_lstm, device)\n",
        "\n",
        "train_losses = []\n",
        "train_accuracies = []\n",
        "val_losses = []\n",
        "val_accuracies = []\n",
        "\n",
        "# Параметры для ранней остановки\n",
        "patience = 3  # Количество эпох, в течение которых потери не должны уменьшаться\n",
        "min_delta = 0.001  # Минимальное значимое уменьшение потерь\n",
        "best_val_loss = np.inf  # Лучшее значение потерь на валидации (np.inf положительная бесконечность)\n",
        "epochs_without_improvement = 0  # Счётчик эпох без улучшения\n",
        "\n",
        "epoch_progress = widgets.IntProgress(\n",
        "    value=0,\n",
        "    min=0,\n",
        "    max=NUM_EPOCH,\n",
        "    description='Epochs:',\n",
        "    bar_style='info',\n",
        "    orientation='horizontal'\n",
        ")\n",
        "display(epoch_progress)\n",
        "\n",
        "for epoch in range(NUM_EPOCH):\n",
        "    epoch_progress.value = epoch\n",
        "\n",
        "    train_loss = trainer.train_model(train_dataloader, optimizer, criterion)\n",
        "    train_losses.append(train_loss)  # Сохраняем значение потерь на обучении\n",
        "\n",
        "    train_accuracy = trainer.evaluate_model(train_dataloader, criterion)[1]\n",
        "    train_accuracies.append(train_accuracy)  # Сохраняем точность на обучении\n",
        "\n",
        "    val_loss, val_accuracy = trainer.evaluate_model(val_dataloader, criterion)\n",
        "    val_losses.append(val_loss)  # Сохраняем значение потерь на валидации\n",
        "    val_accuracies.append(val_accuracy)  # Сохраняем точность на валидации\n",
        "\n",
        "    print(f\"Epoch {epoch + 1}, \"\n",
        "          f\"Train Loss: {train_loss:.4f}, Train Accuracy: {train_accuracy:.4f}, \"\n",
        "          f\"Val Loss: {val_loss:.4f}, Val Accuracy: {val_accuracy:.4f}\")\n",
        "\n",
        "    if val_loss < best_val_loss - min_delta:\n",
        "        best_val_loss = val_loss\n",
        "        epochs_without_improvement = 0\n",
        "    else:\n",
        "        epochs_without_improvement += 1\n",
        "\n",
        "    if epochs_without_improvement >= patience:\n",
        "        print(f\"Early stopping at epoch {epoch}!\")\n",
        "        break\n",
        "\n",
        "print('---' * 30)\n",
        "test_loss, test_accuracy = trainer.evaluate_model(test_dataloader, criterion)\n",
        "print(f\"Test Loss: {test_loss:.4f}, Test Accuracy: {test_accuracy:.4f}\")\n",
        "\n",
        "epoch_progress.bar_style = 'success'\n"
      ],
      "metadata": {
        "id": "JEWSexHZPMcz",
        "colab": {
          "base_uri": "https://localhost:8080/",
          "height": 448,
          "referenced_widgets": [
            "30a1ad7e3a00449c943d22d9cc219456",
            "c5df4fbadd7a473182420fac083e5183",
            "a4af7dec8a5c42e796cac58c6c7dd9bb"
          ]
        },
        "outputId": "04f2dc54-332e-409e-efff-ad87274b50fc"
      },
      "execution_count": null,
      "outputs": [
        {
          "output_type": "display_data",
          "data": {
            "text/plain": [
              "IntProgress(value=0, bar_style='info', description='Epochs:')"
            ],
            "application/vnd.jupyter.widget-view+json": {
              "version_major": 2,
              "version_minor": 0,
              "model_id": "30a1ad7e3a00449c943d22d9cc219456"
            }
          },
          "metadata": {}
        },
        {
          "output_type": "stream",
          "name": "stderr",
          "text": [
            "Training: 100%|██████████| 25/25 [00:33<00:00,  1.33s/it]\n"
          ]
        },
        {
          "output_type": "stream",
          "name": "stdout",
          "text": [
            "Epoch 1, Train Loss: 1.3859, Train Accuracy: 0.2661, Val Loss: 1.3890, Val Accuracy: 0.2677\n"
          ]
        },
        {
          "output_type": "stream",
          "name": "stderr",
          "text": [
            "Training: 100%|██████████| 25/25 [00:31<00:00,  1.24s/it]\n"
          ]
        },
        {
          "output_type": "stream",
          "name": "stdout",
          "text": [
            "Epoch 2, Train Loss: 1.3838, Train Accuracy: 0.3494, Val Loss: 1.3839, Val Accuracy: 0.3485\n"
          ]
        },
        {
          "output_type": "stream",
          "name": "stderr",
          "text": [
            "Training: 100%|██████████| 25/25 [00:31<00:00,  1.24s/it]\n"
          ]
        },
        {
          "output_type": "stream",
          "name": "stdout",
          "text": [
            "Epoch 3, Train Loss: 1.3783, Train Accuracy: 0.3924, Val Loss: 1.3746, Val Accuracy: 0.3965\n"
          ]
        },
        {
          "output_type": "stream",
          "name": "stderr",
          "text": [
            "Training: 100%|██████████| 25/25 [00:30<00:00,  1.24s/it]\n"
          ]
        },
        {
          "output_type": "stream",
          "name": "stdout",
          "text": [
            "Epoch 4, Train Loss: 1.3542, Train Accuracy: 0.4334, Val Loss: 1.3248, Val Accuracy: 0.4318\n"
          ]
        },
        {
          "output_type": "stream",
          "name": "stderr",
          "text": [
            "Training: 100%|██████████| 25/25 [00:30<00:00,  1.21s/it]\n"
          ]
        },
        {
          "output_type": "stream",
          "name": "stdout",
          "text": [
            "Epoch 5, Train Loss: 1.2251, Train Accuracy: 0.4470, Val Loss: 1.1642, Val Accuracy: 0.4470\n"
          ]
        },
        {
          "output_type": "stream",
          "name": "stderr",
          "text": [
            "Training: 100%|██████████| 25/25 [00:30<00:00,  1.22s/it]\n"
          ]
        },
        {
          "output_type": "stream",
          "name": "stdout",
          "text": [
            "Epoch 6, Train Loss: 1.0739, Train Accuracy: 0.4419, Val Loss: 1.1083, Val Accuracy: 0.4318\n"
          ]
        },
        {
          "output_type": "stream",
          "name": "stderr",
          "text": [
            "Training: 100%|██████████| 25/25 [00:31<00:00,  1.24s/it]\n"
          ]
        },
        {
          "output_type": "stream",
          "name": "stdout",
          "text": [
            "Epoch 7, Train Loss: 1.0415, Train Accuracy: 0.4489, Val Loss: 1.0949, Val Accuracy: 0.4394\n"
          ]
        },
        {
          "output_type": "stream",
          "name": "stderr",
          "text": [
            "Training: 100%|██████████| 25/25 [00:31<00:00,  1.26s/it]\n"
          ]
        },
        {
          "output_type": "stream",
          "name": "stdout",
          "text": [
            "Epoch 8, Train Loss: 1.0243, Train Accuracy: 0.4542, Val Loss: 1.1018, Val Accuracy: 0.4318\n"
          ]
        },
        {
          "output_type": "stream",
          "name": "stderr",
          "text": [
            "Training: 100%|██████████| 25/25 [00:30<00:00,  1.23s/it]\n"
          ]
        },
        {
          "output_type": "stream",
          "name": "stdout",
          "text": [
            "Epoch 9, Train Loss: 1.0127, Train Accuracy: 0.4716, Val Loss: 1.1263, Val Accuracy: 0.4369\n"
          ]
        },
        {
          "output_type": "stream",
          "name": "stderr",
          "text": [
            "Training: 100%|██████████| 25/25 [00:30<00:00,  1.22s/it]\n"
          ]
        },
        {
          "output_type": "stream",
          "name": "stdout",
          "text": [
            "Epoch 10, Train Loss: 1.0040, Train Accuracy: 0.4706, Val Loss: 1.1254, Val Accuracy: 0.4318\n",
            "Early stopping at epoch 9!\n",
            "------------------------------------------------------------------------------------------\n",
            "Test Loss: 1.0758, Test Accuracy: 0.4571\n"
          ]
        }
      ]
    },
    {
      "cell_type": "code",
      "source": [
        "plt.figure(figsize=(12, 5))\n",
        "plt.subplot(1, 2, 1)\n",
        "plt.plot(train_losses, label='Train Loss')\n",
        "plt.plot(val_losses, label='Validation Loss')\n",
        "plt.xlabel('Epoch')\n",
        "plt.ylabel('Loss')\n",
        "plt.title('Training and Validation Loss')\n",
        "plt.legend()\n",
        "\n",
        "plt.subplot(1, 2, 2)\n",
        "plt.plot(train_accuracies, label='Train Accuracy', color='green')\n",
        "plt.plot(val_accuracies, label='Validation Accuracy', color='orange')\n",
        "plt.xlabel('Epoch')\n",
        "plt.ylabel('Accuracy')\n",
        "plt.title('Training and Validation Accuracy')\n",
        "plt.legend()\n",
        "\n",
        "plt.tight_layout()\n",
        "plt.show()\n"
      ],
      "metadata": {
        "id": "L51T1eXVPCWa",
        "colab": {
          "base_uri": "https://localhost:8080/",
          "height": 507
        },
        "outputId": "51ecfb9c-3d5c-4846-8d6a-297f6ba51cad"
      },
      "execution_count": null,
      "outputs": [
        {
          "output_type": "display_data",
          "data": {
            "text/plain": [
              "<Figure size 1200x500 with 2 Axes>"
            ],
            "image/png": "[encoded data removed]"
          },
          "metadata": {}
        }
      ]
    },
    {
      "cell_type": "markdown",
      "source": [
        "### <h1 id=\"aa\" style=\"color:white;background:#42aaff;padding:8px;border-radius:8px;font-family:newtimeroman;\"> bidirectional LSTM </h1>\n"
      ],
      "metadata": {
        "id": "iQa9pkMUiNYG"
      }
    },
    {
      "cell_type": "code",
      "source": [
        "class BiLSTMModel(nn.Module):\n",
        "    \"\"\"\n",
        "    Модель двунаправленной LSTM (BiLSTM) для классификации текстов.\n",
        "\n",
        "    Атрибуты:\n",
        "        embedding (nn.Embedding): Слой для преобразования индексов слов в эмбеддинги.\n",
        "        lstm (nn.LSTM): Двунаправленный слой LSTM для обработки последовательностей.\n",
        "        dropout (nn.Dropout): Слой Dropout для регуляризации.\n",
        "        fc (nn.Linear): Полносвязный слой для классификации.\n",
        "    \"\"\"\n",
        "\n",
        "    def __init__(self, vocab_size, embedding_dim, hidden_dim, output_dim, n_layers, dropout):\n",
        "        \"\"\"\n",
        "        Инициализация модели BiLSTM.\n",
        "\n",
        "        Параметры:\n",
        "            vocab_size (int): Размер словаря (количество уникальных токенов).\n",
        "            embedding_dim (int): Размерность эмбеддингов (векторное представление слов).\n",
        "            hidden_dim (int): Размерность скрытого состояния LSTM.\n",
        "            output_dim (int): Количество классов для классификации.\n",
        "            n_layers (int): Количество слоёв LSTM.\n",
        "            dropout (float): Вероятность Dropout для регуляризации.\n",
        "        \"\"\"\n",
        "        super(BiLSTMModel, self).__init__()\n",
        "\n",
        "        # Слой для преобразования индексов слов в эмбеддинги\n",
        "        self.embedding = nn.Embedding(vocab_size, embedding_dim)\n",
        "\n",
        "        # Двунаправленный слой LSTM\n",
        "        # Параметры:\n",
        "        #   embedding_dim: Размерность входных данных (эмбеддинги).\n",
        "        #   hidden_dim: Размерность скрытого состояния.\n",
        "        #   num_layers: Количество слоёв LSTM.\n",
        "        #   dropout: Вероятность Dropout между слоями LSTM.\n",
        "        #   batch_first: Если True, входные данные имеют форму (batch_size, seq_len, embedding_dim).\n",
        "        #   bidirectional: Если True, создаётся двунаправленный LSTM.\n",
        "        self.lstm = nn.LSTM(\n",
        "            embedding_dim, hidden_dim, num_layers=n_layers, dropout=dropout,\n",
        "            batch_first=True, bidirectional=True\n",
        "        )\n",
        "\n",
        "        # Слой Dropout для регуляризации\n",
        "        self.dropout = nn.Dropout(dropout)\n",
        "\n",
        "        # Полносвязный слой для классификации\n",
        "        # Учитываем удвоенную размерность скрытого состояния из-за двунаправленного LSTM\n",
        "        self.fc = nn.Linear(hidden_dim * 2, output_dim)\n",
        "\n",
        "    def forward(self, text, attention_mask=None):\n",
        "        \"\"\"\n",
        "        Прямой проход модели.\n",
        "\n",
        "        Параметры:\n",
        "            text (torch.Tensor): Входные данные (последовательность индексов слов).\n",
        "                                Форма: (batch_size, seq_len)\n",
        "            attention_mask (torch.Tensor, optional): Маска внимания. По умолчанию None.\n",
        "\n",
        "        Возвращает:\n",
        "            torch.Tensor: Выход модели (логиты для классификации).\n",
        "                          Форма: (batch_size, output_dim)\n",
        "        \"\"\"\n",
        "        # Преобразуем индексы слов в эмбеддинги\n",
        "        # embedded: (batch_size, seq_len, embedding_dim)\n",
        "        embedded = self.embedding(text)\n",
        "\n",
        "        # Применяем маску, если она предоставлена\n",
        "        if attention_mask is not None:\n",
        "            embedded = embedded * attention_mask.unsqueeze(-1)\n",
        "\n",
        "        # Пропускаем эмбеддинги через двунаправленный LSTM\n",
        "        # output: (batch_size, seq_len, hidden_dim * 2) - выходы LSTM на каждом шаге последовательности\n",
        "        # hidden: (num_layers * 2, batch_size, hidden_dim) - скрытые состояния на последнем шаге\n",
        "        # cell: (num_layers * 2, batch_size, hidden_dim) - состояния ячеек на последнем шаге\n",
        "        output, (hidden, cell) = self.lstm(embedded)\n",
        "\n",
        "        # Конкатенируем последние скрытые состояния из прямого и обратного проходов\n",
        "        # hidden[-2]: (batch_size, hidden_dim) - скрытое состояние прямого прохода последнего слоя\n",
        "        # hidden[-1]: (batch_size, hidden_dim) - скрытое состояние обратного прохода последнего слоя\n",
        "        hidden = torch.cat((hidden[-2], hidden[-1]), dim=1)\n",
        "\n",
        "        # Применяем Dropout для регуляризации\n",
        "        hidden = self.dropout(hidden)\n",
        "\n",
        "        # Пропускаем скрытое состояние через полносвязный слой\n",
        "        # result: (batch_size, output_dim)\n",
        "        return self.fc(hidden)\n"
      ],
      "metadata": {
        "id": "C0jWMEIuPLtd"
      },
      "execution_count": null,
      "outputs": []
    },
    {
      "cell_type": "code",
      "source": [
        "PRETRAINED_MODEL_NAME = \"DeepPavlov/rubert-base-cased\"\n",
        "tokenizer = BertTokenizer.from_pretrained(PRETRAINED_MODEL_NAME)\n",
        "device = torch.device('cuda' if torch.cuda.is_available() else 'cpu')\n",
        "\n",
        "VOCAB_SIZE = tokenizer.vocab_size\n",
        "EMBEDDING_DIM = 128\n",
        "HIDDEN_DIM = 256\n",
        "OUTPUT_DIM = len(train_df['writer'].unique())\n",
        "N_LAYERS = 2\n",
        "DROPOUT = 0.3\n",
        "MAX_LEN = 512\n",
        "BATCH_SIZE = 512\n",
        "NUM_EPOCH = 100\n",
        "\n",
        "train_dataset = TextDataset(train_df, tokenizer, MAX_LEN)\n",
        "val_dataset = TextDataset(val_df, tokenizer, MAX_LEN)\n",
        "test_dataset = TextDataset(test_df, tokenizer, MAX_LEN)\n",
        "\n",
        "train_dataloader = DataLoader(train_dataset, batch_size=BATCH_SIZE, shuffle=True)\n",
        "val_dataloader = DataLoader(val_dataset, batch_size=BATCH_SIZE)\n",
        "test_dataloader = DataLoader(test_dataset, batch_size=BATCH_SIZE)\n",
        "\n",
        "model_lstm = BiLSTMModel(\n",
        "    vocab_size=VOCAB_SIZE,\n",
        "    embedding_dim=EMBEDDING_DIM,\n",
        "    hidden_dim=HIDDEN_DIM,\n",
        "    output_dim=OUTPUT_DIM,\n",
        "    n_layers=N_LAYERS,\n",
        "    dropout=DROPOUT\n",
        ").to(device)\n",
        "optimizer = optim.AdamW(model_lstm.parameters(), lr=2e-5)\n",
        "criterion = nn.CrossEntropyLoss()\n",
        "trainer = Trainer(model_lstm, device)\n",
        "\n",
        "train_losses = []\n",
        "train_accuracies = []\n",
        "val_losses = []\n",
        "val_accuracies = []\n",
        "\n",
        "# Параметры для ранней остановки\n",
        "patience = 3  # Количество эпох, в течение которых потери не должны уменьшаться\n",
        "min_delta = 0.001  # Минимальное значимое уменьшение потерь\n",
        "best_val_loss = np.inf  # Лучшее значение потерь на валидации (np.inf положительная бесконечность)\n",
        "epochs_without_improvement = 0  # Счётчик эпох без улучшения\n",
        "\n",
        "epoch_progress = widgets.IntProgress(\n",
        "    value=0,\n",
        "    min=0,\n",
        "    max=NUM_EPOCH,\n",
        "    description='Epochs:',\n",
        "    bar_style='info',\n",
        "    orientation='horizontal'\n",
        ")\n",
        "display(epoch_progress)\n",
        "\n",
        "for epoch in range(NUM_EPOCH):\n",
        "    epoch_progress.value = epoch\n",
        "\n",
        "    train_loss = trainer.train_model(train_dataloader, optimizer, criterion)\n",
        "    train_losses.append(train_loss)  # Сохраняем значение потерь на обучении\n",
        "\n",
        "    train_accuracy = trainer.evaluate_model(train_dataloader, criterion)[1]\n",
        "    train_accuracies.append(train_accuracy)  # Сохраняем точность на обучении\n",
        "\n",
        "    val_loss, val_accuracy = trainer.evaluate_model(val_dataloader, criterion)\n",
        "    val_losses.append(val_loss)  # Сохраняем значение потерь на валидации\n",
        "    val_accuracies.append(val_accuracy)  # Сохраняем точность на валидации\n",
        "\n",
        "    print(f\"Epoch {epoch + 1}, \"\n",
        "          f\"Train Loss: {train_loss:.4f}, Train Accuracy: {train_accuracy:.4f}, \"\n",
        "          f\"Val Loss: {val_loss:.4f}, Val Accuracy: {val_accuracy:.4f}\")\n",
        "\n",
        "    if val_loss < best_val_loss - min_delta:\n",
        "        best_val_loss = val_loss\n",
        "        epochs_without_improvement = 0\n",
        "    else:\n",
        "        epochs_without_improvement += 1\n",
        "\n",
        "    if epochs_without_improvement >= patience:\n",
        "        print(f\"Early stopping at epoch {epoch}!\")\n",
        "        break\n",
        "\n",
        "print('---' * 30)\n",
        "test_loss, test_accuracy = trainer.evaluate_model(test_dataloader, criterion)\n",
        "print(f\"Test Loss: {test_loss:.4f}, Test Accuracy: {test_accuracy:.4f}\")\n",
        "\n",
        "epoch_progress.bar_style = 'success'\n"
      ],
      "metadata": {
        "id": "-jdhNOaIook1",
        "colab": {
          "base_uri": "https://localhost:8080/",
          "height": 1000,
          "referenced_widgets": [
            "01075d27f4b8495bb029da2175844090",
            "02682eed7e1f498f941d0360c44a18a4",
            "c63127dee3654a2cab519994467b63be",
            "170fb5598ae44b08875bf7d96dd32d93",
            "e663fb0c2471422e983d5f033f75cc3c",
            "8f0b60980da141d8bf1c480060990b99",
            "e9c2f131c4ac45d6b64ec6338e212634",
            "6007c0ad98ee4cb49e8c3cd142ab531a",
            "5a59e4fd57d541e28e7cbec39a1eabc6",
            "d4bf757a777341fe96a9336b73e0448e",
            "b1b215ed8a64404e8fb6a8700eeeb545",
            "4ce4cf08dc244e199f14341925cdf9c7",
            "d674236019084f5ab2ac2eb7c4aa1ca1",
            "91ff42a16c2b433f89997f8e890bec5d",
            "3e82df4e8e974fe3bd9d3b80e30133c0",
            "04bbfd0be7d64a1d8f5b4969c111de18",
            "f7a9d44719f1495481e502e478b0dc0e",
            "ddbcfb0edf494895b63da09f93781795",
            "aac733b3191745de8b34de2b189d15bb",
            "12d844c65eae4be0a4ff5439a3a11dd0",
            "86a5f0e8efb5423fa58d69594911b99c",
            "229470b53e324ac9a922db99af46893c",
            "f23b69feb719458a925678a3d70a4b82",
            "dcdaa8bd218b4f29ae4471da5d8766f2",
            "31457606ca474caa962bc3cca9a8d701",
            "dd26ea59c1894174a3b05771658022a7",
            "f1fd5a5718b64884bcecee99086a0217",
            "d1755b4f88a34b07b8f37ec4854fa692",
            "68d914240bf545a2902d28d50e4065fb",
            "68790ac4af2c43f890b142a84ba5eaa5",
            "9131bcf8bdea490e94c1a61762d2f55c",
            "b91ad90d68a4442dad541ee14edb5eee",
            "95acc1bf82494a9394bf3341534a0f54",
            "1ddb5a2ca2d34f89b1cd2b5cee586bfe",
            "edb864b5ba6e40a1a9807d01caef39c0",
            "1dc9493a590b49e38dd1477ffed0e769",
            "35a357da625241019f70d532d5827514",
            "f963c69f2c9f46198eebd14f8890c406",
            "c273b580e55e4a07ae2e478d1bbec52c",
            "94a42528a60440849fb35d1108484c5d",
            "f3c72553385e40b48e1222d707ec7752",
            "f863af7923344f8a85591716c40711e4",
            "d594cf8b05d84f8790dc42912ab3bd67",
            "ec31448ab4704ff89ffcc9eef90056d1",
            "2a6099b2d19c4a37af00eff8cec91b73",
            "7dba38b39fea47da9df2feb2f4f87f3e",
            "bfe90ee54ff44929a57e398cebca0051"
          ]
        },
        "outputId": "7d38d213-87e0-4864-bf98-00cd6a1784b7"
      },
      "execution_count": null,
      "outputs": [
        {
          "output_type": "stream",
          "name": "stderr",
          "text": [
            "/usr/local/lib/python3.11/dist-packages/huggingface_hub/utils/_auth.py:94: UserWarning: \n",
            "The secret `HF_TOKEN` does not exist in your Colab secrets.\n",
            "To authenticate with the Hugging Face Hub, create a token in your settings tab (https://huggingface.co/settings/tokens), set it as secret in your Google Colab and restart your session.\n",
            "You will be able to reuse this secret in all of your notebooks.\n",
            "Please note that authentication is recommended but still optional to access public models or datasets.\n",
            "  warnings.warn(\n"
          ]
        },
        {
          "output_type": "display_data",
          "data": {
            "text/plain": [
              "tokenizer_config.json:   0%|          | 0.00/24.0 [00:00<?, ?B/s]"
            ],
            "application/vnd.jupyter.widget-view+json": {
              "version_major": 2,
              "version_minor": 0,
              "model_id": "01075d27f4b8495bb029da2175844090"
            }
          },
          "metadata": {}
        },
        {
          "output_type": "display_data",
          "data": {
            "text/plain": [
              "vocab.txt:   0%|          | 0.00/1.65M [00:00<?, ?B/s]"
            ],
            "application/vnd.jupyter.widget-view+json": {
              "version_major": 2,
              "version_minor": 0,
              "model_id": "4ce4cf08dc244e199f14341925cdf9c7"
            }
          },
          "metadata": {}
        },
        {
          "output_type": "display_data",
          "data": {
            "text/plain": [
              "special_tokens_map.json:   0%|          | 0.00/112 [00:00<?, ?B/s]"
            ],
            "application/vnd.jupyter.widget-view+json": {
              "version_major": 2,
              "version_minor": 0,
              "model_id": "f23b69feb719458a925678a3d70a4b82"
            }
          },
          "metadata": {}
        },
        {
          "output_type": "display_data",
          "data": {
            "text/plain": [
              "config.json:   0%|          | 0.00/642 [00:00<?, ?B/s]"
            ],
            "application/vnd.jupyter.widget-view+json": {
              "version_major": 2,
              "version_minor": 0,
              "model_id": "1ddb5a2ca2d34f89b1cd2b5cee586bfe"
            }
          },
          "metadata": {}
        },
        {
          "output_type": "display_data",
          "data": {
            "text/plain": [
              "IntProgress(value=0, bar_style='info', description='Epochs:')"
            ],
            "application/vnd.jupyter.widget-view+json": {
              "version_major": 2,
              "version_minor": 0,
              "model_id": "2a6099b2d19c4a37af00eff8cec91b73"
            }
          },
          "metadata": {}
        },
        {
          "output_type": "stream",
          "name": "stderr",
          "text": [
            "Training: 100%|██████████| 7/7 [00:26<00:00,  3.77s/it]\n"
          ]
        },
        {
          "output_type": "stream",
          "name": "stdout",
          "text": [
            "Epoch 1, Train Loss: 1.3865, Train Accuracy: 0.2734, Val Loss: 1.3863, Val Accuracy: 0.2576\n"
          ]
        },
        {
          "output_type": "stream",
          "name": "stderr",
          "text": [
            "Training: 100%|██████████| 7/7 [00:18<00:00,  2.57s/it]\n"
          ]
        },
        {
          "output_type": "stream",
          "name": "stdout",
          "text": [
            "Epoch 2, Train Loss: 1.3861, Train Accuracy: 0.2936, Val Loss: 1.3857, Val Accuracy: 0.2702\n"
          ]
        },
        {
          "output_type": "stream",
          "name": "stderr",
          "text": [
            "Training: 100%|██████████| 7/7 [00:20<00:00,  2.88s/it]\n"
          ]
        },
        {
          "output_type": "stream",
          "name": "stdout",
          "text": [
            "Epoch 3, Train Loss: 1.3849, Train Accuracy: 0.3103, Val Loss: 1.3851, Val Accuracy: 0.2828\n"
          ]
        },
        {
          "output_type": "stream",
          "name": "stderr",
          "text": [
            "Training: 100%|██████████| 7/7 [00:18<00:00,  2.65s/it]\n"
          ]
        },
        {
          "output_type": "stream",
          "name": "stdout",
          "text": [
            "Epoch 4, Train Loss: 1.3843, Train Accuracy: 0.3223, Val Loss: 1.3845, Val Accuracy: 0.2828\n"
          ]
        },
        {
          "output_type": "stream",
          "name": "stderr",
          "text": [
            "Training: 100%|██████████| 7/7 [00:18<00:00,  2.58s/it]\n"
          ]
        },
        {
          "output_type": "stream",
          "name": "stdout",
          "text": [
            "Epoch 5, Train Loss: 1.3830, Train Accuracy: 0.3393, Val Loss: 1.3840, Val Accuracy: 0.2929\n"
          ]
        },
        {
          "output_type": "stream",
          "name": "stderr",
          "text": [
            "Training: 100%|██████████| 7/7 [00:19<00:00,  2.78s/it]\n"
          ]
        },
        {
          "output_type": "stream",
          "name": "stdout",
          "text": [
            "Epoch 6, Train Loss: 1.3833, Train Accuracy: 0.3646, Val Loss: 1.3834, Val Accuracy: 0.3030\n"
          ]
        },
        {
          "output_type": "stream",
          "name": "stderr",
          "text": [
            "Training: 100%|██████████| 7/7 [00:18<00:00,  2.59s/it]\n"
          ]
        },
        {
          "output_type": "stream",
          "name": "stdout",
          "text": [
            "Epoch 7, Train Loss: 1.3821, Train Accuracy: 0.3832, Val Loss: 1.3827, Val Accuracy: 0.3131\n"
          ]
        },
        {
          "output_type": "stream",
          "name": "stderr",
          "text": [
            "Training: 100%|██████████| 7/7 [00:18<00:00,  2.64s/it]\n"
          ]
        },
        {
          "output_type": "stream",
          "name": "stdout",
          "text": [
            "Epoch 8, Train Loss: 1.3807, Train Accuracy: 0.3961, Val Loss: 1.3821, Val Accuracy: 0.3232\n"
          ]
        },
        {
          "output_type": "stream",
          "name": "stderr",
          "text": [
            "Training: 100%|██████████| 7/7 [00:18<00:00,  2.61s/it]\n"
          ]
        },
        {
          "output_type": "stream",
          "name": "stdout",
          "text": [
            "Epoch 9, Train Loss: 1.3807, Train Accuracy: 0.3984, Val Loss: 1.3814, Val Accuracy: 0.3258\n"
          ]
        },
        {
          "output_type": "stream",
          "name": "stderr",
          "text": [
            "Training: 100%|██████████| 7/7 [00:18<00:00,  2.61s/it]\n"
          ]
        },
        {
          "output_type": "stream",
          "name": "stdout",
          "text": [
            "Epoch 10, Train Loss: 1.3797, Train Accuracy: 0.4040, Val Loss: 1.3807, Val Accuracy: 0.3586\n"
          ]
        },
        {
          "output_type": "stream",
          "name": "stderr",
          "text": [
            "Training: 100%|██████████| 7/7 [00:18<00:00,  2.61s/it]\n"
          ]
        },
        {
          "output_type": "stream",
          "name": "stdout",
          "text": [
            "Epoch 11, Train Loss: 1.3785, Train Accuracy: 0.4126, Val Loss: 1.3800, Val Accuracy: 0.3737\n"
          ]
        },
        {
          "output_type": "stream",
          "name": "stderr",
          "text": [
            "Training: 100%|██████████| 7/7 [00:18<00:00,  2.57s/it]\n"
          ]
        },
        {
          "output_type": "stream",
          "name": "stdout",
          "text": [
            "Epoch 12, Train Loss: 1.3781, Train Accuracy: 0.4283, Val Loss: 1.3792, Val Accuracy: 0.3737\n"
          ]
        },
        {
          "output_type": "stream",
          "name": "stderr",
          "text": [
            "Training: 100%|██████████| 7/7 [00:19<00:00,  2.85s/it]\n"
          ]
        },
        {
          "output_type": "stream",
          "name": "stdout",
          "text": [
            "Epoch 13, Train Loss: 1.3769, Train Accuracy: 0.4369, Val Loss: 1.3783, Val Accuracy: 0.3636\n"
          ]
        },
        {
          "output_type": "stream",
          "name": "stderr",
          "text": [
            "Training: 100%|██████████| 7/7 [00:18<00:00,  2.64s/it]\n"
          ]
        },
        {
          "output_type": "stream",
          "name": "stdout",
          "text": [
            "Epoch 14, Train Loss: 1.3749, Train Accuracy: 0.4454, Val Loss: 1.3773, Val Accuracy: 0.3712\n"
          ]
        },
        {
          "output_type": "stream",
          "name": "stderr",
          "text": [
            "Training: 100%|██████████| 7/7 [00:19<00:00,  2.72s/it]\n"
          ]
        },
        {
          "output_type": "stream",
          "name": "stdout",
          "text": [
            "Epoch 15, Train Loss: 1.3744, Train Accuracy: 0.4441, Val Loss: 1.3762, Val Accuracy: 0.3788\n"
          ]
        },
        {
          "output_type": "stream",
          "name": "stderr",
          "text": [
            "Training: 100%|██████████| 7/7 [00:19<00:00,  2.77s/it]\n"
          ]
        },
        {
          "output_type": "stream",
          "name": "stdout",
          "text": [
            "Epoch 16, Train Loss: 1.3729, Train Accuracy: 0.4539, Val Loss: 1.3750, Val Accuracy: 0.3788\n"
          ]
        },
        {
          "output_type": "stream",
          "name": "stderr",
          "text": [
            "Training: 100%|██████████| 7/7 [00:18<00:00,  2.62s/it]\n"
          ]
        },
        {
          "output_type": "stream",
          "name": "stdout",
          "text": [
            "Epoch 17, Train Loss: 1.3715, Train Accuracy: 0.4574, Val Loss: 1.3736, Val Accuracy: 0.3965\n"
          ]
        },
        {
          "output_type": "stream",
          "name": "stderr",
          "text": [
            "Training: 100%|██████████| 7/7 [00:18<00:00,  2.61s/it]\n"
          ]
        },
        {
          "output_type": "stream",
          "name": "stdout",
          "text": [
            "Epoch 18, Train Loss: 1.3705, Train Accuracy: 0.4602, Val Loss: 1.3721, Val Accuracy: 0.3939\n"
          ]
        },
        {
          "output_type": "stream",
          "name": "stderr",
          "text": [
            "Training: 100%|██████████| 7/7 [00:19<00:00,  2.76s/it]\n"
          ]
        },
        {
          "output_type": "stream",
          "name": "stdout",
          "text": [
            "Epoch 19, Train Loss: 1.3679, Train Accuracy: 0.4653, Val Loss: 1.3703, Val Accuracy: 0.4066\n"
          ]
        },
        {
          "output_type": "stream",
          "name": "stderr",
          "text": [
            "Training: 100%|██████████| 7/7 [00:19<00:00,  2.76s/it]\n"
          ]
        },
        {
          "output_type": "stream",
          "name": "stdout",
          "text": [
            "Epoch 20, Train Loss: 1.3669, Train Accuracy: 0.4703, Val Loss: 1.3682, Val Accuracy: 0.3990\n"
          ]
        },
        {
          "output_type": "stream",
          "name": "stderr",
          "text": [
            "Training: 100%|██████████| 7/7 [00:17<00:00,  2.56s/it]\n"
          ]
        },
        {
          "output_type": "stream",
          "name": "stdout",
          "text": [
            "Epoch 21, Train Loss: 1.3624, Train Accuracy: 0.4757, Val Loss: 1.3658, Val Accuracy: 0.3990\n"
          ]
        },
        {
          "output_type": "stream",
          "name": "stderr",
          "text": [
            "Training: 100%|██████████| 7/7 [00:20<00:00,  2.87s/it]\n"
          ]
        },
        {
          "output_type": "stream",
          "name": "stdout",
          "text": [
            "Epoch 22, Train Loss: 1.3609, Train Accuracy: 0.4817, Val Loss: 1.3628, Val Accuracy: 0.4141\n"
          ]
        },
        {
          "output_type": "stream",
          "name": "stderr",
          "text": [
            "Training: 100%|██████████| 7/7 [00:18<00:00,  2.60s/it]\n"
          ]
        },
        {
          "output_type": "stream",
          "name": "stdout",
          "text": [
            "Epoch 23, Train Loss: 1.3574, Train Accuracy: 0.4867, Val Loss: 1.3591, Val Accuracy: 0.4167\n"
          ]
        },
        {
          "output_type": "stream",
          "name": "stderr",
          "text": [
            "Training: 100%|██████████| 7/7 [00:18<00:00,  2.60s/it]\n"
          ]
        },
        {
          "output_type": "stream",
          "name": "stdout",
          "text": [
            "Epoch 24, Train Loss: 1.3527, Train Accuracy: 0.4918, Val Loss: 1.3545, Val Accuracy: 0.4217\n"
          ]
        },
        {
          "output_type": "stream",
          "name": "stderr",
          "text": [
            "Training: 100%|██████████| 7/7 [00:20<00:00,  2.87s/it]\n"
          ]
        },
        {
          "output_type": "stream",
          "name": "stdout",
          "text": [
            "Epoch 25, Train Loss: 1.3473, Train Accuracy: 0.4962, Val Loss: 1.3484, Val Accuracy: 0.4318\n"
          ]
        },
        {
          "output_type": "stream",
          "name": "stderr",
          "text": [
            "Training: 100%|██████████| 7/7 [00:18<00:00,  2.60s/it]\n"
          ]
        },
        {
          "output_type": "stream",
          "name": "stdout",
          "text": [
            "Epoch 26, Train Loss: 1.3419, Train Accuracy: 0.5019, Val Loss: 1.3404, Val Accuracy: 0.4394\n"
          ]
        },
        {
          "output_type": "stream",
          "name": "stderr",
          "text": [
            "Training: 100%|██████████| 7/7 [00:18<00:00,  2.63s/it]\n"
          ]
        },
        {
          "output_type": "stream",
          "name": "stdout",
          "text": [
            "Epoch 27, Train Loss: 1.3300, Train Accuracy: 0.5076, Val Loss: 1.3295, Val Accuracy: 0.4369\n"
          ]
        },
        {
          "output_type": "stream",
          "name": "stderr",
          "text": [
            "Training: 100%|██████████| 7/7 [00:20<00:00,  2.88s/it]\n"
          ]
        },
        {
          "output_type": "stream",
          "name": "stdout",
          "text": [
            "Epoch 28, Train Loss: 1.3173, Train Accuracy: 0.5120, Val Loss: 1.3139, Val Accuracy: 0.4369\n"
          ]
        },
        {
          "output_type": "stream",
          "name": "stderr",
          "text": [
            "Training: 100%|██████████| 7/7 [00:18<00:00,  2.64s/it]\n"
          ]
        },
        {
          "output_type": "stream",
          "name": "stdout",
          "text": [
            "Epoch 29, Train Loss: 1.3053, Train Accuracy: 0.5076, Val Loss: 1.2919, Val Accuracy: 0.4470\n"
          ]
        },
        {
          "output_type": "stream",
          "name": "stderr",
          "text": [
            "Training: 100%|██████████| 7/7 [00:19<00:00,  2.72s/it]\n"
          ]
        },
        {
          "output_type": "stream",
          "name": "stdout",
          "text": [
            "Epoch 30, Train Loss: 1.2755, Train Accuracy: 0.5066, Val Loss: 1.2620, Val Accuracy: 0.4470\n"
          ]
        },
        {
          "output_type": "stream",
          "name": "stderr",
          "text": [
            "Training: 100%|██████████| 7/7 [00:18<00:00,  2.70s/it]\n"
          ]
        },
        {
          "output_type": "stream",
          "name": "stdout",
          "text": [
            "Epoch 31, Train Loss: 1.2390, Train Accuracy: 0.5110, Val Loss: 1.2246, Val Accuracy: 0.4520\n"
          ]
        },
        {
          "output_type": "stream",
          "name": "stderr",
          "text": [
            "Training: 100%|██████████| 7/7 [00:18<00:00,  2.64s/it]\n"
          ]
        },
        {
          "output_type": "stream",
          "name": "stdout",
          "text": [
            "Epoch 32, Train Loss: 1.2013, Train Accuracy: 0.5076, Val Loss: 1.1835, Val Accuracy: 0.4697\n"
          ]
        },
        {
          "output_type": "stream",
          "name": "stderr",
          "text": [
            "Training: 100%|██████████| 7/7 [00:19<00:00,  2.80s/it]\n"
          ]
        },
        {
          "output_type": "stream",
          "name": "stdout",
          "text": [
            "Epoch 33, Train Loss: 1.1564, Train Accuracy: 0.5110, Val Loss: 1.1442, Val Accuracy: 0.4773\n"
          ]
        },
        {
          "output_type": "stream",
          "name": "stderr",
          "text": [
            "Training: 100%|██████████| 7/7 [00:18<00:00,  2.68s/it]\n"
          ]
        },
        {
          "output_type": "stream",
          "name": "stdout",
          "text": [
            "Epoch 34, Train Loss: 1.0974, Train Accuracy: 0.5256, Val Loss: 1.1137, Val Accuracy: 0.4798\n"
          ]
        },
        {
          "output_type": "stream",
          "name": "stderr",
          "text": [
            "Training: 100%|██████████| 7/7 [00:19<00:00,  2.80s/it]\n"
          ]
        },
        {
          "output_type": "stream",
          "name": "stdout",
          "text": [
            "Epoch 35, Train Loss: 1.0893, Train Accuracy: 0.5347, Val Loss: 1.0905, Val Accuracy: 0.5051\n"
          ]
        },
        {
          "output_type": "stream",
          "name": "stderr",
          "text": [
            "Training: 100%|██████████| 7/7 [00:18<00:00,  2.62s/it]\n"
          ]
        },
        {
          "output_type": "stream",
          "name": "stdout",
          "text": [
            "Epoch 36, Train Loss: 1.0738, Train Accuracy: 0.5347, Val Loss: 1.0734, Val Accuracy: 0.5152\n"
          ]
        },
        {
          "output_type": "stream",
          "name": "stderr",
          "text": [
            "Training: 100%|██████████| 7/7 [00:18<00:00,  2.60s/it]\n"
          ]
        },
        {
          "output_type": "stream",
          "name": "stdout",
          "text": [
            "Epoch 37, Train Loss: 1.0372, Train Accuracy: 0.5360, Val Loss: 1.0631, Val Accuracy: 0.5152\n"
          ]
        },
        {
          "output_type": "stream",
          "name": "stderr",
          "text": [
            "Training: 100%|██████████| 7/7 [00:18<00:00,  2.69s/it]\n"
          ]
        },
        {
          "output_type": "stream",
          "name": "stdout",
          "text": [
            "Epoch 38, Train Loss: 1.0385, Train Accuracy: 0.5372, Val Loss: 1.0570, Val Accuracy: 0.5177\n"
          ]
        },
        {
          "output_type": "stream",
          "name": "stderr",
          "text": [
            "Training: 100%|██████████| 7/7 [00:18<00:00,  2.65s/it]\n"
          ]
        },
        {
          "output_type": "stream",
          "name": "stdout",
          "text": [
            "Epoch 39, Train Loss: 1.0408, Train Accuracy: 0.5426, Val Loss: 1.0533, Val Accuracy: 0.5202\n"
          ]
        },
        {
          "output_type": "stream",
          "name": "stderr",
          "text": [
            "Training: 100%|██████████| 7/7 [00:19<00:00,  2.76s/it]\n"
          ]
        },
        {
          "output_type": "stream",
          "name": "stdout",
          "text": [
            "Epoch 40, Train Loss: 1.0328, Train Accuracy: 0.5467, Val Loss: 1.0510, Val Accuracy: 0.5126\n"
          ]
        },
        {
          "output_type": "stream",
          "name": "stderr",
          "text": [
            "Training: 100%|██████████| 7/7 [00:17<00:00,  2.57s/it]\n"
          ]
        },
        {
          "output_type": "stream",
          "name": "stdout",
          "text": [
            "Epoch 41, Train Loss: 1.0356, Train Accuracy: 0.5530, Val Loss: 1.0494, Val Accuracy: 0.4949\n"
          ]
        },
        {
          "output_type": "stream",
          "name": "stderr",
          "text": [
            "Training: 100%|██████████| 7/7 [00:19<00:00,  2.79s/it]\n"
          ]
        },
        {
          "output_type": "stream",
          "name": "stdout",
          "text": [
            "Epoch 42, Train Loss: 1.0372, Train Accuracy: 0.5584, Val Loss: 1.0483, Val Accuracy: 0.4924\n"
          ]
        },
        {
          "output_type": "stream",
          "name": "stderr",
          "text": [
            "Training: 100%|██████████| 7/7 [00:18<00:00,  2.60s/it]\n"
          ]
        },
        {
          "output_type": "stream",
          "name": "stdout",
          "text": [
            "Epoch 43, Train Loss: 1.0301, Train Accuracy: 0.5631, Val Loss: 1.0471, Val Accuracy: 0.5000\n"
          ]
        },
        {
          "output_type": "stream",
          "name": "stderr",
          "text": [
            "Training: 100%|██████████| 7/7 [00:18<00:00,  2.60s/it]\n"
          ]
        },
        {
          "output_type": "stream",
          "name": "stdout",
          "text": [
            "Epoch 44, Train Loss: 1.0101, Train Accuracy: 0.5732, Val Loss: 1.0462, Val Accuracy: 0.5101\n"
          ]
        },
        {
          "output_type": "stream",
          "name": "stderr",
          "text": [
            "Training: 100%|██████████| 7/7 [00:19<00:00,  2.77s/it]\n"
          ]
        },
        {
          "output_type": "stream",
          "name": "stdout",
          "text": [
            "Epoch 45, Train Loss: 1.0246, Train Accuracy: 0.5773, Val Loss: 1.0456, Val Accuracy: 0.5278\n"
          ]
        },
        {
          "output_type": "stream",
          "name": "stderr",
          "text": [
            "Training: 100%|██████████| 7/7 [00:18<00:00,  2.63s/it]\n"
          ]
        },
        {
          "output_type": "stream",
          "name": "stdout",
          "text": [
            "Epoch 46, Train Loss: 1.0176, Train Accuracy: 0.5859, Val Loss: 1.0451, Val Accuracy: 0.5126\n"
          ]
        },
        {
          "output_type": "stream",
          "name": "stderr",
          "text": [
            "Training: 100%|██████████| 7/7 [00:20<00:00,  2.96s/it]\n"
          ]
        },
        {
          "output_type": "stream",
          "name": "stdout",
          "text": [
            "Epoch 47, Train Loss: 1.0168, Train Accuracy: 0.5884, Val Loss: 1.0442, Val Accuracy: 0.5152\n"
          ]
        },
        {
          "output_type": "stream",
          "name": "stderr",
          "text": [
            "Training: 100%|██████████| 7/7 [00:18<00:00,  2.60s/it]\n"
          ]
        },
        {
          "output_type": "stream",
          "name": "stdout",
          "text": [
            "Epoch 48, Train Loss: 1.0196, Train Accuracy: 0.5827, Val Loss: 1.0430, Val Accuracy: 0.5101\n"
          ]
        },
        {
          "output_type": "stream",
          "name": "stderr",
          "text": [
            "Training: 100%|██████████| 7/7 [00:19<00:00,  2.75s/it]\n"
          ]
        },
        {
          "output_type": "stream",
          "name": "stdout",
          "text": [
            "Epoch 49, Train Loss: 1.0064, Train Accuracy: 0.5814, Val Loss: 1.0421, Val Accuracy: 0.5278\n"
          ]
        },
        {
          "output_type": "stream",
          "name": "stderr",
          "text": [
            "Training: 100%|██████████| 7/7 [00:19<00:00,  2.81s/it]\n"
          ]
        },
        {
          "output_type": "stream",
          "name": "stdout",
          "text": [
            "Epoch 50, Train Loss: 1.0085, Train Accuracy: 0.5874, Val Loss: 1.0418, Val Accuracy: 0.5328\n"
          ]
        },
        {
          "output_type": "stream",
          "name": "stderr",
          "text": [
            "Training: 100%|██████████| 7/7 [00:19<00:00,  2.79s/it]\n"
          ]
        },
        {
          "output_type": "stream",
          "name": "stdout",
          "text": [
            "Epoch 51, Train Loss: 1.0134, Train Accuracy: 0.5890, Val Loss: 1.0421, Val Accuracy: 0.5303\n"
          ]
        },
        {
          "output_type": "stream",
          "name": "stderr",
          "text": [
            "Training: 100%|██████████| 7/7 [00:18<00:00,  2.66s/it]\n"
          ]
        },
        {
          "output_type": "stream",
          "name": "stdout",
          "text": [
            "Epoch 52, Train Loss: 1.0020, Train Accuracy: 0.5941, Val Loss: 1.0414, Val Accuracy: 0.5278\n"
          ]
        },
        {
          "output_type": "stream",
          "name": "stderr",
          "text": [
            "Training: 100%|██████████| 7/7 [00:19<00:00,  2.78s/it]\n"
          ]
        },
        {
          "output_type": "stream",
          "name": "stdout",
          "text": [
            "Epoch 53, Train Loss: 1.0054, Train Accuracy: 0.5906, Val Loss: 1.0404, Val Accuracy: 0.5303\n"
          ]
        },
        {
          "output_type": "stream",
          "name": "stderr",
          "text": [
            "Training: 100%|██████████| 7/7 [00:19<00:00,  2.81s/it]\n"
          ]
        },
        {
          "output_type": "stream",
          "name": "stdout",
          "text": [
            "Epoch 54, Train Loss: 1.0002, Train Accuracy: 0.5960, Val Loss: 1.0392, Val Accuracy: 0.5328\n"
          ]
        },
        {
          "output_type": "stream",
          "name": "stderr",
          "text": [
            "Training: 100%|██████████| 7/7 [00:18<00:00,  2.62s/it]\n"
          ]
        },
        {
          "output_type": "stream",
          "name": "stdout",
          "text": [
            "Epoch 55, Train Loss: 0.9845, Train Accuracy: 0.5963, Val Loss: 1.0371, Val Accuracy: 0.5354\n"
          ]
        },
        {
          "output_type": "stream",
          "name": "stderr",
          "text": [
            "Training: 100%|██████████| 7/7 [00:20<00:00,  2.94s/it]\n"
          ]
        },
        {
          "output_type": "stream",
          "name": "stdout",
          "text": [
            "Epoch 56, Train Loss: 0.9959, Train Accuracy: 0.5979, Val Loss: 1.0379, Val Accuracy: 0.5404\n"
          ]
        },
        {
          "output_type": "stream",
          "name": "stderr",
          "text": [
            "Training: 100%|██████████| 7/7 [00:18<00:00,  2.63s/it]\n"
          ]
        },
        {
          "output_type": "stream",
          "name": "stdout",
          "text": [
            "Epoch 57, Train Loss: 0.9881, Train Accuracy: 0.5979, Val Loss: 1.0378, Val Accuracy: 0.5429\n"
          ]
        },
        {
          "output_type": "stream",
          "name": "stderr",
          "text": [
            "Training: 100%|██████████| 7/7 [00:19<00:00,  2.79s/it]\n"
          ]
        },
        {
          "output_type": "stream",
          "name": "stdout",
          "text": [
            "Epoch 58, Train Loss: 0.9779, Train Accuracy: 0.5969, Val Loss: 1.0316, Val Accuracy: 0.5455\n"
          ]
        },
        {
          "output_type": "stream",
          "name": "stderr",
          "text": [
            "Training: 100%|██████████| 7/7 [00:18<00:00,  2.60s/it]\n"
          ]
        },
        {
          "output_type": "stream",
          "name": "stdout",
          "text": [
            "Epoch 59, Train Loss: 0.9853, Train Accuracy: 0.5960, Val Loss: 1.0304, Val Accuracy: 0.5379\n"
          ]
        },
        {
          "output_type": "stream",
          "name": "stderr",
          "text": [
            "Training: 100%|██████████| 7/7 [00:19<00:00,  2.80s/it]\n"
          ]
        },
        {
          "output_type": "stream",
          "name": "stdout",
          "text": [
            "Epoch 60, Train Loss: 0.9700, Train Accuracy: 0.5975, Val Loss: 1.0279, Val Accuracy: 0.5480\n"
          ]
        },
        {
          "output_type": "stream",
          "name": "stderr",
          "text": [
            "Training: 100%|██████████| 7/7 [00:18<00:00,  2.64s/it]\n"
          ]
        },
        {
          "output_type": "stream",
          "name": "stdout",
          "text": [
            "Epoch 61, Train Loss: 0.9604, Train Accuracy: 0.6026, Val Loss: 1.0201, Val Accuracy: 0.5530\n"
          ]
        },
        {
          "output_type": "stream",
          "name": "stderr",
          "text": [
            "Training: 100%|██████████| 7/7 [00:18<00:00,  2.65s/it]\n"
          ]
        },
        {
          "output_type": "stream",
          "name": "stdout",
          "text": [
            "Epoch 62, Train Loss: 0.9577, Train Accuracy: 0.6001, Val Loss: 1.0167, Val Accuracy: 0.5505\n"
          ]
        },
        {
          "output_type": "stream",
          "name": "stderr",
          "text": [
            "Training: 100%|██████████| 7/7 [00:18<00:00,  2.65s/it]\n"
          ]
        },
        {
          "output_type": "stream",
          "name": "stdout",
          "text": [
            "Epoch 63, Train Loss: 0.9513, Train Accuracy: 0.6064, Val Loss: 1.0125, Val Accuracy: 0.5606\n"
          ]
        },
        {
          "output_type": "stream",
          "name": "stderr",
          "text": [
            "Training: 100%|██████████| 7/7 [00:18<00:00,  2.61s/it]\n"
          ]
        },
        {
          "output_type": "stream",
          "name": "stdout",
          "text": [
            "Epoch 64, Train Loss: 0.9426, Train Accuracy: 0.6054, Val Loss: 1.0057, Val Accuracy: 0.5556\n"
          ]
        },
        {
          "output_type": "stream",
          "name": "stderr",
          "text": [
            "Training: 100%|██████████| 7/7 [00:19<00:00,  2.82s/it]\n"
          ]
        },
        {
          "output_type": "stream",
          "name": "stdout",
          "text": [
            "Epoch 65, Train Loss: 0.9408, Train Accuracy: 0.6042, Val Loss: 0.9956, Val Accuracy: 0.5480\n"
          ]
        },
        {
          "output_type": "stream",
          "name": "stderr",
          "text": [
            "Training: 100%|██████████| 7/7 [00:18<00:00,  2.61s/it]\n"
          ]
        },
        {
          "output_type": "stream",
          "name": "stdout",
          "text": [
            "Epoch 66, Train Loss: 0.9189, Train Accuracy: 0.6064, Val Loss: 0.9869, Val Accuracy: 0.5556\n"
          ]
        },
        {
          "output_type": "stream",
          "name": "stderr",
          "text": [
            "Training: 100%|██████████| 7/7 [00:19<00:00,  2.77s/it]\n"
          ]
        },
        {
          "output_type": "stream",
          "name": "stdout",
          "text": [
            "Epoch 67, Train Loss: 0.8916, Train Accuracy: 0.6064, Val Loss: 0.9758, Val Accuracy: 0.5732\n"
          ]
        },
        {
          "output_type": "stream",
          "name": "stderr",
          "text": [
            "Training: 100%|██████████| 7/7 [00:18<00:00,  2.67s/it]\n"
          ]
        },
        {
          "output_type": "stream",
          "name": "stdout",
          "text": [
            "Epoch 68, Train Loss: 0.9023, Train Accuracy: 0.6057, Val Loss: 0.9648, Val Accuracy: 0.5707\n"
          ]
        },
        {
          "output_type": "stream",
          "name": "stderr",
          "text": [
            "Training: 100%|██████████| 7/7 [00:19<00:00,  2.78s/it]\n"
          ]
        },
        {
          "output_type": "stream",
          "name": "stdout",
          "text": [
            "Epoch 69, Train Loss: 0.8735, Train Accuracy: 0.6136, Val Loss: 0.9506, Val Accuracy: 0.5707\n"
          ]
        },
        {
          "output_type": "stream",
          "name": "stderr",
          "text": [
            "Training: 100%|██████████| 7/7 [00:19<00:00,  2.75s/it]\n"
          ]
        },
        {
          "output_type": "stream",
          "name": "stdout",
          "text": [
            "Epoch 70, Train Loss: 0.8792, Train Accuracy: 0.6177, Val Loss: 0.9371, Val Accuracy: 0.5783\n"
          ]
        },
        {
          "output_type": "stream",
          "name": "stderr",
          "text": [
            "Training: 100%|██████████| 7/7 [00:18<00:00,  2.65s/it]\n"
          ]
        },
        {
          "output_type": "stream",
          "name": "stdout",
          "text": [
            "Epoch 71, Train Loss: 0.8566, Train Accuracy: 0.6212, Val Loss: 0.9278, Val Accuracy: 0.5808\n"
          ]
        },
        {
          "output_type": "stream",
          "name": "stderr",
          "text": [
            "Training: 100%|██████████| 7/7 [00:19<00:00,  2.79s/it]\n"
          ]
        },
        {
          "output_type": "stream",
          "name": "stdout",
          "text": [
            "Epoch 72, Train Loss: 0.8288, Train Accuracy: 0.6228, Val Loss: 0.9115, Val Accuracy: 0.5732\n"
          ]
        },
        {
          "output_type": "stream",
          "name": "stderr",
          "text": [
            "Training: 100%|██████████| 7/7 [00:19<00:00,  2.82s/it]\n"
          ]
        },
        {
          "output_type": "stream",
          "name": "stdout",
          "text": [
            "Epoch 73, Train Loss: 0.8184, Train Accuracy: 0.6291, Val Loss: 0.9030, Val Accuracy: 0.5808\n"
          ]
        },
        {
          "output_type": "stream",
          "name": "stderr",
          "text": [
            "Training: 100%|██████████| 7/7 [00:18<00:00,  2.64s/it]\n"
          ]
        },
        {
          "output_type": "stream",
          "name": "stdout",
          "text": [
            "Epoch 74, Train Loss: 0.8271, Train Accuracy: 0.6342, Val Loss: 0.8941, Val Accuracy: 0.5884\n"
          ]
        },
        {
          "output_type": "stream",
          "name": "stderr",
          "text": [
            "Training: 100%|██████████| 7/7 [00:19<00:00,  2.86s/it]\n"
          ]
        },
        {
          "output_type": "stream",
          "name": "stdout",
          "text": [
            "Epoch 75, Train Loss: 0.7975, Train Accuracy: 0.6414, Val Loss: 0.8865, Val Accuracy: 0.6035\n"
          ]
        },
        {
          "output_type": "stream",
          "name": "stderr",
          "text": [
            "Training: 100%|██████████| 7/7 [00:18<00:00,  2.64s/it]\n"
          ]
        },
        {
          "output_type": "stream",
          "name": "stdout",
          "text": [
            "Epoch 76, Train Loss: 0.8012, Train Accuracy: 0.6484, Val Loss: 0.8823, Val Accuracy: 0.6136\n"
          ]
        },
        {
          "output_type": "stream",
          "name": "stderr",
          "text": [
            "Training: 100%|██████████| 7/7 [00:19<00:00,  2.72s/it]\n"
          ]
        },
        {
          "output_type": "stream",
          "name": "stdout",
          "text": [
            "Epoch 77, Train Loss: 0.7852, Train Accuracy: 0.6622, Val Loss: 0.8730, Val Accuracy: 0.6086\n"
          ]
        },
        {
          "output_type": "stream",
          "name": "stderr",
          "text": [
            "Training: 100%|██████████| 7/7 [00:18<00:00,  2.69s/it]\n"
          ]
        },
        {
          "output_type": "stream",
          "name": "stdout",
          "text": [
            "Epoch 78, Train Loss: 0.7831, Train Accuracy: 0.6730, Val Loss: 0.8684, Val Accuracy: 0.6187\n"
          ]
        },
        {
          "output_type": "stream",
          "name": "stderr",
          "text": [
            "Training: 100%|██████████| 7/7 [00:18<00:00,  2.60s/it]\n"
          ]
        },
        {
          "output_type": "stream",
          "name": "stdout",
          "text": [
            "Epoch 79, Train Loss: 0.7616, Train Accuracy: 0.6758, Val Loss: 0.8681, Val Accuracy: 0.6263\n"
          ]
        },
        {
          "output_type": "stream",
          "name": "stderr",
          "text": [
            "Training: 100%|██████████| 7/7 [00:19<00:00,  2.82s/it]\n"
          ]
        },
        {
          "output_type": "stream",
          "name": "stdout",
          "text": [
            "Epoch 80, Train Loss: 0.7730, Train Accuracy: 0.6818, Val Loss: 0.8606, Val Accuracy: 0.6313\n"
          ]
        },
        {
          "output_type": "stream",
          "name": "stderr",
          "text": [
            "Training: 100%|██████████| 7/7 [00:18<00:00,  2.66s/it]\n"
          ]
        },
        {
          "output_type": "stream",
          "name": "stdout",
          "text": [
            "Epoch 81, Train Loss: 0.7529, Train Accuracy: 0.6853, Val Loss: 0.8513, Val Accuracy: 0.6364\n"
          ]
        },
        {
          "output_type": "stream",
          "name": "stderr",
          "text": [
            "Training: 100%|██████████| 7/7 [00:19<00:00,  2.82s/it]\n"
          ]
        },
        {
          "output_type": "stream",
          "name": "stdout",
          "text": [
            "Epoch 82, Train Loss: 0.7300, Train Accuracy: 0.6828, Val Loss: 0.8552, Val Accuracy: 0.6364\n"
          ]
        },
        {
          "output_type": "stream",
          "name": "stderr",
          "text": [
            "Training: 100%|██████████| 7/7 [00:18<00:00,  2.68s/it]\n"
          ]
        },
        {
          "output_type": "stream",
          "name": "stdout",
          "text": [
            "Epoch 83, Train Loss: 0.7412, Train Accuracy: 0.6888, Val Loss: 0.8515, Val Accuracy: 0.6414\n"
          ]
        },
        {
          "output_type": "stream",
          "name": "stderr",
          "text": [
            "Training: 100%|██████████| 7/7 [00:18<00:00,  2.65s/it]\n"
          ]
        },
        {
          "output_type": "stream",
          "name": "stdout",
          "text": [
            "Epoch 84, Train Loss: 0.7174, Train Accuracy: 0.6970, Val Loss: 0.8416, Val Accuracy: 0.6465\n"
          ]
        },
        {
          "output_type": "stream",
          "name": "stderr",
          "text": [
            "Training: 100%|██████████| 7/7 [00:19<00:00,  2.79s/it]\n"
          ]
        },
        {
          "output_type": "stream",
          "name": "stdout",
          "text": [
            "Epoch 85, Train Loss: 0.7195, Train Accuracy: 0.6992, Val Loss: 0.8384, Val Accuracy: 0.6566\n"
          ]
        },
        {
          "output_type": "stream",
          "name": "stderr",
          "text": [
            "Training: 100%|██████████| 7/7 [00:18<00:00,  2.58s/it]\n"
          ]
        },
        {
          "output_type": "stream",
          "name": "stdout",
          "text": [
            "Epoch 86, Train Loss: 0.7143, Train Accuracy: 0.6967, Val Loss: 0.8489, Val Accuracy: 0.6414\n"
          ]
        },
        {
          "output_type": "stream",
          "name": "stderr",
          "text": [
            "Training: 100%|██████████| 7/7 [00:19<00:00,  2.81s/it]\n"
          ]
        },
        {
          "output_type": "stream",
          "name": "stdout",
          "text": [
            "Epoch 87, Train Loss: 0.7295, Train Accuracy: 0.6973, Val Loss: 0.8242, Val Accuracy: 0.6465\n"
          ]
        },
        {
          "output_type": "stream",
          "name": "stderr",
          "text": [
            "Training: 100%|██████████| 7/7 [00:19<00:00,  2.73s/it]\n"
          ]
        },
        {
          "output_type": "stream",
          "name": "stdout",
          "text": [
            "Epoch 88, Train Loss: 0.7177, Train Accuracy: 0.6973, Val Loss: 0.8175, Val Accuracy: 0.6616\n"
          ]
        },
        {
          "output_type": "stream",
          "name": "stderr",
          "text": [
            "Training: 100%|██████████| 7/7 [00:18<00:00,  2.66s/it]\n"
          ]
        },
        {
          "output_type": "stream",
          "name": "stdout",
          "text": [
            "Epoch 89, Train Loss: 0.7060, Train Accuracy: 0.7036, Val Loss: 0.8127, Val Accuracy: 0.6465\n"
          ]
        },
        {
          "output_type": "stream",
          "name": "stderr",
          "text": [
            "Training: 100%|██████████| 7/7 [00:19<00:00,  2.80s/it]\n"
          ]
        },
        {
          "output_type": "stream",
          "name": "stdout",
          "text": [
            "Epoch 90, Train Loss: 0.7086, Train Accuracy: 0.7105, Val Loss: 0.8138, Val Accuracy: 0.6288\n"
          ]
        },
        {
          "output_type": "stream",
          "name": "stderr",
          "text": [
            "Training: 100%|██████████| 7/7 [00:20<00:00,  2.86s/it]\n"
          ]
        },
        {
          "output_type": "stream",
          "name": "stdout",
          "text": [
            "Epoch 91, Train Loss: 0.6865, Train Accuracy: 0.7105, Val Loss: 0.8094, Val Accuracy: 0.6364\n"
          ]
        },
        {
          "output_type": "stream",
          "name": "stderr",
          "text": [
            "Training: 100%|██████████| 7/7 [00:18<00:00,  2.68s/it]\n"
          ]
        },
        {
          "output_type": "stream",
          "name": "stdout",
          "text": [
            "Epoch 92, Train Loss: 0.6775, Train Accuracy: 0.7118, Val Loss: 0.8158, Val Accuracy: 0.6313\n"
          ]
        },
        {
          "output_type": "stream",
          "name": "stderr",
          "text": [
            "Training: 100%|██████████| 7/7 [00:19<00:00,  2.72s/it]\n"
          ]
        },
        {
          "output_type": "stream",
          "name": "stdout",
          "text": [
            "Epoch 93, Train Loss: 0.6796, Train Accuracy: 0.7184, Val Loss: 0.8228, Val Accuracy: 0.6465\n"
          ]
        },
        {
          "output_type": "stream",
          "name": "stderr",
          "text": [
            "Training: 100%|██████████| 7/7 [00:19<00:00,  2.82s/it]\n"
          ]
        },
        {
          "output_type": "stream",
          "name": "stdout",
          "text": [
            "Epoch 94, Train Loss: 0.6640, Train Accuracy: 0.7162, Val Loss: 0.8163, Val Accuracy: 0.6616\n",
            "Early stopping at epoch 93!\n",
            "------------------------------------------------------------------------------------------\n",
            "Test Loss: 0.7372, Test Accuracy: 0.6692\n"
          ]
        }
      ]
    },
    {
      "cell_type": "code",
      "source": [
        "plt.figure(figsize=(12, 5))\n",
        "plt.subplot(1, 2, 1)\n",
        "plt.plot(train_losses, label='Train Loss')\n",
        "plt.plot(val_losses, label='Validation Loss')\n",
        "plt.xlabel('Epoch')\n",
        "plt.ylabel('Loss')\n",
        "plt.title('Training and Validation Loss')\n",
        "plt.legend()\n",
        "\n",
        "plt.subplot(1, 2, 2)\n",
        "plt.plot(train_accuracies, label='Train Accuracy', color='green')\n",
        "plt.plot(val_accuracies, label='Validation Accuracy', color='orange')\n",
        "plt.xlabel('Epoch')\n",
        "plt.ylabel('Accuracy')\n",
        "plt.title('Training and Validation Accuracy')\n",
        "plt.legend()\n",
        "\n",
        "plt.tight_layout()\n",
        "plt.show()\n"
      ],
      "metadata": {
        "id": "UDOGRDFxooNu",
        "colab": {
          "base_uri": "https://localhost:8080/",
          "height": 458
        },
        "outputId": "0e7208f8-8bca-4efd-c1eb-7f0a57d76f76"
      },
      "execution_count": null,
      "outputs": [
        {
          "output_type": "display_data",
          "data": {
            "text/plain": [
              "<Figure size 1200x500 with 2 Axes>"
            ],
            "image/png": "[encoded data removed]"
          },
          "metadata": {}
        }
      ]
    },
    {
      "cell_type": "code",
      "source": [],
      "metadata": {
        "id": "9RrzbM_i7nLm"
      },
      "execution_count": null,
      "outputs": []
    }
  ]
}